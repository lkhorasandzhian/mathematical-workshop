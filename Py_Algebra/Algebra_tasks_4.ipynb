{
 "cells": [
  {
   "cell_type": "markdown",
   "metadata": {
    "id": "Y6RNbEdN4eac"
   },
   "source": [
    "## Занятие 4\n",
    "## Алгебра\n",
    "## Фундаментальная система решений однородной СЛАУ"
   ]
  },
  {
   "cell_type": "markdown",
   "metadata": {
    "id": "TJPz71L84eaj"
   },
   "source": [
    "https://docs.sympy.org/latest/modules"
   ]
  },
  {
   "cell_type": "code",
   "execution_count": 4,
   "metadata": {
    "id": "dbaCNS7y4eal"
   },
   "outputs": [],
   "source": [
    "from sympy import linsolve, Matrix, S, Symbol, symbols, Eq, linear_eq_to_matrix, simplify, zeros"
   ]
  },
  {
   "cell_type": "markdown",
   "metadata": {
    "id": "b7QjSzCo4ean"
   },
   "source": [
    "### Задание 1.\n",
    "Проверить по теореме Кронекера-Капелли совместность СЛАУ $AX = b$, если\n",
    "\\begin{align*}\n",
    "a)\\ A = \\left(\n",
    "\\begin{matrix}\n",
    "-1 & -3 & 5 & 2\\\\\n",
    "2 & -1 & 4 & 7\\\\\n",
    "3 & 4 & -1 & 0\\\\\n",
    "5 & 0 & 1 & -3\n",
    "\\end{matrix}\n",
    "\\right), \\quad \n",
    "b = \\left(\n",
    "\\begin{matrix}\n",
    "14\\\\ 56\\\\ 5\\\\ -6\n",
    "\\end{matrix}\n",
    "\\right), \\quad \n",
    "b)\\ A = \\left(\n",
    "\\begin{matrix}\n",
    "1 & 3 & 5 & 2\\\\\n",
    "2 & -1 & 4 & 1\\\\\n",
    "3 & 4 & -1 & 0\\\\\n",
    "5 & 3 & 3 & 1\n",
    "\\end{matrix}\n",
    "\\right), \\quad \n",
    "b = \\left(\n",
    "\\begin{matrix}\n",
    "24\\\\ 20\\\\ 5\\\\ 5\n",
    "\\end{matrix}\n",
    "\\right), \\\\\n",
    "c)\\ A = \\left(\n",
    "\\begin{matrix}\n",
    "1 & 3 & 5 & 2\\\\\n",
    "2 & -1 & 4 & 1\\\\\n",
    "3 & 2 & 9 & 3\\\\\n",
    "1 & -4 & -1 & -1\n",
    "\\end{matrix}\n",
    "\\right), \\quad \n",
    "b = \\left(\n",
    "\\begin{matrix}\n",
    "24\\\\ 20\\\\ 44\\\\ -4\n",
    "\\end{matrix}\n",
    "\\right)\n",
    "\\end{align*}"
   ]
  },
  {
   "cell_type": "code",
   "execution_count": 31,
   "metadata": {
    "id": "qAkl0M9b4eao"
   },
   "outputs": [
    {
     "name": "stdout",
     "output_type": "stream",
     "text": [
      "пункт a) True\n",
      "пункт b) False\n",
      "пункт c) True\n"
     ]
    }
   ],
   "source": [
    "# пункт а)\n",
    "A = Matrix([[-1, -3, 5, 2],\n",
    "            [2, -1, 4, 7],\n",
    "            [3, 4, -1, 0], \n",
    "            [5, 0, 1, -3]])\n",
    "b = Matrix([14, 56, 5, -6])\n",
    "A_b1 = A.row_join(b)\n",
    "print(f\"пункт a) {A.rank() == A_b1.rank()}\")\n",
    "\n",
    "# пункт б)\n",
    "A = Matrix([[1, 3, 5, 2],\n",
    "            [2, -1, 4, 1],\n",
    "            [3, 4, -1, 0], \n",
    "            [5, 3, 3, 1]])\n",
    "b = Matrix([24, 20, 5, 5])\n",
    "A_b2 = A.row_join(b)\n",
    "print(f\"пункт b) {A.rank() == A_b2.rank()}\")\n",
    "\n",
    "# пункт c)\n",
    "A = Matrix([[1, 3, 5, 2],\n",
    "            [2, -1, 4, 1],\n",
    "            [3, 2, 9, 3], \n",
    "            [1, -4, -1, -1]])\n",
    "b = Matrix([24, 20, 44, -4])\n",
    "A_b3 = A.row_join(b)\n",
    "print(f\"пункт c) {A.rank() == A_b3.rank()}\")"
   ]
  },
  {
   "cell_type": "markdown",
   "metadata": {
    "id": "kraNhMYj4eap"
   },
   "source": [
    "### Задание 2.\n",
    "Проверить единственность решения в совместных СЛАУ Задания 1."
   ]
  },
  {
   "cell_type": "code",
   "execution_count": 39,
   "metadata": {
    "id": "-d0mxG5c4eap"
   },
   "outputs": [
    {
     "name": "stdout",
     "output_type": "stream",
     "text": [
      "rg(A) = rg(Ab) = m = 4\n",
      "Singular solve for matrix:\n"
     ]
    },
    {
     "data": {
      "text/latex": [
       "$\\displaystyle \\left[\\begin{matrix}-1 & -3 & 5 & 2 & 14\\\\2 & -1 & 4 & 7 & 56\\\\3 & 4 & -1 & 0 & 5\\\\5 & 0 & 1 & -3 & -6\\end{matrix}\\right]$"
      ],
      "text/plain": [
       "Matrix([\n",
       "[-1, -3,  5,  2, 14],\n",
       "[ 2, -1,  4,  7, 56],\n",
       "[ 3,  4, -1,  0,  5],\n",
       "[ 5,  0,  1, -3, -6]])"
      ]
     },
     "metadata": {},
     "output_type": "display_data"
    },
    {
     "name": "stdout",
     "output_type": "stream",
     "text": [
      "\n",
      "rg(A) = rg(Ab) != m = 2\n",
      "Infinity solves in matrix:\n"
     ]
    },
    {
     "data": {
      "text/latex": [
       "$\\displaystyle \\left[\\begin{matrix}1 & 3 & 5 & 2 & 24\\\\2 & -1 & 4 & 1 & 20\\\\3 & 2 & 9 & 3 & 44\\\\1 & -4 & -1 & -1 & -4\\end{matrix}\\right]$"
      ],
      "text/plain": [
       "Matrix([\n",
       "[1,  3,  5,  2, 24],\n",
       "[2, -1,  4,  1, 20],\n",
       "[3,  2,  9,  3, 44],\n",
       "[1, -4, -1, -1, -4]])"
      ]
     },
     "metadata": {},
     "output_type": "display_data"
    },
    {
     "name": "stdout",
     "output_type": "stream",
     "text": [
      "\n"
     ]
    }
   ],
   "source": [
    "# есть смысл проверить только пункты а) и c), поскольку в пункте b) СЛАУ несовместна\n",
    "for B in [A_b1, A_b3]:\n",
    "    rgA = B[:, :-1].rank()\n",
    "    n, m = B[:, :-1].shape # m - число столбцов, m равно числу переменных (притом n = кол-во строк)\n",
    "    if rgA == B.rank() and rgA == m:\n",
    "        print(f'rg(A) = rg(Ab) = m = {rgA}')\n",
    "        print(f'Singular solve for matrix:')\n",
    "    else:\n",
    "        print(f'rg(A) = rg(Ab) != m = {rgA}')\n",
    "        print(\"Infinity solves in matrix:\")\n",
    "    display(B)\n",
    "    print()"
   ]
  },
  {
   "cell_type": "markdown",
   "metadata": {
    "id": "h291HYIO4eaq"
   },
   "source": [
    "### Задание 3\n",
    "Для однородных СЛАУ, соответствующих СЛАУ из Задания 1 установить, есть ли у однородной СЛАУ нетривиальное решение. "
   ]
  },
  {
   "cell_type": "code",
   "execution_count": 7,
   "metadata": {
    "id": "HnWZW-TX4ear"
   },
   "outputs": [
    {
     "name": "stdout",
     "output_type": "stream",
     "text": [
      "b\n"
     ]
    },
    {
     "data": {
      "text/latex": [
       "$\\displaystyle \\left[\\begin{matrix}1 & 3 & 5 & 2\\\\2 & -1 & 4 & 1\\\\3 & 4 & -1 & 0\\\\5 & 3 & 3 & 1\\end{matrix}\\right]$"
      ],
      "text/plain": [
       "Matrix([\n",
       "[1,  3,  5, 2],\n",
       "[2, -1,  4, 1],\n",
       "[3,  4, -1, 0],\n",
       "[5,  3,  3, 1]])"
      ]
     },
     "metadata": {},
     "output_type": "display_data"
    },
    {
     "name": "stdout",
     "output_type": "stream",
     "text": [
      "c\n"
     ]
    },
    {
     "data": {
      "text/latex": [
       "$\\displaystyle \\left[\\begin{matrix}1 & 3 & 5 & 2\\\\2 & -1 & 4 & 1\\\\3 & 2 & 9 & 3\\\\1 & -4 & -1 & -1\\end{matrix}\\right]$"
      ],
      "text/plain": [
       "Matrix([\n",
       "[1,  3,  5,  2],\n",
       "[2, -1,  4,  1],\n",
       "[3,  2,  9,  3],\n",
       "[1, -4, -1, -1]])"
      ]
     },
     "metadata": {},
     "output_type": "display_data"
    }
   ],
   "source": [
    "# пункт а)\n",
    "A_od1 = Matrix([[-1, -3, 5, 2],\n",
    "            [2, -1, 4, 7],\n",
    "            [3, 4, -1, 0], \n",
    "            [5, 0, 1, -3]])\n",
    "\n",
    "# пункт б)\n",
    "A_od2 = Matrix([[1, 3, 5, 2],\n",
    "            [2, -1, 4, 1],\n",
    "            [3, 4, -1, 0], \n",
    "            [5, 3, 3, 1]])\n",
    "\n",
    "# пункт c)\n",
    "A_od3 = Matrix([[1, 3, 5, 2],\n",
    "            [2, -1, 4, 1],\n",
    "            [3, 2, 9, 3], \n",
    "            [1, -4, -1, -1]])\n",
    "\n",
    "number = ['a', 'b', 'c']\n",
    "for i, A in enumerate([A_od1, A_od2, A_od3]):\n",
    "    if A.rank() < A.shape[1]:\n",
    "        print(number[i])\n",
    "        display(A)"
   ]
  },
  {
   "cell_type": "markdown",
   "metadata": {
    "id": "Nk86bhBj4eas"
   },
   "source": [
    "### Задание 4\n",
    "Для однородных СЛАУ из Задания 3, имеющих нетривиальное решение, составить ФСР. "
   ]
  },
  {
   "cell_type": "code",
   "execution_count": 33,
   "metadata": {
    "id": "Sm3vWb7e4eat"
   },
   "outputs": [
    {
     "name": "stdout",
     "output_type": "stream",
     "text": [
      "Rg b = 3, 4 переменных, 4 ФСР:\n"
     ]
    },
    {
     "data": {
      "text/latex": [
       "$\\displaystyle \\left[\\begin{matrix}\\frac{7}{82}\\\\- \\frac{6}{41}\\\\- \\frac{27}{82}\\\\1\\end{matrix}\\right]$"
      ],
      "text/plain": [
       "Matrix([\n",
       "[  7/82],\n",
       "[ -6/41],\n",
       "[-27/82],\n",
       "[     1]])"
      ]
     },
     "metadata": {},
     "output_type": "display_data"
    },
    {
     "name": "stdout",
     "output_type": "stream",
     "text": [
      "\n",
      "Rg c = 2, 4 переменных, 4 ФСР:\n"
     ]
    },
    {
     "data": {
      "text/latex": [
       "$\\displaystyle \\left[\\begin{matrix}- \\frac{17}{7}\\\\- \\frac{6}{7}\\\\1\\\\0\\end{matrix}\\right]$"
      ],
      "text/plain": [
       "Matrix([\n",
       "[-17/7],\n",
       "[ -6/7],\n",
       "[    1],\n",
       "[    0]])"
      ]
     },
     "metadata": {},
     "output_type": "display_data"
    },
    {
     "data": {
      "text/latex": [
       "$\\displaystyle \\left[\\begin{matrix}- \\frac{5}{7}\\\\- \\frac{3}{7}\\\\0\\\\1\\end{matrix}\\right]$"
      ],
      "text/plain": [
       "Matrix([\n",
       "[-5/7],\n",
       "[-3/7],\n",
       "[   0],\n",
       "[   1]])"
      ]
     },
     "metadata": {},
     "output_type": "display_data"
    },
    {
     "name": "stdout",
     "output_type": "stream",
     "text": [
      "\n"
     ]
    }
   ],
   "source": [
    "number = ['b', 'c']\n",
    "for i, Matrix_FSR in enumerate([A_od2, A_od3]):\n",
    "    print(f'Rg {number[i]} = {Matrix_FSR.rank()}, {Matrix_FSR.shape[1]} переменных, {Matrix_FSR.shape[0]} ФСР:')\n",
    "    display(*Matrix_FSR.nullspace())\n",
    "    print()"
   ]
  },
  {
   "cell_type": "markdown",
   "metadata": {
    "id": "IWC88tU74eat"
   },
   "source": [
    "### Задание 5\n",
    "Для однородных СЛАУ из Задания 4 построить общее решение, используя построенную в Задании 4 ФСР. Сравнить с результатом, возвращаемым linsolve. "
   ]
  },
  {
   "cell_type": "code",
   "execution_count": 58,
   "metadata": {
    "id": "ZNCrZQgJ4eau"
   },
   "outputs": [
    {
     "data": {
      "text/latex": [
       "$\\displaystyle \\left[\\begin{matrix}\\frac{7 \\alpha_{1}}{82}\\\\- \\frac{6 \\alpha_{1}}{41}\\\\- \\frac{27 \\alpha_{1}}{82}\\\\\\alpha_{1}\\end{matrix}\\right]$"
      ],
      "text/plain": [
       "Matrix([\n",
       "[  7*alpha1/82],\n",
       "[ -6*alpha1/41],\n",
       "[-27*alpha1/82],\n",
       "[       alpha1]])"
      ]
     },
     "metadata": {},
     "output_type": "display_data"
    },
    {
     "data": {
      "text/latex": [
       "$\\displaystyle \\left( \\frac{7 x_{4}}{82}, \\  - \\frac{6 x_{4}}{41}, \\  - \\frac{27 x_{4}}{82}, \\  x_{4}\\right)$"
      ],
      "text/plain": [
       "(7*x4/82, -6*x4/41, -27*x4/82, x4)"
      ]
     },
     "metadata": {},
     "output_type": "display_data"
    }
   ],
   "source": [
    "n, m = A_od2.shape\n",
    "x = symbols(f'x1:{m + 1}') # создаём кортеж символов (x1, x2, x3, x4)\n",
    "X = zeros(m, 1) # нулевой вектор длины m\n",
    "for i, vect in enumerate(A_od2.nullspace()):\n",
    "    X += vect * Symbol(f'alpha{i + 1}')\n",
    "display(X, *linsolve((A_od2, zeros(n, 1)), x))"
   ]
  },
  {
   "cell_type": "markdown",
   "metadata": {
    "id": "3tb3VXE34eau"
   },
   "source": [
    "### Индивидуальное задание.\n",
    "Дана СЛАУ $AX = b$. Проверить совместность по теореме Кронекера-Капелли. Если СЛАУ совместна, проверить единственность решения.\n",
    "Для соответствующей однородной СЛАУ проверить существование нетривиального решения. В случае, если оно существует, \n",
    "найти размерность пространства решений и составить ФСР и общее решение однородной СЛАУ."
   ]
  },
  {
   "attachments": {
    "%D0%B8%D0%B7%D0%BE%D0%B1%D1%80%D0%B0%D0%B6%D0%B5%D0%BD%D0%B8%D0%B5-3.png": {
     "image/png": "[encoded data removed]"
    }
   },
   "cell_type": "markdown",
   "metadata": {},
   "source": [
    "![%D0%B8%D0%B7%D0%BE%D0%B1%D1%80%D0%B0%D0%B6%D0%B5%D0%BD%D0%B8%D0%B5-3.png](attachment:%D0%B8%D0%B7%D0%BE%D0%B1%D1%80%D0%B0%D0%B6%D0%B5%D0%BD%D0%B8%D0%B5-3.png)"
   ]
  },
  {
   "cell_type": "code",
   "execution_count": 98,
   "metadata": {},
   "outputs": [
    {
     "name": "stdout",
     "output_type": "stream",
     "text": [
      "Совместимость матрицы: True\n",
      "\n",
      "rg(A) = rg(Ab) != m = 4\n",
      "СЛАУ имеет бесконечное количество решений\n",
      "\n",
      "СЛАУ содержит нетривиальное решение, поскольку Rg A < n\n",
      "\n",
      "Размерность подпространства решений n - r, где r — это Rg A, равна 1\n",
      "\n",
      "ФСР однородной СЛАУ:\n"
     ]
    },
    {
     "data": {
      "text/latex": [
       "$\\displaystyle \\left[\\begin{matrix}- \\frac{1924}{1707}\\\\- \\frac{151}{1707}\\\\- \\frac{2011}{1707}\\\\\\frac{245}{1707}\\\\1\\end{matrix}\\right]$"
      ],
      "text/plain": [
       "Matrix([\n",
       "[-1924/1707],\n",
       "[ -151/1707],\n",
       "[-2011/1707],\n",
       "[  245/1707],\n",
       "[         1]])"
      ]
     },
     "metadata": {},
     "output_type": "display_data"
    },
    {
     "name": "stdout",
     "output_type": "stream",
     "text": [
      "\n",
      "Общее решение однородной СЛАУ:\n"
     ]
    },
    {
     "data": {
      "text/latex": [
       "$\\displaystyle \\left[\\begin{matrix}- \\frac{1924 x_{1}}{1707}\\\\- \\frac{151 x_{1}}{1707}\\\\- \\frac{2011 x_{1}}{1707}\\\\\\frac{245 x_{1}}{1707}\\\\x_{1}\\end{matrix}\\right]$"
      ],
      "text/plain": [
       "Matrix([\n",
       "[-1924*x1/1707],\n",
       "[ -151*x1/1707],\n",
       "[-2011*x1/1707],\n",
       "[  245*x1/1707],\n",
       "[           x1]])"
      ]
     },
     "metadata": {},
     "output_type": "display_data"
    }
   ],
   "source": [
    "# Проверка совместимости матрицы\n",
    "A = Matrix([[ 9,  2, -5,   3,  4],\n",
    "            [ 1, -1, -5,   8, -6],\n",
    "            [32, 12,  0, -20, 40], \n",
    "            [ 2,  2,  4,   1,  7],\n",
    "            [ 3, -6, -8,  -4, -6]])\n",
    "b = Matrix([37, 3, 136, 30, -13])\n",
    "A_b = A.row_join(b)\n",
    "print(f\"Совместимость матрицы: {A.rank() == A_b.rank()}\")\n",
    "print()\n",
    "\n",
    "# Проверка единственности решений\n",
    "rgA = A_b[:, :-1].rank()\n",
    "n, m = A_b[:, :-1].shape # m - число столбцов, m равно числу переменных (притом n = кол-во строк)\n",
    "if rgA == B.rank() and rgA == m:\n",
    "    print(f'rg(A) = rg(Ab) = m = {rgA}')\n",
    "    print(f'СЛАУ имеет единственное решение')\n",
    "else:\n",
    "    print(f'rg(A) = rg(Ab) != m = {rgA}')\n",
    "    print(\"СЛАУ имеет бесконечное количество решений\")\n",
    "print()\n",
    "\n",
    "# Проверка для однородной СЛАУ существования нетривиального решения\n",
    "A_od = Matrix([[ 9,  2, -5,   3,  4],\n",
    "               [ 1, -1, -5,   8, -6],\n",
    "               [32, 12,  0, -20, 40], \n",
    "               [ 2,  2,  4,   1,  7],\n",
    "               [ 3, -6, -8,  -4, -6]])\n",
    "if A_od.rank() < A_od.shape[1]:\n",
    "    print(\"СЛАУ содержит нетривиальное решение, поскольку Rg A < n\")\n",
    "else:\n",
    "    print(\"СЛАУ не содержит нетривиального решения, поскольку Rg A >= n\")\n",
    "print()\n",
    "\n",
    "# Нахождение размерности пространства решений\n",
    "print(f\"Размерность подпространства решений n - r, где r — это Rg A, равна {A_od.shape[1] - A_od.rank()}\")\n",
    "print()\n",
    "\n",
    "# Составление ФСР\n",
    "print('ФСР однородной СЛАУ:')\n",
    "display(*A_od.nullspace())\n",
    "print()\n",
    "\n",
    "# Составление общего решения\n",
    "n, m = A_od.shape\n",
    "x = symbols(f'x1:{m + 1}') # создаём кортеж символов (x1, x2, x3, x4)\n",
    "X = zeros(m, 1) # нулевой вектор длины m\n",
    "for i, vect in enumerate(A_od.nullspace()):\n",
    "    X += vect * Symbol(f'x{i + 1}')\n",
    "print(\"Общее решение однородной СЛАУ:\")\n",
    "display(X)"
   ]
  },
  {
   "cell_type": "markdown",
   "metadata": {},
   "source": [
    "Хорасанджян Левон, вариант №157"
   ]
  }
 ],
 "metadata": {
  "colab": {
   "collapsed_sections": [],
   "name": "Alg_4_2020_tasks.ipynb",
   "provenance": []
  },
  "kernelspec": {
   "display_name": "Python 3",
   "language": "python",
   "name": "python3"
  },
  "language_info": {
   "codemirror_mode": {
    "name": "ipython",
    "version": 3
   },
   "file_extension": ".py",
   "mimetype": "text/x-python",
   "name": "python",
   "nbconvert_exporter": "python",
   "pygments_lexer": "ipython3",
   "version": "3.8.8"
  }
 },
 "nbformat": 4,
 "nbformat_minor": 1
}
