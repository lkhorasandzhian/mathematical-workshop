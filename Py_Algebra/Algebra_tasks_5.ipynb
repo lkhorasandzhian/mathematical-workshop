{
 "cells": [
  {
   "cell_type": "code",
   "execution_count": 1,
   "metadata": {
    "id": "49fg3dtG2vqf"
   },
   "outputs": [],
   "source": [
    "from sympy import linsolve, Matrix, S, Symbol, symbols, linear_eq_to_matrix, Eq, zeros"
   ]
  },
  {
   "cell_type": "markdown",
   "metadata": {
    "id": "4GOGKWO62vqj"
   },
   "source": [
    "# Занятие 5\n",
    "# Алгебра\n",
    "\n",
    "##  Прямые и плоскости в пространстве. Уравнения прямых и  плоскостей.\n",
    "### Задание 1.\n",
    "Определить, пересекаются ли плоскости (все сразу). Если пересекаются, найти точку пересечения.\n",
    "\n",
    "Составить СЛАУ в виде списка уравнений, решить с помощью linsolve.\n",
    "\n",
    "Проверить подстановкой координат точки пересечения в уравнения плоскостей, что найденная точка принадлежит каждой из них.\n",
    "\n",
    "$-8x+5y-2z+28=0$\n",
    "\n",
    "$-11x-10y-16z+71=0$\n",
    "\n",
    "$-7x+3y+8z-27=0$."
   ]
  },
  {
   "cell_type": "code",
   "execution_count": 2,
   "metadata": {
    "id": "MpIOpWvj2vqn"
   },
   "outputs": [
    {
     "data": {
      "text/latex": [
       "$\\displaystyle \\left( 1, \\  -2, \\  5\\right)$"
      ],
      "text/plain": [
       "(1, -2, 5)"
      ]
     },
     "metadata": {},
     "output_type": "display_data"
    },
    {
     "data": {
      "text/latex": [
       "$\\displaystyle \\left[\\begin{matrix}1\\\\-2\\\\5\\end{matrix}\\right]$"
      ],
      "text/plain": [
       "Matrix([\n",
       "[ 1],\n",
       "[-2],\n",
       "[ 5]])"
      ]
     },
     "metadata": {},
     "output_type": "display_data"
    },
    {
     "name": "stdout",
     "output_type": "stream",
     "text": [
      "True\n",
      "True\n",
      "True\n"
     ]
    }
   ],
   "source": [
    "x, y, z = symbols('x y z')\n",
    "SLAE = [Eq(-8*x + 5*y -2*z + 28, 0), \n",
    "        Eq(-11*x -10*y -16*z + 71, 0), \n",
    "        Eq(-7*x + 3*y + 8*z -27, 0)]\n",
    "\n",
    "res = linsolve(SLAE, x, y, z)\n",
    "display(*res)\n",
    "\n",
    "m_res = Matrix(*res)\n",
    "display(m_res)\n",
    "\n",
    "for row in SLAE:\n",
    "  print(row.subs({x: m_res[0], y: m_res[1], z: m_res[2]}))"
   ]
  },
  {
   "cell_type": "markdown",
   "metadata": {
    "id": "g9NmFR2i2vqn"
   },
   "source": [
    "### Задание 2.\n",
    "Найти точку пересечения плоскости, в которой лежат точки \n",
    "$K(4,3,0)$, $M(2,4,-2)$ и $N(-2,2,-1)$ с прямой, проходящей через точки $A(-3,5,1)$ и $B(5,2,-3)$."
   ]
  },
  {
   "cell_type": "code",
   "execution_count": 3,
   "metadata": {
    "id": "0486pLRk2vqp"
   },
   "outputs": [],
   "source": [
    "# условия задачи\n",
    "K = (4, 3, 0)\n",
    "M = (2, 4, -2)\n",
    "N = (-2, 2, -1)\n",
    "\n",
    "A = (-3, 5, 1)\n",
    "B = (5, 2, -3)"
   ]
  },
  {
   "cell_type": "code",
   "execution_count": 4,
   "metadata": {},
   "outputs": [
    {
     "data": {
      "text/latex": [
       "$\\displaystyle - 3 x + 10 y + 8 z - 18 = 0$"
      ],
      "text/plain": [
       "Eq(-3*x + 10*y + 8*z - 18, 0)"
      ]
     },
     "execution_count": 4,
     "metadata": {},
     "output_type": "execute_result"
    }
   ],
   "source": [
    "# уравнение плоскости\n",
    "x, y, z, x1, y1, z1, x2, y2, z2, x3, y3, z3 = symbols('x y z x1 y1 z1 x2 y2 z2 x3 y3 z3')\n",
    "\n",
    "SLAE = Matrix([[x - x1, y - y1, z - z1], \n",
    "               [x2 - x1, y2 - y1,z2 - z1],\n",
    "               [x3 - x1, y3 - y1, z3 - z1]])\n",
    "\n",
    "SLAE = SLAE.subs({x1: K[0], y1: K[1], z1: K[2]})\n",
    "SLAE = SLAE.subs({x2: M[0], y2: M[1], z2: M[2]})\n",
    "SLAE = SLAE.subs({x3: N[0], y3: N[1], z3: N[2]})\n",
    "\n",
    "p = SLAE.det()\n",
    "\n",
    "Eq(p, 0, evaluate = False)"
   ]
  },
  {
   "cell_type": "code",
   "execution_count": 5,
   "metadata": {},
   "outputs": [
    {
     "data": {
      "text/latex": [
       "$\\displaystyle \\left[\\begin{matrix}a_{1}\\\\a_{2}\\\\a_{3}\\end{matrix}\\right] = \\left[\\begin{matrix}8\\\\-3\\\\-4\\end{matrix}\\right]$"
      ],
      "text/plain": [
       "Eq(Matrix([\n",
       "[a1],\n",
       "[a2],\n",
       "[a3]]), Matrix([\n",
       "[ 8],\n",
       "[-3],\n",
       "[-4]]))"
      ]
     },
     "execution_count": 5,
     "metadata": {},
     "output_type": "execute_result"
    }
   ],
   "source": [
    "# координаты направляющего вектора a\n",
    "a = Matrix(B) - Matrix(A)\n",
    "Eq(Matrix([Symbol('a1'), Symbol('a2'),Symbol('a3')]), a)"
   ]
  },
  {
   "cell_type": "code",
   "execution_count": 6,
   "metadata": {},
   "outputs": [
    {
     "data": {
      "text/latex": [
       "$\\displaystyle x = 8 t - 3$"
      ],
      "text/plain": [
       "Eq(x, 8*t - 3)"
      ]
     },
     "metadata": {},
     "output_type": "display_data"
    },
    {
     "data": {
      "text/latex": [
       "$\\displaystyle y = 5 - 3 t$"
      ],
      "text/plain": [
       "Eq(y, 5 - 3*t)"
      ]
     },
     "metadata": {},
     "output_type": "display_data"
    },
    {
     "data": {
      "text/latex": [
       "$\\displaystyle z = 1 - 4 t$"
      ],
      "text/plain": [
       "Eq(z, 1 - 4*t)"
      ]
     },
     "metadata": {},
     "output_type": "display_data"
    }
   ],
   "source": [
    "# система параметрических уравнений прямой\n",
    "t = Symbol('t')\n",
    "X = Matrix([x, y, z])  # используется только для вывода выражения\n",
    "r_value = Matrix(A) + t * a\n",
    "display(*list(Eq(X[i], r_value[i]) for i in range(len(r_value))))"
   ]
  },
  {
   "cell_type": "code",
   "execution_count": 7,
   "metadata": {},
   "outputs": [
    {
     "data": {
      "text/latex": [
       "$\\displaystyle 49 - 86 t = 0$"
      ],
      "text/plain": [
       "Eq(49 - 86*t, 0)"
      ]
     },
     "metadata": {},
     "output_type": "display_data"
    },
    {
     "data": {
      "text/latex": [
       "$\\displaystyle t = \\frac{49}{86}$"
      ],
      "text/plain": [
       "Eq(t, 49/86)"
      ]
     },
     "metadata": {},
     "output_type": "display_data"
    }
   ],
   "source": [
    "# подстановка выражений x, y, z через t в уравнение плоскости и нахождение значения t\n",
    "from sympy import solve\n",
    "p = p.subs(x, r_value[0])\n",
    "p = p.subs(y, r_value[1])\n",
    "p = p.subs(z, r_value[2])\n",
    "display(Eq(p, 0, evaluate = False))\n",
    "display(Eq(t,*solve(p), evaluate = False))"
   ]
  },
  {
   "cell_type": "code",
   "execution_count": 8,
   "metadata": {},
   "outputs": [
    {
     "data": {
      "text/latex": [
       "$\\displaystyle x = 1.55813953488372$"
      ],
      "text/plain": [
       "Eq(x, 1.55813953488372)"
      ]
     },
     "metadata": {},
     "output_type": "display_data"
    },
    {
     "data": {
      "text/latex": [
       "$\\displaystyle y = 3.2906976744186$"
      ],
      "text/plain": [
       "Eq(y, 3.2906976744186)"
      ]
     },
     "metadata": {},
     "output_type": "display_data"
    },
    {
     "data": {
      "text/latex": [
       "$\\displaystyle z = -1.27906976744186$"
      ],
      "text/plain": [
       "Eq(z, -1.27906976744186)"
      ]
     },
     "metadata": {},
     "output_type": "display_data"
    }
   ],
   "source": [
    "# подстановка значения t в систему параметрических уравнений прямой, тем самым нахождение значений x, y, z\n",
    "for i, param in enumerate([x, y, z]):\n",
    "    display(Eq(param, r_value[i].subs(t, 49/86), evaluate = False))"
   ]
  },
  {
   "cell_type": "markdown",
   "metadata": {
    "id": "Td8dwQaq2vqp"
   },
   "source": [
    "### Задание 3.\n",
    "Составить параметрические уравнения прямой, являющейся линией пересечения плоскостей $𝑦+2𝑧−4=0$ и $4𝑥+3𝑦+2𝑧−4=0$. \n",
    "\n",
    "Указание: составить СЛАУ из уравнений плоскостей, воспользоваться linsolve(), заменить переменную в полученном решении на параметр t и составить СЛАУ из параметрических уравнений."
   ]
  },
  {
   "cell_type": "code",
   "execution_count": 9,
   "metadata": {
    "id": "FkVOyBYI2vqq"
   },
   "outputs": [
    {
     "data": {
      "text/latex": [
       "$\\displaystyle x = t - 2$"
      ],
      "text/plain": [
       "Eq(x, t - 2)"
      ]
     },
     "metadata": {},
     "output_type": "display_data"
    },
    {
     "data": {
      "text/latex": [
       "$\\displaystyle y = 4 - 2 t$"
      ],
      "text/plain": [
       "Eq(y, 4 - 2*t)"
      ]
     },
     "metadata": {},
     "output_type": "display_data"
    },
    {
     "data": {
      "text/latex": [
       "$\\displaystyle z = t$"
      ],
      "text/plain": [
       "Eq(z, t)"
      ]
     },
     "metadata": {},
     "output_type": "display_data"
    }
   ],
   "source": [
    "x, y, z, t = symbols('x y z t')\n",
    "SLAE = [\n",
    "        Eq(y + 2*z - 4, 0), \n",
    "        Eq(4*x + 3*y + 2*z - 4, 0)]\n",
    "\n",
    "r_value = list(*linsolve(SLAE, x, y, z))  # всё параметры вырязятся через последний параметр z\n",
    "\n",
    "for i, param in enumerate([x, y, z]):\n",
    "    display(Eq(param, r_value[i].subs(z, t), evaluate = False))"
   ]
  },
  {
   "cell_type": "markdown",
   "metadata": {
    "id": "qW-zD7N52vqq"
   },
   "source": [
    "###  Задание 4.\n",
    "Прямая задана параметрическими уравнениями:\n",
    "$$\n",
    "\\left\\{\\begin{matrix}\n",
    "x=2+5t\\\\\n",
    "y=-1-2t\\\\\n",
    "z=4-3t\n",
    "\\end{matrix}\\right..\n",
    "$$\n",
    "Представить прямую в виде линии пересечения двух плоскостей, одна из которых проходит через начало координат, а вторая плоскость перпендикулярна первой плоскости. Вывести на экран уравнения плоскостей.\n",
    "\n",
    "Указание: составить параметрические уравнения прямой в виде списка правых частей уравнений, затем по образцу Примера 5 составить уравнение плоскости, проходящей через начало координат (по трем точкам). Для составления второй плоскости заметим, что вектор нормали к первой плоскости и любой вектор прямой параллельны второй плоскости, поэтому можно применить формулу 4 уравнения плоскости.\n",
    "Вектор нормали можно составить вручную, глядя на уравнение первой плоскости."
   ]
  },
  {
   "cell_type": "code",
   "execution_count": 14,
   "metadata": {
    "id": "lr6JUgBP2vqr"
   },
   "outputs": [
    {
     "data": {
      "text/latex": [
       "$\\displaystyle \\left[\\begin{matrix}2\\\\-1\\\\4\\end{matrix}\\right]$"
      ],
      "text/plain": [
       "Matrix([\n",
       "[ 2],\n",
       "[-1],\n",
       "[ 4]])"
      ]
     },
     "metadata": {},
     "output_type": "display_data"
    },
    {
     "data": {
      "text/latex": [
       "$\\displaystyle \\left[\\begin{matrix}7\\\\-3\\\\1\\end{matrix}\\right]$"
      ],
      "text/plain": [
       "Matrix([\n",
       "[ 7],\n",
       "[-3],\n",
       "[ 1]])"
      ]
     },
     "metadata": {},
     "output_type": "display_data"
    },
    {
     "data": {
      "text/latex": [
       "$\\displaystyle 11 x + 26 y + z = 0$"
      ],
      "text/plain": [
       "Eq(11*x + 26*y + z, 0)"
      ]
     },
     "execution_count": 14,
     "metadata": {},
     "output_type": "execute_result"
    }
   ],
   "source": [
    "null_point_coords = Matrix([2, -1, 4])\n",
    "a_coords = Matrix([5, -2, -3])\n",
    "t = Symbol('t')\n",
    "\n",
    "r_value = null_point_coords + t * a_coords\n",
    "\n",
    "O = Matrix([0, 0, 0])\n",
    "M1 = r_value.subs(t, 0)\n",
    "M2 = r_value.subs(t, 1)\n",
    "display(M1)\n",
    "display(M2)\n",
    "X = Matrix([Symbol('x'), Symbol('y'), Symbol('z')])\n",
    "Eq(Matrix([(P - M1).T for P in (X, M2, O)]).det(), 0)"
   ]
  },
  {
   "cell_type": "code",
   "execution_count": 11,
   "metadata": {},
   "outputs": [
    {
     "data": {
      "text/latex": [
       "$\\displaystyle 29 x - 4 y - 215 z + 798 = 0$"
      ],
      "text/plain": [
       "Eq(29*x - 4*y - 215*z + 798, 0)"
      ]
     },
     "execution_count": 11,
     "metadata": {},
     "output_type": "execute_result"
    }
   ],
   "source": [
    "plane2 = Matrix([\n",
    "                [x - 2, y + 1, z - 4],\n",
    "                [11, 26, 1],\n",
    "                [7, -3, 1] ])\n",
    "Eq(plane2.det(), 0)"
   ]
  },
  {
   "cell_type": "markdown",
   "metadata": {
    "id": "fC_Q1C_d2vqr"
   },
   "source": [
    "### Индивидуальное задание\n",
    "Даны три точки А, В и С в пространстве. Составить уравнение плоскости АВС, систему параметрических уравнений прямой АВ и прямой АМ, перпендикулярной плоскости АВС."
   ]
  },
  {
   "cell_type": "code",
   "execution_count": 47,
   "metadata": {
    "id": "z_gDHdjD2vqs"
   },
   "outputs": [],
   "source": [
    "# дано\n",
    "A = (2, -1, -7)\n",
    "B = (3, -1, -5)\n",
    "C = (5, 3, -3)"
   ]
  },
  {
   "cell_type": "code",
   "execution_count": 48,
   "metadata": {},
   "outputs": [
    {
     "data": {
      "text/latex": [
       "$\\displaystyle - 8 x + 2 y + 4 z + 46 = 0$"
      ],
      "text/plain": [
       "Eq(-8*x + 2*y + 4*z + 46, 0)"
      ]
     },
     "execution_count": 48,
     "metadata": {},
     "output_type": "execute_result"
    }
   ],
   "source": [
    "# уравнение плоскости\n",
    "x, y, z, x1, y1, z1, x2, y2, z2, x3, y3, z3 = symbols('x y z x1 y1 z1 x2 y2 z2 x3 y3 z3')\n",
    "\n",
    "SLAE = Matrix([[x - x1, y - y1, z - z1], \n",
    "               [x2 - x1, y2 - y1,z2 - z1],\n",
    "               [x3 - x1, y3 - y1, z3 - z1]])\n",
    "\n",
    "SLAE = SLAE.subs({x1: A[0], y1: A[1], z1: A[2]})\n",
    "SLAE = SLAE.subs({x2: B[0], y2: B[1], z2: B[2]})\n",
    "SLAE = SLAE.subs({x3: C[0], y3: C[1], z3: C[2]})\n",
    "\n",
    "p = SLAE.det()\n",
    "\n",
    "Eq(p, 0, evaluate = False)"
   ]
  },
  {
   "cell_type": "code",
   "execution_count": 51,
   "metadata": {},
   "outputs": [
    {
     "name": "stdout",
     "output_type": "stream",
     "text": [
      "прямая AB:\n"
     ]
    },
    {
     "data": {
      "text/latex": [
       "$\\displaystyle x = t + 2$"
      ],
      "text/plain": [
       "Eq(x, t + 2)"
      ]
     },
     "metadata": {},
     "output_type": "display_data"
    },
    {
     "data": {
      "text/latex": [
       "$\\displaystyle y = -1$"
      ],
      "text/plain": [
       "Eq(y, -1)"
      ]
     },
     "metadata": {},
     "output_type": "display_data"
    },
    {
     "data": {
      "text/latex": [
       "$\\displaystyle z = 2 t - 7$"
      ],
      "text/plain": [
       "Eq(z, 2*t - 7)"
      ]
     },
     "metadata": {},
     "output_type": "display_data"
    }
   ],
   "source": [
    "# параметрические уравнения прямой AB\n",
    "print(\"прямая AB:\")\n",
    "\n",
    "\n",
    "#--------------------------------------------------------#\n",
    "# координаты направляющего вектора a\n",
    "a = Matrix(B) - Matrix(A)\n",
    "#--------------------------------------------------------#\n",
    "\n",
    "\n",
    "t = Symbol('t')\n",
    "X = Matrix([x, y, z])  # используется только для вывода выражения\n",
    "r_value = Matrix(A) + t * a\n",
    "display(*list(Eq(X[i], r_value[i]) for i in range(len(r_value))))"
   ]
  },
  {
   "cell_type": "code",
   "execution_count": 54,
   "metadata": {},
   "outputs": [
    {
     "name": "stdout",
     "output_type": "stream",
     "text": [
      "прямая AM:\n"
     ]
    },
    {
     "data": {
      "text/latex": [
       "$\\displaystyle x = 2 - 10 t$"
      ],
      "text/plain": [
       "Eq(x, 2 - 10*t)"
      ]
     },
     "metadata": {},
     "output_type": "display_data"
    },
    {
     "data": {
      "text/latex": [
       "$\\displaystyle y = 3 t - 1$"
      ],
      "text/plain": [
       "Eq(y, 3*t - 1)"
      ]
     },
     "metadata": {},
     "output_type": "display_data"
    },
    {
     "data": {
      "text/latex": [
       "$\\displaystyle z = 11 t - 7$"
      ],
      "text/plain": [
       "Eq(z, 11*t - 7)"
      ]
     },
     "metadata": {},
     "output_type": "display_data"
    }
   ],
   "source": [
    "# параметрические уравнения прямой AM, перпендикулярной плоскости ABC\n",
    "print(\"прямая AM:\")\n",
    "\n",
    "# определим координаты точки M из уравнения плоскости, которое мы вывели на экран ранее\n",
    "M = (-8, 2, 4)\n",
    "\n",
    "#--------------------------------------------------------#\n",
    "# координаты направляющего вектора a\n",
    "a = Matrix(M) - Matrix(A)\n",
    "#--------------------------------------------------------#\n",
    "\n",
    "\n",
    "t = Symbol('t')\n",
    "X = Matrix([x, y, z])  # используется только для вывода выражения\n",
    "r_value = Matrix(A) + t * a\n",
    "display(*list(Eq(X[i], r_value[i]) for i in range(len(r_value))))"
   ]
  },
  {
   "cell_type": "markdown",
   "metadata": {},
   "source": [
    "Хорасанджян Левон, вариант №157"
   ]
  }
 ],
 "metadata": {
  "colab": {
   "collapsed_sections": [],
   "name": "Alg_5_2021_22_tasks.ipynb",
   "provenance": []
  },
  "kernelspec": {
   "display_name": "Python 3",
   "language": "python",
   "name": "python3"
  },
  "language_info": {
   "codemirror_mode": {
    "name": "ipython",
    "version": 3
   },
   "file_extension": ".py",
   "mimetype": "text/x-python",
   "name": "python",
   "nbconvert_exporter": "python",
   "pygments_lexer": "ipython3",
   "version": "3.8.8"
  }
 },
 "nbformat": 4,
 "nbformat_minor": 1
}
