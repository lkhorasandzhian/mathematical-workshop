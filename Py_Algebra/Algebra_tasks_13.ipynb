{
 "cells": [
  {
   "cell_type": "code",
   "execution_count": 1,
   "metadata": {
    "id": "kJgPsR8mQCoR"
   },
   "outputs": [],
   "source": [
    "import sympy\n",
    "from sympy import Eq, S, latex, plot_implicit, Matrix, symbols, simplify, expand, collect, solve, solveset, Symbol, sqrt\n",
    "from sympy import pi as Pi\n",
    "from sympy import cos as Cos\n",
    "from sympy import sin as Sin\n",
    "import matplotlib.pyplot as plt\n",
    "from IPython.display import Math, Latex"
   ]
  },
  {
   "cell_type": "markdown",
   "metadata": {
    "id": "VUl0VCyeQCoV"
   },
   "source": [
    "# Практическое занятие 13\n",
    "# Компьютерный практикум по алгебре на Python\n",
    "## Квадратичные формы\n",
    "### Задание 1.\n",
    "Составить матрицу квадратичной формы $7x^2+10\\sqrt{3}xy-3y^2−20z^2$, проверить, что она определяет именно заданное уравнение. Найти и вывести на экран собственные числа и собственные векторы матрицы квадратичной формы. "
   ]
  },
  {
   "cell_type": "code",
   "execution_count": 2,
   "metadata": {
    "colab": {
     "base_uri": "https://localhost:8080/",
     "height": 78
    },
    "id": "JPB-1G4EQCoY",
    "outputId": "deec3b2d-58f5-4a5d-e562-b07011033926"
   },
   "outputs": [
    {
     "data": {
      "text/latex": [
       "X = \\left[\\begin{matrix}x\\\\y\\\\z\\end{matrix}\\right], X^T  A  X = 7 x^{2} + 10 \\sqrt{3} x y - 3 y^{2} - 20 z^{2}, X^T  A  X - u = 0"
      ],
      "text/plain": [
       "<IPython.core.display.Latex object>"
      ]
     },
     "metadata": {},
     "output_type": "display_data"
    }
   ],
   "source": [
    "from sympy.abc import x, y, z\n",
    "u = 7 * x**2 + 10 * sympy.sqrt(3) * x * y - 3 * y**2 - 20 * z**2\n",
    "A = Matrix([[7, 5 * sympy.sqrt(3), 0],\n",
    "            [5 * sympy.sqrt(3), -3, 0],\n",
    "            [0, 0, -20]])\n",
    "X = Matrix([x, y, z])\n",
    "res = simplify(expand(X.T * A * X))\n",
    "display(Latex(f'X = {latex(X)}, X^T  A  X = {latex(*res)}, X^T  A  X - u = {latex(res[0] - u)}'))"
   ]
  },
  {
   "cell_type": "code",
   "execution_count": 3,
   "metadata": {
    "colab": {
     "base_uri": "https://localhost:8080/",
     "height": 276
    },
    "id": "uS327DS1gB4Z",
    "outputId": "e41d3776-8ca1-4eef-f4d6-7bfbe4a55988"
   },
   "outputs": [
    {
     "data": {
      "text/latex": [
       "собственное\\ число\\ -20,\\ кратность\\ 1,\\ собственный\\ вектор: \\left[\\begin{matrix}0\\\\0\\\\1\\end{matrix}\\right]"
      ],
      "text/plain": [
       "<IPython.core.display.Latex object>"
      ]
     },
     "metadata": {},
     "output_type": "display_data"
    },
    {
     "data": {
      "text/latex": [
       "собственное\\ число\\ -8,\\ кратность\\ 1,\\ собственный\\ вектор: \\left[\\begin{matrix}- \\frac{\\sqrt{3}}{3}\\\\1\\\\0\\end{matrix}\\right]"
      ],
      "text/plain": [
       "<IPython.core.display.Latex object>"
      ]
     },
     "metadata": {},
     "output_type": "display_data"
    },
    {
     "data": {
      "text/latex": [
       "собственное\\ число\\ 12,\\ кратность\\ 1,\\ собственный\\ вектор: \\left[\\begin{matrix}\\sqrt{3}\\\\1\\\\0\\end{matrix}\\right]"
      ],
      "text/plain": [
       "<IPython.core.display.Latex object>"
      ]
     },
     "metadata": {},
     "output_type": "display_data"
    },
    {
     "data": {
      "text/latex": [
       "P = \\left[\\begin{matrix}0 & - \\frac{1}{2} & \\frac{\\sqrt{3}}{2}\\\\0 & \\frac{\\sqrt{3}}{2} & \\frac{1}{2}\\\\1 & 0 & 0\\end{matrix}\\right]"
      ],
      "text/plain": [
       "<IPython.core.display.Latex object>"
      ]
     },
     "metadata": {},
     "output_type": "display_data"
    }
   ],
   "source": [
    "ev = A.eigenvects()  # собственные векторы матрицы $A$\n",
    "P = Matrix([])\n",
    "for item in ev:\n",
    "    degree = item[1]\n",
    "    display(Latex(f'собственное\\ число\\ {latex(item[0])},\\ кратность\\ {degree},\\ собственный\\ вектор: {latex(*item[2])}'))\n",
    "    for i in range(degree):  # это на случай кратных собственных чисел\n",
    "        P = P.row_join(item[2][i].normalized())  # нормируем собственные векторы матрицы $A$ \n",
    "display(Latex(f'P = {latex(P)}'))"
   ]
  },
  {
   "cell_type": "markdown",
   "metadata": {
    "id": "TTvshGDKQCoZ"
   },
   "source": [
    "### Задание 2.\n",
    "Привести квадратичную форму Примера 1 к каноническому виду с помощью перехода к новому базису из собственных векторов."
   ]
  },
  {
   "cell_type": "code",
   "execution_count": 4,
   "metadata": {
    "colab": {
     "base_uri": "https://localhost:8080/",
     "height": 78
    },
    "id": "dYxLAEomQCoa",
    "outputId": "02e98a42-2858-4bbe-af94-c3e9b06242dd"
   },
   "outputs": [
    {
     "data": {
      "text/latex": [
       "$\\displaystyle \\left[\\begin{matrix}-20 & 0 & 0\\\\0 & -8 & 0\\\\0 & 0 & 12\\end{matrix}\\right]$"
      ],
      "text/plain": [
       "Matrix([\n",
       "[-20,  0,  0],\n",
       "[  0, -8,  0],\n",
       "[  0,  0, 12]])"
      ]
     },
     "metadata": {},
     "output_type": "display_data"
    }
   ],
   "source": [
    "A_new = P.T * A * P\n",
    "display(simplify(A_new))"
   ]
  },
  {
   "cell_type": "code",
   "execution_count": 5,
   "metadata": {
    "colab": {
     "base_uri": "https://localhost:8080/",
     "height": 39
    },
    "id": "CB_6bZT0gmmy",
    "outputId": "8e67a189-fdce-4a3b-acb2-0df9199fa95f"
   },
   "outputs": [
    {
     "data": {
      "text/latex": [
       "$\\displaystyle - 20 x^{2} - 8 y^{2} + 12 z^{2}$"
      ],
      "text/plain": [
       "-20*x**2 - 8*y**2 + 12*z**2"
      ]
     },
     "metadata": {},
     "output_type": "display_data"
    }
   ],
   "source": [
    "res = simplify(expand(X.T * A_new * X))[0]\n",
    "display(res)"
   ]
  },
  {
   "cell_type": "code",
   "execution_count": 6,
   "metadata": {
    "colab": {
     "base_uri": "https://localhost:8080/",
     "height": 57
    },
    "id": "r7P6zi2BgojX",
    "outputId": "e50fdcf3-00b8-4e2e-e066-39af2ae769ef"
   },
   "outputs": [
    {
     "name": "stdout",
     "output_type": "stream",
     "text": [
      "Каноническая форма:\n"
     ]
    },
    {
     "data": {
      "text/latex": [
       "$\\displaystyle - 20 x^{2} - 8 y^{2} + 12 z^{2}$"
      ],
      "text/plain": [
       "-20*x**2 - 8*y**2 + 12*z**2"
      ]
     },
     "execution_count": 6,
     "metadata": {},
     "output_type": "execute_result"
    }
   ],
   "source": [
    "print(\"Каноническая форма:\")\n",
    "collect(res, [x, y, z])  # порой в общем случае приходится использовать"
   ]
  },
  {
   "cell_type": "markdown",
   "metadata": {
    "id": "fImAKd1LQCoa"
   },
   "source": [
    "### Задание 3.\n",
    "Определить тип кривой второго порядка, заданной уравнением\n",
    "$$\n",
    "97x^2 - 144xy + 97y^2 + 482x - 532y = 3452\n",
    "$$\n",
    "Построить в одной координатной плоскости график заданного уравнения и канонического уравнения соответствующей кривой, каноническое уравнение сделать названием графика. "
   ]
  },
  {
   "cell_type": "code",
   "execution_count": 7,
   "metadata": {
    "colab": {
     "base_uri": "https://localhost:8080/",
     "height": 78
    },
    "id": "lLUSreLoQCob",
    "outputId": "e21e6529-46d7-48e0-f102-5e50bd864a6f"
   },
   "outputs": [
    {
     "data": {
      "text/latex": [
       "A3 = \\left[\\begin{matrix}97 & -72 & 241\\\\-72 & 97 & -266\\\\241 & -266 & -3452\\end{matrix}\\right], X3 = \\left[\\begin{matrix}x\\\\y\\\\1\\end{matrix}\\right]"
      ],
      "text/plain": [
       "<IPython.core.display.Latex object>"
      ]
     },
     "metadata": {},
     "output_type": "display_data"
    }
   ],
   "source": [
    "A3 = Matrix([[97, -72, 241],\n",
    "             [-72, 97, -266],\n",
    "             [241, -266, -3452]])\n",
    "X3 = Matrix([x, y, 1])\n",
    "display(Latex(f'A3 = {latex(A3)}, X3 = {latex(X3)}'))"
   ]
  },
  {
   "cell_type": "code",
   "execution_count": 8,
   "metadata": {
    "colab": {
     "base_uri": "https://localhost:8080/",
     "height": 39
    },
    "id": "L_hdVeJ0lNA6",
    "outputId": "60bbd023-85b5-47b8-e48f-b2e36d5d2488"
   },
   "outputs": [
    {
     "data": {
      "text/latex": [
       "$\\displaystyle 97 x^{2} - 144 x y + 482 x + 97 y^{2} - 532 y - 3452 = 0$"
      ],
      "text/plain": [
       "Eq(97*x**2 - 144*x*y + 482*x + 97*y**2 - 532*y - 3452, 0)"
      ]
     },
     "metadata": {},
     "output_type": "display_data"
    }
   ],
   "source": [
    "# Убедимся в корректности записи условий:\n",
    "eq3 = Eq(simplify(expand(X3.T * A3 * X3))[0], 0)\n",
    "display(eq3)"
   ]
  },
  {
   "cell_type": "code",
   "execution_count": 9,
   "metadata": {
    "colab": {
     "base_uri": "https://localhost:8080/",
     "height": 88
    },
    "id": "G7FVUtGNlNNo",
    "outputId": "b9b2b66a-c6cf-4549-adda-7635927a4d52"
   },
   "outputs": [
    {
     "data": {
      "text/latex": [
       "$\\displaystyle \\left[\\begin{matrix}\\frac{\\sqrt{2}}{2} & - \\frac{\\sqrt{2}}{2} & 0\\\\\\frac{\\sqrt{2}}{2} & \\frac{\\sqrt{2}}{2} & 0\\\\0 & 0 & 1\\end{matrix}\\right]$"
      ],
      "text/plain": [
       "Matrix([\n",
       "[sqrt(2)/2, -sqrt(2)/2, 0],\n",
       "[sqrt(2)/2,  sqrt(2)/2, 0],\n",
       "[        0,          0, 1]])"
      ]
     },
     "metadata": {},
     "output_type": "display_data"
    }
   ],
   "source": [
    "# Теперь составим матрицу поворота...\n",
    "alpha = sympy.acot((A3[0, 0] - A3[1, 1])/(2 * A3[0, 1])) / 2\n",
    "P = Matrix([[Cos(alpha), -Sin(alpha), 0], [Sin(alpha), Cos(alpha), 0], [0, 0, 1]])\n",
    "display(P)"
   ]
  },
  {
   "cell_type": "code",
   "execution_count": 10,
   "metadata": {
    "colab": {
     "base_uri": "https://localhost:8080/",
     "height": 88
    },
    "id": "VYZ4E5IilzRC",
    "outputId": "d14f6ebb-04e8-400a-cfdf-f72e59c57634"
   },
   "outputs": [
    {
     "data": {
      "text/latex": [
       "$\\displaystyle \\left[\\begin{matrix}25 & 0 & - \\frac{25 \\sqrt{2}}{2}\\\\0 & 169 & - \\frac{507 \\sqrt{2}}{2}\\\\- \\frac{25 \\sqrt{2}}{2} & - \\frac{507 \\sqrt{2}}{2} & -3452\\end{matrix}\\right]$"
      ],
      "text/plain": [
       "Matrix([\n",
       "[           25,              0,  -25*sqrt(2)/2],\n",
       "[            0,            169, -507*sqrt(2)/2],\n",
       "[-25*sqrt(2)/2, -507*sqrt(2)/2,          -3452]])"
      ]
     },
     "metadata": {},
     "output_type": "display_data"
    }
   ],
   "source": [
    "# Вид матрицы после поворота (уже в новых координатах x1, y1):\n",
    "A3 = simplify(expand((P.T * A3 * P)))\n",
    "display(A3)"
   ]
  },
  {
   "cell_type": "code",
   "execution_count": 11,
   "metadata": {
    "colab": {
     "base_uri": "https://localhost:8080/",
     "height": 39
    },
    "id": "4gjaktqBmH21",
    "outputId": "e893696e-a8c7-43b7-f212-1ce4fec560e9"
   },
   "outputs": [
    {
     "data": {
      "text/latex": [
       "$\\displaystyle 25 X^{2} - 25 \\sqrt{2} X + 169 Y^{2} - 507 \\sqrt{2} Y - 3452$"
      ],
      "text/plain": [
       "25*X**2 - 25*sqrt(2)*X + 169*Y**2 - 507*sqrt(2)*Y - 3452"
      ]
     },
     "execution_count": 11,
     "metadata": {},
     "output_type": "execute_result"
    }
   ],
   "source": [
    "# Запишем получившееся уравнение:\n",
    "from sympy.abc import X, Y, Z\n",
    "X3 = Matrix((X, Y, 1))\n",
    "simplify(expand((X3.T * A3 * X3)[0]))"
   ]
  },
  {
   "cell_type": "markdown",
   "metadata": {
    "id": "WcWUKSRemmPs"
   },
   "source": [
    "Осталось перенести начало координат так, чтобы исчезли слагаемые с $X$ и $Y$. Соответствующая замена имеет вид:\n",
    "$$\n",
    "X=X'-\\frac{a_1}{a_{11}},\\quad Y=Y'-\\frac{a_2}{a_{22}}\n",
    "$$"
   ]
  },
  {
   "cell_type": "code",
   "execution_count": 12,
   "metadata": {
    "colab": {
     "base_uri": "https://localhost:8080/",
     "height": 88
    },
    "id": "U575O9F4mORC",
    "outputId": "c1dc6a09-b5ed-4114-a602-915a07eb4fc6"
   },
   "outputs": [
    {
     "data": {
      "text/latex": [
       "X3\\_new = \\left[\\begin{matrix}X + \\frac{\\sqrt{2}}{2}\\\\Y + \\frac{3 \\sqrt{2}}{2}\\\\1\\end{matrix}\\right], eq3\\_new = 25 X^{2} + 169 Y^{2} - 4225"
      ],
      "text/plain": [
       "<IPython.core.display.Latex object>"
      ]
     },
     "metadata": {},
     "output_type": "display_data"
    }
   ],
   "source": [
    "X3_new = Matrix((X - A3[0, 2] / A3[0, 0], Y - A3[1, 2] / A3[1, 1], 1))\n",
    "eq3_new = simplify(expand(X3_new.T * A3 * X3_new))[0]\n",
    "display(Latex(f'X3\\_new = {latex(X3_new)}, eq3\\_new = {latex(eq3_new)}'))"
   ]
  },
  {
   "cell_type": "markdown",
   "metadata": {
    "id": "3105hydOm3WQ"
   },
   "source": [
    "Осталось поделить выражение на 4225 и перенести свободный член в правую часть:"
   ]
  },
  {
   "cell_type": "code",
   "execution_count": 13,
   "metadata": {
    "colab": {
     "base_uri": "https://localhost:8080/",
     "height": 54
    },
    "id": "SLSs8a9pmxmf",
    "outputId": "3d300399-4bb3-4503-ea51-549e1304156d"
   },
   "outputs": [
    {
     "data": {
      "text/latex": [
       "$\\displaystyle \\frac{X^{2}}{169} + \\frac{Y^{2}}{25} = 1$"
      ],
      "text/plain": [
       "Eq(X**2/169 + Y**2/25, 1)"
      ]
     },
     "execution_count": 13,
     "metadata": {},
     "output_type": "execute_result"
    }
   ],
   "source": [
    "free = eq3_new.subs({X: 0, Y: 0})\n",
    "eq3_last = eq3_new / (-free) + 1\n",
    "Eq(eq3_last, 1)"
   ]
  },
  {
   "cell_type": "markdown",
   "metadata": {
    "id": "3mOJRjM0nTYG"
   },
   "source": [
    "Заменим переменные $X$ и $Y$ на $x$, $y$, чтобы изобразить получившуюся гиперболу на одной координатной плоскости с графиком исходного уравнения."
   ]
  },
  {
   "cell_type": "code",
   "execution_count": 14,
   "metadata": {
    "colab": {
     "base_uri": "https://localhost:8080/",
     "height": 54
    },
    "id": "OVle--k_nOe0",
    "outputId": "fd0285a0-9573-4d52-ec53-6d27c27d863c"
   },
   "outputs": [
    {
     "data": {
      "text/latex": [
       "$\\displaystyle \\frac{x^{2}}{169} + \\frac{y^{2}}{25} = 1$"
      ],
      "text/plain": [
       "Eq(x**2/169 + y**2/25, 1)"
      ]
     },
     "metadata": {},
     "output_type": "display_data"
    }
   ],
   "source": [
    "eq3_last_xy = Eq(eq3_last.subs({X: x, Y: y}), 1)\n",
    "display(eq3_last_xy)"
   ]
  },
  {
   "cell_type": "code",
   "execution_count": 15,
   "metadata": {
    "colab": {
     "base_uri": "https://localhost:8080/",
     "height": 297
    },
    "id": "pJdWOiEhnOmM",
    "outputId": "6844a5a1-5c86-4bff-a5ad-19a32c5bceab"
   },
   "outputs": [
    {
     "data": {
      "image/png": "[encoded data removed]",
      "text/plain": [
       "<Figure size 432x288 with 1 Axes>"
      ]
     },
     "metadata": {
      "needs_background": "light"
     },
     "output_type": "display_data"
    }
   ],
   "source": [
    "# Изобразим на графике исходную кривую и получившуюся гиперболу:\n",
    "\n",
    "p = plot_implicit(eq3,(x, -15, 15), (y, -15, 15), line_color='g', aspect_ratio=(1, 1), xlabel='$x$', ylabel='$y$', \n",
    "                   title=f'${latex(eq3_last_xy)}$\\n', adaptive=False, show=False)\n",
    "p.extend(plot_implicit(eq3_last_xy,(x, -15, 15), (y, -15, 15), line_color='m', aspect_ratio=(1, 1), adaptive=False, show=False))\n",
    "p.show()"
   ]
  },
  {
   "cell_type": "markdown",
   "metadata": {
    "id": "5u0TfCAGQCob"
   },
   "source": [
    "### Задание 4.\n",
    "Определить тип кривой второго порядка, заданной уравнением\n",
    "$$\n",
    "x^2+2xy+y^2-4x+4y=4\n",
    "$$\n",
    "Построить в одной координатной плоскости график заданного уравнения и канонического уравнения соответствующей кривой, каноническое уравнение сделать названием графика. \n",
    "\n",
    "Указание: каноническое уравнение параболы $y^2 = 2px$ или $x^2 = 2py$; для того, чтобы выразить $x$ или $y$ можно воспользоваться solve или solveset."
   ]
  },
  {
   "cell_type": "code",
   "execution_count": 16,
   "metadata": {
    "colab": {
     "base_uri": "https://localhost:8080/",
     "height": 78
    },
    "id": "bUYVm_AO_-cd",
    "outputId": "de3675b2-d1c6-49c2-f235-938467abe678"
   },
   "outputs": [
    {
     "data": {
      "text/latex": [
       "A3 = \\left[\\begin{matrix}1 & 1 & -2\\\\1 & 1 & 2\\\\-2 & 2 & -4\\end{matrix}\\right], X3 = \\left[\\begin{matrix}x\\\\y\\\\1\\end{matrix}\\right]"
      ],
      "text/plain": [
       "<IPython.core.display.Latex object>"
      ]
     },
     "metadata": {},
     "output_type": "display_data"
    }
   ],
   "source": [
    "A3 = Matrix([[1, 1, -2], [1, 1, 2], [-2, 2, -4]]) # матрица из коэффицентов уравнения\n",
    "X3 = Matrix([x, y, 1])\n",
    "display(Latex(f'A3 = {latex(A3)}, X3 = {latex(X3)}'))"
   ]
  },
  {
   "cell_type": "code",
   "execution_count": 17,
   "metadata": {
    "colab": {
     "base_uri": "https://localhost:8080/",
     "height": 151
    },
    "id": "bLSzc5a0_-j6",
    "outputId": "31b5ef1a-84a2-4a04-d6a6-7c789e0dfdcd"
   },
   "outputs": [
    {
     "data": {
      "text/latex": [
       "$\\displaystyle \\left[\\begin{matrix}\\frac{\\sqrt{2}}{2} & - \\frac{\\sqrt{2}}{2} & 0\\\\\\frac{\\sqrt{2}}{2} & \\frac{\\sqrt{2}}{2} & 0\\\\0 & 0 & 1\\end{matrix}\\right]$"
      ],
      "text/plain": [
       "Matrix([\n",
       "[sqrt(2)/2, -sqrt(2)/2, 0],\n",
       "[sqrt(2)/2,  sqrt(2)/2, 0],\n",
       "[        0,          0, 1]])"
      ]
     },
     "metadata": {},
     "output_type": "display_data"
    },
    {
     "data": {
      "text/latex": [
       "$\\displaystyle \\left[\\begin{matrix}2 & 0 & 0\\\\0 & 0 & 2 \\sqrt{2}\\\\0 & 2 \\sqrt{2} & -4\\end{matrix}\\right]$"
      ],
      "text/plain": [
       "Matrix([\n",
       "[2,         0,         0],\n",
       "[0,         0, 2*sqrt(2)],\n",
       "[0, 2*sqrt(2),        -4]])"
      ]
     },
     "metadata": {},
     "output_type": "display_data"
    }
   ],
   "source": [
    "alpha = sympy.acot((A3[0, 0] - A3[1, 1])/(2 * A3[0, 1])) / 2\n",
    "P = Matrix([[Cos(alpha), -Sin(alpha), 0], [Sin(alpha), Cos(alpha), 0], [0, 0, 1]])\n",
    "display(P) # матрица поворота\n",
    "A3 = simplify(expand((P.T * A3 * P)))\n",
    "display(A3) # исходная матрица после поворота"
   ]
  },
  {
   "cell_type": "code",
   "execution_count": 18,
   "metadata": {
    "colab": {
     "base_uri": "https://localhost:8080/",
     "height": 100
    },
    "id": "6-iGPh_H_-q1",
    "outputId": "94569c36-91d7-47b9-a6f8-293b5f8e1437"
   },
   "outputs": [
    {
     "data": {
      "text/latex": [
       "$\\displaystyle 2 X^{2} + 4 \\sqrt{2} Y - 4$"
      ],
      "text/plain": [
       "2*X**2 + 4*sqrt(2)*Y - 4"
      ]
     },
     "metadata": {},
     "output_type": "display_data"
    },
    {
     "data": {
      "text/latex": [
       "X3\\_new = \\left[\\begin{matrix}X\\\\Y\\\\1\\end{matrix}\\right], eq3\\_new = 2 X^{2} + 4 \\sqrt{2} Y - 4"
      ],
      "text/plain": [
       "<IPython.core.display.Latex object>"
      ]
     },
     "metadata": {},
     "output_type": "display_data"
    }
   ],
   "source": [
    "from sympy.abc import X, Y, Z\n",
    "X3 = Matrix((X, Y, 1))\n",
    "display(simplify(expand((X3.T * A3 * X3)[0]))) # новое уравнение\n",
    "X3_new = Matrix((X - A3[0, 2] / A3[0, 0], Y, 1)) # переносим начало координат, делаем замену\n",
    "eq3_new = simplify(expand(X3_new.T * A3 * X3_new))[0]\n",
    "display(Latex(f'X3\\_new = {latex(X3_new)}, eq3\\_new = {latex(eq3_new)}'))"
   ]
  },
  {
   "cell_type": "code",
   "execution_count": 19,
   "metadata": {
    "colab": {
     "base_uri": "https://localhost:8080/",
     "height": 57
    },
    "id": "MYafnU6g_-xh",
    "outputId": "bca4eab0-5e4c-40ce-de21-c6e6b75843a2"
   },
   "outputs": [
    {
     "data": {
      "text/latex": [
       "$\\displaystyle y = \\frac{\\sqrt{2} \\left(2 - x^{2}\\right)}{4}$"
      ],
      "text/plain": [
       "Eq(y, sqrt(2)*(2 - x**2)/4)"
      ]
     },
     "metadata": {},
     "output_type": "display_data"
    }
   ],
   "source": [
    "free = eq3_new.subs({X: 0, Y: 0}) # делим на свободный член и переносим его в другую сторону\n",
    "eq3_last = eq3_new / (-free) + 1\n",
    "eq3_last_xy = Eq(eq3_last.subs({X: x, Y: y}), 1) # меняем на маленькие буквы\n",
    "eq3_last_xy = Eq(y, solve(eq3_last_xy, y)[0])\n",
    "display(eq3_last_xy)"
   ]
  },
  {
   "cell_type": "code",
   "execution_count": 20,
   "metadata": {
    "colab": {
     "base_uri": "https://localhost:8080/",
     "height": 297
    },
    "id": "Xgrycyx7_-4F",
    "outputId": "bd782ecf-789e-42a1-eb41-db04644bf661"
   },
   "outputs": [
    {
     "data": {
      "image/png": "[encoded data removed]",
      "text/plain": [
       "<Figure size 432x288 with 1 Axes>"
      ]
     },
     "metadata": {
      "needs_background": "light"
     },
     "output_type": "display_data"
    }
   ],
   "source": [
    "p = plot_implicit(eq3,(x, -15, 15), (y, -15, 15), line_color='g', aspect_ratio=(1, 1), xlabel='$x$', ylabel='$y$', \n",
    "                   title=f'${latex(eq3_last_xy)}$\\n', adaptive=False, show=False)\n",
    "p.extend(plot_implicit(eq3_last_xy,(x, -15, 15), (y, -15, 15), line_color='m', aspect_ratio=(1, 1), adaptive=False, show=False))\n",
    "p.show()"
   ]
  },
  {
   "cell_type": "markdown",
   "metadata": {
    "id": "_i9JPzLGQCoc"
   },
   "source": [
    "###  Индивидуальное задание\n",
    "Составить матрицу квадратичной формы и привести ее к каноническому виду с помощью перехода к новому базису из собственных векторов. Векторы выводить на экран не нужно. Вывести на экран матрицу в исходном виде и канонической форме, а также саму квадратичную форму в каноническом виде."
   ]
  },
  {
   "cell_type": "markdown",
   "metadata": {
    "id": "50S7cXAEB4dr"
   },
   "source": [
    "$$Q = 6436 x^{2} - 220 \\sqrt{6} x y + 1756 \\sqrt{6} x z + 2225 y^{2} + 2640 y z - 3661 z^{2}$$"
   ]
  },
  {
   "cell_type": "code",
   "execution_count": 21,
   "metadata": {
    "colab": {
     "base_uri": "https://localhost:8080/",
     "height": 100
    },
    "id": "hQkqVP8YQCoc",
    "outputId": "b971505f-ce91-4f5c-e9dd-86d8992c572a"
   },
   "outputs": [
    {
     "data": {
      "text/latex": [
       "X = \\left[\\begin{matrix}x\\\\y\\\\z\\end{matrix}\\right], X^T  A  X = 1159 x^{2} + 32 \\sqrt{21} x y + 82 \\sqrt{3} x z + 764 y^{2} - 96 \\sqrt{7} y z + 1077 z^{2}, X^T  A  X - u = - 5277 x^{2} + 32 \\sqrt{21} x y + 220 \\sqrt{6} x y - 1756 \\sqrt{6} x z + 82 \\sqrt{3} x z - 1461 y^{2} - 2640 y z - 96 \\sqrt{7} y z + 4738 z^{2}"
      ],
      "text/plain": [
       "<IPython.core.display.Latex object>"
      ]
     },
     "metadata": {},
     "output_type": "display_data"
    }
   ],
   "source": [
    "u = 6436 * x ** 2 - 220 * sqrt(6) * x * y + 1756 * sqrt(6) * x * z + 2225 * y ** 2 + 2640 * y * z - 3661 * z ** 2 # квадратичная форма\n",
    "A = Matrix([[1159, 16 * sqrt(21), 41 * sqrt(3)], [16 * sqrt(21), 764, - 48 * sqrt(7)], [41 * sqrt(3), - 48 * sqrt(7), 1077]]) # матрица квадратичной формы\n",
    "X = Matrix([x, y, z])\n",
    "res = simplify(expand(X.T * A * X))\n",
    "display(Latex(f'X = {latex(X)}, X^T  A  X = {latex(*res)}, X^T  A  X - u = {latex(res[0] - u)}')) # проверка"
   ]
  },
  {
   "cell_type": "code",
   "execution_count": 22,
   "metadata": {
    "colab": {
     "base_uri": "https://localhost:8080/",
     "height": 287
    },
    "id": "QuQ-NWnPAQFD",
    "outputId": "173eefc7-7ceb-40f3-fd67-d6d8d208f5e4"
   },
   "outputs": [
    {
     "data": {
      "text/latex": [
       "собственное\\ число\\ 700,\\ кратность\\ 1,\\ собственный\\ вектор: \\left[\\begin{matrix}- \\frac{\\sqrt{3}}{3}\\\\\\sqrt{7}\\\\1\\end{matrix}\\right]"
      ],
      "text/plain": [
       "<IPython.core.display.Latex object>"
      ]
     },
     "metadata": {},
     "output_type": "display_data"
    },
    {
     "data": {
      "text/latex": [
       "собственное\\ число\\ 1100,\\ кратность\\ 1,\\ собственный\\ вектор: \\left[\\begin{matrix}- \\frac{\\sqrt{3}}{3}\\\\- \\frac{4 \\sqrt{7}}{21}\\\\1\\end{matrix}\\right]"
      ],
      "text/plain": [
       "<IPython.core.display.Latex object>"
      ]
     },
     "metadata": {},
     "output_type": "display_data"
    },
    {
     "data": {
      "text/latex": [
       "собственное\\ число\\ 1200,\\ кратность\\ 1,\\ собственный\\ вектор: \\left[\\begin{matrix}\\sqrt{3}\\\\0\\\\1\\end{matrix}\\right]"
      ],
      "text/plain": [
       "<IPython.core.display.Latex object>"
      ]
     },
     "metadata": {},
     "output_type": "display_data"
    },
    {
     "data": {
      "text/latex": [
       "P = \\left[\\begin{matrix}- \\frac{1}{5} & - \\frac{\\sqrt{21}}{10} & \\frac{\\sqrt{3}}{2}\\\\\\frac{\\sqrt{21}}{5} & - \\frac{2}{5} & 0\\\\\\frac{\\sqrt{3}}{5} & \\frac{3 \\sqrt{7}}{10} & \\frac{1}{2}\\end{matrix}\\right]"
      ],
      "text/plain": [
       "<IPython.core.display.Latex object>"
      ]
     },
     "metadata": {},
     "output_type": "display_data"
    }
   ],
   "source": [
    "ev = A.eigenvects()  # собственные векторы матрицы $A$\n",
    "P = Matrix([])\n",
    "for item in ev:\n",
    "    degree = item[1]\n",
    "    display(Latex(f'собственное\\ число\\ {latex(item[0])},\\ кратность\\ {degree},\\ собственный\\ вектор: {latex(*item[2])}'))\n",
    "    for i in range(degree):  # это на случай кратных собственных чисел\n",
    "        P = P.row_join(item[2][i].normalized())  # нормируем собственные векторы матрицы $A$ \n",
    "display(Latex(f'P = {latex(P)}'))"
   ]
  },
  {
   "cell_type": "code",
   "execution_count": 23,
   "metadata": {
    "colab": {
     "base_uri": "https://localhost:8080/",
     "height": 100
    },
    "id": "g29s6ttZARMs",
    "outputId": "4086619c-76f1-4959-c72b-742dd381897e"
   },
   "outputs": [
    {
     "data": {
      "text/latex": [
       "$\\displaystyle \\left[\\begin{matrix}700 & 0 & 0\\\\0 & 1100 & 0\\\\0 & 0 & 1200\\end{matrix}\\right]$"
      ],
      "text/plain": [
       "Matrix([\n",
       "[700,    0,    0],\n",
       "[  0, 1100,    0],\n",
       "[  0,    0, 1200]])"
      ]
     },
     "metadata": {},
     "output_type": "display_data"
    },
    {
     "data": {
      "text/latex": [
       "$\\displaystyle 700 x^{2} + 1100 y^{2} + 1200 z^{2}$"
      ],
      "text/plain": [
       "700*x**2 + 1100*y**2 + 1200*z**2"
      ]
     },
     "metadata": {},
     "output_type": "display_data"
    }
   ],
   "source": [
    "A_new = P.T * A * P \n",
    "display(simplify(A_new))\n",
    "display(simplify(expand(X.T * A_new * X))[0]) # переход к новому базису"
   ]
  },
  {
   "cell_type": "markdown",
   "metadata": {
    "id": "IaHoMwp8B9UH"
   },
   "source": [
    "Хорасанджян Левон, вариант №157"
   ]
  }
 ],
 "metadata": {
  "colab": {
   "collapsed_sections": [],
   "name": "ХорасанджянЛР13.ipynb",
   "provenance": []
  },
  "kernelspec": {
   "display_name": "Python 3",
   "language": "python",
   "name": "python3"
  },
  "language_info": {
   "codemirror_mode": {
    "name": "ipython",
    "version": 3
   },
   "file_extension": ".py",
   "mimetype": "text/x-python",
   "name": "python",
   "nbconvert_exporter": "python",
   "pygments_lexer": "ipython3",
   "version": "3.8.8"
  }
 },
 "nbformat": 4,
 "nbformat_minor": 1
}
