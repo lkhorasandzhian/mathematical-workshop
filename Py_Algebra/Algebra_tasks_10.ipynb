{
 "cells": [
  {
   "cell_type": "code",
   "execution_count": 1,
   "metadata": {
    "id": "eTUL_xdODebk"
   },
   "outputs": [],
   "source": [
    "import sympy\n",
    "from sympy import I, expand_complex\n",
    "import numpy as np\n",
    "import matplotlib.pyplot as plt\n",
    "from sympy import sqrt, S, conjugate, E, re, im, Symbol, solveset, Abs, acos, cos, pi, sin, simplify"
   ]
  },
  {
   "cell_type": "markdown",
   "metadata": {
    "id": "NYucazc7Debp"
   },
   "source": [
    "# Практическое занятие 10\n",
    "# Компьютерный практикум по алгебре на Python\n",
    "## Комплексные числа в sympy\n",
    "### Задание 1.\n",
    "Даны комплексные числа\n",
    "$$\n",
    "z_1 = 5\\sqrt{3} + 5i,\\quad z_2 = -3 + 3i,\\quad z_3 = - 1 + i,\\quad z_4 = i,\\quad z_5 = \\frac{12}{13} + \\frac{5}{13}i,\n",
    "$$\n",
    "вычислить (представить в алгебраической форме) с помощью sympy\n",
    "$$\n",
    "z_1 \\cdot z_2,\\quad (z_2 - 5z_3)^6,\\quad \\sqrt{\\frac{z_4}{z_3}},\\quad \\frac{z_1^2 + z_3}{13z_5 - 2z_2}.\n",
    "$$"
   ]
  },
  {
   "cell_type": "code",
   "execution_count": 2,
   "metadata": {
    "colab": {
     "base_uri": "https://localhost:8080/",
     "height": 138
    },
    "id": "E9iRFpK2MCTO",
    "outputId": "38faa69b-5cc0-4215-8f2d-4324332ebb85"
   },
   "outputs": [
    {
     "data": {
      "text/latex": [
       "$\\displaystyle 5 \\sqrt{3} + 5 i$"
      ],
      "text/plain": [
       "5*sqrt(3) + 5*I"
      ]
     },
     "metadata": {},
     "output_type": "display_data"
    },
    {
     "data": {
      "text/latex": [
       "$\\displaystyle -3 + 3 i$"
      ],
      "text/plain": [
       "-3 + 3*I"
      ]
     },
     "metadata": {},
     "output_type": "display_data"
    },
    {
     "data": {
      "text/latex": [
       "$\\displaystyle -1 + i$"
      ],
      "text/plain": [
       "-1 + I"
      ]
     },
     "metadata": {},
     "output_type": "display_data"
    },
    {
     "data": {
      "text/latex": [
       "$\\displaystyle i$"
      ],
      "text/plain": [
       "I"
      ]
     },
     "metadata": {},
     "output_type": "display_data"
    },
    {
     "data": {
      "text/latex": [
       "$\\displaystyle \\frac{12}{13} + \\frac{5 i}{13}$"
      ],
      "text/plain": [
       "12/13 + 5*I/13"
      ]
     },
     "metadata": {},
     "output_type": "display_data"
    }
   ],
   "source": [
    "# ДАНО:\n",
    "z1 = 5 * sympy.sqrt(3) + 5 * I\n",
    "z2 = -3 + 3 * I\n",
    "z3 = -1 + I\n",
    "z4 = I\n",
    "z5 = sympy.S(12)/13 + sympy.S(5)/13 * I\n",
    "\n",
    "display(z1, z2, z3, z4, z5)"
   ]
  },
  {
   "cell_type": "code",
   "execution_count": 3,
   "metadata": {
    "colab": {
     "base_uri": "https://localhost:8080/",
     "height": 315
    },
    "id": "72jdDd5tRGsx",
    "outputId": "a3a3d6f1-8fc3-498d-cbeb-0c32dd55399e"
   },
   "outputs": [
    {
     "data": {
      "text/latex": [
       "$\\displaystyle - 15 \\sqrt{3} - 15 + i \\left(-15 + 15 \\sqrt{3}\\right)$"
      ],
      "text/plain": [
       "-15*sqrt(3) - 15 + I*(-15 + 15*sqrt(3))"
      ]
     },
     "metadata": {},
     "output_type": "display_data"
    },
    {
     "name": "stdout",
     "output_type": "stream",
     "text": [
      "\n",
      "\n"
     ]
    },
    {
     "data": {
      "text/latex": [
       "$\\displaystyle 512 i$"
      ],
      "text/plain": [
       "512*I"
      ]
     },
     "metadata": {},
     "output_type": "display_data"
    },
    {
     "name": "stdout",
     "output_type": "stream",
     "text": [
      "\n",
      "\n"
     ]
    },
    {
     "data": {
      "text/latex": [
       "$\\displaystyle \\frac{2^{\\frac{3}{4}} \\sqrt{\\frac{\\sqrt{2}}{4} + \\frac{1}{2}}}{2} - \\frac{2^{\\frac{3}{4}} i \\sqrt{\\frac{1}{2} - \\frac{\\sqrt{2}}{4}}}{2}$"
      ],
      "text/plain": [
       "2**(3/4)*sqrt(sqrt(2)/4 + 1/2)/2 - 2**(3/4)*I*sqrt(1/2 - sqrt(2)/4)/2"
      ]
     },
     "metadata": {},
     "output_type": "display_data"
    },
    {
     "name": "stdout",
     "output_type": "stream",
     "text": [
      "\n",
      "\n"
     ]
    },
    {
     "data": {
      "text/latex": [
       "$\\displaystyle - \\frac{2 \\sqrt{3}}{13} + \\frac{881}{325} + i \\left(\\frac{67}{325} + \\frac{36 \\sqrt{3}}{13}\\right)$"
      ],
      "text/plain": [
       "-2*sqrt(3)/13 + 881/325 + I*(67/325 + 36*sqrt(3)/13)"
      ]
     },
     "metadata": {},
     "output_type": "display_data"
    },
    {
     "name": "stdout",
     "output_type": "stream",
     "text": [
      "\n",
      "\n"
     ]
    }
   ],
   "source": [
    "f1 = z1 * z2\n",
    "f2 = (z2 - 5 * z3)**6\n",
    "f3 = (z4/z3)**sympy.S.Half\n",
    "f4 = (z1**2 + z3)/(13*z5 - 2*z2)\n",
    "\n",
    "List_func = [f1, f2, f3, f4]\n",
    "\n",
    "for func in List_func:\n",
    "  display(expand_complex(func))\n",
    "  print(\"\\n\")"
   ]
  },
  {
   "cell_type": "markdown",
   "metadata": {
    "id": "hMWTheVHDebr"
   },
   "source": [
    "### Задание  2.\n",
    "Вычисления Задания 1 проделать для мнимой единицы из python (использовать встроенную функцию complex)."
   ]
  },
  {
   "cell_type": "code",
   "execution_count": 4,
   "metadata": {
    "colab": {
     "base_uri": "https://localhost:8080/"
    },
    "id": "rUaUUg7bMDfO",
    "outputId": "7159aa90-5697-4657-82d4-97dfdeb75049"
   },
   "outputs": [
    {
     "name": "stdout",
     "output_type": "stream",
     "text": [
      "(8.660254037844386+5j)\n",
      "(-3+3j)\n",
      "(-1+1j)\n",
      "1j\n",
      "(0.9230769230769231+0.38461538461538464j)\n"
     ]
    }
   ],
   "source": [
    "# ДАНО (чистый Python без Sympy):\n",
    "z1 = complex(5 * np.sqrt(3), 5)\n",
    "z2 = complex(-3, 3)\n",
    "z3 = complex(-1, 1)\n",
    "z4 = complex(0, 1)\n",
    "z5 = complex(12/13, 5/13)\n",
    "\n",
    "print(z1, z2, z3, z4, z5, sep = '\\n')"
   ]
  },
  {
   "cell_type": "code",
   "execution_count": 5,
   "metadata": {
    "colab": {
     "base_uri": "https://localhost:8080/"
    },
    "id": "GluYRyB4XLnN",
    "outputId": "b6711600-3ee0-43c1-8a35-c7791615b8fe"
   },
   "outputs": [
    {
     "name": "stdout",
     "output_type": "stream",
     "text": [
      "(-40.98076211353316+10.980762113533157j)\n",
      "(-0+512j)\n",
      "(0.7768869870150187-0.32179712645279135j)\n",
      "(2.4442998757586336+5.002602236344583j)\n"
     ]
    }
   ],
   "source": [
    "f1 = z1 * z2\n",
    "f2 = (z2 - 5 * z3)**6\n",
    "f3 = (z4/z3)**.5\n",
    "f4 = (z1**2 + z3)/(13*z5 - 2*z2)\n",
    "\n",
    "List_func = [f1, f2, f3, f4]\n",
    "\n",
    "print(*List_func, sep = '\\n')"
   ]
  },
  {
   "cell_type": "markdown",
   "metadata": {
    "id": "tb3ET3y6Debs"
   },
   "source": [
    "### Задание  3.\n",
    "Изобразить на координатной плоскости точки, соответствующие корням  $7$-й степени комплексного числа $z = \\frac{3}{5} + i\\frac{3}{5}$. Подписать точки $Ak$, где $k$  - номер корня."
   ]
  },
  {
   "cell_type": "code",
   "execution_count": 6,
   "metadata": {
    "colab": {
     "base_uri": "https://localhost:8080/",
     "height": 51
    },
    "id": "Hfw6-tc1MEk2",
    "outputId": "0373bb82-29af-4516-96f3-a590eef937e5"
   },
   "outputs": [
    {
     "data": {
      "text/latex": [
       "$\\displaystyle \\frac{3}{5} + \\frac{3 i}{5}$"
      ],
      "text/plain": [
       "3/5 + 3*I/5"
      ]
     },
     "execution_count": 6,
     "metadata": {},
     "output_type": "execute_result"
    }
   ],
   "source": [
    "# ДАНО:\n",
    "z = sympy.S(3)/5 + sympy.S(3)/5 * I\n",
    "z"
   ]
  },
  {
   "cell_type": "code",
   "execution_count": 7,
   "metadata": {
    "colab": {
     "base_uri": "https://localhost:8080/",
     "height": 306
    },
    "id": "Q_GXPFoVYtoF",
    "outputId": "c1ffb27c-7d6f-41e1-ba19-13e6cc81740c"
   },
   "outputs": [
    {
     "data": {
      "text/latex": [
       "$\\displaystyle \\sqrt[7]{\\frac{3}{5} + \\frac{3 i}{5}}$"
      ],
      "text/plain": [
       "(3/5 + 3*I/5)**(1/7)"
      ]
     },
     "metadata": {},
     "output_type": "display_data"
    },
    {
     "data": {
      "text/latex": [
       "$\\displaystyle \\left(-1\\right)^{\\frac{2}{7}} \\sqrt[7]{\\frac{3}{5} + \\frac{3 i}{5}}$"
      ],
      "text/plain": [
       "(-1)**(2/7)*(3/5 + 3*I/5)**(1/7)"
      ]
     },
     "metadata": {},
     "output_type": "display_data"
    },
    {
     "data": {
      "text/latex": [
       "$\\displaystyle \\left(-1\\right)^{\\frac{4}{7}} \\sqrt[7]{\\frac{3}{5} + \\frac{3 i}{5}}$"
      ],
      "text/plain": [
       "(-1)**(4/7)*(3/5 + 3*I/5)**(1/7)"
      ]
     },
     "metadata": {},
     "output_type": "display_data"
    },
    {
     "data": {
      "text/latex": [
       "$\\displaystyle \\left(-1\\right)^{\\frac{6}{7}} \\sqrt[7]{\\frac{3}{5} + \\frac{3 i}{5}}$"
      ],
      "text/plain": [
       "(-1)**(6/7)*(3/5 + 3*I/5)**(1/7)"
      ]
     },
     "metadata": {},
     "output_type": "display_data"
    },
    {
     "data": {
      "text/latex": [
       "$\\displaystyle - \\sqrt[7]{-1} \\sqrt[7]{\\frac{3}{5} + \\frac{3 i}{5}}$"
      ],
      "text/plain": [
       "-(-1)**(1/7)*(3/5 + 3*I/5)**(1/7)"
      ]
     },
     "metadata": {},
     "output_type": "display_data"
    },
    {
     "data": {
      "text/latex": [
       "$\\displaystyle - \\left(-1\\right)^{\\frac{3}{7}} \\sqrt[7]{\\frac{3}{5} + \\frac{3 i}{5}}$"
      ],
      "text/plain": [
       "-(-1)**(3/7)*(3/5 + 3*I/5)**(1/7)"
      ]
     },
     "metadata": {},
     "output_type": "display_data"
    },
    {
     "data": {
      "text/latex": [
       "$\\displaystyle - \\left(-1\\right)^{\\frac{5}{7}} \\sqrt[7]{\\frac{3}{5} + \\frac{3 i}{5}}$"
      ],
      "text/plain": [
       "-(-1)**(5/7)*(3/5 + 3*I/5)**(1/7)"
      ]
     },
     "metadata": {},
     "output_type": "display_data"
    }
   ],
   "source": [
    "n = 7\n",
    "List_roots = [sympy.root(z, n, k) for k in range(n)]\n",
    "display(*List_roots)"
   ]
  },
  {
   "cell_type": "code",
   "execution_count": 8,
   "metadata": {
    "colab": {
     "base_uri": "https://localhost:8080/",
     "height": 293
    },
    "id": "ELmf71j5bNCW",
    "outputId": "e870eb77-2a1a-46a3-8fb5-aa04e537f346"
   },
   "outputs": [
    {
     "data": {
      "text/latex": [
       "$\\displaystyle \\frac{\\sqrt[14]{2} \\sqrt[7]{46875} e^{\\frac{i \\pi}{28}}}{5}$"
      ],
      "text/plain": [
       "2**(1/14)*46875**(1/7)*exp(I*pi/28)/5"
      ]
     },
     "metadata": {},
     "output_type": "display_data"
    },
    {
     "data": {
      "text/latex": [
       "$\\displaystyle \\frac{\\sqrt[14]{2} \\sqrt[7]{46875} \\left(\\sin{\\left(\\frac{5 \\pi}{28} \\right)} + i \\cos{\\left(\\frac{5 \\pi}{28} \\right)}\\right)}{5}$"
      ],
      "text/plain": [
       "2**(1/14)*46875**(1/7)*(sin(5*pi/28) + I*cos(5*pi/28))/5"
      ]
     },
     "metadata": {},
     "output_type": "display_data"
    },
    {
     "data": {
      "text/latex": [
       "$\\displaystyle \\frac{\\sqrt[14]{2} \\sqrt[7]{46875} \\left(- \\sin{\\left(\\frac{3 \\pi}{28} \\right)} + i \\cos{\\left(\\frac{3 \\pi}{28} \\right)}\\right)}{5}$"
      ],
      "text/plain": [
       "2**(1/14)*46875**(1/7)*(-sin(3*pi/28) + I*cos(3*pi/28))/5"
      ]
     },
     "metadata": {},
     "output_type": "display_data"
    },
    {
     "data": {
      "text/latex": [
       "$\\displaystyle - \\frac{\\sqrt[14]{2} \\sqrt[7]{46875} e^{- \\frac{3 i \\pi}{28}}}{5}$"
      ],
      "text/plain": [
       "-2**(1/14)*46875**(1/7)*exp(-3*I*pi/28)/5"
      ]
     },
     "metadata": {},
     "output_type": "display_data"
    },
    {
     "data": {
      "text/latex": [
       "$\\displaystyle - \\frac{\\sqrt[14]{2} \\sqrt[7]{46875} e^{\\frac{5 i \\pi}{28}}}{5}$"
      ],
      "text/plain": [
       "-2**(1/14)*46875**(1/7)*exp(5*I*pi/28)/5"
      ]
     },
     "metadata": {},
     "output_type": "display_data"
    },
    {
     "data": {
      "text/latex": [
       "$\\displaystyle - \\frac{\\sqrt[14]{2} \\sqrt[7]{46875} \\left(\\sin{\\left(\\frac{\\pi}{28} \\right)} + i \\cos{\\left(\\frac{\\pi}{28} \\right)}\\right)}{5}$"
      ],
      "text/plain": [
       "-2**(1/14)*46875**(1/7)*(sin(pi/28) + I*cos(pi/28))/5"
      ]
     },
     "metadata": {},
     "output_type": "display_data"
    },
    {
     "data": {
      "text/latex": [
       "$\\displaystyle \\frac{2^{\\frac{4}{7}} \\sqrt[7]{46875} \\left(1 - i\\right)}{10}$"
      ],
      "text/plain": [
       "2**(4/7)*46875**(1/7)*(1 - I)/10"
      ]
     },
     "metadata": {},
     "output_type": "display_data"
    }
   ],
   "source": [
    "Display_roots = [sympy.expand_complex(item).simplify() for item in List_roots]\n",
    "display(*Display_roots)"
   ]
  },
  {
   "cell_type": "code",
   "execution_count": 9,
   "metadata": {
    "colab": {
     "base_uri": "https://localhost:8080/",
     "height": 301
    },
    "id": "RD9y3OH5anU-",
    "outputId": "b8668ddd-37c0-4191-e561-3d89dcc645e5"
   },
   "outputs": [
    {
     "data": {
      "text/plain": [
       "(-1.5, 1.5)"
      ]
     },
     "execution_count": 9,
     "metadata": {},
     "output_type": "execute_result"
    },
    {
     "data": {
      "image/png": "[encoded data removed]",
      "text/plain": [
       "<Figure size 432x288 with 1 Axes>"
      ]
     },
     "metadata": {
      "needs_background": "light"
     },
     "output_type": "display_data"
    }
   ],
   "source": [
    "roots_x = [sympy.re(item) for item in List_roots]\n",
    "roots_y = [sympy.im(item) for item in List_roots]\n",
    "plt.scatter(roots_x, roots_y)\n",
    "# при желании можно отобразить формулы,\n",
    "# добавив  \"= {sympy.latex(Display_roots[k])}\" в строку №7\n",
    "for k, x_coord in enumerate(roots_x): \n",
    "    plt.annotate(f'$A_{k}$',\n",
    "            xy=(x_coord, roots_y[k]), \n",
    "            xytext=(x_coord + 0.05, roots_y[k] - 0.05)) \n",
    "plt.axis('equal')\n",
    "plt.xlabel(\"Re\")\n",
    "plt.ylabel(\"Im\")\n",
    "plt.xlim(-2.5, 4.5)\n",
    "plt.ylim(-1.5, 1.5)"
   ]
  },
  {
   "cell_type": "markdown",
   "metadata": {
    "id": "t9mDRl5eDebt"
   },
   "source": [
    "### Задание  4.\n",
    "Изобразить на координатной плоскости точки, соответствующие $z_4 = - \\sqrt{3} + 3i$ и $\\bar{z_4}$, подписать $z_4$ тригонометрической формой, $\\bar{z_4}$ - экспоненциальной ($z = r e^{i\\varphi}$, $r$ и $\\varphi$ такие же, как в тригонометрической форме)."
   ]
  },
  {
   "cell_type": "code",
   "execution_count": 10,
   "metadata": {
    "colab": {
     "base_uri": "https://localhost:8080/",
     "height": 371
    },
    "id": "G1OcZknymFYQ",
    "outputId": "2ca8e6b6-02c8-4a89-f730-690a94d60830"
   },
   "outputs": [
    {
     "data": {
      "text/latex": [
       "$\\displaystyle 2 \\sqrt{3} \\left(- \\frac{1}{2} + \\frac{\\sqrt{3} i}{2}\\right)$"
      ],
      "text/plain": [
       "2*sqrt(3)*(-1/2 + sqrt(3)*I/2)"
      ]
     },
     "metadata": {},
     "output_type": "display_data"
    },
    {
     "data": {
      "text/latex": [
       "$\\displaystyle 2 \\sqrt{3} e^{- \\frac{2 i \\pi}{3}}$"
      ],
      "text/plain": [
       "2*sqrt(3)*exp(-2*I*pi/3)"
      ]
     },
     "metadata": {},
     "output_type": "display_data"
    },
    {
     "data": {
      "text/plain": [
       "(-5.0, 5.0)"
      ]
     },
     "execution_count": 10,
     "metadata": {},
     "output_type": "execute_result"
    },
    {
     "data": {
      "image/png": "[encoded data removed]",
      "text/plain": [
       "<Figure size 432x288 with 1 Axes>"
      ]
     },
     "metadata": {
      "needs_background": "light"
     },
     "output_type": "display_data"
    }
   ],
   "source": [
    "z4 = -sqrt(3) + 3 * I\n",
    "z4_c = conjugate(z4)\n",
    "\n",
    "r, phi = sympy.symbols('r phi')\n",
    "r0 = sympy.functions.Abs(z4)\n",
    "phi0 = sympy.functions.arg(z4)\n",
    "\n",
    "z4_trig = r * (sympy.cos(phi) + sympy.sin(phi) * I)\n",
    "z4_trig = z4_trig.subs({r: r0, phi: phi0})\n",
    "display(z4_trig)\n",
    "\n",
    "r1 = sympy.functions.Abs(z4_c)\n",
    "phi1 = sympy.functions.arg(z4_c)\n",
    "z4_c_exp = r * E ** (I * phi)\n",
    "z4_c_exp = z4_c_exp.subs({r: r1, phi: phi1})\n",
    "display(z4_c_exp)\n",
    "\n",
    "roots_x = [re(z4), re(z4_c)]\n",
    "roots_y = [im(z4), im(z4_c)]\n",
    "\n",
    "plt.scatter(roots_x, roots_y)\n",
    "plt.annotate(z4_trig, xy = (roots_x[0], roots_y[0]), xytext=(roots_x[0] + 0.15, roots_y[0] - 0.05))\n",
    "plt.annotate(z4_c_exp, xy = (roots_x[1], roots_y[1]), xytext=(roots_x[1] + 0.15, roots_y[1] - 0.05))\n",
    "plt.axis('equal')\n",
    "plt.xlabel(\"Re\")\n",
    "plt.ylabel(\"Im\")\n",
    "plt.xlim(-3, 3)\n",
    "plt.ylim(-5, 5)"
   ]
  },
  {
   "cell_type": "markdown",
   "metadata": {
    "id": "GRVpOD5bDebv"
   },
   "source": [
    "#### Задание  5.\n",
    "Изобразить корни 4 степени числа $5e^{\\frac{i\\pi}{8}}$, в полярной системе координат, подписи к точкам - аргументы (углы) сответствующих комплексных чисел. \n",
    "\n",
    "Число вводить в тригонометрической форме, для получения корней комплексного числа $z = r(\\cos(\\varphi) + i\\sin(\\varphi))$ использовать формулу \n",
    "$\\sqrt[n]{z} = \\sqrt[n]{r}(\\cos(\\varphi_k) + i \\sin(\\varphi_k))$, \n",
    "$\\varphi_k = \\frac{\\varphi + 2\\pi k}{n}$, $k = 0, ..., n - 1$. \n",
    "\n",
    "Вывести алгебраическую форму полученных корней на экран и сравнить с результатом, полученным с помощью sympy.root (с использованием sympy.expand_complex для упрощения выражения). Аналитическое представление оказывается разным.\n",
    "\n",
    "Для каждого корня найти разность модуля разности корней, полученных двумя способами (т.е. нужно для каждой пары одинаковых корней, полученных двумя способами находить разность корней, вычислять модуль sympy.Abs этой разности и вычислить приближенное значение с помощью evalf())."
   ]
  },
  {
   "cell_type": "code",
   "execution_count": 11,
   "metadata": {
    "colab": {
     "base_uri": "https://localhost:8080/",
     "height": 904
    },
    "id": "k0Ntj_GaMHE1",
    "outputId": "7f9590cd-36b8-4ed3-bcf9-31761a20a63e"
   },
   "outputs": [
    {
     "data": {
      "text/plain": [
       "0"
      ]
     },
     "metadata": {},
     "output_type": "display_data"
    },
    {
     "data": {
      "text/latex": [
       "$\\displaystyle \\sqrt[4]{5} \\cos{\\left(\\frac{\\pi}{32} \\right)} + \\sqrt[4]{5} i \\sin{\\left(\\frac{\\pi}{32} \\right)}$"
      ],
      "text/plain": [
       "5**(1/4)*cos(pi/32) + 5**(1/4)*I*sin(pi/32)"
      ]
     },
     "metadata": {},
     "output_type": "display_data"
    },
    {
     "data": {
      "text/latex": [
       "$\\displaystyle 1.49534878122122 e^{\\frac{i \\operatorname{atan}{\\left(\\frac{\\sqrt{2 - \\sqrt{2}}}{\\sqrt{\\sqrt{2} + 2}} \\right)}}{4}}$"
      ],
      "text/plain": [
       "1.49534878122122*exp(I*atan(sqrt(2 - sqrt(2))/sqrt(sqrt(2) + 2))/4)"
      ]
     },
     "metadata": {},
     "output_type": "display_data"
    },
    {
     "data": {
      "text/latex": [
       "$\\displaystyle 1.0 \\cdot 10^{-28} + 1.47146608264736 \\cdot 10^{-8} i$"
      ],
      "text/plain": [
       "0.e-28 + 1.47146608264736e-8*I"
      ]
     },
     "metadata": {},
     "output_type": "display_data"
    },
    {
     "name": "stdout",
     "output_type": "stream",
     "text": [
      "\n"
     ]
    },
    {
     "data": {
      "text/plain": [
       "1"
      ]
     },
     "metadata": {},
     "output_type": "display_data"
    },
    {
     "data": {
      "text/latex": [
       "$\\displaystyle - \\sqrt[4]{5} \\sin{\\left(\\frac{\\pi}{32} \\right)} + \\sqrt[4]{5} i \\cos{\\left(\\frac{\\pi}{32} \\right)}$"
      ],
      "text/plain": [
       "-5**(1/4)*sin(pi/32) + 5**(1/4)*I*cos(pi/32)"
      ]
     },
     "metadata": {},
     "output_type": "display_data"
    },
    {
     "data": {
      "text/latex": [
       "$\\displaystyle - 1.49534878122122 \\sin{\\left(\\frac{\\operatorname{atan}{\\left(\\frac{\\sqrt{2 - \\sqrt{2}}}{\\sqrt{\\sqrt{2} + 2}} \\right)}}{4} \\right)} + 1.49534878122122 i \\cos{\\left(\\frac{\\operatorname{atan}{\\left(\\frac{\\sqrt{2 - \\sqrt{2}}}{\\sqrt{\\sqrt{2} + 2}} \\right)}}{4} \\right)}$"
      ],
      "text/plain": [
       "-1.49534878122122*sin(atan(sqrt(2 - sqrt(2))/sqrt(sqrt(2) + 2))/4) + 1.49534878122122*I*cos(atan(sqrt(2 - sqrt(2))/sqrt(sqrt(2) + 2))/4)"
      ]
     },
     "metadata": {},
     "output_type": "display_data"
    },
    {
     "data": {
      "text/latex": [
       "$\\displaystyle 1.47146608264736 \\cdot 10^{-8} i$"
      ],
      "text/plain": [
       "1.47146608264736e-8*I"
      ]
     },
     "metadata": {},
     "output_type": "display_data"
    },
    {
     "name": "stdout",
     "output_type": "stream",
     "text": [
      "\n"
     ]
    },
    {
     "data": {
      "text/plain": [
       "2"
      ]
     },
     "metadata": {},
     "output_type": "display_data"
    },
    {
     "data": {
      "text/latex": [
       "$\\displaystyle - \\sqrt[4]{5} \\cos{\\left(\\frac{\\pi}{32} \\right)} - \\sqrt[4]{5} i \\sin{\\left(\\frac{\\pi}{32} \\right)}$"
      ],
      "text/plain": [
       "-5**(1/4)*cos(pi/32) - 5**(1/4)*I*sin(pi/32)"
      ]
     },
     "metadata": {},
     "output_type": "display_data"
    },
    {
     "data": {
      "text/latex": [
       "$\\displaystyle - 1.49534878122122 e^{\\frac{i \\operatorname{atan}{\\left(\\frac{\\sqrt{2 - \\sqrt{2}}}{\\sqrt{\\sqrt{2} + 2}} \\right)}}{4}}$"
      ],
      "text/plain": [
       "-1.49534878122122*exp(I*atan(sqrt(2 - sqrt(2))/sqrt(sqrt(2) + 2))/4)"
      ]
     },
     "metadata": {},
     "output_type": "display_data"
    },
    {
     "data": {
      "text/latex": [
       "$\\displaystyle 1.0 \\cdot 10^{-28} + 1.47146608264736 \\cdot 10^{-8} i$"
      ],
      "text/plain": [
       "0.e-28 + 1.47146608264736e-8*I"
      ]
     },
     "metadata": {},
     "output_type": "display_data"
    },
    {
     "name": "stdout",
     "output_type": "stream",
     "text": [
      "\n"
     ]
    },
    {
     "data": {
      "text/plain": [
       "3"
      ]
     },
     "metadata": {},
     "output_type": "display_data"
    },
    {
     "data": {
      "text/latex": [
       "$\\displaystyle \\sqrt[4]{5} \\sin{\\left(\\frac{\\pi}{32} \\right)} - \\sqrt[4]{5} i \\cos{\\left(\\frac{\\pi}{32} \\right)}$"
      ],
      "text/plain": [
       "5**(1/4)*sin(pi/32) - 5**(1/4)*I*cos(pi/32)"
      ]
     },
     "metadata": {},
     "output_type": "display_data"
    },
    {
     "data": {
      "text/latex": [
       "$\\displaystyle 1.49534878122122 \\sin{\\left(\\frac{\\operatorname{atan}{\\left(\\frac{\\sqrt{2 - \\sqrt{2}}}{\\sqrt{\\sqrt{2} + 2}} \\right)}}{4} \\right)} - 1.49534878122122 i \\cos{\\left(\\frac{\\operatorname{atan}{\\left(\\frac{\\sqrt{2 - \\sqrt{2}}}{\\sqrt{\\sqrt{2} + 2}} \\right)}}{4} \\right)}$"
      ],
      "text/plain": [
       "1.49534878122122*sin(atan(sqrt(2 - sqrt(2))/sqrt(sqrt(2) + 2))/4) - 1.49534878122122*I*cos(atan(sqrt(2 - sqrt(2))/sqrt(sqrt(2) + 2))/4)"
      ]
     },
     "metadata": {},
     "output_type": "display_data"
    },
    {
     "data": {
      "text/latex": [
       "$\\displaystyle 1.47146608264736 \\cdot 10^{-8} i$"
      ],
      "text/plain": [
       "1.47146608264736e-8*I"
      ]
     },
     "metadata": {},
     "output_type": "display_data"
    },
    {
     "name": "stdout",
     "output_type": "stream",
     "text": [
      "\n"
     ]
    },
    {
     "data": {
      "image/png": "[encoded data removed]",
      "text/plain": [
       "<Figure size 432x288 with 1 Axes>"
      ]
     },
     "metadata": {
      "needs_background": "light"
     },
     "output_type": "display_data"
    }
   ],
   "source": [
    "n = 4\n",
    "z5 = 5 * sympy.exp(I * sympy.pi / 8)\n",
    "roots = [sympy.root(z5, n, k) for k in range(n)]\n",
    "\n",
    "r_list = [sympy.functions.Abs(root) for root in roots]\n",
    "arg_list = [sympy.functions.arg(root).simplify() for root in roots]\n",
    "\n",
    "r0 = sympy.functions.Abs(z5)\n",
    "phi0 = sympy.functions.arg(z5)\n",
    "\n",
    "plt.polar(arg_list, r_list, 'go')\n",
    "for k, phi_k in enumerate(arg_list): \n",
    "    plt.annotate(str(phi_k),\n",
    "                 xy=(phi_k, r_list[k]), \n",
    "                 xytext=(phi_k + 0.15, r_list[k]))\n",
    "    \n",
    "for i in range(n):\n",
    "    display(i)\n",
    "    x1 = sympy.expand_complex(roots[i])\n",
    "    x2 = simplify(r0 ** (1 / n) * (cos ((phi0 + 2 * pi * i) / n) + I * sin ((phi0 + 2 * pi * i) / n)))\n",
    "    display(x1, x2)\n",
    "    display((sympy.Abs(x1 - x2)).evalf())\n",
    "    print()"
   ]
  },
  {
   "cell_type": "markdown",
   "metadata": {
    "id": "30FXizVhDebw"
   },
   "source": [
    "### Индивидуальное задание.\n",
    "Решить уравнение.\n",
    "Для получения корней использовать sympy.roots.\n",
    "Корни уравнения вывести на экран в алгебраической, тригонометрической и экспоненциальной форме.\n",
    "\n",
    "$(−8 − 7i)x^2 + (48 + 42i)x − 1188 + 486i = 0$"
   ]
  },
  {
   "cell_type": "code",
   "execution_count": 12,
   "metadata": {
    "colab": {
     "base_uri": "https://localhost:8080/",
     "height": 60
    },
    "id": "k8OtZLAcsRxb",
    "outputId": "ee5c2d20-54f4-4cbb-d695-26a419d23f5c"
   },
   "outputs": [
    {
     "data": {
      "text/latex": [
       "$\\displaystyle -3 - 9 i$"
      ],
      "text/plain": [
       "-3 - 9*I"
      ]
     },
     "metadata": {},
     "output_type": "display_data"
    },
    {
     "data": {
      "text/latex": [
       "$\\displaystyle 9 + 9 i$"
      ],
      "text/plain": [
       "9 + 9*I"
      ]
     },
     "metadata": {},
     "output_type": "display_data"
    }
   ],
   "source": [
    "# сделал не всё\n",
    "x = Symbol('x')\n",
    "eq = (-8 - 7 * I) * x ** 2 + (48 + 42 * I) * x - 1188 + 486 * I\n",
    "\n",
    "roots = list(solveset(eq))\n",
    "display(*roots)"
   ]
  },
  {
   "cell_type": "markdown",
   "metadata": {
    "id": "JmlRyv4-m8MF"
   },
   "source": [
    "Хорасанджян Левон, вариант №157"
   ]
  }
 ],
 "metadata": {
  "colab": {
   "collapsed_sections": [],
   "name": "ХорасанджянЛР10.ipynb",
   "provenance": []
  },
  "kernelspec": {
   "display_name": "Python 3",
   "language": "python",
   "name": "python3"
  },
  "language_info": {
   "codemirror_mode": {
    "name": "ipython",
    "version": 3
   },
   "file_extension": ".py",
   "mimetype": "text/x-python",
   "name": "python",
   "nbconvert_exporter": "python",
   "pygments_lexer": "ipython3",
   "version": "3.8.8"
  }
 },
 "nbformat": 4,
 "nbformat_minor": 1
}
