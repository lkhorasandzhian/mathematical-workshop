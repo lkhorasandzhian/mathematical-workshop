{
  "cells": [
    {
      "cell_type": "code",
      "execution_count": 1,
      "metadata": {
        "id": "DnGK4caeH1Vr"
      },
      "outputs": [],
      "source": [
        "import numpy as np\n",
        "import sympy\n",
        "from sympy import Expr, Eq, latex, plot_implicit, tan, cot\n",
        "from sympy.core import S, pi, sympify\n",
        "from sympy.core.logic import fuzzy_bool\n",
        "from sympy.core.numbers import Rational, oo\n",
        "from sympy.core.compatibility import ordered\n",
        "from sympy.core.symbol import Dummy, _uniquely_named_symbol, _symbol\n",
        "from sympy.simplify import simplify, trigsimp\n",
        "from sympy.functions.elementary.miscellaneous import sqrt, Max\n",
        "from sympy.functions.elementary.trigonometric import cos, sin\n",
        "from sympy.functions.special.elliptic_integrals import elliptic_e\n",
        "from sympy.geometry.exceptions import GeometryError\n",
        "from sympy.geometry.line import Ray2D, Segment2D, Line2D, LinearEntity3D\n",
        "from sympy.polys import DomainError, Poly, PolynomialError\n",
        "from sympy.polys.polyutils import _not_a_coeff, _nsort\n",
        "from sympy.solvers import solve\n",
        "from sympy.solvers.solveset import linear_coeffs\n",
        "from sympy.utilities.misc import filldedent, func_name\n",
        "from sympy.geometry.entity import GeometryEntity, GeometrySet\n",
        "from sympy.geometry.point import Point, Point2D, Point3D\n",
        "from sympy.geometry.line import Line, Segment\n",
        "from sympy.geometry.util import idiff\n",
        "import matplotlib.pyplot as plt\n",
        "from IPython.display import Math, Latex"
      ]
    },
    {
      "cell_type": "markdown",
      "metadata": {
        "id": "6qGONNAQH1Vw"
      },
      "source": [
        "# Практическое занятие 15\n",
        "# Компьютерный практикум по алгебре на Python\n",
        "## Кривые второго порядка на плоскости: гипербола"
      ]
    },
    {
      "cell_type": "code",
      "execution_count": 2,
      "metadata": {
        "id": "7RFTEmNDH1Vx"
      },
      "outputs": [],
      "source": [
        "class Hyperbola(GeometrySet):\n",
        "    \"\"\"\n",
        "     Attributes\n",
        "    ==========\n",
        "    center\n",
        "    hradius\n",
        "    vradius\n",
        "    eccentricity\n",
        "    periapsis\n",
        "    focus_distance\n",
        "    foci\n",
        "    ==========\n",
        "    конструктор __new__\n",
        "    скопирован из Эллипса,\n",
        "    изменена формула для  hradius и vradius через эсцентриситет\n",
        "    \"\"\"\n",
        "    def __new__(\n",
        "        cls, center=None, hradius=None, vradius=None, eccentricity=None, **kwargs):\n",
        "        hradius = sympify(hradius)\n",
        "        vradius = sympify(vradius)\n",
        "\n",
        "        eccentricity = sympify(eccentricity)\n",
        "\n",
        "        if center is None:\n",
        "            center = Point(0, 0)\n",
        "        else:\n",
        "            center = Point(center, dim=2)\n",
        "\n",
        "        if len(center) != 2:\n",
        "            raise ValueError('The center of \"{0}\" must be a two dimensional point'.format(cls))\n",
        "\n",
        "        if len(list(filter(lambda x: x is not None, (hradius, vradius, eccentricity)))) != 2:\n",
        "            raise ValueError(filldedent('''\n",
        "                Exactly two arguments of \"hradius\", \"vradius\", and\n",
        "                \"eccentricity\" must not be None.'''))\n",
        "\n",
        "        if eccentricity is not None:\n",
        "            if hradius is None:\n",
        "                hradius = vradius/sqrt( eccentricity**2 - 1)\n",
        "            elif vradius is None:\n",
        "                vradius = hradius*sqrt( eccentricity**2 - 1)\n",
        "\n",
        "        if hradius == 0:\n",
        "            return \"Line\"\n",
        "        if vradius == 0:\n",
        "            return \"Rays\"\n",
        "        return GeometryEntity.__new__(cls, center, hradius, vradius, **kwargs)\n",
        "    \n",
        "    @property\n",
        "    def ambient_dimension(self):\n",
        "        return 2\n",
        "    \n",
        "    @property\n",
        "    def center(self):\n",
        "        return self.args[0]\n",
        "\n",
        "    @property\n",
        "    def hradius(self):\n",
        "        return self.args[1]\n",
        "    \n",
        "    @property\n",
        "    def vradius(self):\n",
        "        return self.args[2]\n",
        "    @property\n",
        "    def focus_distance(self):\n",
        "        return sqrt(self.hradius**2 + self.vradius**2)\n",
        "    \n",
        "    @property\n",
        "    def eccentricity(self):\n",
        "        \"\"\"The eccentricity of the ellipse.\"\"\"\n",
        "        return self.focus_distance/self.hradius\n",
        "    \n",
        "    @property\n",
        "    def periapsis(self):\n",
        "        \"\"\"The apoapsis of the hyperbola.\n",
        "        The smallest distance between the focus and the contour.\"\"\"\n",
        "        return self.focus_distance-self.hradius\n",
        "    @property\n",
        "    def foci(self):\n",
        "        return (self.center + Point(-self.focus_distance, 0), self.center + Point(self.focus_distance, 0))\n",
        "    \n",
        "    @property\n",
        "    def major(self):\n",
        "        return self.hradius\n",
        "    \n",
        "    @property\n",
        "    def minor(self):\n",
        "        return self.vradius\n",
        "\n",
        "    def asymptote(self, x='x', y='y', equation=False, tg_a = 0):\n",
        "      x = _symbol(x, real=True)\n",
        "      y = _symbol(y, real=True)\n",
        "      x0 = self.center[0]\n",
        "      y0 = self.center[1]\n",
        "      a = self.hradius\n",
        "      b = self.vradius\n",
        "\n",
        "      if tg_a == 0:\n",
        "        if not equation:\n",
        "          return (y0 + (x - x0) * b / a, y0 - (x - x0) * b / a)\n",
        "        else:\n",
        "          return (Eq(y, y0 + (x - x0) * b / a), \n",
        "                  Eq(y, y0 - (x - x0) * b / a))\n",
        "      else:\n",
        "        k1 = (b + a * tg_a) / (a - b * tg_a)\n",
        "        k2 = (-b + a * tg_a) / (a + b * tg_a)\n",
        "        if not equation:\n",
        "          return y0 + k1 * (x - x0), y0 + k2 * (x - x0)\n",
        "        else:\n",
        "          return Eq(y, y0 + k1 * (x - x0)), Eq(y, y0 + k2 * (x - x0))\n",
        "\n",
        "    def directrix(self, x='x', y='y', equation=False, tg_a = 0):\n",
        "      x = _symbol(x, real=True)\n",
        "      y = _symbol(y, real=True)\n",
        "      x0 = self.center[0]\n",
        "      y0 = self.center[1]\n",
        "      a = self.hradius\n",
        "      c = self.focus_distance\n",
        "\n",
        "      if tg_a == 0:\n",
        "        if not equation:\n",
        "          return (x0 + a ** 2 / c, x0 - a ** 2 / c)\n",
        "        else:\n",
        "          return (Eq(x, x0 + a ** 2 / c), \n",
        "                  Eq(x, x0 - a ** 2 / c))\n",
        "      else:\n",
        "        if not equation:\n",
        "          return (y0 - 1 / tg_a * (x - x0) + a ** 2 * (1 + 1 / tg_a) ** S.Half / c,\n",
        "                  y0 - 1 / tg_a * (x - x0) - a ** 2 * (1 + 1 / tg_a) ** S.Half / c)\n",
        "        else:\n",
        "          return (Eq(y, y0 - 1 / tg_a * (x - x0) + a ** 2 * (1 + 1 / tg_a) ** S.Half / c), \n",
        "                  Eq(y, y0 - 1 / tg_a * (x - x0) - a ** 2 * (1 + 1 / tg_a) ** S.Half / c))\n",
        "    \n",
        "    def equation(self, x='x', y='y', _slope=None, equation=False):\n",
        "        \"\"\"\n",
        "        Returns the equation of a hyperbola aligned with the x and y axes;\n",
        "        when slope is given, the equation returned corresponds to a hyperbola \n",
        "        with a major axis having that slope.\n",
        "        Parameters\n",
        "        ==========\n",
        "        x : str, optional\n",
        "            Label for the x-axis. Default value is 'x'.\n",
        "        y : str, optional\n",
        "            Label for the y-axis. Default value is 'y'.\n",
        "        _slope : Expr, optional\n",
        "                The slope of the major axis. Ignored when 'None'.\n",
        "        Returns\n",
        "        =======\n",
        "        equation : sympy expression   \"\"\"\n",
        "\n",
        "        x = _symbol(x, real=True)\n",
        "        y = _symbol(y, real=True)\n",
        "\n",
        "        dx = x - self.center.x\n",
        "        dy = y - self.center.y\n",
        "\n",
        "        if _slope is not None:\n",
        "            L = (dy - _slope*dx)**2\n",
        "            l = (_slope*dy + dx)**2\n",
        "            h = 1 + _slope**2\n",
        "            a = h*self.major**2\n",
        "            b = h*self.minor**2\n",
        "            res = l/a - L/b \n",
        "\n",
        "        else:\n",
        "            t1 = (dx/self.hradius)**2\n",
        "            t2 = (dy/self.vradius)**2\n",
        "            res = t1 - t2 \n",
        "        if not equation:\n",
        "            return res - 1\n",
        "        else:\n",
        "            return Eq(res, 1)"
      ]
    },
    {
      "cell_type": "markdown",
      "metadata": {
        "id": "OcHRuZNaH1Vz"
      },
      "source": [
        "# Занятие 15\n",
        "# Алгебра\n",
        "### Задание 1.\n",
        "Построить гиперболу с центром в точке А(1, 2), полуосями 12 и 5. Вывести на экран эксцентриситет, фокусное расстояние, фокусы (с координатами), periapsis и уравнение гиперболы."
      ]
    },
    {
      "cell_type": "code",
      "execution_count": 3,
      "metadata": {
        "colab": {
          "base_uri": "https://localhost:8080/",
          "height": 39
        },
        "id": "s0mOdySVM0Jg",
        "outputId": "50bcaae4-0996-486e-f1fc-80be262b7d49"
      },
      "outputs": [
        {
          "data": {
            "text/latex": [
              "$\\displaystyle Hyperbola\\left(Point2D\\left(1, 2\\right), 12, 5\\right)$"
            ],
            "text/plain": [
              "Hyperbola(Point2D(1, 2), 12, 5)"
            ]
          },
          "execution_count": 3,
          "metadata": {},
          "output_type": "execute_result"
        }
      ],
      "source": [
        "Hyp1 = Hyperbola(Point(1, 2), hradius=12, vradius=5)\n",
        "Hyp1"
      ]
    },
    {
      "cell_type": "code",
      "execution_count": 4,
      "metadata": {
        "colab": {
          "base_uri": "https://localhost:8080/",
          "height": 342
        },
        "id": "ggoA09Wukcmd",
        "outputId": "96aac85d-1de6-4852-b4c4-f8515a6f15ed"
      },
      "outputs": [
        {
          "name": "stdout",
          "output_type": "stream",
          "text": [
            "Эксцентриситет:\n"
          ]
        },
        {
          "data": {
            "text/latex": [
              "$\\displaystyle \\frac{13}{12}$"
            ],
            "text/plain": [
              "13/12"
            ]
          },
          "metadata": {},
          "output_type": "display_data"
        },
        {
          "name": "stdout",
          "output_type": "stream",
          "text": [
            "\n",
            "Фокусное расстояние:\n"
          ]
        },
        {
          "data": {
            "text/latex": [
              "$\\displaystyle 13$"
            ],
            "text/plain": [
              "13"
            ]
          },
          "metadata": {},
          "output_type": "display_data"
        },
        {
          "name": "stdout",
          "output_type": "stream",
          "text": [
            "\n",
            "Фокусы:\n"
          ]
        },
        {
          "data": {
            "text/latex": [
              "$\\displaystyle Point2D\\left(-12, 2\\right)$"
            ],
            "text/plain": [
              "Point2D(-12, 2)"
            ]
          },
          "metadata": {},
          "output_type": "display_data"
        },
        {
          "data": {
            "text/latex": [
              "$\\displaystyle Point2D\\left(14, 2\\right)$"
            ],
            "text/plain": [
              "Point2D(14, 2)"
            ]
          },
          "metadata": {},
          "output_type": "display_data"
        },
        {
          "name": "stdout",
          "output_type": "stream",
          "text": [
            "\n",
            "Periapsis:\n"
          ]
        },
        {
          "data": {
            "text/latex": [
              "$\\displaystyle 1$"
            ],
            "text/plain": [
              "1"
            ]
          },
          "metadata": {},
          "output_type": "display_data"
        },
        {
          "name": "stdout",
          "output_type": "stream",
          "text": [
            "\n",
            "Уравнение гиперболы:\n"
          ]
        },
        {
          "data": {
            "text/latex": [
              "$\\displaystyle \\left(\\frac{x}{12} - \\frac{1}{12}\\right)^{2} - \\left(\\frac{y}{5} - \\frac{2}{5}\\right)^{2} - 1$"
            ],
            "text/plain": [
              "(x/12 - 1/12)**2 - (y/5 - 2/5)**2 - 1"
            ]
          },
          "metadata": {},
          "output_type": "display_data"
        }
      ],
      "source": [
        "print(\"Эксцентриситет:\")\n",
        "display(Hyp1.eccentricity)\n",
        "print()\n",
        "print(\"Фокусное расстояние:\")\n",
        "display(Hyp1.focus_distance)\n",
        "print()\n",
        "print(\"Фокусы:\")\n",
        "display(*Hyp1.foci)\n",
        "print()\n",
        "print(\"Periapsis:\")\n",
        "display(Hyp1.periapsis)\n",
        "print()\n",
        "print(\"Уравнение гиперболы:\")\n",
        "display(Hyp1.equation())"
      ]
    },
    {
      "cell_type": "markdown",
      "metadata": {
        "id": "SaI-GJx9H1V2"
      },
      "source": [
        "### Задание 2.\n",
        "Добавить в описание класса гипербол методы \n",
        "\n",
        "asymptote(self, x='x', y='y', equation=False)\n",
        "\n",
        "directrix(self, x='x', equation=False)\n",
        "\n",
        "Для гиперболы Задания 1 вывести на экран уравнения асимптот и директрис."
      ]
    },
    {
      "cell_type": "code",
      "execution_count": 5,
      "metadata": {
        "colab": {
          "base_uri": "https://localhost:8080/",
          "height": 209
        },
        "id": "ccMgFQeyM1zb",
        "outputId": "2fc21a72-25e6-475b-a854-1057ebfed57d"
      },
      "outputs": [
        {
          "data": {
            "text/plain": [
              "'асимптоты'"
            ]
          },
          "metadata": {},
          "output_type": "display_data"
        },
        {
          "data": {
            "text/latex": [
              "$\\displaystyle y = \\frac{5 x}{12} + \\frac{19}{12}$"
            ],
            "text/plain": [
              "Eq(y, 5*x/12 + 19/12)"
            ]
          },
          "metadata": {},
          "output_type": "display_data"
        },
        {
          "data": {
            "text/latex": [
              "$\\displaystyle y = \\frac{29}{12} - \\frac{5 x}{12}$"
            ],
            "text/plain": [
              "Eq(y, 29/12 - 5*x/12)"
            ]
          },
          "metadata": {},
          "output_type": "display_data"
        },
        {
          "name": "stdout",
          "output_type": "stream",
          "text": [
            "\n"
          ]
        },
        {
          "data": {
            "text/plain": [
              "'директрисы'"
            ]
          },
          "metadata": {},
          "output_type": "display_data"
        },
        {
          "data": {
            "text/latex": [
              "$\\displaystyle x = \\frac{157}{13}$"
            ],
            "text/plain": [
              "Eq(x, 157/13)"
            ]
          },
          "metadata": {},
          "output_type": "display_data"
        },
        {
          "data": {
            "text/latex": [
              "$\\displaystyle x = - \\frac{131}{13}$"
            ],
            "text/plain": [
              "Eq(x, -131/13)"
            ]
          },
          "metadata": {},
          "output_type": "display_data"
        }
      ],
      "source": [
        "display('асимптоты', *(Hyp1.asymptote(equation=True)))\n",
        "print()\n",
        "display('директрисы', *(Hyp1.directrix(equation=True)))"
      ]
    },
    {
      "cell_type": "markdown",
      "metadata": {
        "id": "lP57kra7H1V4"
      },
      "source": [
        "### Задание 3.\n",
        "Вывести на экран уравнение гиперболы из задания 1 с поворотом на 30 градусов против часовой стрелки относительно ее центра.\n",
        "Изобразить повернутую гиперболу с помощью plot_implicit."
      ]
    },
    {
      "cell_type": "code",
      "execution_count": 6,
      "metadata": {
        "colab": {
          "base_uri": "https://localhost:8080/",
          "height": 69
        },
        "id": "mrc4QObWM3w9",
        "outputId": "f8c049d0-e62f-4131-acff-cb2b6793b903"
      },
      "outputs": [
        {
          "data": {
            "text/latex": [
              "$\\displaystyle \\frac{\\left(x + \\frac{\\sqrt{3} \\left(y - 2\\right)}{3} - 1\\right)^{2}}{192} - \\frac{3 \\left(y - \\frac{\\sqrt{3} \\left(x - 1\\right)}{3} - 2\\right)^{2}}{100} = 1$"
            ],
            "text/plain": [
              "Eq((x + sqrt(3)*(y - 2)/3 - 1)**2/192 - 3*(y - sqrt(3)*(x - 1)/3 - 2)**2/100, 1)"
            ]
          },
          "execution_count": 6,
          "metadata": {},
          "output_type": "execute_result"
        }
      ],
      "source": [
        "Hyp3 = Hyp1.equation(_slope=sympy.sqrt(3)/3, equation=True)\n",
        "Hyp3"
      ]
    },
    {
      "cell_type": "code",
      "execution_count": 7,
      "metadata": {
        "colab": {
          "base_uri": "https://localhost:8080/",
          "height": 297
        },
        "id": "jO_m0iL6nBmL",
        "outputId": "3288724d-2250-4a94-cee8-da990ccb5b86"
      },
      "outputs": [
        {
          "data": {
            "image/png": "[encoded data removed]",
            "text/plain": [
              "<Figure size 432x288 with 1 Axes>"
            ]
          },
          "metadata": {
            "needs_background": "light"
          },
          "output_type": "display_data"
        }
      ],
      "source": [
        "eq = Hyp3\n",
        "dict_free = {str(a): a for a in eq.free_symbols}\n",
        "p = plot_implicit(eq, (dict_free['x'], -50, 50), (dict_free['y'], -50, 50),\n",
        "                  line_color='b', aspect_ratio=(1, 1), show=False, adaptive=False)\n",
        "p.show()"
      ]
    },
    {
      "cell_type": "markdown",
      "metadata": {
        "id": "ylpjKXs1H1V5"
      },
      "source": [
        "## Уравнения директрис и асимптот при повороте на угол $\\alpha$\n",
        "Пусть  $a$ - горизонтальная полуось, $c$ - фокусное расстояние, $x_0$ - горизонтальная координата центра гиперболы, тогда уравнение директрис \n",
        "$$\n",
        "x = x_0 \\pm \\frac{a^2}{c}\n",
        "$$\n",
        "При повороте на угол $\\alpha$ получается уравнение\n",
        "$$\n",
        "y = y_0 -{\\rm ctg} \\alpha(x - x_0) \\pm \\frac{a^2}{c}\\sqrt{1 + {\\rm ctg} \\alpha}\n",
        "$$\n",
        "Уравнение асимптоты\n",
        "$$\n",
        "y = y_0 \\pm \\frac{b}{a}(x - x_0)\n",
        "$$\n",
        "При повороте на угол $\\alpha$ получаются уравнения\n",
        "\\begin{align*}\n",
        "y_1 = y_0 + k_1(x - x_0), \\quad \n",
        "y_2 = y_0 + k_2(x - x_0), \\\\ \n",
        "k_1 = \\frac{b + a{\\rm tg} \\alpha}{a - b{\\rm tg} \\alpha},\\quad \n",
        "k_2 = \\frac{-b + a{\\rm tg} \\alpha}{a + b{\\rm tg} \\alpha}\n",
        "\\end{align*}\n",
        "### Задание 4.\n",
        "Изобразить гиперболу Задания 3 (т.е. повернутую на угол) и ее асимптоты и директрисы на одном графике plot_implicit."
      ]
    },
    {
      "cell_type": "code",
      "execution_count": 8,
      "metadata": {
        "colab": {
          "base_uri": "https://localhost:8080/",
          "height": 297
        },
        "id": "Zhk-ocNcH1V5",
        "outputId": "c049229e-7cda-439e-bc91-b431ca38162c"
      },
      "outputs": [
        {
          "data": {
            "image/png": "[encoded data removed]",
            "text/plain": [
              "<Figure size 432x288 with 1 Axes>"
            ]
          },
          "metadata": {
            "needs_background": "light"
          },
          "output_type": "display_data"
        }
      ],
      "source": [
        "eq = Hyp1.equation(equation=True, _slope = tan(pi/6))\n",
        "dict_free = {str(a): a for a in eq.free_symbols}\n",
        "\n",
        "asymp = Hyp1.asymptote(equation = True, tg_a = tan(pi/6))\n",
        "dir = Hyp1.directrix(tg_a = tan(pi/6), equation = True)\n",
        "\n",
        "p = plot_implicit(eq, (dict_free['x'], -20, 20), (dict_free['y'], -20, 20),\n",
        "                  line_color='r', aspect_ratio=(1, 1), show=False, adaptive=False)\n",
        "\n",
        "p.extend(plot_implicit(asymp[0], (dict_free['x'], -20, 20), (dict_free['y'], -20, 20),\n",
        "                  line_color='g', aspect_ratio=(1, 1), show=False, adaptive=False))\n",
        "p.extend(plot_implicit(asymp[1], (dict_free['x'], -20, 20), (dict_free['y'], -20, 20),\n",
        "                  line_color='g', aspect_ratio=(1, 1), show=False, adaptive=False))\n",
        "\n",
        "p.extend(plot_implicit(dir[0], (dict_free['x'], -20, 20), (dict_free['y'], -20, 20),\n",
        "                  line_color='b', aspect_ratio=(1, 1), show=False, adaptive=False))\n",
        "p.extend(plot_implicit(dir[1], (dict_free['x'], -20, 20), (dict_free['y'], -20, 20),\n",
        "                  line_color='b', aspect_ratio=(1, 1), show=False, adaptive=False))\n",
        "\n",
        "p.show()"
      ]
    },
    {
      "cell_type": "markdown",
      "metadata": {
        "id": "wUi1m30QH1V5"
      },
      "source": [
        "###  Индивидуальное задание\n",
        "Определить гиперболу с центром в $(X, Y)$, полуосями $a$ и $b$.  Вывести на экран эксцентриситет, фокусное расстояние, фокусы (с координатами), periapsis, уравнение гиперболы, уравнения асимптот и директрис. \n",
        "\n",
        "Изобразить гиперболу, повернутую на $\\alpha$ градусов против часовой стрелки относительно ее центра, соответствующие асимптоты и директрисы. Вывести на экран уравнение повернутой гиперболы."
      ]
    },
    {
      "cell_type": "markdown",
      "metadata": {
        "id": "J4nnW7ij-4R7"
      },
      "source": [
        "Центр $Point2D\\left(3, 4\\right)$, вертикальная полуось $5 \\sqrt{6} / 4$, эксцентриситет $7 / 5$, угол поворота $\\pi / 4$, по часовой стрелке.\n"
      ]
    },
    {
      "cell_type": "code",
      "execution_count": 9,
      "metadata": {
        "colab": {
          "base_uri": "https://localhost:8080/",
          "height": 460
        },
        "id": "zKFUR_eVH1V6",
        "outputId": "c46b4568-427b-463f-8014-d520349cbbe2"
      },
      "outputs": [
        {
          "data": {
            "text/latex": [
              "eccentricity = \\frac{7}{5}"
            ],
            "text/plain": [
              "<IPython.core.display.Latex object>"
            ]
          },
          "metadata": {},
          "output_type": "display_data"
        },
        {
          "data": {
            "text/latex": [
              "focus\\_distance = \\frac{35}{8}"
            ],
            "text/plain": [
              "<IPython.core.display.Latex object>"
            ]
          },
          "metadata": {},
          "output_type": "display_data"
        },
        {
          "data": {
            "text/latex": [
              "foci = \\left( Point2D\\left(- \\frac{11}{8}, 4\\right), \\  Point2D\\left(\\frac{59}{8}, 4\\right)\\right)"
            ],
            "text/plain": [
              "<IPython.core.display.Latex object>"
            ]
          },
          "metadata": {},
          "output_type": "display_data"
        },
        {
          "data": {
            "text/latex": [
              "periapsis = \\frac{5}{4}"
            ],
            "text/plain": [
              "<IPython.core.display.Latex object>"
            ]
          },
          "metadata": {},
          "output_type": "display_data"
        },
        {
          "data": {
            "text/latex": [
              "equation = \\left(\\frac{8 x}{25} - \\frac{24}{25}\\right)^{2} - \\frac{8 \\left(y - 4\\right)^{2}}{75} = 1"
            ],
            "text/plain": [
              "<IPython.core.display.Latex object>"
            ]
          },
          "metadata": {},
          "output_type": "display_data"
        },
        {
          "data": {
            "text/latex": [
              "asymptote = \\left( y = \\frac{2 \\sqrt{6} \\left(x - 3\\right)}{5} + 4, \\  y = - \\frac{2 \\sqrt{6} \\left(x - 3\\right)}{5} + 4\\right)"
            ],
            "text/plain": [
              "<IPython.core.display.Latex object>"
            ]
          },
          "metadata": {},
          "output_type": "display_data"
        },
        {
          "data": {
            "text/latex": [
              "directrix = \\left( x = \\frac{293}{56}, \\  x = \\frac{43}{56}\\right)"
            ],
            "text/plain": [
              "<IPython.core.display.Latex object>"
            ]
          },
          "metadata": {},
          "output_type": "display_data"
        },
        {
          "data": {
            "image/png": "[encoded data removed]",
            "text/plain": [
              "<Figure size 432x288 with 1 Axes>"
            ]
          },
          "metadata": {
            "needs_background": "light"
          },
          "output_type": "display_data"
        }
      ],
      "source": [
        "Hyp = Hyperbola(Point(3, 4), vradius=5*sqrt(6)/4, eccentricity=S(7)/5)\n",
        "ang = -pi/4\n",
        "\n",
        "props = {'eccentricity': Hyp.eccentricity,'focus\\_distance': Hyp.focus_distance, 'foci': Hyp.foci, \n",
        "         'periapsis': Hyp.periapsis, 'equation': Hyp.equation(equation=True),\n",
        "         'asymptote': Hyp.asymptote(equation = True), 'directrix': Hyp.directrix(equation = True)}\n",
        "\n",
        "display(*[Latex(f'{key} = {latex(props[key])}') for key in props.keys()])\n",
        "\n",
        "eq = Hyp.equation(equation=True, _slope = tan(ang))\n",
        "dict_free = {str(a): a for a in eq.free_symbols}\n",
        "\n",
        "asymp = Hyp.asymptote(equation = True, tg_a = tan(ang))\n",
        "dir = Hyp.directrix(tg_a = tan(ang), equation = True)\n",
        "\n",
        "p = plot_implicit(eq, (dict_free['x'], -30, 30), (dict_free['y'], -30, 30),\n",
        "                  line_color='r', aspect_ratio=(1, 1), show=False, adaptive=False)\n",
        "\n",
        "p.extend(plot_implicit(asymp[0], (dict_free['x'], -30, 30), (dict_free['y'], -30, 30),\n",
        "                  line_color='g', aspect_ratio=(1, 1), show=False, adaptive=False))\n",
        "p.extend(plot_implicit(asymp[1], (dict_free['x'], -30, 30), (dict_free['y'], -30, 30),\n",
        "                  line_color='g', aspect_ratio=(1, 1), show=False, adaptive=False))\n",
        "\n",
        "p.extend(plot_implicit(dir[0], (dict_free['x'], -30, 30), (dict_free['y'], -30, 30),\n",
        "                  line_color='b', aspect_ratio=(1, 1), show=False, adaptive=False))\n",
        "\n",
        "p.extend(plot_implicit(dir[1], (dict_free['x'], -30, 30), (dict_free['y'], -30, 30),\n",
        "                  line_color='b', aspect_ratio=(1, 1), show=False, adaptive=False))\n",
        "\n",
        "p.show()"
      ]
    },
    {
      "cell_type": "markdown",
      "metadata": {
        "id": "2yFZ815e-y8Z"
      },
      "source": [
        "Хорасанджян Левон, вариант №157"
      ]
    }
  ],
  "metadata": {
    "colab": {
      "collapsed_sections": [],
      "name": "Alg_15_2021_22_hyp_tasks.ipynb",
      "provenance": []
    },
    "kernelspec": {
      "display_name": "Python 3",
      "language": "python",
      "name": "python3"
    },
    "language_info": {
      "codemirror_mode": {
        "name": "ipython",
        "version": 3
      },
      "file_extension": ".py",
      "mimetype": "text/x-python",
      "name": "python",
      "nbconvert_exporter": "python",
      "pygments_lexer": "ipython3",
      "version": "3.9.1"
    }
  },
  "nbformat": 4,
  "nbformat_minor": 0
}
