{
 "cells": [
  {
   "cell_type": "markdown",
   "metadata": {
    "id": "NWxN--Ciycml"
   },
   "source": [
    "# Практическое занятие 1\n",
    "# Компьютерный практикум по алгебре на Python"
   ]
  },
  {
   "cell_type": "markdown",
   "metadata": {
    "id": "JITt7G7iycmp"
   },
   "source": [
    "https://docs.sympy.org/latest/tutorial/intro.html"
   ]
  },
  {
   "cell_type": "code",
   "execution_count": 2,
   "metadata": {
    "id": "VKvRy_UGycmq"
   },
   "outputs": [],
   "source": [
    "from sympy import *"
   ]
  },
  {
   "cell_type": "markdown",
   "metadata": {
    "id": "x3mNO8qJycmr"
   },
   "source": [
    "## Действия с числами, числовые выражения\n",
    "Об основных типах данных Python 3.10 читайте здесь:\n",
    "https://docs.python.org/3/reference/datamodel.html#index-19\n",
    "\n",
    "Сейчас нам понадобятся типы:\n",
    "\n",
    "int - целое число (насколько большим оно может быть, зависит только от объема доступной памяти)\n",
    "\n",
    "float - вещественное число (double precision floating point numbers)\n",
    "\n",
    "### Задание 1.\n",
    "Вычислите значение выражения\n",
    "$$\n",
    "3\\left(2^{4}+6\\sin\\frac{\\pi}{4}-5\\sqrt{2}\\right)\n",
    "$$"
   ]
  },
  {
   "cell_type": "code",
   "execution_count": 3,
   "metadata": {
    "id": "oVk_GJYwycmr"
   },
   "outputs": [
    {
     "data": {
      "text/latex": [
       "$\\displaystyle 48 - 6 \\sqrt{2}$"
      ],
      "text/plain": [
       "48 - 6*sqrt(2)"
      ]
     },
     "execution_count": 3,
     "metadata": {},
     "output_type": "execute_result"
    }
   ],
   "source": [
    "3 * (2**4 + 6*sin(pi/4) - 5*sqrt(2))"
   ]
  },
  {
   "cell_type": "markdown",
   "metadata": {
    "id": "G3b9I6dNycmr"
   },
   "source": [
    "## Символы, символьные выражения\n",
    "Для аналитических преобразований в sympy используется класс Symbol\n",
    "\n",
    "https://docs.sympy.org/latest/modules/core.html?highlight=symbol#module-sympy.core.symbol\n",
    "\n",
    "В этом классе есть метод Symbol для создания одного символа.\n",
    "###  Задание 2.\n",
    "Создайте символ $t$ и составьте выражение $\\frac{\\sqrt{t}+t^3}{t-1}$"
   ]
  },
  {
   "cell_type": "code",
   "execution_count": 4,
   "metadata": {
    "id": "Dz1jRObIycms"
   },
   "outputs": [
    {
     "data": {
      "text/latex": [
       "$\\displaystyle \\frac{\\sqrt{t} + t^{3}}{t - 1}$"
      ],
      "text/plain": [
       "(sqrt(t) + t**3)/(t - 1)"
      ]
     },
     "execution_count": 4,
     "metadata": {},
     "output_type": "execute_result"
    }
   ],
   "source": [
    "t = Symbol(\"t\")\n",
    "(sqrt(t) + t**3) / (t - 1)"
   ]
  },
  {
   "cell_type": "markdown",
   "metadata": {
    "id": "qMlP2YM5ycms"
   },
   "source": [
    "## Операции с символьными выражениями: simplify, expand,factor,collect\n",
    "#### simplify\n",
    "используется для упрощения выражения\n",
    "#### expand \n",
    "используется для раскрытия скобок\n",
    "#### factor \n",
    "для разложения на множители\n",
    "#### collect \n",
    "для группировки по степеням переменной\n",
    "###  Задание 3.\n",
    "Упростите выражение\n",
    "$$\n",
    "\\frac{(u+v)^2-4uv}{u-v}+2v-1\n",
    "$$"
   ]
  },
  {
   "cell_type": "code",
   "execution_count": 16,
   "metadata": {
    "id": "b27LKumpycms"
   },
   "outputs": [
    {
     "data": {
      "text/latex": [
       "$\\displaystyle 2 v - 1 + \\frac{- 4 u v + \\left(u + v\\right)^{2}}{u - v}$"
      ],
      "text/plain": [
       "2*v - 1 + (-4*u*v + (u + v)**2)/(u - v)"
      ]
     },
     "metadata": {},
     "output_type": "display_data"
    },
    {
     "data": {
      "text/latex": [
       "$\\displaystyle u + v - 1$"
      ],
      "text/plain": [
       "u + v - 1"
      ]
     },
     "execution_count": 16,
     "metadata": {},
     "output_type": "execute_result"
    }
   ],
   "source": [
    "u, v = symbols(\"u v\")\n",
    "expr3 = (u + v)**2 - 4*u*v\n",
    "expr3 = expr3 / (u - v)\n",
    "expr3 = expr3 + 2*v - 1\n",
    "display(expr3)\n",
    "\n",
    "expr3 = simplify(expr3)\n",
    "expr3"
   ]
  },
  {
   "cell_type": "markdown",
   "metadata": {
    "id": "gasezWy-ycmt"
   },
   "source": [
    "###  Задание 4.\n",
    "Раскройте скобки в выражении $(a_1+a_2+a_3)^3-(a_1-a_2)^2$"
   ]
  },
  {
   "cell_type": "code",
   "execution_count": 14,
   "metadata": {
    "id": "SDO7FIFfycmt"
   },
   "outputs": [
    {
     "data": {
      "text/latex": [
       "$\\displaystyle - \\left(a_{1} - a_{2}\\right)^{2} + \\left(a_{1} + a_{2} + a_{3}\\right)^{3}$"
      ],
      "text/plain": [
       "-(a1 - a2)**2 + (a1 + a2 + a3)**3"
      ]
     },
     "metadata": {},
     "output_type": "display_data"
    },
    {
     "data": {
      "text/latex": [
       "$\\displaystyle a_{1}^{3} + 3 a_{1}^{2} a_{2} + 3 a_{1}^{2} a_{3} - a_{1}^{2} + 3 a_{1} a_{2}^{2} + 6 a_{1} a_{2} a_{3} + 2 a_{1} a_{2} + 3 a_{1} a_{3}^{2} + a_{2}^{3} + 3 a_{2}^{2} a_{3} - a_{2}^{2} + 3 a_{2} a_{3}^{2} + a_{3}^{3}$"
      ],
      "text/plain": [
       "a1**3 + 3*a1**2*a2 + 3*a1**2*a3 - a1**2 + 3*a1*a2**2 + 6*a1*a2*a3 + 2*a1*a2 + 3*a1*a3**2 + a2**3 + 3*a2**2*a3 - a2**2 + 3*a2*a3**2 + a3**3"
      ]
     },
     "execution_count": 14,
     "metadata": {},
     "output_type": "execute_result"
    }
   ],
   "source": [
    "a1, a2, a3 = symbols('a1 a2 a3')\n",
    "\n",
    "expr4 = (a1 + a2 + a3)**3 - (a1 - a2)**2\n",
    "display(expr4)\n",
    "\n",
    "expr4 = expand(expr4)\n",
    "expr4"
   ]
  },
  {
   "cell_type": "markdown",
   "metadata": {
    "id": "d9_rZkk7ycmt"
   },
   "source": [
    "###  Задание 5.\n",
    "Разложите на множители\n",
    "$2u^4+3u^3v-2u^2v^2-2u^2v-3uv^2+2v^3$"
   ]
  },
  {
   "cell_type": "code",
   "execution_count": 21,
   "metadata": {
    "id": "GHNuPl_dycmu"
   },
   "outputs": [
    {
     "data": {
      "text/latex": [
       "$\\displaystyle 2 u^{4} + 3 u^{3} v - 2 u^{2} v^{2} - 2 u^{2} v - 3 u v^{2} + 2 v^{3}$"
      ],
      "text/plain": [
       "2*u**4 + 3*u**3*v - 2*u**2*v**2 - 2*u**2*v - 3*u*v**2 + 2*v**3"
      ]
     },
     "metadata": {},
     "output_type": "display_data"
    },
    {
     "data": {
      "text/latex": [
       "$\\displaystyle \\left(u + 2 v\\right) \\left(2 u - v\\right) \\left(u^{2} - v\\right)$"
      ],
      "text/plain": [
       "(u + 2*v)*(2*u - v)*(u**2 - v)"
      ]
     },
     "execution_count": 21,
     "metadata": {},
     "output_type": "execute_result"
    }
   ],
   "source": [
    "u, v = symbols(\"u v\")\n",
    "\n",
    "expr5 = 2 * u**4\n",
    "expr5 += 3 * u**3 * v\n",
    "expr5 -= 2 * u**2 * v**2\n",
    "expr5 -= 2 * u**2 * v\n",
    "expr5 -= 3 * u * v**2\n",
    "expr5 += 2 * v**3\n",
    "display(expr5)\n",
    "\n",
    "factor(expr5)"
   ]
  },
  {
   "cell_type": "markdown",
   "metadata": {
    "id": "Cnm5vka3ycmu"
   },
   "source": [
    "###  Задание 6.\n",
    "Сгруппируйте выражение из Задания 5 по степеням $u$."
   ]
  },
  {
   "cell_type": "code",
   "execution_count": 24,
   "metadata": {
    "id": "2dXheKl_ycmu"
   },
   "outputs": [
    {
     "data": {
      "text/latex": [
       "$\\displaystyle 2 u^{4} + 3 u^{3} v - 2 u^{2} v^{2} - 2 u^{2} v - 3 u v^{2} + 2 v^{3}$"
      ],
      "text/plain": [
       "2*u**4 + 3*u**3*v - 2*u**2*v**2 - 2*u**2*v - 3*u*v**2 + 2*v**3"
      ]
     },
     "metadata": {},
     "output_type": "display_data"
    },
    {
     "data": {
      "text/latex": [
       "$\\displaystyle 2 u^{4} + 3 u^{3} v + u^{2} \\left(- 2 v^{2} - 2 v\\right) - 3 u v^{2} + 2 v^{3}$"
      ],
      "text/plain": [
       "2*u**4 + 3*u**3*v + u**2*(-2*v**2 - 2*v) - 3*u*v**2 + 2*v**3"
      ]
     },
     "execution_count": 24,
     "metadata": {},
     "output_type": "execute_result"
    }
   ],
   "source": [
    "display(expr5)\n",
    "\n",
    "collect(expr5, u)"
   ]
  },
  {
   "cell_type": "markdown",
   "metadata": {
    "id": "nvztFMwyycmv"
   },
   "source": [
    "## Списки и кортежи\n",
    "Нам понадобятся два итерируемых типа\n",
    "\n",
    "#### списки list\n",
    "изменяемый тип\n",
    "#### кортежи tuple\n",
    "неизменяемый тип\n",
    "\n",
    "### Задание 7\n",
    "Создайте список $Powers$ из трех кортежей, состоящих из символов $x$, $y$ и $z$ в степени, равной номеру кортежа в списке."
   ]
  },
  {
   "cell_type": "code",
   "execution_count": 3,
   "metadata": {
    "id": "egJLWmVVycmv"
   },
   "outputs": [
    {
     "data": {
      "text/plain": [
       "[(1, 1, 1), (x, y, z), (x**2, y**2, z**2)]"
      ]
     },
     "metadata": {},
     "output_type": "display_data"
    }
   ],
   "source": [
    "x, y, z = symbols('x y z')\n",
    "Powers = []\n",
    "for i in range(3):\n",
    "    Powers.append((x**i, y**i, z**i))\n",
    "display(Powers)"
   ]
  },
  {
   "cell_type": "markdown",
   "metadata": {
    "id": "sE10eEvqycmv"
   },
   "source": [
    "### Задание 8\n",
    "В списке Powers Задания 7 заменить $(x^2,y^2,z^2)$ на (0,0,0)."
   ]
  },
  {
   "cell_type": "code",
   "execution_count": 4,
   "metadata": {
    "id": "D_fNgj7Lycmv"
   },
   "outputs": [
    {
     "data": {
      "text/plain": [
       "[(1, 1, 1), (x, y, z), (0, 0, 0)]"
      ]
     },
     "metadata": {},
     "output_type": "display_data"
    }
   ],
   "source": [
    "Powers[2] = (0, 0, 0)\n",
    "display(Powers)"
   ]
  },
  {
   "cell_type": "markdown",
   "metadata": {
    "id": "PmrUn7iVycmw"
   },
   "source": [
    "## Матрицы\n",
    "### Задание 9\n",
    "Составить матрицу  $A_{3\\times 4}$ из чисел вида $3k+1$, $k=1,2,...$:\n",
    "$$\n",
    "A=\n",
    "\\left(\n",
    "\\begin{matrix}\n",
    "4& 7& 10& 13\\\\\n",
    "16& 19& 22& 25\\\\\n",
    "28& 31& 34& 37\n",
    "\\end{matrix}\n",
    "\\right)\n",
    "$$"
   ]
  },
  {
   "cell_type": "code",
   "execution_count": 6,
   "metadata": {
    "id": "FP32ECJGycmw"
   },
   "outputs": [
    {
     "data": {
      "text/latex": [
       "$\\displaystyle \\left[\\begin{matrix}4 & 7 & 10 & 13\\\\16 & 19 & 22 & 25\\\\28 & 31 & 34 & 37\\end{matrix}\\right]$"
      ],
      "text/plain": [
       "Matrix([\n",
       "[ 4,  7, 10, 13],\n",
       "[16, 19, 22, 25],\n",
       "[28, 31, 34, 37]])"
      ]
     },
     "execution_count": 6,
     "metadata": {},
     "output_type": "execute_result"
    }
   ],
   "source": [
    "list_2d = [[0,0,0,0],\n",
    "           [0,0,0,0],\n",
    "           [0,0,0,0]]\n",
    "k = 1\n",
    "\n",
    "for i in range(3):\n",
    "    for j in range(4): \n",
    "        list_2d[i][j] = 3 * k + 1\n",
    "        k += 1\n",
    "\n",
    "matrix_A_3x4 = Matrix(list_2d)\n",
    "matrix_A_3x4"
   ]
  },
  {
   "cell_type": "markdown",
   "metadata": {
    "id": "lU6I_nCJycmw"
   },
   "source": [
    "### Задание 10\n",
    "В матрице А задания 9 удалить вторую строку и вставить третий столбец между первым и вторым (сам третий столбец не удалять!), должно получиться\n",
    "$$\n",
    "A=\n",
    "\\left(\n",
    "\\begin{matrix}\n",
    "4& 10& 7& 10& 13\\\\\n",
    "28& 34& 31& 34& 37\n",
    "\\end{matrix}\n",
    "\\right)\n",
    "$$"
   ]
  },
  {
   "cell_type": "code",
   "execution_count": 82,
   "metadata": {
    "id": "0-XQkai-ycmw"
   },
   "outputs": [
    {
     "name": "stdout",
     "output_type": "stream",
     "text": [
      "исходная матрица:\n"
     ]
    },
    {
     "data": {
      "text/latex": [
       "$\\displaystyle \\left[\\begin{matrix}4 & 7 & 10 & 13\\\\16 & 19 & 22 & 25\\\\28 & 31 & 34 & 37\\end{matrix}\\right]$"
      ],
      "text/plain": [
       "Matrix([\n",
       "[ 4,  7, 10, 13],\n",
       "[16, 19, 22, 25],\n",
       "[28, 31, 34, 37]])"
      ]
     },
     "metadata": {},
     "output_type": "display_data"
    },
    {
     "name": "stdout",
     "output_type": "stream",
     "text": [
      "\n",
      "\n",
      "удалили вторую строку:\n"
     ]
    },
    {
     "data": {
      "text/latex": [
       "$\\displaystyle \\left[\\begin{matrix}4 & 7 & 10 & 13\\\\28 & 31 & 34 & 37\\end{matrix}\\right]$"
      ],
      "text/plain": [
       "Matrix([\n",
       "[ 4,  7, 10, 13],\n",
       "[28, 31, 34, 37]])"
      ]
     },
     "metadata": {},
     "output_type": "display_data"
    },
    {
     "name": "stdout",
     "output_type": "stream",
     "text": [
      "\n",
      "\n",
      "вставили третий столбец между первым и вторым:\n"
     ]
    },
    {
     "data": {
      "text/latex": [
       "$\\displaystyle \\left[\\begin{matrix}4 & 10 & 7 & 10 & 13\\\\28 & 34 & 31 & 34 & 37\\end{matrix}\\right]$"
      ],
      "text/plain": [
       "Matrix([\n",
       "[ 4, 10,  7, 10, 13],\n",
       "[28, 34, 31, 34, 37]])"
      ]
     },
     "execution_count": 82,
     "metadata": {},
     "output_type": "execute_result"
    }
   ],
   "source": [
    "print(\"исходная матрица:\")\n",
    "display(matrix_A_3x4)\n",
    "\n",
    "print(\"\\n\\nудалили вторую строку:\")\n",
    "matrix_A_3x4.row_del(1)\n",
    "display(matrix_A_3x4)\n",
    "\n",
    "print(\"\\n\\nвставили третий столбец между первым и вторым:\")\n",
    "matrix_A_3x4 = matrix_A_3x4.col_insert(1, Matrix([10, 34]))\n",
    "matrix_A_3x4"
   ]
  },
  {
   "cell_type": "markdown",
   "metadata": {
    "id": "bSKQcn87ycmx"
   },
   "source": [
    "### Индивидуальное задание\n",
    "Составить матрицу левой части СЛАУ, вектор-столбец переменных, вектор-столбец правой части, вектор-столбец $X_0$. Показать, что $X_0$ является решением данной СЛАУ."
   ]
  },
  {
   "cell_type": "code",
   "execution_count": 90,
   "metadata": {},
   "outputs": [
    {
     "data": {
      "text/latex": [
       "$\\displaystyle \\left[\\begin{matrix}9 & -3 & 1 & 6 & -8\\\\-1 & -8 & 2 & 4 & 6\\\\-2 & -8 & 0 & -5 & -7\\end{matrix}\\right]$"
      ],
      "text/plain": [
       "Matrix([\n",
       "[ 9, -3, 1,  6, -8],\n",
       "[-1, -8, 2,  4,  6],\n",
       "[-2, -8, 0, -5, -7]])"
      ]
     },
     "metadata": {},
     "output_type": "display_data"
    },
    {
     "data": {
      "text/latex": [
       "$\\displaystyle \\left[\\begin{matrix}-1\\\\5\\\\-8\\\\-7\\\\9\\end{matrix}\\right]$"
      ],
      "text/plain": [
       "Matrix([\n",
       "[-1],\n",
       "[ 5],\n",
       "[-8],\n",
       "[-7],\n",
       "[ 9]])"
      ]
     },
     "metadata": {},
     "output_type": "display_data"
    },
    {
     "data": {
      "text/latex": [
       "$\\displaystyle \\left[\\begin{matrix}-146\\\\-29\\\\-66\\end{matrix}\\right]$"
      ],
      "text/plain": [
       "Matrix([\n",
       "[-146],\n",
       "[ -29],\n",
       "[ -66]])"
      ]
     },
     "metadata": {},
     "output_type": "display_data"
    },
    {
     "name": "stdout",
     "output_type": "stream",
     "text": [
      "\n",
      "Проверка на корректность: True\n"
     ]
    }
   ],
   "source": [
    "SLAU_list = [[9, -3, 1, 6, -8],\n",
    "             [-1, -8, 2, 4, 6],\n",
    "             [-2, -8, 0, -5, -7]]\n",
    "\n",
    "X0_list = [-1, 5, -8, -7, 9]\n",
    "\n",
    "solves_list = [-146, -29, -66]\n",
    "\n",
    "SLAU_matrix = Matrix(SLAU_list)\n",
    "display(SLAU_matrix)\n",
    "X0_matrix = Matrix(X0_list)\n",
    "display(X0_matrix)\n",
    "solves_matrix = Matrix(solves_list)\n",
    "display(solves_matrix)\n",
    "\n",
    "print(\"\\nПроверка на корректность:\", end=' ')\n",
    "print(SLAU_matrix * X0_matrix == solves_matrix)"
   ]
  },
  {
   "cell_type": "markdown",
   "metadata": {},
   "source": [
    "Хорасанджян Левон, вариант №157"
   ]
  }
 ],
 "metadata": {
  "colab": {
   "collapsed_sections": [],
   "name": "Alg_1_2021_22_tasks.ipynb",
   "provenance": []
  },
  "kernelspec": {
   "display_name": "Python 3",
   "language": "python",
   "name": "python3"
  },
  "language_info": {
   "codemirror_mode": {
    "name": "ipython",
    "version": 3
   },
   "file_extension": ".py",
   "mimetype": "text/x-python",
   "name": "python",
   "nbconvert_exporter": "python",
   "pygments_lexer": "ipython3",
   "version": "3.8.8"
  }
 },
 "nbformat": 4,
 "nbformat_minor": 1
}
