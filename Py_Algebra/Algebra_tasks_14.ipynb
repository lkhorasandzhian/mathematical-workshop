{
  "cells": [
    {
      "cell_type": "code",
      "execution_count": 1,
      "metadata": {
        "id": "CtKxpPSVQCVS"
      },
      "outputs": [],
      "source": [
        "import sympy\n",
        "from sympy import Ellipse, Point, S, Eq, latex, plot_implicit, Matrix, symbols, simplify, expand, collect, solve\n",
        "from sympy import pi as Pi\n",
        "from sympy import cos as Cos\n",
        "from sympy import sin as Sin\n",
        "import matplotlib.pyplot as plt\n",
        "from IPython.display import Math, Latex\n",
        "\n",
        "from sympy import Line, Eq, solve"
      ]
    },
    {
      "cell_type": "markdown",
      "metadata": {
        "id": "9Ulb2skGQCVV"
      },
      "source": [
        "# Практическое занятие 14\n",
        "# Компьютерный практикум по алгебре на Python\n",
        "### Задание 1.\n",
        "Построить эллипс с центром в точке А(1, 2), полуосями 3 и 2. Вычислить и вывести на экран эксцентриситет, площадь и длину дуги полученного эллипса, центр, полуоси, periapsis, apoapsis, межфокусное расстояние и фокусы."
      ]
    },
    {
      "cell_type": "code",
      "execution_count": 2,
      "metadata": {
        "colab": {
          "base_uri": "https://localhost:8080/",
          "height": 39
        },
        "id": "BeF89UXMaHzz",
        "outputId": "07fe9f67-a5d4-4b3f-96fc-95189f51dd73"
      },
      "outputs": [
        {
          "data": {
            "image/svg+xml": "<svg xmlns=\"http://www.w3.org/2000/svg\"\n            xmlns:xlink=\"http://www.w3.org/1999/xlink\"\n            width=\"100.0\" height=\"100.0\" viewBox=\"-2.60000000000000 -0.600000000000000 7.20000000000000 5.20000000000000\"\n            preserveAspectRatio=\"xMinYMin meet\">\n            <defs>\n                <marker id=\"markerCircle\" markerWidth=\"8\" markerHeight=\"8\"\n                    refx=\"5\" refy=\"5\" markerUnits=\"strokeWidth\">\n                    <circle cx=\"5\" cy=\"5\" r=\"1.5\" style=\"stroke: none; fill:#000000;\"/>\n                </marker>\n                <marker id=\"markerArrow\" markerWidth=\"13\" markerHeight=\"13\" refx=\"2\" refy=\"4\"\n                       orient=\"auto\" markerUnits=\"strokeWidth\">\n                    <path d=\"M2,2 L2,6 L6,4\" style=\"fill: #000000;\" />\n                </marker>\n                <marker id=\"markerReverseArrow\" markerWidth=\"13\" markerHeight=\"13\" refx=\"6\" refy=\"4\"\n                       orient=\"auto\" markerUnits=\"strokeWidth\">\n                    <path d=\"M6,2 L6,6 L2,4\" style=\"fill: #000000;\" />\n                </marker>\n            </defs><g transform=\"matrix(1,0,0,-1,0,4.00000000000000)\"><ellipse fill=\"#66cc99\" stroke=\"#555555\" stroke-width=\"0.144000000000000\" opacity=\"0.6\" cx=\"1.00000000000000\" cy=\"2.00000000000000\" rx=\"3.00000000000000\" ry=\"2.00000000000000\"/></g></svg>",
            "text/latex": [
              "$\\displaystyle Ellipse\\left(Point2D\\left(1, 2\\right), 3, 2\\right)$"
            ],
            "text/plain": [
              "Ellipse(Point2D(1, 2), 3, 2)"
            ]
          },
          "execution_count": 2,
          "metadata": {},
          "output_type": "execute_result"
        }
      ],
      "source": [
        "Ellipse1 = Ellipse(Point(1, 2), hradius=3, vradius=2)\n",
        "Ellipse1"
      ]
    },
    {
      "cell_type": "code",
      "execution_count": 3,
      "metadata": {
        "colab": {
          "base_uri": "https://localhost:8080/",
          "height": 235
        },
        "id": "cyW3M7YZeom4",
        "outputId": "fd029997-2df5-4b46-d98d-2cbdf7ee08a6"
      },
      "outputs": [
        {
          "data": {
            "text/latex": [
              "eccentricity = \\frac{\\sqrt{5}}{3}"
            ],
            "text/plain": [
              "<IPython.core.display.Latex object>"
            ]
          },
          "metadata": {},
          "output_type": "display_data"
        },
        {
          "data": {
            "text/latex": [
              "area = 6 \\pi"
            ],
            "text/plain": [
              "<IPython.core.display.Latex object>"
            ]
          },
          "metadata": {},
          "output_type": "display_data"
        },
        {
          "data": {
            "text/latex": [
              "circumference = 12 E\\left(\\frac{5}{9}\\right)"
            ],
            "text/plain": [
              "<IPython.core.display.Latex object>"
            ]
          },
          "metadata": {},
          "output_type": "display_data"
        },
        {
          "data": {
            "text/latex": [
              "center = Point2D\\left(1, 2\\right)"
            ],
            "text/plain": [
              "<IPython.core.display.Latex object>"
            ]
          },
          "metadata": {},
          "output_type": "display_data"
        },
        {
          "data": {
            "text/latex": [
              "hradius = 3"
            ],
            "text/plain": [
              "<IPython.core.display.Latex object>"
            ]
          },
          "metadata": {},
          "output_type": "display_data"
        },
        {
          "data": {
            "text/latex": [
              "vradius = 2"
            ],
            "text/plain": [
              "<IPython.core.display.Latex object>"
            ]
          },
          "metadata": {},
          "output_type": "display_data"
        },
        {
          "data": {
            "text/latex": [
              "periapsis = 3 - \\sqrt{5}"
            ],
            "text/plain": [
              "<IPython.core.display.Latex object>"
            ]
          },
          "metadata": {},
          "output_type": "display_data"
        },
        {
          "data": {
            "text/latex": [
              "apoapsis = \\sqrt{5} + 3"
            ],
            "text/plain": [
              "<IPython.core.display.Latex object>"
            ]
          },
          "metadata": {},
          "output_type": "display_data"
        },
        {
          "data": {
            "text/latex": [
              "focus\\_distance = \\sqrt{5}"
            ],
            "text/plain": [
              "<IPython.core.display.Latex object>"
            ]
          },
          "metadata": {},
          "output_type": "display_data"
        },
        {
          "data": {
            "text/latex": [
              "foci = \\left( Point2D\\left(1 - \\sqrt{5}, 2\\right), \\  Point2D\\left(1 + \\sqrt{5}, 2\\right)\\right)"
            ],
            "text/plain": [
              "<IPython.core.display.Latex object>"
            ]
          },
          "metadata": {},
          "output_type": "display_data"
        }
      ],
      "source": [
        "props = {'eccentricity': Ellipse1.eccentricity, 'area': Ellipse1.area, 'circumference': Ellipse1.circumference, 'center': Ellipse1.center,\n",
        "         'hradius': Ellipse1.hradius, 'vradius': Ellipse1.vradius, 'periapsis': Ellipse1.periapsis, 'apoapsis': Ellipse1.apoapsis,\n",
        "         'focus\\_distance': Ellipse1.focus_distance, 'foci': Ellipse1.foci}\n",
        "display(*[Latex(f'{key} = {latex(props[key])}') for key in props.keys()])"
      ]
    },
    {
      "cell_type": "markdown",
      "metadata": {
        "id": "T39kZ776QCVZ"
      },
      "source": [
        "### Задание 2.\n",
        "Вывести на экран уравнение эллипса из задания 1, повернутого на 30 градусов против часовой стрелки относительно его центра,  переменные u и v.\n",
        "\n",
        "Изоразить на графике эллипс и повернутый эллипс."
      ]
    },
    {
      "cell_type": "code",
      "execution_count": 4,
      "metadata": {
        "colab": {
          "base_uri": "https://localhost:8080/",
          "height": 61
        },
        "id": "unFn6iauQCVb",
        "outputId": "dcabdf5f-739c-43b6-8c67-aeca4e8978d6"
      },
      "outputs": [
        {
          "data": {
            "text/latex": [
              "$\\displaystyle \\left(\\frac{u}{3} - \\frac{1}{3}\\right)^{2} + \\left(\\frac{v}{2} - 1\\right)^{2} - 1$"
            ],
            "text/plain": [
              "(u/3 - 1/3)**2 + (v/2 - 1)**2 - 1"
            ]
          },
          "execution_count": 4,
          "metadata": {},
          "output_type": "execute_result"
        }
      ],
      "source": [
        "u, v = symbols('u v')\n",
        "Ellipse1.equation(u, v)"
      ]
    },
    {
      "cell_type": "code",
      "execution_count": 5,
      "metadata": {
        "colab": {
          "base_uri": "https://localhost:8080/",
          "height": 69
        },
        "id": "7_2W710la10t",
        "outputId": "832c2669-d9c9-4fcc-8772-b6e82381a8ca"
      },
      "outputs": [
        {
          "data": {
            "text/latex": [
              "$\\displaystyle \\frac{\\left(u + \\frac{\\sqrt{3} \\left(v - 2\\right)}{3} - 1\\right)^{2}}{12} + \\frac{3 \\left(v - \\frac{\\sqrt{3} \\left(u - 1\\right)}{3} - 2\\right)^{2}}{16} - 1$"
            ],
            "text/plain": [
              "(u + sqrt(3)*(v - 2)/3 - 1)**2/12 + 3*(v - sqrt(3)*(u - 1)/3 - 2)**2/16 - 1"
            ]
          },
          "execution_count": 5,
          "metadata": {},
          "output_type": "execute_result"
        }
      ],
      "source": [
        "EQ = Ellipse1.equation(u, v, _slope=sympy.sqrt(3)/3)\n",
        "EQ"
      ]
    },
    {
      "cell_type": "code",
      "execution_count": 6,
      "metadata": {
        "id": "eqvO8FHlnFq0"
      },
      "outputs": [],
      "source": [
        "EQ2 = Ellipse1.equation(u, v)"
      ]
    },
    {
      "cell_type": "code",
      "execution_count": 7,
      "metadata": {
        "id": "DA4id47zj3z-"
      },
      "outputs": [],
      "source": [
        "symb_free_EQ = EQ.free_symbols\n",
        "symb_free_EQ2 = EQ2.free_symbols"
      ]
    },
    {
      "cell_type": "code",
      "execution_count": 8,
      "metadata": {
        "id": "RTlcgE_gj94C"
      },
      "outputs": [],
      "source": [
        "dict_free_EQ = {str(a): a for a in symb_free_EQ}\n",
        "dict_free_EQ2 = {str(a): a for a in symb_free_EQ2}"
      ]
    },
    {
      "cell_type": "code",
      "execution_count": 9,
      "metadata": {
        "colab": {
          "base_uri": "https://localhost:8080/",
          "height": 297
        },
        "id": "1ZnahCdAkAgp",
        "outputId": "69af3a26-7415-4753-d8dc-14b23a90cfb0"
      },
      "outputs": [
        {
          "data": {
            "image/png": "[encoded data removed]",
            "text/plain": [
              "<Figure size 432x288 with 1 Axes>"
            ]
          },
          "metadata": {
            "needs_background": "light"
          },
          "output_type": "display_data"
        }
      ],
      "source": [
        "myplot = plot_implicit(EQ, (dict_free_EQ['u'], -3, 8), (dict_free_EQ['v'], -3, 8), aspect_ratio=(1, 1), adaptive=False, show=False)\n",
        "myplot.extend(plot_implicit(EQ2, (dict_free_EQ2['u'], -3, 8), (dict_free_EQ2['v'], -3, 8), aspect_ratio=(1, 1), adaptive=False, show=False))\n",
        "myplot.show()"
      ]
    },
    {
      "cell_type": "markdown",
      "metadata": {
        "id": "OU7m3lGPQCVc"
      },
      "source": [
        "### Задание 3.\n",
        "Найти вершины эллипса из Задания 1.\n",
        "\n",
        "Указание: вершины эллипса искать как решение системы уравнений, составленной из уравнения эллипса и уравнения прямой, проходящей через фокусы (воспользоваться Line и методом equation()); вторую пару вершин получить как решение системы из уравнения эллипса и прямой, проходящей через центр эллипса перпендикулярно прямой, проходящей через фокусы. "
      ]
    },
    {
      "cell_type": "code",
      "execution_count": 10,
      "metadata": {
        "colab": {
          "base_uri": "https://localhost:8080/"
        },
        "id": "7hznVM8BQCVd",
        "outputId": "aab24939-7ee4-46e5-959b-93c6ad6e0db5"
      },
      "outputs": [
        {
          "name": "stdout",
          "output_type": "stream",
          "text": [
            "Первая пара: [(-2, 2), (4, 2)]\n",
            "Вторая пара: [(1, 0), (1, 4)]\n"
          ]
        }
      ],
      "source": [
        "Ellipse1 = Ellipse(Point(1, 2), hradius=3, vradius=2) # на всякий случай перезаписываем переменную заново\n",
        "\n",
        "ellipse_equation = Ellipse1.equation(u, v)\n",
        "my_line = Line(*Ellipse1.foci)\n",
        "line_equation = my_line.equation(u, v)\n",
        "solve_1 = solve([ellipse_equation, line_equation], u, v)\n",
        "\n",
        "my_center = Ellipse1.center\n",
        "my_perpendicular_line = my_line.perpendicular_line(my_center)\n",
        "line_equation_2 = my_perpendicular_line.equation(u, v)\n",
        "solve_2 = solve([ellipse_equation, line_equation_2], u, v)\n",
        "\n",
        "print(f\"Первая пара: {solve_1}\", f\"Вторая пара: {solve_2}\", sep='\\n')"
      ]
    },
    {
      "cell_type": "markdown",
      "metadata": {
        "id": "yVBfwZrKQCVd"
      },
      "source": [
        "###  Индивидуальное задание\n",
        "Построить эллипс с заданными центром, вертикальной полуосью  и эксцентриситетом.\n",
        "Изобразить на графике этот эллипс, а также эллипс, повернутый на угол $\\alpha$ против часовой стрелки. \n",
        "\n",
        "Вывести на экран центр и фокусы эллипса, длины полуосей, уравнение эллипса, вершины эллипса."
      ]
    },
    {
      "cell_type": "markdown",
      "metadata": {
        "id": "lcHyxP3Bs77y"
      },
      "source": [
        "Центр $Point2D\\left(-3, 1\\right)$, вертикальная полуось $8$, эксцентриситет $3 / 5$, угол поворота $\\pi / 3$, по часовой стрелке."
      ]
    },
    {
      "cell_type": "code",
      "execution_count": 11,
      "metadata": {
        "id": "ozIUDEuQQCVe"
      },
      "outputs": [],
      "source": [
        "my_ellipse = Ellipse(Point(-3, 1), vradius=8, eccentricity=3/5)"
      ]
    },
    {
      "cell_type": "code",
      "execution_count": 12,
      "metadata": {
        "id": "Z_iuocGTu7K9"
      },
      "outputs": [],
      "source": [
        "from sympy.abc import x, y\n",
        "my_EQ = my_ellipse.equation(x='x', y='y')"
      ]
    },
    {
      "cell_type": "code",
      "execution_count": 13,
      "metadata": {
        "id": "7eWOdZl_wmi_"
      },
      "outputs": [],
      "source": [
        "my_EQ2 = my_ellipse.equation(x='x', y='y', _slope=sympy.sqrt(3))"
      ]
    },
    {
      "cell_type": "code",
      "execution_count": 14,
      "metadata": {
        "id": "Z8w8JBpTuheb"
      },
      "outputs": [],
      "source": [
        "my_symb_free = my_EQ.free_symbols\n",
        "my_symb_free2 = my_EQ2.free_symbols"
      ]
    },
    {
      "cell_type": "code",
      "execution_count": 15,
      "metadata": {
        "id": "KcdJCjz5ujK6"
      },
      "outputs": [],
      "source": [
        "my_dict_free = {str(a): a for a in my_symb_free}\n",
        "my_dict_free2 = {str(a): a for a in my_symb_free2}"
      ]
    },
    {
      "cell_type": "code",
      "execution_count": 16,
      "metadata": {
        "colab": {
          "base_uri": "https://localhost:8080/",
          "height": 297
        },
        "id": "tAqCEkRouqol",
        "outputId": "99c8fa63-f085-4101-bd73-abd1319c8b7e"
      },
      "outputs": [
        {
          "data": {
            "image/png": "[encoded data removed]",
            "text/plain": [
              "<Figure size 432x288 with 1 Axes>"
            ]
          },
          "metadata": {
            "needs_background": "light"
          },
          "output_type": "display_data"
        }
      ],
      "source": [
        "my_graph = plot_implicit(my_EQ, (my_dict_free['x'], -20, 20), (my_dict_free['y'], -20, 20), aspect_ratio=(1, 1), adaptive=False, show=False)\n",
        "my_graph.extend(plot_implicit(my_EQ2, (my_dict_free2['x'], -20, 20), (my_dict_free2['y'], -20, 20), aspect_ratio=(1, 1), adaptive=False, show=False))\n",
        "my_graph.show()"
      ]
    },
    {
      "cell_type": "markdown",
      "metadata": {
        "id": "fGb5bDbZs9IY"
      },
      "source": [
        "Хорасанджян Левон, вариант №157"
      ]
    }
  ],
  "metadata": {
    "colab": {
      "collapsed_sections": [],
      "name": "ХорасанджянЛР14.ipynb",
      "provenance": []
    },
    "kernelspec": {
      "display_name": "Python 3",
      "language": "python",
      "name": "python3"
    },
    "language_info": {
      "codemirror_mode": {
        "name": "ipython",
        "version": 3
      },
      "file_extension": ".py",
      "mimetype": "text/x-python",
      "name": "python",
      "nbconvert_exporter": "python",
      "pygments_lexer": "ipython3",
      "version": "3.7.3"
    }
  },
  "nbformat": 4,
  "nbformat_minor": 0
}
