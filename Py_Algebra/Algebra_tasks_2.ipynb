{
 "cells": [
  {
   "cell_type": "markdown",
   "metadata": {
    "id": "f1iqlJIMls5v"
   },
   "source": [
    "# Практическое занятие 2\n",
    "# Алгебра\n",
    "\n",
    "# Хорасанджян Л. А."
   ]
  },
  {
   "cell_type": "markdown",
   "metadata": {
    "id": "Qb3mWI63ls5-"
   },
   "source": [
    "## Матрицы. Подстановки. Формулы Крамера для решения СЛАУ.\n",
    "https://docs.sympy.org/latest/tutorial/matrices.html"
   ]
  },
  {
   "cell_type": "code",
   "execution_count": 2,
   "metadata": {
    "id": "sYlA99tCls6B"
   },
   "outputs": [],
   "source": [
    "#https://www.sympy.org/en/index.html\n",
    "# sympy - модуль для символьных преобразований\n",
    "from sympy import *"
   ]
  },
  {
   "cell_type": "markdown",
   "metadata": {
    "id": "eOmHtxTtls6E"
   },
   "source": [
    "### Задание 1\n",
    "Решить по формулам Крамера СЛАУ \n",
    "\\begin{align*}\n",
    "\\left\\{\\begin{matrix} 2 x_{1} +  x_{3}  = -8\n",
    "\\\\- 4 x_{1} + 5 x_{2}  = 20\n",
    "\\\\- 6 x_{2} + x_{3}  = 2\n",
    "\\end{matrix}\\right.\n",
    " \\end{align*}\n",
    "Проверить правильность найденного решения подстановкой (в математическом смысле! subs не нужно использовать). "
   ]
  },
  {
   "cell_type": "code",
   "execution_count": 62,
   "metadata": {
    "id": "eGrRLqqels6G"
   },
   "outputs": [
    {
     "data": {
      "text/latex": [
       "$\\displaystyle \\left[\\begin{matrix}-5\\\\0\\\\2\\end{matrix}\\right]$"
      ],
      "text/plain": [
       "Matrix([\n",
       "[-5],\n",
       "[ 0],\n",
       "[ 2]])"
      ]
     },
     "metadata": {},
     "output_type": "display_data"
    },
    {
     "data": {
      "text/latex": [
       "$\\displaystyle \\left[\\begin{matrix}0\\\\0\\\\0\\end{matrix}\\right]$"
      ],
      "text/plain": [
       "Matrix([\n",
       "[0],\n",
       "[0],\n",
       "[0]])"
      ]
     },
     "metadata": {},
     "output_type": "display_data"
    }
   ],
   "source": [
    "A = Matrix([[2, 0, 1], [-4, 5, 0], [0, -6, 1]])\n",
    "b = Matrix([-8, 20, 2])\n",
    "A1 = A.copy()\n",
    "A2 = A.copy()\n",
    "A3 = A.copy()\n",
    "A1.col_del(0)\n",
    "A2.col_del(1)\n",
    "A3.col_del(2)\n",
    "A1 = A1.col_insert(0, b)\n",
    "A2 = A2.col_insert(1, b)\n",
    "A3 = A3.col_insert(2, b)\n",
    "A_det = A.det()\n",
    "X = Matrix([A1.det() / A_det, A2.det() / A_det, A3.det() / A_det])\n",
    "display(X, A * X - b)   "
   ]
  },
  {
   "cell_type": "markdown",
   "metadata": {
    "id": "Fhfe9HUSls6G"
   },
   "source": [
    "### Задание 2\n",
    "Решить по формулам Крамера СЛАУ с параметром\n",
    "\\begin{align*}\n",
    "\\left\\{\\begin{matrix} a x_{1} + 2 x_{2}  = -7\n",
    "\\\\- 4 x_{1} + 5 x_{2} + 3 x_{3} = 9\n",
    "\\\\ 3 x_{1} + x_{3}  = 2\n",
    "\\end{matrix}\\right.\n",
    " \\end{align*}\n",
    "Проверить правильность найденного решения подстановкой.\n",
    "\n",
    "Составить матрицу $S$, столбцы которой являются решениями данной СЛАУ при $a = -1, 0, 3$.\n",
    "\n",
    "#### Указание. \n",
    "Оформить решение по формулам Крамера в виде функции.\n",
    "\n",
    "Параметр $a$ описать как символ.\n",
    "\n",
    "Использовать подстановки subs для построения матриц данной СЛАУ при $a = -1, 0, 3$ на основе матрицы с параметром.\n",
    "\n",
    "Воспользоваться simplify для того, чтобы упростить выражение при проверке."
   ]
  },
  {
   "cell_type": "code",
   "execution_count": 64,
   "metadata": {
    "id": "If8PcF7Pls6H"
   },
   "outputs": [
    {
     "name": "stdout",
     "output_type": "stream",
     "text": [
      "X при a = -1\n"
     ]
    },
    {
     "data": {
      "text/latex": [
       "$\\displaystyle \\left[\\begin{matrix}- \\frac{41}{21}\\\\- \\frac{94}{21}\\\\\\frac{55}{7}\\end{matrix}\\right]$"
      ],
      "text/plain": [
       "Matrix([\n",
       "[-41/21],\n",
       "[-94/21],\n",
       "[  55/7]])"
      ]
     },
     "metadata": {},
     "output_type": "display_data"
    },
    {
     "name": "stdout",
     "output_type": "stream",
     "text": [
      "Проверка:\n"
     ]
    },
    {
     "data": {
      "text/latex": [
       "$\\displaystyle \\left[\\begin{matrix}0\\\\0\\\\0\\end{matrix}\\right]$"
      ],
      "text/plain": [
       "Matrix([\n",
       "[0],\n",
       "[0],\n",
       "[0]])"
      ]
     },
     "metadata": {},
     "output_type": "display_data"
    },
    {
     "name": "stdout",
     "output_type": "stream",
     "text": [
      "\n",
      "X при a = 0\n"
     ]
    },
    {
     "data": {
      "text/latex": [
       "$\\displaystyle \\left[\\begin{matrix}- \\frac{41}{26}\\\\- \\frac{7}{2}\\\\\\frac{175}{26}\\end{matrix}\\right]$"
      ],
      "text/plain": [
       "Matrix([\n",
       "[-41/26],\n",
       "[  -7/2],\n",
       "[175/26]])"
      ]
     },
     "metadata": {},
     "output_type": "display_data"
    },
    {
     "name": "stdout",
     "output_type": "stream",
     "text": [
      "Проверка:\n"
     ]
    },
    {
     "data": {
      "text/latex": [
       "$\\displaystyle \\left[\\begin{matrix}0\\\\0\\\\0\\end{matrix}\\right]$"
      ],
      "text/plain": [
       "Matrix([\n",
       "[0],\n",
       "[0],\n",
       "[0]])"
      ]
     },
     "metadata": {},
     "output_type": "display_data"
    },
    {
     "name": "stdout",
     "output_type": "stream",
     "text": [
      "\n",
      "X при a = 3\n"
     ]
    },
    {
     "data": {
      "text/latex": [
       "$\\displaystyle \\left[\\begin{matrix}-1\\\\-2\\\\5\\end{matrix}\\right]$"
      ],
      "text/plain": [
       "Matrix([\n",
       "[-1],\n",
       "[-2],\n",
       "[ 5]])"
      ]
     },
     "metadata": {},
     "output_type": "display_data"
    },
    {
     "name": "stdout",
     "output_type": "stream",
     "text": [
      "Проверка:\n"
     ]
    },
    {
     "data": {
      "text/latex": [
       "$\\displaystyle \\left[\\begin{matrix}0\\\\0\\\\0\\end{matrix}\\right]$"
      ],
      "text/plain": [
       "Matrix([\n",
       "[0],\n",
       "[0],\n",
       "[0]])"
      ]
     },
     "metadata": {},
     "output_type": "display_data"
    },
    {
     "name": "stdout",
     "output_type": "stream",
     "text": [
      "\n"
     ]
    }
   ],
   "source": [
    "def input_output(a):\n",
    "  el = Symbol('el')\n",
    "  A = Matrix([[el, 2, 0], [-4, 5, 3], [3, 0, 1]])\n",
    "  b = Matrix([-7, 9, 2])\n",
    "  A = A.subs(el, a)\n",
    "  Kramer(A, b)\n",
    "\n",
    "def Kramer(A, b):\n",
    "  n = A.shape[0]\n",
    "  X = []\n",
    "  for i in range(n):\n",
    "    Ai = A.copy()\n",
    "    Ai[:, i] = b\n",
    "    X += [Ai.det() / A.det()]\n",
    "  X = Matrix(X)\n",
    "  display(X)\n",
    "  print(\"Проверка:\")\n",
    "  display(A * X - b)\n",
    "\n",
    "a_list = [-1, 0, 3]\n",
    "\n",
    "for a in a_list:\n",
    "  print(f\"X при a = {a}\")\n",
    "  input_output(a)\n",
    "  print()"
   ]
  },
  {
   "cell_type": "markdown",
   "metadata": {
    "id": "1j4oEvAnls6I"
   },
   "source": [
    "### Задание 3.\n",
    "Решить по формулам Крамера СЛАУ с параметрами\n",
    "\\begin{align*}\n",
    "\\left\\{\\begin{matrix} x_{1} + a_{12} x_{2}  = b_1\n",
    "\\\\ x_{1} + a_{22} x_{2}  = b_2\n",
    "\\end{matrix}\\right.\n",
    "\\end{align*}\n",
    "Проверить правильность найденного решения подстановкой.\n",
    "\n",
    "Найти такие наборы параметров, для которых полученное решение неприменимо (подсказка - из-за деления на ноль).\n",
    "\n",
    "Показать, что для этих наборов определитель матрицы левой части равен нулю, использовать подстановки subs."
   ]
  },
  {
   "cell_type": "code",
   "execution_count": 65,
   "metadata": {
    "id": "RKG7l1ZWls6J"
   },
   "outputs": [
    {
     "name": "stdout",
     "output_type": "stream",
     "text": [
      "Ответ и проверка: \n"
     ]
    },
    {
     "data": {
      "text/latex": [
       "$\\displaystyle \\left[\\begin{matrix}\\frac{- a_{12} b_{2} + a_{22} b_{1}}{- a_{12} + a_{22}}\\\\\\frac{- b_{1} + b_{2}}{- a_{12} + a_{22}}\\end{matrix}\\right]$"
      ],
      "text/plain": [
       "Matrix([\n",
       "[(-a12*b2 + a22*b1)/(-a12 + a22)],\n",
       "[        (-b1 + b2)/(-a12 + a22)]])"
      ]
     },
     "metadata": {},
     "output_type": "display_data"
    },
    {
     "data": {
      "text/latex": [
       "$\\displaystyle \\left[\\begin{matrix}\\frac{a_{12} \\left(- b_{1} + b_{2}\\right)}{- a_{12} + a_{22}} - b_{1} + \\frac{- a_{12} b_{2} + a_{22} b_{1}}{- a_{12} + a_{22}}\\\\\\frac{a_{22} \\left(- b_{1} + b_{2}\\right)}{- a_{12} + a_{22}} - b_{2} + \\frac{- a_{12} b_{2} + a_{22} b_{1}}{- a_{12} + a_{22}}\\end{matrix}\\right]$"
      ],
      "text/plain": [
       "Matrix([\n",
       "[a12*(-b1 + b2)/(-a12 + a22) - b1 + (-a12*b2 + a22*b1)/(-a12 + a22)],\n",
       "[a22*(-b1 + b2)/(-a12 + a22) - b2 + (-a12*b2 + a22*b1)/(-a12 + a22)]])"
      ]
     },
     "metadata": {},
     "output_type": "display_data"
    },
    {
     "name": "stdout",
     "output_type": "stream",
     "text": [
      "\n",
      "все случаи, когда a12 == a22 (ф-ла Крамера справедливатолько для det != 0)\n"
     ]
    },
    {
     "data": {
      "text/latex": [
       "$\\displaystyle 0$"
      ],
      "text/plain": [
       "0"
      ]
     },
     "execution_count": 65,
     "metadata": {},
     "output_type": "execute_result"
    }
   ],
   "source": [
    "a12, a22 = symbols('a12 a22')\n",
    "A = Matrix([[1, a12], [1, a22]])\n",
    "b1, b2 = symbols('b1 b2')\n",
    "b = Matrix([b1, b2])\n",
    "n = A.shape[0]\n",
    "X = []\n",
    "for i in range(n):\n",
    "    Ai = A.copy()\n",
    "    Ai[:, i] = b\n",
    "    X += [Ai.det() / A.det()]\n",
    "X = Matrix(X)\n",
    "print(\"Ответ и проверка: \")\n",
    "display(X, A * X - b)\n",
    "print()\n",
    "print(\"все случаи, когда a12 == a22 (ф-ла Крамера справедлива\" +\n",
    "      \"только для det != 0)\")\n",
    "A = Matrix([[1, a12], [1, a22]])\n",
    "A = A.subs(a12, a22)\n",
    "A.det()"
   ]
  },
  {
   "cell_type": "markdown",
   "metadata": {
    "id": "nTha2fKels6K"
   },
   "source": [
    "### Задание 4.\n",
    "Дана матрица \n",
    "\\begin{align*}\n",
    "M =\n",
    "\\left(\\begin{matrix} \n",
    "p & 1 & 0 \\\\\n",
    "1 & q & 1 \\\\\n",
    "0 & 1 & r\n",
    "\\end{matrix}\\right)\n",
    "\\end{align*}\n",
    "Вычислить определитель этой матрицы.\n",
    "Найти целочисленные наборы параметров $p$, $q$, $r$, для которых определитель $M$ равен нулю. Рассматривать целые числа от 0 до 12 (НЕ включительно). Использовать подстановки subs в заранее вычисленный определитель.\n",
    "\n",
    "Из найденных наборов как столбцов составить матрицу."
   ]
  },
  {
   "cell_type": "code",
   "execution_count": 66,
   "metadata": {
    "id": "Ikt1crn5ls6L"
   },
   "outputs": [
    {
     "name": "stdout",
     "output_type": "stream",
     "text": [
      "определитель: \n"
     ]
    },
    {
     "data": {
      "text/latex": [
       "$\\displaystyle p q r - p - r$"
      ],
      "text/plain": [
       "p*q*r - p - r"
      ]
     },
     "metadata": {},
     "output_type": "display_data"
    },
    {
     "name": "stdout",
     "output_type": "stream",
     "text": [
      "\n",
      "Все наборы:\n"
     ]
    },
    {
     "data": {
      "text/latex": [
       "$\\displaystyle \\left[\\begin{matrix}1 & 2 & 1\\\\2 & 1 & 2\\end{matrix}\\right]$"
      ],
      "text/plain": [
       "Matrix([\n",
       "[1, 2, 1],\n",
       "[2, 1, 2]])"
      ]
     },
     "execution_count": 66,
     "metadata": {},
     "output_type": "execute_result"
    }
   ],
   "source": [
    "p, q, r = symbols('p q r')\n",
    "M = Matrix([[p, 1, 0], [1, q, 1], [0, 1, r]])\n",
    "print(\"определитель: \")\n",
    "display(M.det())\n",
    "result = []\n",
    "for p in range(1, 12):\n",
    "    for q in range(1, 12):\n",
    "        for r in range(1, 12):\n",
    "            M = Matrix([[p, 1, 0], [1, q, 1], [0, 1, r]])\n",
    "            if M.det() == 0:\n",
    "                result.append((p, q, r))\n",
    "result = Matrix(result)\n",
    "print(\"\\nВсе наборы:\")\n",
    "result"
   ]
  },
  {
   "cell_type": "markdown",
   "metadata": {
    "id": "UcfZfvUXls6L"
   },
   "source": [
    "### Индивидуальное задание.\n",
    "В данной матрице выполнить заданные подстановки,\n",
    "результат каждой подстановки выводить в виде отдельной матрицы."
   ]
  },
  {
   "cell_type": "code",
   "execution_count": 67,
   "metadata": {
    "id": "L0BAYI2jls6M"
   },
   "outputs": [
    {
     "data": {
      "text/latex": [
       "$\\displaystyle \\left[\\begin{matrix}z_{1} & -3 & 3 & -9 & -1\\\\-7 & -3 & z_{5} & 8 & -2\\\\z_{3} & 2 & -9 & z_{2} & -8\\\\-8 & z_{4} & -3 & -9 & 6\\end{matrix}\\right]$"
      ],
      "text/plain": [
       "Matrix([\n",
       "[z1, -3,  3, -9, -1],\n",
       "[-7, -3, z5,  8, -2],\n",
       "[z3,  2, -9, z2, -8],\n",
       "[-8, z4, -3, -9,  6]])"
      ]
     },
     "metadata": {},
     "output_type": "display_data"
    },
    {
     "name": "stdout",
     "output_type": "stream",
     "text": [
      "\n",
      "Подстановка 1\n"
     ]
    },
    {
     "data": {
      "text/latex": [
       "$\\displaystyle \\left[\\begin{matrix}6 & -3 & 3 & -9 & -1\\\\-7 & -3 & 6 & 8 & -2\\\\6 & 2 & -9 & 8 & -8\\\\-8 & 7 & -3 & -9 & 6\\end{matrix}\\right]$"
      ],
      "text/plain": [
       "Matrix([\n",
       "[ 6, -3,  3, -9, -1],\n",
       "[-7, -3,  6,  8, -2],\n",
       "[ 6,  2, -9,  8, -8],\n",
       "[-8,  7, -3, -9,  6]])"
      ]
     },
     "metadata": {},
     "output_type": "display_data"
    },
    {
     "name": "stdout",
     "output_type": "stream",
     "text": [
      "\n",
      "Подстановка 2\n"
     ]
    },
    {
     "data": {
      "text/latex": [
       "$\\displaystyle \\left[\\begin{matrix}9 & -3 & 3 & -9 & -1\\\\-7 & -3 & 6 & 8 & -2\\\\9 & 2 & -9 & 8 & -8\\\\-8 & 10 & -3 & -9 & 6\\end{matrix}\\right]$"
      ],
      "text/plain": [
       "Matrix([\n",
       "[ 9, -3,  3, -9, -1],\n",
       "[-7, -3,  6,  8, -2],\n",
       "[ 9,  2, -9,  8, -8],\n",
       "[-8, 10, -3, -9,  6]])"
      ]
     },
     "metadata": {},
     "output_type": "display_data"
    },
    {
     "name": "stdout",
     "output_type": "stream",
     "text": [
      "\n",
      "Подстановка 3\n"
     ]
    },
    {
     "data": {
      "text/latex": [
       "$\\displaystyle \\left[\\begin{matrix}9 & -3 & 3 & -9 & -1\\\\-7 & -3 & 9 & 8 & -2\\\\7 & 2 & -9 & 10 & -8\\\\-8 & 7 & -3 & -9 & 6\\end{matrix}\\right]$"
      ],
      "text/plain": [
       "Matrix([\n",
       "[ 9, -3,  3, -9, -1],\n",
       "[-7, -3,  9,  8, -2],\n",
       "[ 7,  2, -9, 10, -8],\n",
       "[-8,  7, -3, -9,  6]])"
      ]
     },
     "metadata": {},
     "output_type": "display_data"
    },
    {
     "name": "stdout",
     "output_type": "stream",
     "text": [
      "\n",
      "Подстановка 4\n"
     ]
    },
    {
     "data": {
      "text/latex": [
       "$\\displaystyle \\left[\\begin{matrix}8 & -3 & 3 & -9 & -1\\\\-7 & -3 & 8 & 8 & -2\\\\8 & 2 & -9 & 10 & -8\\\\-8 & 10 & -3 & -9 & 6\\end{matrix}\\right]$"
      ],
      "text/plain": [
       "Matrix([\n",
       "[ 8, -3,  3, -9, -1],\n",
       "[-7, -3,  8,  8, -2],\n",
       "[ 8,  2, -9, 10, -8],\n",
       "[-8, 10, -3, -9,  6]])"
      ]
     },
     "metadata": {},
     "output_type": "display_data"
    }
   ],
   "source": [
    "# Вариант №157\n",
    "z1, z2, z3, z4, z5 = symbols('z1 z2 z3 z4 z5')\n",
    "M = Matrix([[z1, -3, 3, -9, -1], [-7, -3, z5, 8, -2], [z3, 2, -9, z2, -8], [-8, z4, -3, -9, 6]])\n",
    "display(M)\n",
    "print(\"\\nПодстановка 1\")\n",
    "display(M.subs({z1:6, z2:8, z3:6, z4:7, z5:6}, simultaneous=True))\n",
    "\n",
    "print(\"\\nПодстановка 2\")\n",
    "display(M.subs({z1:9, z2:8, z3:9, z4:10, z5:6}, simultaneous=True))\n",
    "\n",
    "print(\"\\nПодстановка 3\")\n",
    "display(M.subs({z1:9, z2:10, z3:7, z4:7, z5:9}, simultaneous=True))\n",
    "\n",
    "print(\"\\nПодстановка 4\")\n",
    "display(M.subs({z1:8, z2:10, z3:8, z4:10, z5:8}, simultaneous=True))"
   ]
  },
  {
   "cell_type": "markdown",
   "metadata": {},
   "source": [
    "Хорасанджян Левон, вариант №157"
   ]
  }
 ],
 "metadata": {
  "colab": {
   "collapsed_sections": [],
   "name": "Alg_2_2021_22_tasks.ipynb",
   "provenance": []
  },
  "kernelspec": {
   "display_name": "Python 3",
   "language": "python",
   "name": "python3"
  },
  "language_info": {
   "codemirror_mode": {
    "name": "ipython",
    "version": 3
   },
   "file_extension": ".py",
   "mimetype": "text/x-python",
   "name": "python",
   "nbconvert_exporter": "python",
   "pygments_lexer": "ipython3",
   "version": "3.8.8"
  }
 },
 "nbformat": 4,
 "nbformat_minor": 1
}
