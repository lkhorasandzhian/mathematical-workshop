{
 "cells": [
  {
   "cell_type": "code",
   "execution_count": 1,
   "metadata": {
    "id": "BQ-uTnJuCclQ"
   },
   "outputs": [],
   "source": [
    "import sympy\n",
    "from sympy import  Matrix, symbols\n",
    "from sympy import sin as Sin\n",
    "from sympy import cos as Cos\n",
    "from sympy import pi as Pi\n",
    "from sympy.vector import CoordSys3D, Vector, matrix_to_vector, AxisOrienter, express\n",
    "from IPython.display import Math, Pretty\n",
    "\n",
    "from sympy import simplify, Symbol"
   ]
  },
  {
   "cell_type": "markdown",
   "metadata": {
    "id": "HaZ4p6ZaCclc"
   },
   "source": [
    "# Практическое занятие 11\n",
    "# Компьютерный практикум по алгебре на Python\n",
    "## Векторы\n",
    "### Задание 1.\n",
    "Задать систему координат с именем '1'. \n",
    "Найти скалярное и векторное произведение векторов $a(-\\cos(\\pi/4), \\sin(\\pi/3), 1)$ и $b(2, -1, 3)$."
   ]
  },
  {
   "cell_type": "code",
   "execution_count": 2,
   "metadata": {
    "colab": {
     "base_uri": "https://localhost:8080/",
     "height": 78
    },
    "id": "8dHHgwogUEaO",
    "outputId": "85970199-d3f6-42be-87bc-891881c80a87"
   },
   "outputs": [
    {
     "data": {
      "text/latex": [
       "$$Координатная\\ система\\ 1: CoordSys3D\\left(1, \\left( \\left[\\begin{matrix}1 & 0 & 0\\\\0 & 1 & 0\\\\0 & 0 & 1\\end{matrix}\\right], \\  \\mathbf{\\hat{0}}\\right)\\right)$$"
      ],
      "text/plain": [
       "<IPython.core.display.Math object>"
      ]
     },
     "metadata": {},
     "output_type": "display_data"
    }
   ],
   "source": [
    "from sympy.vector import CoordSys3D\n",
    "N = CoordSys3D('1')\n",
    "display(Math(f'Координатная\\ система\\ 1: {sympy.latex(N)}'))"
   ]
  },
  {
   "cell_type": "code",
   "execution_count": 3,
   "metadata": {
    "colab": {
     "base_uri": "https://localhost:8080/",
     "height": 39
    },
    "id": "yXbEx-2cY3jW",
    "outputId": "0809f1b9-8779-483c-edfb-13897f07590e"
   },
   "outputs": [
    {
     "data": {
      "text/latex": [
       "$$N.i: \\mathbf{\\hat{i}_{1}}, N.j: \\mathbf{\\hat{j}_{1}}, N.k: \\mathbf{\\hat{k}_{1}}, 2 * N.i + 3 * N.j - 5 * N.k: (2)\\mathbf{\\hat{i}_{1}} + (3)\\mathbf{\\hat{j}_{1}} + (-5)\\mathbf{\\hat{k}_{1}}$$"
      ],
      "text/plain": [
       "<IPython.core.display.Math object>"
      ]
     },
     "metadata": {},
     "output_type": "display_data"
    }
   ],
   "source": [
    "display(Math('N.i: {}, N.j: {}, N.k: {}, 2 * N.i + 3 * N.j - 5 * N.k: {}'.format(*[sympy.latex(item) for item in (N.i, N.j, N.k, 2 * N.i + 3 * N.j - 5 * N.k)])))"
   ]
  },
  {
   "cell_type": "code",
   "execution_count": 4,
   "metadata": {
    "colab": {
     "base_uri": "https://localhost:8080/",
     "height": 86
    },
    "id": "GPkI_B1zZH2E",
    "outputId": "53c462e9-1ed3-4247-d347-017ddfdadf30"
   },
   "outputs": [
    {
     "data": {
      "text/latex": [
       "$$a = (- \\frac{\\sqrt{2}}{2})\\mathbf{\\hat{i}_{1}} + (\\frac{\\sqrt{3}}{2})\\mathbf{\\hat{j}_{1}} + \\mathbf{\\hat{k}_{1}}, b = (2)\\mathbf{\\hat{i}_{1}} - \\mathbf{\\hat{j}_{1}} + (3)\\mathbf{\\hat{k}_{1}}$$"
      ],
      "text/plain": [
       "<IPython.core.display.Math object>"
      ]
     },
     "metadata": {},
     "output_type": "display_data"
    },
    {
     "data": {
      "text/latex": [
       "$$a.dot(b) = - \\sqrt{2} - \\frac{\\sqrt{3}}{2} + 3, a.cross(b) = (1 + \\frac{3 \\sqrt{3}}{2})\\mathbf{\\hat{i}_{1}} + (2 + \\frac{3 \\sqrt{2}}{2})\\mathbf{\\hat{j}_{1}} + (- \\sqrt{3} + \\frac{\\sqrt{2}}{2})\\mathbf{\\hat{k}_{1}}, b.cross(a) = (- \\frac{3 \\sqrt{3}}{2} - 1)\\mathbf{\\hat{i}_{1}} + (- \\frac{3 \\sqrt{2}}{2} - 2)\\mathbf{\\hat{j}_{1}} + (- \\frac{\\sqrt{2}}{2} + \\sqrt{3})\\mathbf{\\hat{k}_{1}}$$"
      ],
      "text/plain": [
       "<IPython.core.display.Math object>"
      ]
     },
     "metadata": {},
     "output_type": "display_data"
    }
   ],
   "source": [
    "a = -Cos(Pi/4) * N.i + Sin(Pi/3) * N.j + 1 * N.k\n",
    "b = 2 * N.i - 1 * N.j + 3 * N.k\n",
    "display(Math('a = {}, b = {}'.format(*[sympy.latex(item) for item in (a, b)])))\n",
    "display(Math('a.dot(b) = {}, a.cross(b) = {}, b.cross(a) = {}'.format(*[sympy.latex(item) for item in (a.dot(b), a.cross(b), b.cross(a))])))"
   ]
  },
  {
   "cell_type": "markdown",
   "metadata": {
    "id": "B8Je98zJCclg"
   },
   "source": [
    "### Задание 2\n",
    "Ввести безымянную систему координат M и символы $p$ и $q$.\n",
    "Вычислить $((v + u)\\cdot(v - u)) + (((2v + u)\\times(v - 3u))\\cdot(2v - 3u)) - ((3v - 2u)\\cdot((5v - u)\\times(- u)))$, $u(q, -p, q + p)$, $v(p, 2p - q, 1)$. Скалярное произведение обозначено $\\cdot$, векторное $\\times$.\n",
    "Использовать  & и ^, скобки расставить как в условии, поскольку приоритет у & и ^ ниже, чем у + и -. Упростить полученное выражение."
   ]
  },
  {
   "cell_type": "code",
   "execution_count": 5,
   "metadata": {
    "colab": {
     "base_uri": "https://localhost:8080/",
     "height": 39
    },
    "id": "6u1jSBgSUGXL",
    "outputId": "0a75a324-5bf8-4a80-b4cc-59a7b6fa103e"
   },
   "outputs": [
    {
     "data": {
      "text/latex": [
       "$$M.i = \\mathbf{\\hat{i}_{}}, M.j = \\mathbf{\\hat{j}_{}}, M.k = \\mathbf{\\hat{k}_{}}, 2  M.i + 3  M.j - 5  M.k = (2)\\mathbf{\\hat{i}_{}} + (3)\\mathbf{\\hat{j}_{}} + (-5)\\mathbf{\\hat{k}_{}}$$"
      ],
      "text/plain": [
       "<IPython.core.display.Math object>"
      ]
     },
     "metadata": {},
     "output_type": "display_data"
    }
   ],
   "source": [
    "M = CoordSys3D('')\n",
    "display(Math('M.i = {}, M.j = {}, M.k = {}, 2  M.i + 3  M.j - 5  M.k = {}'.format(*[sympy.latex(item) for item in (M.i, M.j, M.k, 2 * M.i + 3 * M.j - 5 * M.k)])))"
   ]
  },
  {
   "cell_type": "code",
   "execution_count": 6,
   "metadata": {
    "colab": {
     "base_uri": "https://localhost:8080/",
     "height": 39
    },
    "id": "rE5BMHD-cFb1",
    "outputId": "4704c518-4474-4eef-b61f-ce456bd00415"
   },
   "outputs": [
    {
     "data": {
      "text/latex": [
       "$$((v + u) \\& (v - u)) + (((2v + u) ^ (v - 3u)) \\& (2v - 3u)) - ((3v - 2u) \\& ((5v - u) ^ (- u))) = 3 p^{2} - 6 p q - q^{2} + 1$$"
      ],
      "text/plain": [
       "<IPython.core.display.Math object>"
      ]
     },
     "metadata": {},
     "output_type": "display_data"
    }
   ],
   "source": [
    "q, p = symbols('q p')\n",
    "u = q * M.i - p * M.j + (q + p) * M.k\n",
    "v = p * M.i + (2*p - q) * M.j + 1 * M.k\n",
    "display(Math(f'((v + u) \\& (v - u)) + (((2v + u) ^ (v - 3u)) \\& (2v - 3u)) - ((3v - 2u) \\& ((5v - u) ^ (- u))) = ' +\n",
    "sympy.latex(simplify(((v + u) & (v - u)) + (((2*v + u) ^ (v - 3*u)) & (2*v - 3*u)) - ((3*v - 2*u) & ((5*v - u) ^ (-u)))))))"
   ]
  },
  {
   "cell_type": "markdown",
   "metadata": {
    "id": "5M-6y40TCclh"
   },
   "source": [
    "### Задание 3\n",
    "Упростить вектор $g(-2p^2 + 5pq - 3q^2, \\cos(q) + 2\\sin(q - \\pi/2), \\sin^2(p) - \\cos^2(p))$.\n",
    "Вывести на экран координаты упрощенного вектора, его длину и проекции на координатные оси"
   ]
  },
  {
   "cell_type": "code",
   "execution_count": 7,
   "metadata": {
    "colab": {
     "base_uri": "https://localhost:8080/",
     "height": 237
    },
    "id": "pMM3qEUTUH56",
    "outputId": "6e0218e8-def2-4743-8d3b-bf46250f3db3"
   },
   "outputs": [
    {
     "name": "stdout",
     "output_type": "stream",
     "text": [
      "\n"
     ]
    },
    {
     "data": {
      "text/latex": [
       "$$g.components = \\left\\{ \\mathbf{\\hat{i}_{}} : - \\left(p - q\\right) \\left(2 p - 3 q\\right), \\  \\mathbf{\\hat{j}_{}} : - \\cos{\\left(q \\right)}, \\  \\mathbf{\\hat{k}_{}} : - \\cos{\\left(2 p \\right)}\\right\\}$$"
      ],
      "text/plain": [
       "<IPython.core.display.Math object>"
      ]
     },
     "metadata": {},
     "output_type": "display_data"
    },
    {
     "name": "stdout",
     "output_type": "stream",
     "text": [
      "\n"
     ]
    },
    {
     "data": {
      "text/latex": [
       "$\\displaystyle \\sqrt{\\left(p - q\\right)^{2} \\left(2 p - 3 q\\right)^{2} + \\cos^{2}{\\left(2 p \\right)} + \\cos^{2}{\\left(q \\right)}}$"
      ],
      "text/plain": [
       "sqrt((p - q)**2*(2*p - 3*q)**2 + cos(2*p)**2 + cos(q)**2)"
      ]
     },
     "metadata": {},
     "output_type": "display_data"
    },
    {
     "name": "stdout",
     "output_type": "stream",
     "text": [
      "\n"
     ]
    },
    {
     "data": {
      "text/latex": [
       "$\\displaystyle (- \\left(p - q\\right) \\left(2 p - 3 q\\right))\\mathbf{\\hat{i}_{}}$"
      ],
      "text/plain": [
       "(-(p - q)*(2*p - 3*q))*.i"
      ]
     },
     "metadata": {},
     "output_type": "display_data"
    },
    {
     "name": "stdout",
     "output_type": "stream",
     "text": [
      "\n"
     ]
    },
    {
     "data": {
      "text/latex": [
       "$\\displaystyle (- \\cos{\\left(q \\right)})\\mathbf{\\hat{j}_{}}$"
      ],
      "text/plain": [
       "(-cos(q))*.j"
      ]
     },
     "metadata": {},
     "output_type": "display_data"
    },
    {
     "name": "stdout",
     "output_type": "stream",
     "text": [
      "\n"
     ]
    },
    {
     "data": {
      "text/latex": [
       "$\\displaystyle (- \\cos{\\left(2 p \\right)})\\mathbf{\\hat{k}_{}}$"
      ],
      "text/plain": [
       "(-cos(2*p))*.k"
      ]
     },
     "metadata": {},
     "output_type": "display_data"
    }
   ],
   "source": [
    "from sympy.abc import p, q\n",
    "g = (-2 * p**2 + 5*p*q - 3 * q**2) * M.i + (Cos(q) + 2 * Sin(q -  Pi/2)) * M.j +(Sin(p)**2 - Cos(p) ** 2) * M.k\n",
    "g = g.factor().trigsimp()\n",
    "print()\n",
    "display(Math(f'g.components = {sympy.latex(g.components)}'))\n",
    "print()\n",
    "display(g.magnitude())\n",
    "print()\n",
    "display(M.i.projection(g))\n",
    "print()\n",
    "display(M.j.projection(g))\n",
    "print()\n",
    "display(M.k.projection(g))"
   ]
  },
  {
   "cell_type": "markdown",
   "metadata": {
    "id": "nOqai9ifCclj"
   },
   "source": [
    "### Задание  4\n",
    "Преобразовать матрицу $\\left(\\begin{matrix}-q\\\\ p\\\\ q + p\\end{matrix}\\right)$ в вектор в системе координат из Заданий 1 и 2."
   ]
  },
  {
   "cell_type": "code",
   "execution_count": 8,
   "metadata": {
    "colab": {
     "base_uri": "https://localhost:8080/",
     "height": 98
    },
    "id": "AGOQ9AcTUJQZ",
    "outputId": "1ee40b88-d0eb-4ce6-a71e-41565ae73629"
   },
   "outputs": [
    {
     "data": {
      "text/plain": [
       "вектор b в системе координат N"
      ]
     },
     "metadata": {},
     "output_type": "display_data"
    },
    {
     "data": {
      "text/latex": [
       "$\\displaystyle (- q)\\mathbf{\\hat{i}_{1}} + (p)\\mathbf{\\hat{j}_{1}} + (p + q)\\mathbf{\\hat{k}_{1}}$"
      ],
      "text/plain": [
       "(-q)*1.i + p*1.j + (p + q)*1.k"
      ]
     },
     "metadata": {},
     "output_type": "display_data"
    },
    {
     "data": {
      "text/plain": [
       "вектор b в системе координат M"
      ]
     },
     "metadata": {},
     "output_type": "display_data"
    },
    {
     "data": {
      "text/latex": [
       "$\\displaystyle (- q)\\mathbf{\\hat{i}_{}} + (p)\\mathbf{\\hat{j}_{}} + (p + q)\\mathbf{\\hat{k}_{}}$"
      ],
      "text/plain": [
       "(-q)*.i + p*.j + (p + q)*.k"
      ]
     },
     "metadata": {},
     "output_type": "display_data"
    }
   ],
   "source": [
    "p, q = symbols('p q')\n",
    "b = Matrix([-q, p, q + p])\n",
    "display(Pretty('вектор b в системе координат N'),\n",
    "        matrix_to_vector(b, N),\n",
    "        Pretty('вектор b в системе координат M'),\n",
    "        matrix_to_vector(b, M))"
   ]
  },
  {
   "cell_type": "markdown",
   "metadata": {
    "id": "hfKN73PnCclj"
   },
   "source": [
    "### Задание 5.\n",
    "Ввести новую систему координат S5, которая получается поворотом системы координат M из Задания 2 на угол $\\pi/4$ относительно оси $j$ по часовой стрелке.\n",
    "Определить вектор b5 на основе матрицы из Задания 4 в соответствии с системой координат M, затем получить представление в матричном виде вектора b5_S5 в системе координат S5.  Вывести на экран матрицу поворота, вектор b5 в системе координат M  и S5."
   ]
  },
  {
   "cell_type": "code",
   "execution_count": 9,
   "metadata": {
    "colab": {
     "base_uri": "https://localhost:8080/",
     "height": 149
    },
    "id": "Fg1h3t13UKpx",
    "outputId": "7e37bd55-67f8-4d77-f569-47b9844a244b"
   },
   "outputs": [
    {
     "data": {
      "text/latex": [
       "$\\displaystyle \\left[\\begin{matrix}\\frac{\\sqrt{2}}{2} & 0 & - \\frac{\\sqrt{2}}{2}\\\\0 & 1 & 0\\\\\\frac{\\sqrt{2}}{2} & 0 & \\frac{\\sqrt{2}}{2}\\end{matrix}\\right]$"
      ],
      "text/plain": [
       "Matrix([\n",
       "[sqrt(2)/2, 0, -sqrt(2)/2],\n",
       "[        0, 1,          0],\n",
       "[sqrt(2)/2, 0,  sqrt(2)/2]])"
      ]
     },
     "metadata": {},
     "output_type": "display_data"
    },
    {
     "data": {
      "text/latex": [
       "$\\displaystyle (- q)\\mathbf{\\hat{i}_{}} + (p)\\mathbf{\\hat{j}_{}} + (p + q)\\mathbf{\\hat{k}_{}}$"
      ],
      "text/plain": [
       "(-q)*.i + p*.j + (p + q)*.k"
      ]
     },
     "metadata": {},
     "output_type": "display_data"
    },
    {
     "data": {
      "text/latex": [
       "$\\displaystyle (- \\frac{\\sqrt{2} q}{2} + \\frac{\\sqrt{2} \\left(p + q\\right)}{2})\\mathbf{\\hat{i}_{S5}} + (p)\\mathbf{\\hat{j}_{S5}} + (\\frac{\\sqrt{2} q}{2} + \\frac{\\sqrt{2} \\left(p + q\\right)}{2})\\mathbf{\\hat{k}_{S5}}$"
      ],
      "text/plain": [
       "(-sqrt(2)*q/2 + sqrt(2)*(p + q)/2)*S5.i + p*S5.j + (sqrt(2)*q/2 + sqrt(2)*(p + q)/2)*S5.k"
      ]
     },
     "metadata": {},
     "output_type": "display_data"
    }
   ],
   "source": [
    "S5 = M.orient_new_axis(\"S5\", -sympy.pi/4, M.j)\n",
    "\n",
    "R_Matrix = M.rotation_matrix(S5)\n",
    "\n",
    "b5_Vector = matrix_to_vector(b, M)\n",
    "\n",
    "b5_s5_Matrix = b5_Vector.to_matrix(S5)\n",
    "b5_s5_Vector = matrix_to_vector(b5_s5_Matrix, S5)\n",
    "\n",
    "display(R_Matrix, b5_Vector, b5_s5_Vector)"
   ]
  },
  {
   "cell_type": "markdown",
   "metadata": {
    "id": "wsupzWmVCclk"
   },
   "source": [
    "### Задание 6.\n",
    "Повернуть систему координат  M  из Задания 2 на $\\pi/4$ по часовой стрелке относительно оси, определяемой вектором $(1, -1, 0)$. Выразить вектор b5 в новой системе координат."
   ]
  },
  {
   "cell_type": "code",
   "execution_count": 10,
   "metadata": {
    "colab": {
     "base_uri": "https://localhost:8080/",
     "height": 55
    },
    "id": "Y-2_dVjlULux",
    "outputId": "58dc3904-debf-4044-9d1b-df85b3d6259a"
   },
   "outputs": [
    {
     "data": {
      "text/latex": [
       "$\\displaystyle (- p + \\frac{\\sqrt{2} p}{4} - q - \\frac{\\sqrt{2} q}{4})\\mathbf{\\hat{i}_{NS}} + (\\frac{\\sqrt{2} \\left(p - q\\right)}{4})\\mathbf{\\hat{j}_{NS}} + (\\frac{p}{2} - \\frac{q}{2} + \\frac{\\sqrt{2} \\left(p + q\\right)}{2})\\mathbf{\\hat{k}_{NS}}$"
      ],
      "text/plain": [
       "(-p + sqrt(2)*p/4 - q - sqrt(2)*q/4)*NS.i + (sqrt(2)*(p - q)/4)*NS.j + (p/2 - q/2 + sqrt(2)*(p + q)/2)*NS.k"
      ]
     },
     "execution_count": 10,
     "metadata": {},
     "output_type": "execute_result"
    }
   ],
   "source": [
    "new_system = M.orient_new_axis(\"NS\", -sympy.pi/4, M.i - M.j)\n",
    "b5_NS_Matrix = b5_Vector.to_matrix(new_system)\n",
    "b5_NS_Vector = matrix_to_vector(b5_NS_Matrix, new_system)\n",
    "b5_NS_Vector = b5_NS_Vector.simplify()\n",
    "b5_NS_Vector"
   ]
  },
  {
   "cell_type": "markdown",
   "metadata": {
    "id": "LVIOHcc0Ccll"
   },
   "source": [
    "### Индивидуальное задание.\n",
    "Ввести безымянную систему координат XYZ, задать в ней векторы $v_1(-2, 6, a)$ и $v_2(2a, -1, 1)$. Построить новую систему координат XYZ1 с именем Name поворотом  XYZ на $\\pi/3$ против часовой стрелки относительно оси, определяемой вектором $(\\sqrt{3}, 1, 0)$, выразить векторы $v_1$ и $v_2$ в новой системе координат. Найти скалярное и векторное произведение векторов в новой и старой системе координат. Выразить вектор, равный векторному произведению $v_1$ и $v_2$ в старой системе координат через новую систему координат, сравнить с векторным произведением $v_1$ и $v_2$, выраженных в новой системе координат."
   ]
  },
  {
   "cell_type": "markdown",
   "metadata": {
    "id": "sEyKWoQ7pvB1"
   },
   "source": [
    "ДАНО:\n",
    " $v_1 = (-6)\\mathbf{\\hat{i}_{}} + (-9)\\mathbf{\\hat{j}_{}} + (-2)\\mathbf{\\hat{k}_{}}$, $v_2 = (-7)\\mathbf{\\hat{i}_{}} + (2)\\mathbf{\\hat{j}_{}} + (4)\\mathbf{\\hat{k}_{}}$, Name = 7, угол поворота $3 \\pi / 2$, ось $(-2)\\mathbf{\\hat{i}_{}} + (-6)\\mathbf{\\hat{j}_{}}$"
   ]
  },
  {
   "cell_type": "code",
   "execution_count": 11,
   "metadata": {
    "colab": {
     "base_uri": "https://localhost:8080/",
     "height": 120
    },
    "id": "VYZKk5WdUNNa",
    "outputId": "ae1f3b16-bbdc-4dd0-fddc-35b545f6b561"
   },
   "outputs": [
    {
     "data": {
      "text/latex": [
       "$\\displaystyle CoordSys3D\\left(, \\left( \\left[\\begin{matrix}1 & 0 & 0\\\\0 & 1 & 0\\\\0 & 0 & 1\\end{matrix}\\right], \\  \\mathbf{\\hat{0}}\\right)\\right)$"
      ],
      "text/plain": []
     },
     "metadata": {},
     "output_type": "display_data"
    },
    {
     "data": {
      "text/latex": [
       "$\\displaystyle (-6)\\mathbf{\\hat{i}_{}} + (-9)\\mathbf{\\hat{j}_{}} + (-2)\\mathbf{\\hat{k}_{}}$"
      ],
      "text/plain": [
       "(-6)*.i + (-9)*.j + (-2)*.k"
      ]
     },
     "metadata": {},
     "output_type": "display_data"
    },
    {
     "data": {
      "text/latex": [
       "$\\displaystyle (-7)\\mathbf{\\hat{i}_{}} + (2)\\mathbf{\\hat{j}_{}} + (4)\\mathbf{\\hat{k}_{}}$"
      ],
      "text/plain": [
       "(-7)*.i + 2*.j + 4*.k"
      ]
     },
     "metadata": {},
     "output_type": "display_data"
    }
   ],
   "source": [
    "XYZ = CoordSys3D('')\n",
    "\n",
    "v1_old = -6 * XYZ.i - 9 * XYZ.j - 2 * XYZ.k\n",
    "v2_old = -7 * XYZ.i + 2 * XYZ.j + 4 * XYZ.k\n",
    "\n",
    "display(XYZ, v1_old, v2_old)"
   ]
  },
  {
   "cell_type": "code",
   "execution_count": 12,
   "metadata": {
    "colab": {
     "base_uri": "https://localhost:8080/",
     "height": 77
    },
    "id": "BLChH77okifU",
    "outputId": "1430459f-22f3-4305-99af-862a2c3cfe93"
   },
   "outputs": [
    {
     "data": {
      "text/latex": [
       "$\\displaystyle (-3 + \\sqrt{3})\\mathbf{\\hat{i}_{7}} + (-9)\\mathbf{\\hat{j}_{7}} + (- 3 \\sqrt{3} - 1)\\mathbf{\\hat{k}_{7}}$"
      ],
      "text/plain": [
       "(-3 + sqrt(3))*7.i + (-9)*7.j + (-3*sqrt(3) - 1)*7.k"
      ]
     },
     "metadata": {},
     "output_type": "display_data"
    },
    {
     "data": {
      "text/latex": [
       "$\\displaystyle (- \\frac{7}{2} - 2 \\sqrt{3})\\mathbf{\\hat{i}_{7}} + (2)\\mathbf{\\hat{j}_{7}} + (2 - \\frac{7 \\sqrt{3}}{2})\\mathbf{\\hat{k}_{7}}$"
      ],
      "text/plain": [
       "(-7/2 - 2*sqrt(3))*7.i + 2*7.j + (2 - 7*sqrt(3)/2)*7.k"
      ]
     },
     "metadata": {},
     "output_type": "display_data"
    }
   ],
   "source": [
    "XYZ1 = XYZ.orient_new_axis(\"7\", sympy.pi/3, M.j, -2 * XYZ.i - 6 * XYZ.j)\n",
    "\n",
    "v1_new = matrix_to_vector(v1_old.to_matrix(XYZ1), XYZ1)\n",
    "v2_new = matrix_to_vector(v2_old.to_matrix(XYZ1), XYZ1)\n",
    "\n",
    "display(v1_new, v2_new)"
   ]
  },
  {
   "cell_type": "code",
   "execution_count": 13,
   "metadata": {
    "colab": {
     "base_uri": "https://localhost:8080/",
     "height": 115
    },
    "id": "nm4onBJ1sBQX",
    "outputId": "d40f367e-a9ab-4873-d209-3a851ce2d84d"
   },
   "outputs": [
    {
     "data": {
      "text/latex": [
       "$$Скалярное произведение v1_old & v2_old = 16$$"
      ],
      "text/plain": [
       "<IPython.core.display.Math object>"
      ]
     },
     "metadata": {},
     "output_type": "display_data"
    },
    {
     "data": {
      "text/latex": [
       "$$\\mathtt{\\text{Векторное произведение v1\\_old \\textasciicircum v2\\_old}} = (-32)\\mathbf{\\hat{i}_{}} + (38)\\mathbf{\\hat{j}_{}} + (-75)\\mathbf{\\hat{k}_{}}$$"
      ],
      "text/plain": [
       "<IPython.core.display.Math object>"
      ]
     },
     "metadata": {},
     "output_type": "display_data"
    },
    {
     "name": "stdout",
     "output_type": "stream",
     "text": [
      "\n"
     ]
    },
    {
     "data": {
      "text/latex": [
       "$$Скалярное произведение v1_new & v2_new = 16$$"
      ],
      "text/plain": [
       "<IPython.core.display.Math object>"
      ]
     },
     "metadata": {},
     "output_type": "display_data"
    },
    {
     "data": {
      "text/latex": [
       "$$\\mathtt{\\text{Векторное произведение v1\\_new \\textasciicircum v2\\_new}} = (-16 + \\frac{75 \\sqrt{3}}{2})\\mathbf{\\hat{i}_{7}} + (38)\\mathbf{\\hat{j}_{7}} + (- \\frac{75}{2} - 16 \\sqrt{3})\\mathbf{\\hat{k}_{7}}$$"
      ],
      "text/plain": [
       "<IPython.core.display.Math object>"
      ]
     },
     "metadata": {},
     "output_type": "display_data"
    }
   ],
   "source": [
    "display(Math(f'Скалярное произведение v1_old & v2_old = {sympy.latex(simplify(v1_old & v2_old))}'), Math(f'{sympy.latex(\"Векторное произведение v1_old ^ v2_old\")} = {sympy.latex(simplify(v1_old ^ v2_old))}'))\n",
    "print()\n",
    "display(Math(f'Скалярное произведение v1_new & v2_new = {sympy.latex(simplify(v1_new & v2_new))}'), Math(f'{sympy.latex(\"Векторное произведение v1_new ^ v2_new\")} = {sympy.latex(simplify(v1_new ^ v2_new))}'))"
   ]
  },
  {
   "cell_type": "code",
   "execution_count": 14,
   "metadata": {
    "colab": {
     "base_uri": "https://localhost:8080/",
     "height": 133
    },
    "id": "GxWjzPqrwqoi",
    "outputId": "dd48727a-1575-4d00-879d-cfef50061137"
   },
   "outputs": [
    {
     "data": {
      "text/latex": [
       "$\\displaystyle (-32)\\mathbf{\\hat{i}_{}} + (38)\\mathbf{\\hat{j}_{}} + (-75)\\mathbf{\\hat{k}_{}}$"
      ],
      "text/plain": [
       "(-32)*.i + 38*.j + (-75)*.k"
      ]
     },
     "metadata": {},
     "output_type": "display_data"
    },
    {
     "data": {
      "text/latex": [
       "$\\displaystyle (-16 + \\frac{75 \\sqrt{3}}{2})\\mathbf{\\hat{i}_{7}} + (38)\\mathbf{\\hat{j}_{7}} + (- \\frac{75}{2} - 16 \\sqrt{3})\\mathbf{\\hat{k}_{7}}$"
      ],
      "text/plain": [
       "(-16 + 75*sqrt(3)/2)*7.i + 38*7.j + (-75/2 - 16*sqrt(3))*7.k"
      ]
     },
     "metadata": {},
     "output_type": "display_data"
    },
    {
     "name": "stdout",
     "output_type": "stream",
     "text": [
      "сравниваем с...\n"
     ]
    },
    {
     "data": {
      "text/latex": [
       "$\\displaystyle (-16 + \\frac{75 \\sqrt{3}}{2})\\mathbf{\\hat{i}_{7}} + (38)\\mathbf{\\hat{j}_{7}} + (- \\frac{75}{2} - 16 \\sqrt{3})\\mathbf{\\hat{k}_{7}}$"
      ],
      "text/plain": [
       "(-16 + 75*sqrt(3)/2)*7.i + 38*7.j + (-75/2 - 16*sqrt(3))*7.k"
      ]
     },
     "metadata": {},
     "output_type": "display_data"
    }
   ],
   "source": [
    "old_multiplication_old_SK_Vector = simplify(v1_old ^ v2_old)  # векторное произведение пока ещё в старой С. К. (состояние - вектор)\n",
    "old_multiplication_new_SK_Matrix = old_multiplication_old_SK_Vector.to_matrix(XYZ1)  # векторное произведение уже в новой С. К. (состояние - матрица)\n",
    "old_multiplication_new_SK_Vector = matrix_to_vector(old_multiplication_new_SK_Matrix, XYZ1)  # векторное произведение уже в новой С. К. (состояние - вектор)\n",
    "display(old_multiplication_old_SK_Vector, old_multiplication_new_SK_Vector)\n",
    "print(\"сравниваем с...\")\n",
    "display(simplify(v1_new ^ v2_new))"
   ]
  },
  {
   "cell_type": "markdown",
   "metadata": {
    "id": "5D5J_eyCytx5"
   },
   "source": [
    "Вывод: выражения идентичны!"
   ]
  },
  {
   "cell_type": "markdown",
   "metadata": {
    "id": "3HlHQ8FFjrKK"
   },
   "source": [
    "Хорасанджян Левон, вариант №157"
   ]
  }
 ],
 "metadata": {
  "colab": {
   "collapsed_sections": [],
   "name": "ХорасанджянЛР11.ipynb",
   "provenance": []
  },
  "kernelspec": {
   "display_name": "Python 3",
   "language": "python",
   "name": "python3"
  },
  "language_info": {
   "codemirror_mode": {
    "name": "ipython",
    "version": 3
   },
   "file_extension": ".py",
   "mimetype": "text/x-python",
   "name": "python",
   "nbconvert_exporter": "python",
   "pygments_lexer": "ipython3",
   "version": "3.8.8"
  }
 },
 "nbformat": 4,
 "nbformat_minor": 1
}
