{
 "cells": [
  {
   "cell_type": "code",
   "execution_count": 4,
   "metadata": {
    "id": "8eFsGTqm2yYh"
   },
   "outputs": [],
   "source": [
    "import sympy\n",
    "from sympy import  Point, Line, Plane, Point3D, solve, solveset\n",
    "from sympy import *"
   ]
  },
  {
   "cell_type": "markdown",
   "metadata": {
    "id": "QsFfXQQN2yYq"
   },
   "source": [
    "# Практическое занятие 7\n",
    "# Компьютерный практикум по алгебре на Python\n",
    "https://docs.sympy.org/latest/search.html?q=geometry\n",
    "\n",
    "## Прямые и плоскости в пространстве. Модуль Geometry\n",
    "### Задание 1.\n",
    "Даны точки: $A(3, -2, 3)$,  $B(-2, 3, 1)$, $C(1, -8, 6)$, $D(1, 2, 4)$, $F(-7, 8, -1)$.\n",
    "\n",
    "Проверить, различны ли прямые $AB$ и $AF$, $BC$ и $CD$, $ABC$ и $ACF$, $ABC$ и $ACD$. "
   ]
  },
  {
   "cell_type": "code",
   "execution_count": 5,
   "metadata": {
    "id": "Pt-XdFM-5aT6"
   },
   "outputs": [
    {
     "name": "stdout",
     "output_type": "stream",
     "text": [
      "Прямые AB и AF одинаковы\n",
      "Прямые BC и CD различны\n",
      "Плоскости ABC и ACF одинаковы\n",
      "Плоскости ABC и ACD различны\n"
     ]
    }
   ],
   "source": [
    "A = Point(3, -2, 3)\n",
    "B = Point(-2, 3, 1)\n",
    "C = Point(1, -8, 6)\n",
    "D = Point(1, 2, 4)\n",
    "F = Point(-7, 8, -1)\n",
    "\n",
    "AB = Line(A, B)\n",
    "AF = Line(A, F)\n",
    "BC = Line(B, C)\n",
    "CD = Line(C, D)\n",
    "\n",
    "ABC = Plane(A, B, C)\n",
    "ACF = Plane(A, C, F)\n",
    "ACD = Plane(A, C, D)\n",
    "\n",
    "if (AB.equals(AF)):\n",
    "  print(\"Прямые AB и AF одинаковы\")\n",
    "else:\n",
    "  print(\"Прямые AB и AF различны\")\n",
    "\n",
    "if (BC.equals(CD)):\n",
    "  print(\"Прямые BC и CD одинаковы\")\n",
    "else:\n",
    "  print(\"Прямые BC и CD различны\")\n",
    "\n",
    "if (ABC.equals(ACF)):\n",
    "  print(\"Плоскости ABC и ACF одинаковы\")\n",
    "else:\n",
    "  print(\"Плоскости ABC и ACF различны\")\n",
    "\n",
    "if (ABC.equals(ACD)):\n",
    "  print(\"Плоскости ABC и ACD одинаковы\")\n",
    "else:\n",
    "  print(\"Плоскости ABC и ACD различны\")"
   ]
  },
  {
   "cell_type": "markdown",
   "metadata": {
    "id": "DFLIFpCO2yYz"
   },
   "source": [
    "###  Задание 2\n",
    "Вывести на экран уравнение обеих биссектрис двугранных углов, образованных при пересечении плоскостей $ABC$ и $ACD$.\n",
    "\n",
    "Указание: расстояние от любой точки на биссектрисе до каждой из плоскостей $ABC$ и $ACD$ одинаково, полученное из этого уравнение описывает обе биссектрисы, упрощать его не нужно."
   ]
  },
  {
   "cell_type": "code",
   "execution_count": 6,
   "metadata": {
    "id": "1x6MtyV_5baq"
   },
   "outputs": [
    {
     "data": {
      "text/latex": [
       "$\\displaystyle \\left|{\\frac{3 \\sqrt{1970} \\left(x - 3\\right)}{1970} + \\frac{19 \\sqrt{1970} \\left(y + 2\\right)}{1970} + \\frac{4 \\sqrt{1970} \\left(z - 3\\right)}{197}}\\right| = \\left|{\\frac{9 \\sqrt{185} \\left(x - 3\\right)}{185} + \\frac{2 \\sqrt{185} \\left(y + 2\\right)}{185} + \\frac{2 \\sqrt{185} \\left(z - 3\\right)}{37}}\\right|$"
      ],
      "text/plain": [
       "Eq(Abs(3*sqrt(1970)*(x - 3)/1970 + 19*sqrt(1970)*(y + 2)/1970 + 4*sqrt(1970)*(z - 3)/197), Abs(9*sqrt(185)*(x - 3)/185 + 2*sqrt(185)*(y + 2)/185 + 2*sqrt(185)*(z - 3)/37))"
      ]
     },
     "execution_count": 6,
     "metadata": {},
     "output_type": "execute_result"
    }
   ],
   "source": [
    "x, y, z = symbols(\"x y z\")\n",
    "X = Point(x,y,z)\n",
    "Eq(ABC.distance(X),ACD.distance(X))"
   ]
  },
  {
   "cell_type": "markdown",
   "metadata": {
    "id": "Y9SJb76H2yY1"
   },
   "source": [
    "###  Задание 3\n",
    "Построить плоскость, перпендикулярную плоскости $ABC$, проходящую через $D$ и начало координат. Найти линию пересечения $ABC$ и этой плоскости."
   ]
  },
  {
   "cell_type": "code",
   "execution_count": 3,
   "metadata": {
    "id": "yCpUc5hl5crS"
   },
   "outputs": [
    {
     "name": "stdout",
     "output_type": "stream",
     "text": [
      "Искомая плоскость:\n"
     ]
    },
    {
     "data": {
      "text/latex": [
       "$\\displaystyle Plane\\left(Point3D\\left(1, 2, 4\\right), \\left( -4, \\  28, \\  -13\\right)\\right)$"
      ],
      "text/plain": [
       "Plane(Point3D(1, 2, 4), (-4, 28, -13))"
      ]
     },
     "metadata": {},
     "output_type": "display_data"
    },
    {
     "name": "stdout",
     "output_type": "stream",
     "text": [
      "\n",
      "Искомая прямая:\n"
     ]
    },
    {
     "data": {
      "text/latex": [
       "$\\displaystyle Line3D\\left(Point3D\\left(\\frac{637}{40}, \\frac{91}{40}, 0\\right), Point3D\\left(- \\frac{54043}{40}, - \\frac{4749}{40}, 160\\right)\\right)$"
      ],
      "text/plain": [
       "Line3D(Point3D(637/40, 91/40, 0), Point3D(-54043/40, -4749/40, 160))"
      ]
     },
     "metadata": {},
     "output_type": "display_data"
    }
   ],
   "source": [
    "print(\"Искомая плоскость:\")\n",
    "display(ABC.perpendicular_plane(D, Point(0, 0, 0)))\n",
    "\n",
    "print()\n",
    "\n",
    "print(\"Искомая прямая:\")\n",
    "display(*ABC.intersection(ABC.perpendicular_plane(D, Point(0, 0, 0))))"
   ]
  },
  {
   "cell_type": "markdown",
   "metadata": {
    "id": "rBqOF-CW2yY3"
   },
   "source": [
    "###  Задание 4\n",
    "Найти пересечение плоскости $ABC$ и прямой $DK$, где $K(3,-2, 3)$."
   ]
  },
  {
   "cell_type": "code",
   "execution_count": 4,
   "metadata": {
    "id": "4onYqLNQ5dt6"
   },
   "outputs": [
    {
     "data": {
      "text/latex": [
       "$\\displaystyle Point3D\\left(3, -2, 3\\right)$"
      ],
      "text/plain": [
       "Point3D(3, -2, 3)"
      ]
     },
     "metadata": {},
     "output_type": "display_data"
    }
   ],
   "source": [
    "ABC = Plane(A, B, C)\n",
    "K = Point(3, -2, 3)\n",
    "DK = Line(D, K)\n",
    "display(*ABC.intersection(DK))"
   ]
  },
  {
   "cell_type": "markdown",
   "metadata": {
    "id": "R5udVUCQ2yY5"
   },
   "source": [
    "###  Задание 5\n",
    "Проверить, что точка пересечения из Задания 4 лежит в плоскости $AFC$."
   ]
  },
  {
   "cell_type": "code",
   "execution_count": 5,
   "metadata": {
    "id": "QIYsdFcI5ey5"
   },
   "outputs": [
    {
     "name": "stdout",
     "output_type": "stream",
     "text": [
      "точка лежит в плоскости\n"
     ]
    }
   ],
   "source": [
    "if (Point3D.are_coplanar(A, F, C, *list(ABC.intersection(DK)))):\n",
    "  print(\"точка лежит в плоскости\")\n",
    "else:\n",
    "  print(\"точка НЕ лежит в плоскости\")"
   ]
  },
  {
   "cell_type": "markdown",
   "metadata": {},
   "source": [
    "Хорасанджян Левон, вариант №157"
   ]
  }
 ],
 "metadata": {
  "colab": {
   "collapsed_sections": [],
   "name": "Alg_7_2021_22_tasks.ipynb",
   "provenance": []
  },
  "kernelspec": {
   "display_name": "Python 3",
   "language": "python",
   "name": "python3"
  },
  "language_info": {
   "codemirror_mode": {
    "name": "ipython",
    "version": 3
   },
   "file_extension": ".py",
   "mimetype": "text/x-python",
   "name": "python",
   "nbconvert_exporter": "python",
   "pygments_lexer": "ipython3",
   "version": "3.8.8"
  }
 },
 "nbformat": 4,
 "nbformat_minor": 1
}
