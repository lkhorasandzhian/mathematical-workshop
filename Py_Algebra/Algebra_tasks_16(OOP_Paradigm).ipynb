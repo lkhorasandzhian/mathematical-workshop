{
  "cells": [
    {
      "cell_type": "code",
      "execution_count": 1,
      "metadata": {
        "id": "OkMZJCv7HRj8"
      },
      "outputs": [],
      "source": [
        "%matplotlib inline\n",
        "import sympy\n",
        "import numpy as np\n",
        "from sympy import Eq, plot_implicit, Matrix, plot, symbols, latex\n",
        "from sympy.core import sympify\n",
        "from sympy.geometry.point import Point, Point2D, Point3D\n",
        "from sympy.geometry.line import Line\n",
        "from sympy.core.symbol import _symbol\n",
        "from sympy import pi as Pi\n",
        "from sympy import cos as Cos\n",
        "from sympy import sin as Sin\n",
        "from sympy.geometry.entity import GeometryEntity, GeometrySet\n",
        "import matplotlib.pyplot as plt\n",
        "from IPython.display import Math, Latex\n",
        "from sympy import abc\n",
        "import copy"
      ]
    },
    {
      "cell_type": "markdown",
      "metadata": {
        "id": "JBcJB2fWHRj_"
      },
      "source": [
        "# Практическое занятие 16\n",
        "# Компьютерный практикум по алгебре на Python\n",
        "## Кривые второго порядка на плоскости: парабола"
      ]
    },
    {
      "cell_type": "markdown",
      "metadata": {
        "id": "mmi1O2YqHRkC"
      },
      "source": [
        "### Задание 1\n",
        "Определить класс parabola по образцу класса Гипербола из ЛР 15.\n",
        "\n",
        "Реализовать **атрибуты**: \n",
        "\n",
        "**парамет**р $p$\n",
        "\n",
        "**вершина** (vertex) в виде точки Point\n",
        "\n",
        "**фокус** (focus) в виде точки Point\n",
        "\n",
        "**угол angl**e по умолчанию 0 для параболы с осью, параллельной OX, \n",
        "а для параболы с осью, параллельной  OY angle = $\\pi/2$\n",
        "\n",
        "**ось симметрии** (axis_symmetry) в виде прямой Line\n",
        "\n",
        "**директриса** (directrix) в виде прямой Line\n",
        "\n",
        "Реализовать **методы** \n",
        "\n",
        "**equation(self)** - уравнение параболы,\n",
        "\n",
        "**dir_equation(self)** - уравнение директрисы,\n",
        "\n",
        "**ax_sym_equation(self**) - уравнение оси симметрии,\n",
        "\n",
        "**rotate(self, angle)** - поворот на угол angle против часовой стрелки, метод не изменяет параболу, а возвращает параболу с теми же p и вершиной, но угол увеличен на angle по сравнению с исходной параболой. \n",
        "\n",
        "В конструкторе экземпляра класса  \n",
        "\n",
        "__new__(cls, p, vertex=None, angle=None)\n",
        "\n",
        "p - обязательный параметр, а вид параболы по умолчанию  - парабола с осью, параллельной оси OX,\n",
        "вершина по умолчанию в начале координат."
      ]
    },
    {
      "cell_type": "code",
      "execution_count": 2,
      "metadata": {
        "id": "vINZ3fHOHRkE"
      },
      "outputs": [],
      "source": [
        "class Hyperbola(GeometrySet):\n",
        "    \"\"\"\n",
        "     Attributes\n",
        "    ==========\n",
        "    center\n",
        "    hradius\n",
        "    vradius\n",
        "    eccentricity\n",
        "    periapsis\n",
        "    focus_distance\n",
        "    foci\n",
        "    ==========\n",
        "    конструктор __new__\n",
        "    скопирован из Эллипса,\n",
        "    изменена формула для  hradius и vradius через эсцентриситет\n",
        "    \"\"\"\n",
        "    def __new__(\n",
        "        cls, center=None, hradius=None, vradius=None, eccentricity=None, **kwargs):\n",
        "        hradius = sympify(hradius)\n",
        "        vradius = sympify(vradius)\n",
        "\n",
        "        eccentricity = sympify(eccentricity)\n",
        "\n",
        "        if center is None:\n",
        "            center = Point(0, 0)\n",
        "        else:\n",
        "            center = Point(center, dim=2)\n",
        "\n",
        "        if len(center) != 2:\n",
        "            raise ValueError('The center of \"{0}\" must be a two dimensional point'.format(cls))\n",
        "\n",
        "        if len(list(filter(lambda x: x is not None, (hradius, vradius, eccentricity)))) != 2:\n",
        "            raise ValueError(filldedent('''\n",
        "                Exactly two arguments of \"hradius\", \"vradius\", and\n",
        "                \"eccentricity\" must not be None.'''))\n",
        "\n",
        "        if eccentricity is not None:\n",
        "            if hradius is None:\n",
        "                hradius = vradius/sqrt( eccentricity**2 - 1)\n",
        "            elif vradius is None:\n",
        "                vradius = hradius*sqrt( eccentricity**2 - 1)\n",
        "\n",
        "        if hradius == 0:\n",
        "            return \"Line\"\n",
        "        if vradius == 0:\n",
        "            return \"Rays\"\n",
        "        return GeometryEntity.__new__(cls, center, hradius, vradius, **kwargs)\n",
        "    \n",
        "    @property\n",
        "    def ambient_dimension(self):\n",
        "        return 2\n",
        "    \n",
        "    @property\n",
        "    def center(self):\n",
        "        return self.args[0]\n",
        "\n",
        "    @property\n",
        "    def hradius(self):\n",
        "        return self.args[1]\n",
        "    \n",
        "    @property\n",
        "    def vradius(self):\n",
        "        return self.args[2]\n",
        "    @property\n",
        "    def focus_distance(self):\n",
        "        return sqrt(self.hradius**2 + self.vradius**2)\n",
        "    \n",
        "    @property\n",
        "    def eccentricity(self):\n",
        "        \"\"\"The eccentricity of the ellipse.\"\"\"\n",
        "        return self.focus_distance/self.hradius\n",
        "    \n",
        "    @property\n",
        "    def periapsis(self):\n",
        "        \"\"\"The apoapsis of the hyperbola.\n",
        "        The smallest distance between the focus and the contour.\"\"\"\n",
        "        return self.focus_distance-self.hradius\n",
        "    @property\n",
        "    def foci(self):\n",
        "        return (self.center + Point(-self.focus_distance, 0), self.center + Point(self.focus_distance, 0))\n",
        "    \n",
        "    @property\n",
        "    def major(self):\n",
        "        return self.hradius\n",
        "    \n",
        "    @property\n",
        "    def minor(self):\n",
        "        return self.vradius\n",
        "    \n",
        "    def equation(self, x='x', y='y', _slope=None, equation=False):\n",
        "        \"\"\"\n",
        "        Returns the equation of a hyperbola aligned with the x and y axes;\n",
        "        when slope is given, the equation returned corresponds to a hyperbola \n",
        "        with a major axis having that slope.\n",
        "        Parameters\n",
        "        ==========\n",
        "        x : str, optional\n",
        "            Label for the x-axis. Default value is 'x'.\n",
        "        y : str, optional\n",
        "            Label for the y-axis. Default value is 'y'.\n",
        "        _slope : Expr, optional\n",
        "                The slope of the major axis. Ignored when 'None'.\n",
        "        Returns\n",
        "        =======\n",
        "        equation : sympy expression   \"\"\"\n",
        "\n",
        "        x = _symbol(x, real=True)\n",
        "        y = _symbol(y, real=True)\n",
        "\n",
        "        dx = x - self.center.x\n",
        "        dy = y - self.center.y\n",
        "\n",
        "        if _slope is not None:\n",
        "            L = (dy - _slope*dx)**2\n",
        "            l = (_slope*dy + dx)**2\n",
        "            h = 1 + _slope**2\n",
        "            a = h*self.major**2\n",
        "            b = h*self.minor**2\n",
        "            res= l/a - L/b \n",
        "\n",
        "        else:\n",
        "            t1 = (dx/self.hradius)**2\n",
        "            t2 = (dy/self.vradius)**2\n",
        "            res = t1 - t2 \n",
        "        if not equation:\n",
        "            return res - 1\n",
        "        else:\n",
        "            return Eq(res, 1)"
      ]
    },
    {
      "cell_type": "code",
      "execution_count": 3,
      "metadata": {
        "id": "GrE8_4RB1E5n"
      },
      "outputs": [],
      "source": [
        "class Parabola(GeometrySet):\n",
        "    \"\"\"\n",
        "     Attributes\n",
        "    ==========\n",
        "    p\n",
        "    vertex\n",
        "    angle\n",
        "    focus\n",
        "    axis_symmetry\n",
        "    directrix\n",
        "    ==========\n",
        "    User class by Levon\n",
        "    \"\"\"\n",
        "    def __new__(self, p, vertex=None, angle=None):\n",
        "        if p <= 0:\n",
        "            raise ValueError(\"p parameter for parabola must be positive\")\n",
        "        self.p = p\n",
        "        self.vertex = vertex\n",
        "        self.angle = angle\n",
        "        if self.vertex == None:\n",
        "            self.vertex = Point(0, 0)\n",
        "        if self.angle == None:\n",
        "            self.angle = 0\n",
        "        self.angle = -self.angle\n",
        "        return GeometryEntity.__new__(self, self.p, self.vertex, self.angle)\n",
        "    \n",
        "    '''\n",
        "    Необходимо реализовать, чтобы наследоваться от GeometrySet\n",
        "    и представлять объект в виде геометрической сущности\n",
        "    '''\n",
        "    @property\n",
        "    def ambient_dimension(self):\n",
        "        return 2\n",
        "    \n",
        "    @property\n",
        "    def vertex(self):\n",
        "        return self.vertex\n",
        "\n",
        "    @property\n",
        "    def focus(self):\n",
        "        return Point(self.vertex.x + Cos(-self.angle) * self.p / 2, self.vertex.y + Sin(-self.angle) * self.p / 2)\n",
        "    \n",
        "    @property\n",
        "    def get_angle(self):\n",
        "        return -self.angle\n",
        "    \n",
        "    @property\n",
        "    def axis_symmetry(self):\n",
        "        return Line(self.vertex, self.focus)\n",
        "    \n",
        "    @property\n",
        "    def directrix(self):\n",
        "        point_on_directrix = Point(self.vertex.x + (self.vertex.x - self.focus.x), self.vertex.y + (self.vertex.y - self.focus.y))\n",
        "        return self.axis_symmetry.perpendicular_line(point_on_directrix)\n",
        "    \n",
        "    def equation(self):\n",
        "        x = abc.x - self.vertex.x\n",
        "        y = abc.y - self.vertex.y\n",
        "        X = sympy.Matrix([[x], [y]])\n",
        "        Xs = sympy.Matrix([[Cos(self.angle), -Sin(self.angle)], [Sin(self.angle), Cos(self.angle)]]) * X  # матрица поворота (двумерная)\n",
        "        x1 = Xs[0, :][0]\n",
        "        y1 = Xs[1, :][0]\n",
        "        return sympy.Eq(y1 ** 2, 2 * self.p * x1)  # подставляем в уравнение y^2 = 2*p*x\n",
        "    \n",
        "    def dir_equation(self):\n",
        "        return sympy.Eq(self.directrix.equation(), 0)\n",
        "    \n",
        "    def ax_sym_equation(self):\n",
        "        return sympy.Eq(self.axis_symmetry.equation(), 0)\n",
        "    \n",
        "    def rotate(self, angle):\n",
        "        nself = copy.deepcopy(self)\n",
        "        nself.angle = -(self.get_angle + angle)\n",
        "        return nself"
      ]
    },
    {
      "cell_type": "markdown",
      "metadata": {
        "id": "dojqIsnSHRkG"
      },
      "source": [
        "### Задание 2\n",
        "Построить экземпляр класса Parabola - параболу с $p = 3$, вершиной в (-5, 2), осью симметрии, образующей угол $\\pi/4$ с положительным направлением оси ОХ. Вывести на экран ее параметр p, вершину, угол, фокус, ось симметрии и директрису, а также уравнение параболы, оси симметрии и директрисы. \n",
        "\n",
        "Изобрзить на общем графике параболу, ее ось симметрии и директрису, парабола зеленая, ось симметрии красная, директриса черная. "
      ]
    },
    {
      "cell_type": "code",
      "execution_count": 4,
      "metadata": {
        "id": "PuhLktCH4ZmU"
      },
      "outputs": [],
      "source": [
        "# p - объект параболы, xs - рассматриваемый отрезок по оси X, ylim - аналогичный отрезок по оси Y, size - размер графика матплотлиба;\n",
        "# далее - цвета параболы, оси симметрии, директриссы, подписи осей\n",
        "def draw_parabola(p, xs=(-10, 10), ylim=(-2, 18), size=(10, 10), p_color='g', sym_color='r', dir_color='black', xlabel='x', ylabel='y'):\n",
        "    eq_parabola = p.equation()\n",
        "    eq_directrix = p.dir_equation()\n",
        "    eq_axis_symmetry = p.ax_sym_equation()\n",
        "\n",
        "    plt.figure(figsize=size) # задаёт размер графика\n",
        "\n",
        "    X = np.arange(xs[0], xs[1], 0.01) # множество точек с шагом 1/100 в границах xs\n",
        "\n",
        "    sol = sympy.solve(eq_parabola, abc.y)  # находим y относительно x\n",
        "\n",
        "    if len(sol) == 2:  # это значит что функциональность нарушается и тогда придётся чертить 2 графика отдельно\n",
        "        yp1 = [] # Range функции 1\n",
        "        yp2 = [] # Range функции 2\n",
        "        x_good1 = [] # Domain функции 1\n",
        "        x_good2 = [] # Domain функции 2\n",
        "        \n",
        "        for i in X: # добавка всех НЕкомплексных точек на график 1\n",
        "            value = sol[0].subs({abc.x : i})\n",
        "            try:  # проверка на комплексность (если комплексное - кинет исключение)\n",
        "                yp1.append(float(value))\n",
        "                x_good1.append(i)\n",
        "            except:\n",
        "                pass\n",
        "        \n",
        "        for i in X: # добавка всех НЕкомплексных точек на график 2\n",
        "            value = sol[1].subs({abc.x : i})\n",
        "            try:  # проверка на комплексность (если комплексное - кинет исключение)\n",
        "                yp2.append(float(value))\n",
        "                x_good2.append(i)\n",
        "            except:\n",
        "                pass\n",
        "        \n",
        "        plt.plot(np.array(x_good1), np.array(yp1), color=p_color, label='parabola')  # отрисовка 1\n",
        "        plt.plot(np.array(x_good2), np.array(yp2), color=p_color)  # отрисовка 2\n",
        "    else:  # функция единственна (всё тоже самое)\n",
        "        yp1 = []  # Range функции 1\n",
        "        x_good1 = []  # Domain функции 1\n",
        "        \n",
        "        for i in X:  # добавка всех НЕкомплексных точек на график 1\n",
        "            value = sol[0].subs({abc.x : i})\n",
        "            try:  # проверка на комплексность (если комплексное - кинет исключение)\n",
        "                yp1.append(float(value))\n",
        "                x_good1.append(i)\n",
        "            except:\n",
        "                pass\n",
        "        plt.plot(np.array(x_good1), np.array(yp1), color=p_color, label='parabola')\n",
        "    \n",
        "    sym_free = eq_axis_symmetry.lhs.free_symbols  # получаем символы\n",
        "\n",
        "    # случай, когда у нас единственный аргумент, то есть либо y = const, либо x = const (второе условие после and - если у нас x, то строим вертикальную линию)\n",
        "    if len(sym_free) == 1 and str(list(sym_free)[0]) == 'x':\n",
        "        plt.axvline(x=sympy.solve(eq_axis_symmetry)[0], color=sym_color, label='symmetry') \n",
        "    else:\n",
        "        fx = list(sym_free)[0]\n",
        "        fy = abc.y\n",
        "        if len(list(sym_free)) > 1:\n",
        "            fy = list(sym_free)[1]\n",
        "        if str(fx) != 'x':  # расстановка в нужном порядке\n",
        "            fx, fy = fy, fx\n",
        "        sol_sym = sympy.solve(eq_axis_symmetry, fy)[0]  # выражаем y через x\n",
        "        y_sym = [sol_sym.subs({fx: i}) for i in X]  # массив значений y для точек на иске (по сути рендж), подставляем иксы чтобы найти все соответствующие игрики\n",
        "        plt.plot(X, np.array(y_sym), color=sym_color, label='symmetry')  # отрисовка\n",
        "    \n",
        "    sym_free = eq_directrix.lhs.free_symbols  # получаем символы\n",
        "\n",
        "    # случай, когда у нас единственный аргумент, то есть либо y = const, либо x = const (второе условие после and - если у нас x, то строим вертикальную линию)\n",
        "    if len(sym_free) == 1 and str(list(sym_free)[0]) == 'x':\n",
        "        plt.axvline(x=sympy.solve(eq_directrix)[0], color=dir_color, label='directrix')\n",
        "    else:\n",
        "        fx = list(sym_free)[0]\n",
        "        fy = abc.y\n",
        "        if len(list(sym_free)) > 1:\n",
        "            fy = list(sym_free)[1]\n",
        "        if str(fx) != 'x':  # расстановка в нужном порядке\n",
        "            fx, fy = fy, fx\n",
        "        sol_sym = sympy.solve(eq_directrix, fy)[0]  # выражаем y через x\n",
        "        y_sym = [sol_sym.subs({fx: i}) for i in X]  # подставляем иксы чтобы найти все соответствующие игрики\n",
        "        plt.plot(X, np.array(y_sym), dir_color, label='directrix') # отрисовка\n",
        "    plt.grid()  # сетка фона\n",
        "    plt.legend()  # подписи (легенда)\n",
        "    plt.ylim(ylim)  # задаёт соотношение (для нормального отображения)\n",
        "    plt.xlabel(xlabel) # подпись к оси X\n",
        "    plt.ylabel(ylabel) # подпись к оси Y\n",
        "    plt.title('parabola')  # титул (заголовок)"
      ]
    },
    {
      "cell_type": "code",
      "execution_count": 5,
      "metadata": {
        "colab": {
          "base_uri": "https://localhost:8080/",
          "height": 552
        },
        "id": "bS1oxdx71JEt",
        "outputId": "463434f8-6ea1-4cb2-ea55-a364c6968005"
      },
      "outputs": [
        {
          "name": "stdout",
          "output_type": "stream",
          "text": [
            "Вершина\n"
          ]
        },
        {
          "data": {
            "text/latex": [
              "$\\displaystyle Point2D\\left(-5, 2\\right)$"
            ],
            "text/plain": [
              "Point2D(-5, 2)"
            ]
          },
          "metadata": {},
          "output_type": "display_data"
        },
        {
          "name": "stdout",
          "output_type": "stream",
          "text": [
            "\n",
            "Фокус\n"
          ]
        },
        {
          "data": {
            "text/latex": [
              "$\\displaystyle Point2D\\left(-5 + \\frac{3 \\sqrt{2}}{4}, \\frac{3 \\sqrt{2}}{4} + 2\\right)$"
            ],
            "text/plain": [
              "Point2D(-5 + 3*sqrt(2)/4, 3*sqrt(2)/4 + 2)"
            ]
          },
          "metadata": {},
          "output_type": "display_data"
        },
        {
          "name": "stdout",
          "output_type": "stream",
          "text": [
            "\n",
            "Угол наклона (в радианах)\n"
          ]
        },
        {
          "data": {
            "text/latex": [
              "$\\displaystyle \\frac{\\pi}{4}$"
            ],
            "text/plain": [
              "pi/4"
            ]
          },
          "metadata": {},
          "output_type": "display_data"
        },
        {
          "name": "stdout",
          "output_type": "stream",
          "text": [
            "\n",
            "Ось симметрии\n"
          ]
        },
        {
          "data": {
            "image/svg+xml": "<svg xmlns=\"http://www.w3.org/2000/svg\"\n            xmlns:xlink=\"http://www.w3.org/1999/xlink\"\n            width=\"100.0\" height=\"100.0\" viewBox=\"-5.10606601717798 1.89393398282202 1.27279220613579 1.27279220613579\"\n            preserveAspectRatio=\"xMinYMin meet\">\n            <defs>\n                <marker id=\"markerCircle\" markerWidth=\"8\" markerHeight=\"8\"\n                    refx=\"5\" refy=\"5\" markerUnits=\"strokeWidth\">\n                    <circle cx=\"5\" cy=\"5\" r=\"1.5\" style=\"stroke: none; fill:#000000;\"/>\n                </marker>\n                <marker id=\"markerArrow\" markerWidth=\"13\" markerHeight=\"13\" refx=\"2\" refy=\"4\"\n                       orient=\"auto\" markerUnits=\"strokeWidth\">\n                    <path d=\"M2,2 L2,6 L6,4\" style=\"fill: #000000;\" />\n                </marker>\n                <marker id=\"markerReverseArrow\" markerWidth=\"13\" markerHeight=\"13\" refx=\"6\" refy=\"4\"\n                       orient=\"auto\" markerUnits=\"strokeWidth\">\n                    <path d=\"M6,2 L6,6 L2,4\" style=\"fill: #000000;\" />\n                </marker>\n            </defs><g transform=\"matrix(1,0,0,-1,0,5.06066017177982)\"><path fill-rule=\"evenodd\" fill=\"#66cc99\" stroke=\"#555555\" stroke-width=\"0.0254558441227157\" opacity=\"0.6\" d=\"M -5.00000000000000,2.00000000000000 L -3.93933982822018,3.06066017177982\" marker-start=\"url(#markerReverseArrow)\" marker-end=\"url(#markerArrow)\"/></g></svg>",
            "text/latex": [
              "$\\displaystyle Line2D\\left(Point2D\\left(-5, 2\\right), Point2D\\left(-5 + \\frac{3 \\sqrt{2}}{4}, \\frac{3 \\sqrt{2}}{4} + 2\\right)\\right)$"
            ],
            "text/plain": [
              "Line2D(Point2D(-5, 2), Point2D(-5 + 3*sqrt(2)/4, 3*sqrt(2)/4 + 2))"
            ]
          },
          "metadata": {},
          "output_type": "display_data"
        },
        {
          "data": {
            "text/latex": [
              "$\\displaystyle - \\frac{3 \\sqrt{2} x}{4} + \\frac{3 \\sqrt{2} y}{4} - \\frac{21 \\sqrt{2}}{4} = 0$"
            ],
            "text/plain": [
              "Eq(-3*sqrt(2)*x/4 + 3*sqrt(2)*y/4 - 21*sqrt(2)/4, 0)"
            ]
          },
          "metadata": {},
          "output_type": "display_data"
        },
        {
          "name": "stdout",
          "output_type": "stream",
          "text": [
            "\n",
            "Директриса\n"
          ]
        },
        {
          "data": {
            "image/svg+xml": "<svg xmlns=\"http://www.w3.org/2000/svg\"\n            xmlns:xlink=\"http://www.w3.org/1999/xlink\"\n            width=\"100.0\" height=\"100.0\" viewBox=\"-7.22738636073762 0.833273811042196 1.27279220613579 1.27279220613579\"\n            preserveAspectRatio=\"xMinYMin meet\">\n            <defs>\n                <marker id=\"markerCircle\" markerWidth=\"8\" markerHeight=\"8\"\n                    refx=\"5\" refy=\"5\" markerUnits=\"strokeWidth\">\n                    <circle cx=\"5\" cy=\"5\" r=\"1.5\" style=\"stroke: none; fill:#000000;\"/>\n                </marker>\n                <marker id=\"markerArrow\" markerWidth=\"13\" markerHeight=\"13\" refx=\"2\" refy=\"4\"\n                       orient=\"auto\" markerUnits=\"strokeWidth\">\n                    <path d=\"M2,2 L2,6 L6,4\" style=\"fill: #000000;\" />\n                </marker>\n                <marker id=\"markerReverseArrow\" markerWidth=\"13\" markerHeight=\"13\" refx=\"6\" refy=\"4\"\n                       orient=\"auto\" markerUnits=\"strokeWidth\">\n                    <path d=\"M6,2 L6,6 L2,4\" style=\"fill: #000000;\" />\n                </marker>\n            </defs><g transform=\"matrix(1,0,0,-1,0,2.93933982822018)\"><path fill-rule=\"evenodd\" fill=\"#66cc99\" stroke=\"#555555\" stroke-width=\"0.0254558441227157\" opacity=\"0.6\" d=\"M -6.06066017177982,0.939339828220179 L -7.12132034355964,2.00000000000000\" marker-start=\"url(#markerReverseArrow)\" marker-end=\"url(#markerArrow)\"/></g></svg>",
            "text/latex": [
              "$\\displaystyle Line2D\\left(Point2D\\left(-5 - \\frac{3 \\sqrt{2}}{4}, 2 - \\frac{3 \\sqrt{2}}{4}\\right), Point2D\\left(-5 - \\frac{3 \\sqrt{2}}{2}, 2\\right)\\right)$"
            ],
            "text/plain": [
              "Line2D(Point2D(-5 - 3*sqrt(2)/4, 2 - 3*sqrt(2)/4), Point2D(-5 - 3*sqrt(2)/2, 2))"
            ]
          },
          "metadata": {},
          "output_type": "display_data"
        },
        {
          "data": {
            "text/latex": [
              "$\\displaystyle - \\frac{3 \\sqrt{2} x}{4} - \\frac{3 \\sqrt{2} y}{4} - \\frac{9 \\sqrt{2}}{4} - \\frac{9}{4} = 0$"
            ],
            "text/plain": [
              "Eq(-3*sqrt(2)*x/4 - 3*sqrt(2)*y/4 - 9*sqrt(2)/4 - 9/4, 0)"
            ]
          },
          "metadata": {},
          "output_type": "display_data"
        },
        {
          "name": "stdout",
          "output_type": "stream",
          "text": [
            "\n",
            "Уравнение параболы\n"
          ]
        },
        {
          "data": {
            "text/latex": [
              "$\\displaystyle \\left(- \\frac{\\sqrt{2} \\left(x + 5\\right)}{2} + \\frac{\\sqrt{2} \\left(y - 2\\right)}{2}\\right)^{2} = 3 \\sqrt{2} \\left(x + 5\\right) + 3 \\sqrt{2} \\left(y - 2\\right)$"
            ],
            "text/plain": [
              "Eq((-sqrt(2)*(x + 5)/2 + sqrt(2)*(y - 2)/2)**2, 3*sqrt(2)*(x + 5) + 3*sqrt(2)*(y - 2))"
            ]
          },
          "metadata": {},
          "output_type": "display_data"
        }
      ],
      "source": [
        "p = Parabola(3, Point(-5, 2), Pi / 4)\n",
        "\n",
        "print('Вершина')\n",
        "display(p.vertex)\n",
        "\n",
        "print('\\nФокус')\n",
        "display(p.focus)\n",
        "\n",
        "print('\\nУгол наклона (в радианах)')\n",
        "display(p.get_angle)\n",
        "\n",
        "eq_parabola = p.equation()\n",
        "eq_directrix = p.dir_equation()\n",
        "eq_axis_symmetry = p.ax_sym_equation()\n",
        "\n",
        "print('\\nОсь симметрии')\n",
        "display(p.axis_symmetry)\n",
        "display(eq_axis_symmetry)\n",
        "\n",
        "print('\\nДиректриса')\n",
        "display(p.directrix)\n",
        "display(eq_directrix)\n",
        "\n",
        "print('\\nУравнение параболы')\n",
        "display(eq_parabola)"
      ]
    },
    {
      "cell_type": "code",
      "execution_count": 6,
      "metadata": {
        "colab": {
          "base_uri": "https://localhost:8080/",
          "height": 621
        },
        "id": "FjEoFfLR1Nz3",
        "outputId": "8a728e67-9d39-4539-e504-faf501264cac"
      },
      "outputs": [
        {
          "data": {
            "image/png": "[encoded data removed]",
            "text/plain": [
              "<Figure size 720x720 with 1 Axes>"
            ]
          },
          "metadata": {
            "needs_background": "light"
          },
          "output_type": "display_data"
        }
      ],
      "source": [
        "draw_parabola(p, xs=(-30, 30), ylim=(-30, 30))\n",
        "plt.show()"
      ]
    },
    {
      "cell_type": "markdown",
      "metadata": {
        "id": "WlXyhdWhHRkH"
      },
      "source": [
        "### Индивидуальное задание\n",
        "Построить экземпляр класса Parabola - параболу $x^{2} = 2py$ с заданным $p$, построить другую параболу путем поворота исходной параболы  на угол $\\alpha$ радиан. Вывести на экран вершину, угол, фокус, ось симметрии и директрису обеих парабол. \n",
        "\n",
        "Использовать уравнения повернутой параболы, ее оси симметрии и директрисы для построения графиков в одной координатной плоскости. Парабола фиолетовая, ось симметрии зеленая, директриса черная, название графика Парабола, подписи осей $x$ и $y$."
      ]
    },
    {
      "cell_type": "markdown",
      "metadata": {
        "id": "_NJ-yXaE1Qj9"
      },
      "source": [
        "Вариант N 157\n",
        "\n",
        "Центр $Point2D\\left(-4, -4\\right)$, парабола вида $x^{2} = 2py$ с $p = 4$. Угол поворота $2 \\pi / 3$."
      ]
    },
    {
      "cell_type": "code",
      "execution_count": 7,
      "metadata": {
        "colab": {
          "base_uri": "https://localhost:8080/",
          "height": 1000
        },
        "id": "3KPl0ZgN4bh8",
        "outputId": "41b7c1d6-655e-412c-935b-87b9c7110a24"
      },
      "outputs": [
        {
          "name": "stdout",
          "output_type": "stream",
          "text": [
            "Начальная парабола\n"
          ]
        },
        {
          "data": {
            "image/png": "[encoded data removed]",
            "text/plain": [
              "<Figure size 720x720 with 1 Axes>"
            ]
          },
          "metadata": {
            "needs_background": "light"
          },
          "output_type": "display_data"
        },
        {
          "name": "stdout",
          "output_type": "stream",
          "text": [
            "Повёрнутая парабола\n"
          ]
        },
        {
          "data": {
            "image/png": "[encoded data removed]",
            "text/plain": [
              "<Figure size 720x720 with 1 Axes>"
            ]
          },
          "metadata": {
            "needs_background": "light"
          },
          "output_type": "display_data"
        }
      ],
      "source": [
        "start_parabola = Parabola(4, Point(-4, -4))\n",
        "\n",
        "print('Начальная парабола')\n",
        "draw_parabola(start_parabola, xs=(-7, 15), ylim=(-20, 12), p_color='violet', sym_color='g', dir_color='black')\n",
        "plt.show()\n",
        "\n",
        "rotated_parabola = start_parabola.rotate(2 * Pi / 3)\n",
        "\n",
        "print('Повёрнутая парабола')\n",
        "draw_parabola(rotated_parabola, xs=(-40, 10), ylim=(-10, 40), p_color='violet', sym_color='g', dir_color='black')\n",
        "plt.show()"
      ]
    },
    {
      "cell_type": "code",
      "execution_count": 8,
      "metadata": {
        "colab": {
          "base_uri": "https://localhost:8080/",
          "height": 1000
        },
        "id": "xMlm2p991UkT",
        "outputId": "a0ff583e-4c0c-411b-88ca-b1f21cc88a01"
      },
      "outputs": [
        {
          "name": "stdout",
          "output_type": "stream",
          "text": [
            "Информация о параболах\n",
            "\n",
            "--------------------\n",
            "--------------------\n",
            "\n",
            "Начальная парабола:\n",
            "\n",
            "Вершина\n"
          ]
        },
        {
          "data": {
            "text/latex": [
              "$\\displaystyle Point2D\\left(-4, -4\\right)$"
            ],
            "text/plain": [
              "Point2D(-4, -4)"
            ]
          },
          "metadata": {},
          "output_type": "display_data"
        },
        {
          "name": "stdout",
          "output_type": "stream",
          "text": [
            "\n",
            "Фокус\n"
          ]
        },
        {
          "data": {
            "text/latex": [
              "$\\displaystyle Point2D\\left(-2, -4\\right)$"
            ],
            "text/plain": [
              "Point2D(-2, -4)"
            ]
          },
          "metadata": {},
          "output_type": "display_data"
        },
        {
          "name": "stdout",
          "output_type": "stream",
          "text": [
            "\n",
            "Угол наклона (в радианах)\n"
          ]
        },
        {
          "data": {
            "text/latex": [
              "$\\displaystyle 0$"
            ],
            "text/plain": [
              "0"
            ]
          },
          "metadata": {},
          "output_type": "display_data"
        },
        {
          "name": "stdout",
          "output_type": "stream",
          "text": [
            "\n",
            "Ось симметрии\n"
          ]
        },
        {
          "data": {
            "image/svg+xml": "<svg xmlns=\"http://www.w3.org/2000/svg\"\n            xmlns:xlink=\"http://www.w3.org/1999/xlink\"\n            width=\"100.0\" height=\"100.0\" viewBox=\"-4.20000000000000 -4.20000000000000 2.40000000000000 0.400000000000000\"\n            preserveAspectRatio=\"xMinYMin meet\">\n            <defs>\n                <marker id=\"markerCircle\" markerWidth=\"8\" markerHeight=\"8\"\n                    refx=\"5\" refy=\"5\" markerUnits=\"strokeWidth\">\n                    <circle cx=\"5\" cy=\"5\" r=\"1.5\" style=\"stroke: none; fill:#000000;\"/>\n                </marker>\n                <marker id=\"markerArrow\" markerWidth=\"13\" markerHeight=\"13\" refx=\"2\" refy=\"4\"\n                       orient=\"auto\" markerUnits=\"strokeWidth\">\n                    <path d=\"M2,2 L2,6 L6,4\" style=\"fill: #000000;\" />\n                </marker>\n                <marker id=\"markerReverseArrow\" markerWidth=\"13\" markerHeight=\"13\" refx=\"6\" refy=\"4\"\n                       orient=\"auto\" markerUnits=\"strokeWidth\">\n                    <path d=\"M6,2 L6,6 L2,4\" style=\"fill: #000000;\" />\n                </marker>\n            </defs><g transform=\"matrix(1,0,0,-1,0,-8.00000000000000)\"><path fill-rule=\"evenodd\" fill=\"#66cc99\" stroke=\"#555555\" stroke-width=\"0.0480000000000000\" opacity=\"0.6\" d=\"M -4.00000000000000,-4.00000000000000 L -2.00000000000000,-4.00000000000000\" marker-start=\"url(#markerReverseArrow)\" marker-end=\"url(#markerArrow)\"/></g></svg>",
            "text/latex": [
              "$\\displaystyle Line2D\\left(Point2D\\left(-4, -4\\right), Point2D\\left(-2, -4\\right)\\right)$"
            ],
            "text/plain": [
              "Line2D(Point2D(-4, -4), Point2D(-2, -4))"
            ]
          },
          "metadata": {},
          "output_type": "display_data"
        },
        {
          "data": {
            "text/latex": [
              "$\\displaystyle y + 4 = 0$"
            ],
            "text/plain": [
              "Eq(y + 4, 0)"
            ]
          },
          "metadata": {},
          "output_type": "display_data"
        },
        {
          "name": "stdout",
          "output_type": "stream",
          "text": [
            "\n",
            "Директриса\n"
          ]
        },
        {
          "data": {
            "image/svg+xml": "<svg xmlns=\"http://www.w3.org/2000/svg\"\n            xmlns:xlink=\"http://www.w3.org/1999/xlink\"\n            width=\"100.0\" height=\"100.0\" viewBox=\"-6.10000000000000 -4.10000000000000 0.199999999999999 1.20000000000000\"\n            preserveAspectRatio=\"xMinYMin meet\">\n            <defs>\n                <marker id=\"markerCircle\" markerWidth=\"8\" markerHeight=\"8\"\n                    refx=\"5\" refy=\"5\" markerUnits=\"strokeWidth\">\n                    <circle cx=\"5\" cy=\"5\" r=\"1.5\" style=\"stroke: none; fill:#000000;\"/>\n                </marker>\n                <marker id=\"markerArrow\" markerWidth=\"13\" markerHeight=\"13\" refx=\"2\" refy=\"4\"\n                       orient=\"auto\" markerUnits=\"strokeWidth\">\n                    <path d=\"M2,2 L2,6 L6,4\" style=\"fill: #000000;\" />\n                </marker>\n                <marker id=\"markerReverseArrow\" markerWidth=\"13\" markerHeight=\"13\" refx=\"6\" refy=\"4\"\n                       orient=\"auto\" markerUnits=\"strokeWidth\">\n                    <path d=\"M6,2 L6,6 L2,4\" style=\"fill: #000000;\" />\n                </marker>\n            </defs><g transform=\"matrix(1,0,0,-1,0,-7.00000000000000)\"><path fill-rule=\"evenodd\" fill=\"#66cc99\" stroke=\"#555555\" stroke-width=\"0.0240000000000000\" opacity=\"0.6\" d=\"M -6.00000000000000,-4.00000000000000 L -6.00000000000000,-3.00000000000000\" marker-start=\"url(#markerReverseArrow)\" marker-end=\"url(#markerArrow)\"/></g></svg>",
            "text/latex": [
              "$\\displaystyle Line2D\\left(Point2D\\left(-6, -4\\right), Point2D\\left(-6, -3\\right)\\right)$"
            ],
            "text/plain": [
              "Line2D(Point2D(-6, -4), Point2D(-6, -3))"
            ]
          },
          "metadata": {},
          "output_type": "display_data"
        },
        {
          "data": {
            "text/latex": [
              "$\\displaystyle x + 6 = 0$"
            ],
            "text/plain": [
              "Eq(x + 6, 0)"
            ]
          },
          "metadata": {},
          "output_type": "display_data"
        },
        {
          "name": "stdout",
          "output_type": "stream",
          "text": [
            "\n",
            "Уравнение параболы\n"
          ]
        },
        {
          "data": {
            "text/latex": [
              "$\\displaystyle \\left(y + 4\\right)^{2} = 8 x + 32$"
            ],
            "text/plain": [
              "Eq((y + 4)**2, 8*x + 32)"
            ]
          },
          "metadata": {},
          "output_type": "display_data"
        },
        {
          "name": "stdout",
          "output_type": "stream",
          "text": [
            "\n",
            "--------------------\n",
            "\n",
            "Повернутая парабола:\n",
            "\n",
            "Вершина\n"
          ]
        },
        {
          "data": {
            "text/latex": [
              "$\\displaystyle Point2D\\left(-4, -4\\right)$"
            ],
            "text/plain": [
              "Point2D(-4, -4)"
            ]
          },
          "metadata": {},
          "output_type": "display_data"
        },
        {
          "name": "stdout",
          "output_type": "stream",
          "text": [
            "\n",
            "Фокус\n"
          ]
        },
        {
          "data": {
            "text/latex": [
              "$\\displaystyle Point2D\\left(-5, -4 + \\sqrt{3}\\right)$"
            ],
            "text/plain": [
              "Point2D(-5, -4 + sqrt(3))"
            ]
          },
          "metadata": {},
          "output_type": "display_data"
        },
        {
          "name": "stdout",
          "output_type": "stream",
          "text": [
            "\n",
            "Угол наклона (в радианах)\n"
          ]
        },
        {
          "data": {
            "text/latex": [
              "$\\displaystyle \\frac{2 \\pi}{3}$"
            ],
            "text/plain": [
              "2*pi/3"
            ]
          },
          "metadata": {},
          "output_type": "display_data"
        },
        {
          "name": "stdout",
          "output_type": "stream",
          "text": [
            "\n",
            "Ось симметрии\n"
          ]
        },
        {
          "data": {
            "image/svg+xml": "<svg xmlns=\"http://www.w3.org/2000/svg\"\n            xmlns:xlink=\"http://www.w3.org/1999/xlink\"\n            width=\"100.0\" height=\"100.0\" viewBox=\"-5.17320508075689 -4.17320508075689 1.34641016151378 2.07846096908265\"\n            preserveAspectRatio=\"xMinYMin meet\">\n            <defs>\n                <marker id=\"markerCircle\" markerWidth=\"8\" markerHeight=\"8\"\n                    refx=\"5\" refy=\"5\" markerUnits=\"strokeWidth\">\n                    <circle cx=\"5\" cy=\"5\" r=\"1.5\" style=\"stroke: none; fill:#000000;\"/>\n                </marker>\n                <marker id=\"markerArrow\" markerWidth=\"13\" markerHeight=\"13\" refx=\"2\" refy=\"4\"\n                       orient=\"auto\" markerUnits=\"strokeWidth\">\n                    <path d=\"M2,2 L2,6 L6,4\" style=\"fill: #000000;\" />\n                </marker>\n                <marker id=\"markerReverseArrow\" markerWidth=\"13\" markerHeight=\"13\" refx=\"6\" refy=\"4\"\n                       orient=\"auto\" markerUnits=\"strokeWidth\">\n                    <path d=\"M6,2 L6,6 L2,4\" style=\"fill: #000000;\" />\n                </marker>\n            </defs><g transform=\"matrix(1,0,0,-1,0,-6.26794919243112)\"><path fill-rule=\"evenodd\" fill=\"#66cc99\" stroke=\"#555555\" stroke-width=\"0.0415692193816531\" opacity=\"0.6\" d=\"M -4.00000000000000,-4.00000000000000 L -5.00000000000000,-2.26794919243112\" marker-start=\"url(#markerReverseArrow)\" marker-end=\"url(#markerArrow)\"/></g></svg>",
            "text/latex": [
              "$\\displaystyle Line2D\\left(Point2D\\left(-4, -4\\right), Point2D\\left(-5, -4 + \\sqrt{3}\\right)\\right)$"
            ],
            "text/plain": [
              "Line2D(Point2D(-4, -4), Point2D(-5, -4 + sqrt(3)))"
            ]
          },
          "metadata": {},
          "output_type": "display_data"
        },
        {
          "data": {
            "text/latex": [
              "$\\displaystyle - \\sqrt{3} x - y - 4 \\sqrt{3} - 4 = 0$"
            ],
            "text/plain": [
              "Eq(-sqrt(3)*x - y - 4*sqrt(3) - 4, 0)"
            ]
          },
          "metadata": {},
          "output_type": "display_data"
        },
        {
          "name": "stdout",
          "output_type": "stream",
          "text": [
            "\n",
            "Директриса\n"
          ]
        },
        {
          "data": {
            "image/svg+xml": "<svg xmlns=\"http://www.w3.org/2000/svg\"\n            xmlns:xlink=\"http://www.w3.org/1999/xlink\"\n            width=\"100.0\" height=\"100.0\" viewBox=\"-4.90525588832577 -6.90525588832577 2.07846096908265 1.34641016151378\"\n            preserveAspectRatio=\"xMinYMin meet\">\n            <defs>\n                <marker id=\"markerCircle\" markerWidth=\"8\" markerHeight=\"8\"\n                    refx=\"5\" refy=\"5\" markerUnits=\"strokeWidth\">\n                    <circle cx=\"5\" cy=\"5\" r=\"1.5\" style=\"stroke: none; fill:#000000;\"/>\n                </marker>\n                <marker id=\"markerArrow\" markerWidth=\"13\" markerHeight=\"13\" refx=\"2\" refy=\"4\"\n                       orient=\"auto\" markerUnits=\"strokeWidth\">\n                    <path d=\"M2,2 L2,6 L6,4\" style=\"fill: #000000;\" />\n                </marker>\n                <marker id=\"markerReverseArrow\" markerWidth=\"13\" markerHeight=\"13\" refx=\"6\" refy=\"4\"\n                       orient=\"auto\" markerUnits=\"strokeWidth\">\n                    <path d=\"M6,2 L6,6 L2,4\" style=\"fill: #000000;\" />\n                </marker>\n            </defs><g transform=\"matrix(1,0,0,-1,0,-12.4641016151378)\"><path fill-rule=\"evenodd\" fill=\"#66cc99\" stroke=\"#555555\" stroke-width=\"0.0415692193816531\" opacity=\"0.6\" d=\"M -3.00000000000000,-5.73205080756888 L -4.73205080756888,-6.73205080756888\" marker-start=\"url(#markerReverseArrow)\" marker-end=\"url(#markerArrow)\"/></g></svg>",
            "text/latex": [
              "$\\displaystyle Line2D\\left(Point2D\\left(-3, -4 - \\sqrt{3}\\right), Point2D\\left(-3 - \\sqrt{3}, -5 - \\sqrt{3}\\right)\\right)$"
            ],
            "text/plain": [
              "Line2D(Point2D(-3, -4 - sqrt(3)), Point2D(-3 - sqrt(3), -5 - sqrt(3)))"
            ]
          },
          "metadata": {},
          "output_type": "display_data"
        },
        {
          "data": {
            "text/latex": [
              "$\\displaystyle x - \\sqrt{3} y - 4 \\sqrt{3} = 0$"
            ],
            "text/plain": [
              "Eq(x - sqrt(3)*y - 4*sqrt(3), 0)"
            ]
          },
          "metadata": {},
          "output_type": "display_data"
        },
        {
          "name": "stdout",
          "output_type": "stream",
          "text": [
            "\n",
            "Уравнение параболы\n"
          ]
        },
        {
          "data": {
            "text/latex": [
              "$\\displaystyle \\left(- \\frac{y}{2} - \\frac{\\sqrt{3} \\left(x + 4\\right)}{2} - 2\\right)^{2} = - 4 x + 4 \\sqrt{3} \\left(y + 4\\right) - 16$"
            ],
            "text/plain": [
              "Eq((-y/2 - sqrt(3)*(x + 4)/2 - 2)**2, -4*x + 4*sqrt(3)*(y + 4) - 16)"
            ]
          },
          "metadata": {},
          "output_type": "display_data"
        }
      ],
      "source": [
        "print('Информация о параболах\\n')\n",
        "\n",
        "\n",
        "\n",
        "print('--------------------')\n",
        "print('--------------------')\n",
        "\n",
        "\n",
        "\n",
        "print('\\nНачальная парабола:')\n",
        "\n",
        "print('\\nВершина')\n",
        "display(start_parabola.vertex)\n",
        "\n",
        "print('\\nФокус')\n",
        "display(start_parabola.focus)\n",
        "\n",
        "print('\\nУгол наклона (в радианах)')\n",
        "display(start_parabola.get_angle)\n",
        "\n",
        "eq_parabola = start_parabola.equation()\n",
        "eq_directrix = start_parabola.dir_equation()\n",
        "eq_axis_symmetry = start_parabola.ax_sym_equation()\n",
        "\n",
        "print('\\nОсь симметрии')\n",
        "display(start_parabola.axis_symmetry)\n",
        "display(eq_axis_symmetry)\n",
        "\n",
        "print('\\nДиректриса')\n",
        "display(start_parabola.directrix)\n",
        "display(eq_directrix)\n",
        "\n",
        "print('\\nУравнение параболы')\n",
        "display(eq_parabola)\n",
        "\n",
        "\n",
        "\n",
        "print('\\n--------------------\\n')\n",
        "\n",
        "\n",
        "\n",
        "print('Повернутая парабола:')\n",
        "\n",
        "print('\\nВершина')\n",
        "display(rotated_parabola.vertex)\n",
        "\n",
        "print('\\nФокус')\n",
        "display(rotated_parabola.focus)\n",
        "\n",
        "print('\\nУгол наклона (в радианах)')\n",
        "display(rotated_parabola.get_angle)\n",
        "\n",
        "eq_parabola = rotated_parabola.equation()\n",
        "eq_directrix = rotated_parabola.dir_equation()\n",
        "eq_axis_symmetry = rotated_parabola.ax_sym_equation()\n",
        "\n",
        "print('\\nОсь симметрии')\n",
        "display(rotated_parabola.axis_symmetry)\n",
        "display(eq_axis_symmetry)\n",
        "\n",
        "print('\\nДиректриса')\n",
        "display(rotated_parabola.directrix)\n",
        "display(eq_directrix)\n",
        "\n",
        "print('\\nУравнение параболы')\n",
        "display(eq_parabola)"
      ]
    },
    {
      "cell_type": "markdown",
      "metadata": {},
      "source": [
        "Хорасанджян Левон, вариант №157"
      ]
    }
  ],
  "metadata": {
    "colab": {
      "collapsed_sections": [],
      "name": "Alg_16_2021_22_par_task.ipynb",
      "provenance": []
    },
    "kernelspec": {
      "display_name": "Python 3",
      "language": "python",
      "name": "python3"
    },
    "language_info": {
      "codemirror_mode": {
        "name": "ipython",
        "version": 3
      },
      "file_extension": ".py",
      "mimetype": "text/x-python",
      "name": "python",
      "nbconvert_exporter": "python",
      "pygments_lexer": "ipython3",
      "version": "3.7.3"
    }
  },
  "nbformat": 4,
  "nbformat_minor": 0
}
