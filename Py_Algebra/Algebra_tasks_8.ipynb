{
 "cells": [
  {
   "cell_type": "code",
   "execution_count": 1,
   "metadata": {
    "id": "xakB6v5rfgFZ"
   },
   "outputs": [],
   "source": [
    "import sympy\n",
    "from sympy import  Point, Line, Plane, Point3D, Segment, Ray, S, latex, Eq\n",
    "import matplotlib.pyplot as plt"
   ]
  },
  {
   "cell_type": "markdown",
   "metadata": {
    "id": "NILK48I4fgFd"
   },
   "source": [
    "# Практическое занятие 8\n",
    "# Алгебра\n",
    "https://docs.sympy.org/latest/search.html?q=geometry\n",
    "\n",
    "## Проекции, сегменты, лучи в модуле Geometry\n",
    "### Задание 1.\n",
    "Даны точки: $A(3, -2, 3)$,  $B(-2, 3, 1)$, \n",
    "$C(1, -8, 6)$, \n",
    "$D(1, 2, 4)$, \n",
    "$F(-7, 8, -1)$.\n",
    "\n",
    "Составить отрезки $AB$ и $AC$ и лучи $CD$ и $BF$.\n",
    "\n",
    "Найти: \n",
    "\n",
    "а) угол между лучами $CD$ и $BF$\n",
    "\n",
    "б) направления луча $CD$ (xdirection, ydirection, zdirection)\n",
    "\n",
    "в) длину отрезка $AB$\n",
    "\n",
    "г) середину отрезка $AB$"
   ]
  },
  {
   "cell_type": "code",
   "execution_count": 20,
   "metadata": {
    "id": "plyL1jWrfgFe"
   },
   "outputs": [],
   "source": [
    "A = Point(3, -2, 3)\n",
    "B = Point(-2, 3, 1)\n",
    "C = Point(1, -8, 6)\n",
    "D = Point(1, 2 ,4)\n",
    "F = Point(-7, 8, -1)\n",
    "\n",
    "AB = Segment(A, B)\n",
    "AC = Segment(A, C)\n",
    "CD = Ray(C, D)\n",
    "BF = Ray(B, F)"
   ]
  },
  {
   "cell_type": "code",
   "execution_count": 21,
   "metadata": {
    "id": "rssdzsGWzZON"
   },
   "outputs": [
    {
     "data": {
      "text/latex": [
       "$\\displaystyle \\operatorname{acos}{\\left(\\frac{3 \\sqrt{39}}{26} \\right)}$"
      ],
      "text/plain": [
       "acos(3*sqrt(39)/26)"
      ]
     },
     "metadata": {},
     "output_type": "display_data"
    },
    {
     "name": "stdout",
     "output_type": "stream",
     "text": [
      "\n",
      "Xdir:\n"
     ]
    },
    {
     "data": {
      "text/latex": [
       "$\\displaystyle 0$"
      ],
      "text/plain": [
       "0"
      ]
     },
     "metadata": {},
     "output_type": "display_data"
    },
    {
     "name": "stdout",
     "output_type": "stream",
     "text": [
      "Ydir:\n"
     ]
    },
    {
     "data": {
      "text/latex": [
       "$\\displaystyle \\infty$"
      ],
      "text/plain": [
       "oo"
      ]
     },
     "metadata": {},
     "output_type": "display_data"
    },
    {
     "name": "stdout",
     "output_type": "stream",
     "text": [
      "Zdir:\n"
     ]
    },
    {
     "data": {
      "text/latex": [
       "$\\displaystyle -\\infty$"
      ],
      "text/plain": [
       "-oo"
      ]
     },
     "metadata": {},
     "output_type": "display_data"
    },
    {
     "name": "stdout",
     "output_type": "stream",
     "text": [
      "\n"
     ]
    },
    {
     "data": {
      "text/latex": [
       "$\\displaystyle 3 \\sqrt{6}$"
      ],
      "text/plain": [
       "3*sqrt(6)"
      ]
     },
     "metadata": {},
     "output_type": "display_data"
    },
    {
     "name": "stdout",
     "output_type": "stream",
     "text": [
      "\n"
     ]
    },
    {
     "data": {
      "text/latex": [
       "$\\displaystyle Point3D\\left(\\frac{1}{2}, \\frac{1}{2}, 2\\right)$"
      ],
      "text/plain": [
       "Point3D(1/2, 1/2, 2)"
      ]
     },
     "metadata": {},
     "output_type": "display_data"
    }
   ],
   "source": [
    "# пункт а\n",
    "display(CD.angle_between(BF))\n",
    "\n",
    "print()\n",
    "\n",
    "# пункт б\n",
    "print(\"Xdir:\")\n",
    "display(CD.xdirection)\n",
    "print(\"Ydir:\")\n",
    "display(CD.ydirection)\n",
    "print(\"Zdir:\")\n",
    "display(CD.zdirection)\n",
    "\n",
    "print()\n",
    "\n",
    "# пункт в\n",
    "display(AB.length)\n",
    "\n",
    "print()\n",
    "\n",
    "# пункт г\n",
    "display(AB.midpoint)"
   ]
  },
  {
   "cell_type": "markdown",
   "metadata": {
    "id": "XSbnLkTVfgFe"
   },
   "source": [
    "### Задание 2.\n",
    "Построить прямую $CD$ и проекцию точки $F$ и отрезка $AB$  на эту прямую."
   ]
  },
  {
   "cell_type": "code",
   "execution_count": 22,
   "metadata": {
    "id": "tYSNLnZYfgFf"
   },
   "outputs": [
    {
     "data": {
      "text/latex": [
       "$\\displaystyle Point3D\\left(1, \\frac{227}{26}, \\frac{69}{26}\\right)$"
      ],
      "text/plain": [
       "Point3D(1, 227/26, 69/26)"
      ]
     },
     "metadata": {},
     "output_type": "display_data"
    },
    {
     "data": {
      "text/latex": [
       "$\\displaystyle Segment3D\\left(Point3D\\left(1, - \\frac{43}{26}, \\frac{123}{26}\\right), Point3D\\left(1, \\frac{46}{13}, \\frac{48}{13}\\right)\\right)$"
      ],
      "text/plain": [
       "Segment3D(Point3D(1, -43/26, 123/26), Point3D(1, 46/13, 48/13))"
      ]
     },
     "metadata": {},
     "output_type": "display_data"
    }
   ],
   "source": [
    "CD = Line(C, D)\n",
    "AB = Segment(A, B)\n",
    "display(CD.projection(F))\n",
    "display(CD.projection(AB))"
   ]
  },
  {
   "cell_type": "markdown",
   "metadata": {
    "id": "h5FAbVSrfgFf"
   },
   "source": [
    "### Задание 3.\n",
    "Построить серединный перпендикуляр отрезка $AC$, проходящий через точку $(8, -7, 9/2)$.\n",
    "\n",
    "Указание: должен получиться сегмент, использовать S(9)/2."
   ]
  },
  {
   "cell_type": "code",
   "execution_count": 23,
   "metadata": {
    "id": "jKul5ebxfgFf"
   },
   "outputs": [
    {
     "data": {
      "text/latex": [
       "$\\displaystyle Segment3D\\left(Point3D\\left(8, -7, \\frac{9}{2}\\right), Point3D\\left(2, -5, \\frac{9}{2}\\right)\\right)$"
      ],
      "text/plain": [
       "Segment3D(Point3D(8, -7, 9/2), Point3D(2, -5, 9/2))"
      ]
     },
     "execution_count": 23,
     "metadata": {},
     "output_type": "execute_result"
    }
   ],
   "source": [
    "AC = Segment(A, C)\n",
    "AC.perpendicular_bisector(Point(8, -7, 9/2))"
   ]
  },
  {
   "cell_type": "markdown",
   "metadata": {
    "id": "fKoPA-TifgFg"
   },
   "source": [
    "### Задание 4\n",
    "Даны точки: $A(3, -2)$, $B(-2, 3)$, $C(1, -8)$.\n",
    "\n",
    "Построить на общем графике отрезки $AB$ и $AC$, серединный перпендикуляр отрезка  $AC$.\n",
    "\n",
    "Точки $A$, $B$ и $C$ отметить и подписать именами.\n",
    "\n",
    "Для одинакового масштаба по осям использовать \n",
    "ax.set_aspect('equal')"
   ]
  },
  {
   "cell_type": "code",
   "execution_count": 24,
   "metadata": {
    "id": "wnoWfQI1fgFg"
   },
   "outputs": [
    {
     "data": {
      "text/plain": [
       "<matplotlib.collections.PathCollection at 0x1fc663ae8e0>"
      ]
     },
     "execution_count": 24,
     "metadata": {},
     "output_type": "execute_result"
    },
    {
     "data": {
      "image/png": "[encoded data removed]",
      "text/plain": [
       "<Figure size 432x288 with 1 Axes>"
      ]
     },
     "metadata": {
      "needs_background": "light"
     },
     "output_type": "display_data"
    }
   ],
   "source": [
    "A = Point(3, -2)\n",
    "B = Point(-2, 3)\n",
    "C = Point(1, -8) \n",
    "AB = Segment(A, B)\n",
    "AC = Segment(A, C)\n",
    "mid_perp_AC = AC.perpendicular_bisector()\n",
    "\n",
    "point_dict = {A: 'A', B: 'B', C: 'C'}\n",
    "X = []\n",
    "Y = []\n",
    "ax = plt.gca()\n",
    "ax.set_aspect('equal')\n",
    "for point in (point_dict.keys()): \n",
    "    x_coord = point.x\n",
    "    y_coord = point.y\n",
    "    X.append(x_coord)\n",
    "    Y.append(y_coord)\n",
    "    ax.annotate(point_dict[point],\n",
    "            xy=(x_coord, y_coord), xycoords='data',\n",
    "            xytext=(x_coord + 0.5, y_coord + 0.5), textcoords='data') \n",
    "ax.plot([A.x, B.x], [A.y, B.y])\n",
    "ax.plot([A.x, C.x], [A.y, C.y])\n",
    "ax.plot([mid_perp_AC.p1.x, mid_perp_AC.p2.x], [mid_perp_AC.p1.y, mid_perp_AC.p2.y], label = latex(mid_perp_AC.equation(x='x', y='y'), mode='inline'))\n",
    "ax.legend()\n",
    "ax.scatter(X, Y)"
   ]
  },
  {
   "cell_type": "markdown",
   "metadata": {
    "id": "B70hvkAZfgFg"
   },
   "source": [
    "### Индивидуальное задание.\n",
    "Даны точки на плоскости. \n",
    "\n",
    "Построить отрезок $LM$ и луч $MN$, составить уравнения серединного перпендикуляра  к $LM$ и перпендикуляра к $MN$, проходящего через точку $P$, найти точку пересечения перпендикуляров.\n",
    "\n",
    "Построить на графике отрезок, луч (в виде отрезка) и оба перпендикуляра, отметить и подписать концы отрезка и начало луча (точку M), а также точку пересечения перпендикуляров и основания перпендикуляров (точки пересечения перпендикуляров с отрезком и лучом соответственно).\n",
    "\n",
    "В легенду включить уравнения перпендикуляров и уравнения прямых, на которых лежат отрезок и\n",
    " луч."
   ]
  },
  {
   "cell_type": "code",
   "execution_count": 12,
   "metadata": {
    "id": "93FuNdCZfgFh"
   },
   "outputs": [
    {
     "data": {
      "text/plain": [
       "<matplotlib.collections.PathCollection at 0x144a8be7280>"
      ]
     },
     "execution_count": 12,
     "metadata": {},
     "output_type": "execute_result"
    },
    {
     "data": {
      "image/png": "[encoded data removed]",
      "text/plain": [
       "<Figure size 432x288 with 1 Axes>"
      ]
     },
     "metadata": {
      "needs_background": "light"
     },
     "output_type": "display_data"
    }
   ],
   "source": [
    "L = Point(3, -4)\n",
    "M = Point(11, 4)\n",
    "N = Point(5, 14)\n",
    "P = Point(9/2, 19/2)\n",
    "LM = Segment(L, M)\n",
    "MN = Ray(M, N)\n",
    "mid_perp_LM = LM.perpendicular_bisector()\n",
    "temperary_P_perp_MN = MN.perpendicular_line(P)\n",
    "crossPoint1 = temperary_P_perp_MN.intersection(MN)[0]\n",
    "P_perp_MN = Line(crossPoint1, P)\n",
    "crossPoint2 = mid_perp_LM.intersection(LM)[0]\n",
    "crossPoint3 = mid_perp_LM.intersection(P_perp_MN)[0]\n",
    "point_dict = {L: 'L', M: 'M', N: 'N', P: 'P', crossPoint1: 'crossPoint1', crossPoint2: 'crossPoint2', crossPoint3: 'crossPoint3'}\n",
    "X = []\n",
    "Y = []\n",
    "ax = plt.gca()\n",
    "ax.set_aspect('equal')\n",
    "for point in (point_dict.keys()): \n",
    "    x_coord = point.x\n",
    "    y_coord = point.y\n",
    "    X.append(x_coord)\n",
    "    Y.append(y_coord)\n",
    "    ax.annotate(point_dict[point],\n",
    "            xy=(x_coord, y_coord), xycoords='data',\n",
    "            xytext=(x_coord - 0.5, y_coord + 0.5), textcoords='data')\n",
    "# синий\n",
    "ax.plot([L.x, M.x], [L.y, M.y], label = latex(LM, mode='inline'))\n",
    "# оранжевый\n",
    "ax.plot([M.x, N.x], [M.y, N.y], label = latex(MN, mode='inline'))\n",
    "# зелёный\n",
    "ax.plot([mid_perp_LM.p1.x, mid_perp_LM.p2.x], [mid_perp_LM.p1.y, mid_perp_LM.p2.y], label = latex(mid_perp_LM.equation(x='x', y='y'), mode='inline'))\n",
    "# красный\n",
    "ax.plot([P_perp_MN.p1.x, crossPoint3.x], [P_perp_MN.p1.y, crossPoint3.y], label = latex(P_perp_MN.equation(x='x', y='y'), mode='inline'))\n",
    "\n",
    "ax.legend(loc = 'lower left', prop={'size': 1}) # МОЖНО УВЕЛИЧИТЬ SIZE!\n",
    "ax.set_ylim(-8, 18)\n",
    "ax.set_xlim(-5, 15)\n",
    "ax.scatter(X, Y)"
   ]
  },
  {
   "cell_type": "markdown",
   "metadata": {},
   "source": [
    "Хорасанджян Левон, вариант №157"
   ]
  }
 ],
 "metadata": {
  "colab": {
   "collapsed_sections": [],
   "name": "Alg_8_2021_22_tasks.ipynb",
   "provenance": []
  },
  "kernelspec": {
   "display_name": "Python 3",
   "language": "python",
   "name": "python3"
  },
  "language_info": {
   "codemirror_mode": {
    "name": "ipython",
    "version": 3
   },
   "file_extension": ".py",
   "mimetype": "text/x-python",
   "name": "python",
   "nbconvert_exporter": "python",
   "pygments_lexer": "ipython3",
   "version": "3.8.8"
  }
 },
 "nbformat": 4,
 "nbformat_minor": 1
}
