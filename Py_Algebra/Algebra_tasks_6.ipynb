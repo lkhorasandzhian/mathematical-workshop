{
 "cells": [
  {
   "cell_type": "code",
   "execution_count": 16,
   "metadata": {
    "id": "9bApoFTy2tRy"
   },
   "outputs": [],
   "source": [
    "import sympy\n",
    "from sympy import  Symbol, symbols, S, Point, Line, Plane, Point3D, Matrix"
   ]
  },
  {
   "cell_type": "markdown",
   "metadata": {
    "id": "5ZqL6UH72tR0"
   },
   "source": [
    "# Занятие 6\n",
    "# Алгебра\n",
    "\n",
    "##  Прямые и плоскости в пространстве. Geometry.\n",
    "### Задание 1.\n",
    "Найти угол между плоскостями $ABC$ и  $ABD$, где \n",
    "$A(-1, 2, -4)$,\n",
    "$B(2, -2, 1)$,\n",
    "$C(5, 3, -6)$,\n",
    "$D(0, 3, -6)$."
   ]
  },
  {
   "cell_type": "code",
   "execution_count": 2,
   "metadata": {
    "id": "wgUA2izF2tR2"
   },
   "outputs": [
    {
     "data": {
      "text/latex": [
       "$\\displaystyle \\operatorname{acos}{\\left(\\frac{99 \\sqrt{40454}}{20227} \\right)}$"
      ],
      "text/plain": [
       "acos(99*sqrt(40454)/20227)"
      ]
     },
     "execution_count": 2,
     "metadata": {},
     "output_type": "execute_result"
    }
   ],
   "source": [
    "A = Point(-1, 2, -4)\n",
    "B = Point(2, -2, 1)\n",
    "C = Point(5, 3, -6)\n",
    "D = Point(0, 3, -6)\n",
    "ABC = Plane(A, B, C)\n",
    "ABD = Plane(A, B, D)\n",
    "ABC.angle_between(ABD)"
   ]
  },
  {
   "cell_type": "markdown",
   "metadata": {
    "id": "3Cr8SC_p2tR2"
   },
   "source": [
    "### Задание 2.\n",
    "Найти угол между прямой, проходящей через точки $A(-3,5,1)$ и $B(5,2,-3)$ и плоскостью, в которой лежат точки \n",
    "$K(4,3,0)$, $M(2,4,-2)$ и $N(-2,2,-1)$."
   ]
  },
  {
   "cell_type": "code",
   "execution_count": 3,
   "metadata": {
    "id": "L_BT23AN2tR2"
   },
   "outputs": [
    {
     "data": {
      "text/latex": [
       "$\\displaystyle - \\operatorname{asin}{\\left(\\frac{86 \\sqrt{15397}}{15397} \\right)}$"
      ],
      "text/plain": [
       "-asin(86*sqrt(15397)/15397)"
      ]
     },
     "execution_count": 3,
     "metadata": {},
     "output_type": "execute_result"
    }
   ],
   "source": [
    "A = Point(-3, 5, 1)\n",
    "B = Point(5, 2, -3)\n",
    "AB = Line(A, B)\n",
    "\n",
    "K = Point(4, 3, 0)\n",
    "M = Point(2, 4, -2)\n",
    "N = Point(-2, 2, -1)\n",
    "KMN = Plane(K, M, N)\n",
    "\n",
    "KMN.angle_between(AB)"
   ]
  },
  {
   "cell_type": "markdown",
   "metadata": {
    "id": "Frcu2NPw2tR3"
   },
   "source": [
    "### Задание 3.\n",
    "Проверить, лежат ли точки в одной плоскости\n",
    "\n",
    "а) $A(3, 2, -1)$, $B(2, -1, 0)$, $C(5, 2, -6)$, $D(6, 5, -7)$\n",
    "\n",
    "b) $A(-1, 5, -4)$, $B(7, -2, 1)$, $C(6, 3, -8)$, $D(0, 3, 0)$\n",
    "\n",
    "Вывести на экран сообщение \"Точки лежат в одной плоскости\" или \"Точки не лежат в одной плоскости\"."
   ]
  },
  {
   "cell_type": "code",
   "execution_count": 4,
   "metadata": {
    "id": "vG9cg7R-2tR3"
   },
   "outputs": [
    {
     "name": "stdout",
     "output_type": "stream",
     "text": [
      "Точки лежат в одной плоскости\n",
      "Точки не лежат в одной плоскости\n"
     ]
    }
   ],
   "source": [
    "A = Point(3, 2, -1)\n",
    "B = Point(2, -1, 0)\n",
    "C = Point(5, 2, -6)\n",
    "D = Point(6, 5, -7)\n",
    "if Point3D.are_coplanar(A, B, C, D):\n",
    "  print(\"Точки лежат в одной плоскости\")\n",
    "else:\n",
    "  print(\"Точки не лежат в одной плоскости\")\n",
    "\n",
    "A = Point(-1, 5, -4)\n",
    "B = Point(7, -2, 1)\n",
    "C = Point(6, 3, -8)\n",
    "D = Point(0, 3, 0)\n",
    "if Point3D.are_coplanar(A, B, C, D):\n",
    "  print(\"Точки лежат в одной плоскости\")\n",
    "else:\n",
    "  print(\"Точки не лежат в одной плоскости\")"
   ]
  },
  {
   "cell_type": "markdown",
   "metadata": {
    "id": "QZ_bFRbf2tR3"
   },
   "source": [
    "###  Задание 4.\n",
    "Прямая задана параметрическими уравнениями:\n",
    "$$\n",
    "\\left\\{\\begin{matrix}\n",
    "x=2+5t\\\\\n",
    "y=-1-2t\\\\\n",
    "z=4-3t\n",
    "\\end{matrix}\\right..\n",
    "$$\n",
    "Представить прямую в виде линии пересечения двух плоскостей (вывести на экран уравнения плоскостей), \n",
    "одна из которых проходит через начало координат, а вторая плоскость перпендикулярна первой плоскости.\n",
    "\n",
    "Указание: сначала составить список правых частей параметрических уравнений, затем составить две различные точки на прямой и далее решить средствами для работы с прямыми и плоскостями из модуля Geometry."
   ]
  },
  {
   "cell_type": "code",
   "execution_count": 19,
   "metadata": {
    "id": "deDKiQhH2tR3"
   },
   "outputs": [
    {
     "data": {
      "text/latex": [
       "$\\displaystyle Plane\\left(Point3D\\left(2, -1, 4\\right), \\left( 11, \\  26, \\  1\\right)\\right)$"
      ],
      "text/plain": [
       "Plane(Point3D(2, -1, 4), (11, 26, 1))"
      ]
     },
     "metadata": {},
     "output_type": "display_data"
    },
    {
     "data": {
      "text/latex": [
       "$\\displaystyle Plane\\left(Point3D\\left(2, -1, 4\\right), \\left( 76, \\  -38, \\  152\\right)\\right)$"
      ],
      "text/plain": [
       "Plane(Point3D(2, -1, 4), (76, -38, 152))"
      ]
     },
     "metadata": {},
     "output_type": "display_data"
    }
   ],
   "source": [
    "t = Symbol('t')\n",
    "r_parts = [2+5*t, -1-2*t, 4-3*t]\n",
    "p_list1 = list()\n",
    "p_list2 = list()\n",
    "\n",
    "for el in r_parts:\n",
    "    p_list1.append(el.subs(t, 0))\n",
    "    p_list2.append(el.subs(t, 1))\n",
    "\n",
    "P1 = Point(p_list1[0], p_list1[1], p_list1[2])\n",
    "P2 = Point(p_list2[0], p_list2[1], p_list2[2])\n",
    "\n",
    "Plane1 = Plane(P1, P2, Point(0, 0, 0))  # первая плоскость, проходящая через две точки искомой прямой и начало координат\n",
    "Plane2 = Plane1.perpendicular_plane(P1, P2)  # вторая плоскость, перпендикулярная первой, причём их прямая пересечения - это искомая прямая\n",
    "\n",
    "display(Plane1, Plane2)"
   ]
  },
  {
   "cell_type": "markdown",
   "metadata": {
    "id": "m-m7FxoN2-mS"
   },
   "source": [
    "###  Задание 5.\n",
    "Для плоскостей Задания 1 найти векторы нормали (воспользоваться свойством normal_vector), преобразовать их в матрицы-столбцы и вычислить угол между плоскостями с помощью скалярного произведения. Сравнить с результатом Задания 1."
   ]
  },
  {
   "cell_type": "code",
   "execution_count": 5,
   "metadata": {
    "id": "O1qDJm0U37Zy"
   },
   "outputs": [
    {
     "data": {
      "text/latex": [
       "$\\displaystyle \\frac{99 \\sqrt{40454}}{20227}$"
      ],
      "text/plain": [
       "99*sqrt(40454)/20227"
      ]
     },
     "metadata": {},
     "output_type": "display_data"
    },
    {
     "data": {
      "text/latex": [
       "$\\displaystyle \\operatorname{acos}{\\left(\\frac{99 \\sqrt{40454}}{20227} \\right)}$"
      ],
      "text/plain": [
       "acos(99*sqrt(40454)/20227)"
      ]
     },
     "metadata": {},
     "output_type": "display_data"
    },
    {
     "data": {
      "text/latex": [
       "$\\displaystyle 0.1767$"
      ],
      "text/plain": [
       "0.1767"
      ]
     },
     "metadata": {},
     "output_type": "display_data"
    }
   ],
   "source": [
    "A = Point(-1, 2, -4)\n",
    "B = Point(2, -2, 1)\n",
    "C = Point(5, 3, -6)\n",
    "D = Point(0, 3, -6)\n",
    "\n",
    "ABC = Plane(A, B, C)\n",
    "ABD = Plane(A, B, D)\n",
    "\n",
    "vect1 = ABC.normal_vector\n",
    "vect2 = ABD.normal_vector\n",
    "\n",
    "col1 = Matrix(vect1)\n",
    "col2 = Matrix(vect2)\n",
    "\n",
    "cos_phi = col1.dot(col2) / sympy.sqrt((col1.dot(col1)) * (col2.dot(col2)))\n",
    "phi = sympy.acos(cos_phi)\n",
    "display(cos_phi, phi, round(phi, 4))"
   ]
  },
  {
   "cell_type": "markdown",
   "metadata": {
    "id": "zOUIWmYZ2tR4"
   },
   "source": [
    "###  Задание 6*.\n",
    "Даны точки  пространстве\n",
    "$A(-2, 7, -5)$, $B(6, 2, -4)$, $C(14, -3, -2)$, $D(22, -8, -2)$, $K(30, -7, -4)$,\n",
    "$M(94, -35, -2)$.\n",
    "\n",
    "Определить, какие тройки точек лежат на одной прямой, какие четверки - в одной плоскости.\n",
    "\n",
    "Для проверки того, что три точки лежат на одной прямой использовать Point3D.are_collinear.\n",
    "\n",
    "Вывести на экран тройки точек, лежащие на одной прямой и четверки точек, лежащих в одной плоскости."
   ]
  },
  {
   "cell_type": "code",
   "execution_count": null,
   "metadata": {
    "id": "I2eyOGQy2tR4"
   },
   "outputs": [],
   "source": []
  },
  {
   "cell_type": "markdown",
   "metadata": {
    "id": "pkTcIdfl2tR4"
   },
   "source": [
    "###  Задание 7*.\n",
    "Составить уравнения всех (различных!) плоскостей, определяемых точками задания 5.\n",
    "\n",
    "Указание: решать аналогично Примеру 11, проверить, что $A$, $B$, $C$ не лежат на одной прямой и составить плоскость $ABC$, включить ее в список плоскостей. "
   ]
  },
  {
   "cell_type": "code",
   "execution_count": null,
   "metadata": {
    "id": "qATyCaiv2tR4"
   },
   "outputs": [],
   "source": []
  },
  {
   "cell_type": "markdown",
   "metadata": {
    "id": "MAw3Av4Y2tR5"
   },
   "source": [
    "### Индивидуальное задание\n",
    "Даны точки в пространстве\n",
    "$A$, $B$, $C$ и\n",
    "$M$.\n",
    "\n",
    "Найти угол между прямой $AB$ и плоскостью $z = 0$, угол между $AC$ и $CM$, угол между плоскостями $ABC$ и $BCM$.\n",
    "\n",
    "Составить уравнение: \n",
    "\n",
    "a) плоскости, параллельной $ABC$ и проходящей через начало координат,\n",
    "\n",
    "b) плоскости, перпендикулярной $ABC$ и проходящей через $A$ и $M$,\n",
    "\n",
    "c) прямой, перпендикулярной $ABC$ и проходящей через $C$."
   ]
  },
  {
   "cell_type": "code",
   "execution_count": 6,
   "metadata": {
    "id": "__YmDMZK2tR5"
   },
   "outputs": [
    {
     "data": {
      "text/latex": [
       "$\\displaystyle \\operatorname{asin}{\\left(\\frac{3 \\sqrt{29}}{29} \\right)}$"
      ],
      "text/plain": [
       "asin(3*sqrt(29)/29)"
      ]
     },
     "metadata": {},
     "output_type": "display_data"
    },
    {
     "data": {
      "text/latex": [
       "$\\displaystyle \\operatorname{acos}{\\left(- \\frac{\\sqrt{442}}{26} \\right)}$"
      ],
      "text/plain": [
       "acos(-sqrt(442)/26)"
      ]
     },
     "metadata": {},
     "output_type": "display_data"
    },
    {
     "name": "stdout",
     "output_type": "stream",
     "text": [
      "a)\n"
     ]
    },
    {
     "data": {
      "text/latex": [
       "$\\displaystyle - 4 x + 2 y + 4 z + 2$"
      ],
      "text/plain": [
       "-4*x + 2*y + 4*z + 2"
      ]
     },
     "metadata": {},
     "output_type": "display_data"
    },
    {
     "name": "stdout",
     "output_type": "stream",
     "text": [
      "\n",
      "b)\n"
     ]
    },
    {
     "data": {
      "text/latex": [
       "$\\displaystyle 8 x - 40 y + 28 z + 428$"
      ],
      "text/plain": [
       "8*x - 40*y + 28*z + 428"
      ]
     },
     "metadata": {},
     "output_type": "display_data"
    },
    {
     "name": "stdout",
     "output_type": "stream",
     "text": [
      "\n",
      "c)\n"
     ]
    },
    {
     "data": {
      "text/latex": [
       "$\\displaystyle \\left( x + 2 y - 34, \\  x + z - 9\\right)$"
      ],
      "text/plain": [
       "(x + 2*y - 34, x + z - 9)"
      ]
     },
     "metadata": {},
     "output_type": "display_data"
    },
    {
     "name": "stdout",
     "output_type": "stream",
     "text": [
      "\n"
     ]
    }
   ],
   "source": [
    "F = Point(2, 9, -3)\n",
    "Q = Point(6, 7, -7)\n",
    "U = Point(12, 11, -3)\n",
    "V = Point(10, 9, -4)\n",
    "\n",
    "xy_plane = Plane(Point(2, 1, 0), Point(1, 2, 0), Point(1, 1, 0))\n",
    "display(xy_plane.angle_between(Line(Q, V)))\n",
    "display((Line(Q, U)).angle_between(Line(U, F)))\n",
    "Plane(Q, V, U).angle_between(Plane(V, U, F))\n",
    "\n",
    "# пункт а)\n",
    "print(\"a)\")\n",
    "display(Plane(Q, V, U).parallel_plane(F).equation())\n",
    "print()\n",
    "\n",
    "# пункт b)\n",
    "print(\"b)\")\n",
    "display(Plane(Q, V, U).perpendicular_plane(Q, U).equation())\n",
    "print()\n",
    "\n",
    "# пункт c)\n",
    "print(\"c)\")\n",
    "temp_plane = Plane(Q, V, U).perpendicular_line(U)\n",
    "display(temp_plane.equation())\n",
    "print()"
   ]
  },
  {
   "cell_type": "markdown",
   "metadata": {},
   "source": [
    "Хорасанджян Левон, вариант №157"
   ]
  }
 ],
 "metadata": {
  "colab": {
   "collapsed_sections": [],
   "name": "Alg_6_2021_22_tasks.ipynb",
   "provenance": []
  },
  "kernelspec": {
   "display_name": "Python 3",
   "language": "python",
   "name": "python3"
  },
  "language_info": {
   "codemirror_mode": {
    "name": "ipython",
    "version": 3
   },
   "file_extension": ".py",
   "mimetype": "text/x-python",
   "name": "python",
   "nbconvert_exporter": "python",
   "pygments_lexer": "ipython3",
   "version": "3.8.8"
  }
 },
 "nbformat": 4,
 "nbformat_minor": 1
}
