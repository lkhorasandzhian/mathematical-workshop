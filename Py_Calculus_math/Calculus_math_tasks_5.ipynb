{
 "cells": [
  {
   "cell_type": "markdown",
   "metadata": {},
   "source": [
    "## Практическое занятие 5\n",
    "## Математический анализ\n",
    "## Численное решение нелинейных уравнений: nsolve\n",
    "https://docs.sympy.org/latest/modules/solvers/solvers.html?highlight=nsolve#sympy.solvers.solvers.nsolve\n",
    "\n",
    "#### Уравнение в форме $f(x)=0$"
   ]
  },
  {
   "cell_type": "code",
   "execution_count": 1,
   "metadata": {},
   "outputs": [],
   "source": [
    "import numpy as np\n",
    "import sympy\n",
    "from sympy import nsolve\n",
    "import matplotlib.pyplot as plt\n",
    "%matplotlib inline"
   ]
  },
  {
   "cell_type": "markdown",
   "metadata": {},
   "source": [
    "### Задача 1\n",
    "Решить уравнение $𝑥^4−e^x=0$ при $-2 \\le x \\le 2$, построить график левой части, отметить точки пересечения с осью ОХ."
   ]
  },
  {
   "cell_type": "code",
   "execution_count": 2,
   "metadata": {},
   "outputs": [
    {
     "data": {
      "text/latex": [
       "$\\displaystyle \\left\\{x\\; \\middle|\\; x \\in \\mathbb{C} \\wedge x^{4} - e^{x} = 0 \\right\\}$"
      ],
      "text/plain": [
       "ConditionSet(x, Eq(x**4 - exp(x), 0), Complexes)"
      ]
     },
     "metadata": {},
     "output_type": "display_data"
    },
    {
     "name": "stdout",
     "output_type": "stream",
     "text": [
      "Решения:\n"
     ]
    },
    {
     "data": {
      "text/latex": [
       "$\\displaystyle -0.815553418808961$"
      ],
      "text/plain": [
       "-0.815553418808961"
      ]
     },
     "metadata": {},
     "output_type": "display_data"
    },
    {
     "data": {
      "text/latex": [
       "$\\displaystyle 1.42961182472556$"
      ],
      "text/plain": [
       "1.42961182472556"
      ]
     },
     "metadata": {},
     "output_type": "display_data"
    },
    {
     "data": {
      "image/png": "[encoded data removed]",
      "text/plain": [
       "<Figure size 432x288 with 1 Axes>"
      ]
     },
     "metadata": {
      "needs_background": "light"
     },
     "output_type": "display_data"
    }
   ],
   "source": [
    "import numpy as np\n",
    "import sympy\n",
    "from sympy import *\n",
    "import matplotlib.pyplot as plt\n",
    "%matplotlib inline\n",
    "def f(x):\n",
    "  return x**4-E**x\n",
    "x,y,z = symbols(\"x y z\")\n",
    "display(solveset(f(x)))\n",
    "X = np.linspace(-2, 2, 100)\n",
    "ax = plt.gca()\n",
    "ax.spines['right'].set_color('none')\n",
    "ax.spines['top'].set_color('none')\n",
    "ax.spines['bottom'].set_position(('data', 0))\n",
    "ax.spines['left'].set_position(('data', 0))\n",
    "roots= solve(f(x))[:2]\n",
    "y_coord = [0]*len(roots)\n",
    "ax.scatter(roots, y_coord)\n",
    "ax.plot(X, f(X))\n",
    "print(\"Решения:\")\n",
    "display(nsolve(x**4 - E**x,x, -2))\n",
    "display(nsolve(x**4 - E**x,x, 2))"
   ]
  },
  {
   "cell_type": "markdown",
   "metadata": {},
   "source": [
    "### Задача 2.\n",
    "Решить уравнение $\\sin^2(2x)=\\ln x$ при $0< x \\le 3$. Построить графики левой и правой части, отметить точку пересечения графиков."
   ]
  },
  {
   "cell_type": "code",
   "execution_count": 3,
   "metadata": {},
   "outputs": [
    {
     "name": "stdout",
     "output_type": "stream",
     "text": [
      "Решения:\n"
     ]
    },
    {
     "name": "stderr",
     "output_type": "stream",
     "text": [
      "<ipython-input-3-5d75602423f0>:4: RuntimeWarning: divide by zero encountered in log\n",
      "  return np.log(x)\n"
     ]
    },
    {
     "data": {
      "text/latex": [
       "$\\displaystyle 1.30133323382849$"
      ],
      "text/plain": [
       "1.30133323382849"
      ]
     },
     "metadata": {},
     "output_type": "display_data"
    },
    {
     "data": {
      "text/latex": [
       "$\\displaystyle 2.08594344788353$"
      ],
      "text/plain": [
       "2.08594344788353"
      ]
     },
     "metadata": {},
     "output_type": "display_data"
    },
    {
     "data": {
      "text/latex": [
       "$\\displaystyle 2.50217038800416$"
      ],
      "text/plain": [
       "2.50217038800416"
      ]
     },
     "metadata": {},
     "output_type": "display_data"
    },
    {
     "data": {
      "image/png": "[encoded data removed]",
      "text/plain": [
       "<Figure size 432x288 with 1 Axes>"
      ]
     },
     "metadata": {
      "needs_background": "light"
     },
     "output_type": "display_data"
    }
   ],
   "source": [
    "def f(x):\n",
    "  return np.sin(2*x) ** 2\n",
    "def g(x):\n",
    "  return np.log(x)\n",
    "X = np.linspace(0, 3, 100)\n",
    "ax = plt.gca()\n",
    "ax.spines['right'].set_color('none')\n",
    "ax.spines['top'].set_color('none')\n",
    "ax.spines['bottom'].set_position(('data', 0))\n",
    "ax.spines['left'].set_position(('data', 0))\n",
    "roots = [sympy.nsolve(sympy.Eq(sin(2*x) ** 2, log(x)), x,\n",
    " interval) for interval in [1, 2, 2.7]]\n",
    "y_coord = [f(float(root)) for root in roots]\n",
    "ax.scatter(roots, y_coord)\n",
    "\n",
    "ax.plot(X, f(X))\n",
    "ax.plot(X, g(X))\n",
    "print(\"Решения:\")\n",
    "display(nsolve(sin(2*x) ** 2 - log(x),x, 1))\n",
    "display(nsolve(sin(2*x) ** 2 - log(x),x, 2))\n",
    "display(nsolve(sin(2*x) ** 2 - log(x),x, 2.7))"
   ]
  },
  {
   "cell_type": "markdown",
   "metadata": {},
   "source": [
    "### Задача 3.\n",
    "Решить уравнение $\\sin^2(2x^2-7x+6)=3/4$ на $[3, 4]$. Построить графики левой и правой части, отметить точки пересечения графиков."
   ]
  },
  {
   "cell_type": "code",
   "execution_count": 4,
   "metadata": {},
   "outputs": [
    {
     "name": "stdout",
     "output_type": "stream",
     "text": [
      "Решения:\n"
     ]
    },
    {
     "data": {
      "text/latex": [
       "$\\displaystyle 3.2186371581821$"
      ],
      "text/plain": [
       "3.21863715818210"
      ]
     },
     "metadata": {},
     "output_type": "display_data"
    },
    {
     "data": {
      "text/latex": [
       "$\\displaystyle 3.38722138942523$"
      ],
      "text/plain": [
       "3.38722138942523"
      ]
     },
     "metadata": {},
     "output_type": "display_data"
    },
    {
     "data": {
      "text/latex": [
       "$\\displaystyle 3.68072303274915$"
      ],
      "text/plain": [
       "3.68072303274915"
      ]
     },
     "metadata": {},
     "output_type": "display_data"
    },
    {
     "data": {
      "text/latex": [
       "$\\displaystyle 3.8118657096878$"
      ],
      "text/plain": [
       "3.81186570968780"
      ]
     },
     "metadata": {},
     "output_type": "display_data"
    },
    {
     "data": {
      "image/png": "[encoded data removed]",
      "text/plain": [
       "<Figure size 432x288 with 1 Axes>"
      ]
     },
     "metadata": {
      "needs_background": "light"
     },
     "output_type": "display_data"
    }
   ],
   "source": [
    "def f(x):\n",
    "  return np.sin(2*(x**2) - 7*x + 6) ** 2\n",
    "def g(x):\n",
    "  return x*0 + (3/4)\n",
    "X = np.linspace(3, 4, 100)\n",
    "ax = plt.gca()\n",
    "ax.spines['right'].set_color('none')\n",
    "ax.spines['top'].set_color('none')\n",
    "roots = [sympy.nsolve(sympy.Eq(sin(2*(x**2) - 7*x + 6) ** 2, g(x)), x,\n",
    " interval) for interval in [3, 3.3, 3.5,3.7]]\n",
    "y_coord = [f(float(root)) for root in roots]\n",
    "ax.scatter(roots, y_coord)\n",
    "\n",
    "ax.plot(X, f(X))\n",
    "ax.plot(X, g(X))\n",
    "print(\"Решения:\")\n",
    "display(nsolve(sin(2*x**2-7*x+6) ** 2-3/4, x, 3))\n",
    "display(nsolve(sin(2*x**2-7*x+6) ** 2-3/4, x, 3.3))\n",
    "display(nsolve(sin(2*x**2-7*x+6) ** 2-3/4, x, 3.5))\n",
    "display(nsolve(sin(2*x**2-7*x+6) ** 2-3/4, x, 3.7))"
   ]
  },
  {
   "cell_type": "markdown",
   "metadata": {},
   "source": [
    "### Задача 4.\n",
    "Решить уравнение ${\\rm tg}^4(2x^2+1)-10=0$ на интервале $[0, 0.2]$ методом дихотомии. График строить не нужно."
   ]
  },
  {
   "cell_type": "code",
   "execution_count": 5,
   "metadata": {},
   "outputs": [
    {
     "name": "stderr",
     "output_type": "stream",
     "text": [
      "C:\\ProgramData\\Anaconda3\\lib\\site-packages\\sympy\\core\\relational.py:495: SymPyDeprecationWarning: \n",
      "\n",
      "Eq(expr) with rhs default to 0 has been deprecated since SymPy 1.5.\n",
      "Use Eq(expr, 0) instead. See\n",
      "https://github.com/sympy/sympy/issues/16587 for more info.\n",
      "\n",
      "  SymPyDeprecationWarning(\n"
     ]
    },
    {
     "data": {
      "text/plain": [
       "[0.171066377483446, 0.171066377483446]"
      ]
     },
     "execution_count": 5,
     "metadata": {},
     "output_type": "execute_result"
    }
   ],
   "source": [
    "def f(x, lib='sympy'):\n",
    " if lib == 'sympy':\n",
    "  return sympy.tan(2*(x**2) + 1)**4 - 10\n",
    " if lib == 'numpy':\n",
    "  return np.tan(2*(x**2) + 1)**4 - 10\n",
    " return 'error'\n",
    "\n",
    "from sympy.abc import x\n",
    " \n",
    "roots = [sympy.nsolve(sympy.Eq(f(x, lib='sympy')), x, x0) for x0 in [0, 0.2]]\n",
    "roots"
   ]
  },
  {
   "cell_type": "markdown",
   "metadata": {},
   "source": [
    "### Задача 5.\n",
    "Решить систему уравнений \n",
    "$$\n",
    "\\left\\{\\begin{matrix}\n",
    "(x - 1)^2 + (y - 2)^2 + (z + 3)^2 = 25\\\\\n",
    "x + y + z = 0\\\\\n",
    "-2x + 3y - z = 7\n",
    "\\end{matrix}\\right.\n",
    "$$\n",
    "начальное приближение (0, 0, 0).\n",
    "Проверить подстановкой."
   ]
  },
  {
   "cell_type": "code",
   "execution_count": 6,
   "metadata": {},
   "outputs": [
    {
     "data": {
      "text/latex": [
       "$\\displaystyle \\left[\\begin{matrix}-2.08606699924184\\\\1.22848325018954\\\\0.857583749052298\\end{matrix}\\right]$"
      ],
      "text/plain": [
       "Matrix([\n",
       "[-2.08606699924184],\n",
       "[ 1.22848325018954],\n",
       "[0.857583749052298]])"
      ]
     },
     "metadata": {},
     "output_type": "display_data"
    },
    {
     "data": {
      "text/plain": [
       "True"
      ]
     },
     "execution_count": 6,
     "metadata": {},
     "output_type": "execute_result"
    }
   ],
   "source": [
    "def f(x, y, z):\n",
    "  return (x - 1)**2 + (y - 2)**2 + (z + 3)**2\n",
    "def g(x, y, z):\n",
    "  return x + y + z\n",
    "def h(x, y, z):\n",
    "  return(-2*x + 3*y - z)\n",
    "root = sympy.nsolve((sympy.Eq(f(x, y, z), 25), sympy.Eq(g(x, y, z), 0), sympy.Eq(h(x, y, z), 7)), (x, y, z), (0, 0, 0))\n",
    "display(root)\n",
    "x0, y0, z0 = root\n",
    "f(x0, y0, z0) == 25 and round(g(x0, y0, z0)) == 0 and h(x0, y0, z0) == 7"
   ]
  },
  {
   "cell_type": "markdown",
   "metadata": {},
   "source": [
    "Хорасанджян Левон, вариант №157"
   ]
  }
 ],
 "metadata": {
  "kernelspec": {
   "display_name": "Python 3",
   "language": "python",
   "name": "python3"
  },
  "language_info": {
   "codemirror_mode": {
    "name": "ipython",
    "version": 3
   },
   "file_extension": ".py",
   "mimetype": "text/x-python",
   "name": "python",
   "nbconvert_exporter": "python",
   "pygments_lexer": "ipython3",
   "version": "3.8.8"
  }
 },
 "nbformat": 4,
 "nbformat_minor": 2
}
