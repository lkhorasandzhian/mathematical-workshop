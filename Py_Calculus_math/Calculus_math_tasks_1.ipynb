{
 "cells": [
  {
   "cell_type": "markdown",
   "metadata": {},
   "source": [
    "## Практическое занятие 1\n",
    "## Математический анализ\n",
    "\n",
    "https://docs.sympy.org/latest/tutorial/intro.html"
   ]
  },
  {
   "cell_type": "code",
   "execution_count": 21,
   "metadata": {},
   "outputs": [],
   "source": [
    "from sympy import *"
   ]
  },
  {
   "cell_type": "markdown",
   "metadata": {},
   "source": [
    "### Функции пользователя\n",
    "#### Задание 1\n",
    "Описать функцию $f(x,n)=x(x+1)...(x+n-1)(x+n)$, $n>0$, вычислить  $f(3,5)$, $f(x,4)$, $f(y + z,1)$.      "
   ]
  },
  {
   "cell_type": "code",
   "execution_count": 7,
   "metadata": {},
   "outputs": [],
   "source": [
    "def func1(x, n):\n",
    "    temp = x\n",
    "    for i in range(1, n+1):\n",
    "        temp *= (x + i)\n",
    "    return temp"
   ]
  },
  {
   "cell_type": "code",
   "execution_count": 8,
   "metadata": {
    "scrolled": true
   },
   "outputs": [
    {
     "data": {
      "text/plain": [
       "20160"
      ]
     },
     "metadata": {},
     "output_type": "display_data"
    }
   ],
   "source": [
    "display(func1(3, 5))"
   ]
  },
  {
   "cell_type": "code",
   "execution_count": 9,
   "metadata": {},
   "outputs": [
    {
     "data": {
      "text/latex": [
       "$\\displaystyle x \\left(x + 1\\right) \\left(x + 2\\right) \\left(x + 3\\right) \\left(x + 4\\right)$"
      ],
      "text/plain": [
       "x*(x + 1)*(x + 2)*(x + 3)*(x + 4)"
      ]
     },
     "metadata": {},
     "output_type": "display_data"
    }
   ],
   "source": [
    "display(func1(Symbol(\"x\"), 4))"
   ]
  },
  {
   "cell_type": "code",
   "execution_count": 11,
   "metadata": {},
   "outputs": [
    {
     "data": {
      "text/latex": [
       "$\\displaystyle \\left(y + z\\right) \\left(y + z + 1\\right)$"
      ],
      "text/plain": [
       "(y + z)*(y + z + 1)"
      ]
     },
     "metadata": {},
     "output_type": "display_data"
    }
   ],
   "source": [
    "y,z = symbols('y z')\n",
    "display(func1(y + z, 1))"
   ]
  },
  {
   "cell_type": "markdown",
   "metadata": {},
   "source": [
    "#### Задание 2\n",
    "Описать функцию $right\\_ratio(f, x, delta\\_x)$, вычисляющую правое разностное отношение функции $f$ в точке $x$ при $\\Delta x$, т.е. $\\frac{f(x+\\Delta x)-f(x)}{\\Delta x}$. \n",
    "\n",
    "Аргумент $ delta\\_x$ по умолчанию равен 1.\n",
    "\n",
    "Вычислить правое разностное отношение $\\sin$ в точке $\\frac{\\pi}{4}$ со значением $\\Delta x$ равным  $\\frac{\\pi}{6}$ \n",
    "\n",
    "и правое разностное отношение $e^x$ при $x=3$ со значением $\\Delta x$  по умолчанию. Для вычисления $e^x$ воспользоваться функцией Sympy $\\exp(x)$."
   ]
  },
  {
   "cell_type": "code",
   "execution_count": 45,
   "metadata": {},
   "outputs": [
    {
     "data": {
      "text/latex": [
       "$\\displaystyle \\frac{6 \\left(- \\frac{\\sqrt{2}}{4} + \\frac{\\sqrt{6}}{4}\\right)}{\\pi}$"
      ],
      "text/plain": [
       "6*(-sqrt(2)/4 + sqrt(6)/4)/pi"
      ]
     },
     "metadata": {},
     "output_type": "display_data"
    },
    {
     "data": {
      "text/latex": [
       "$\\displaystyle - e^{3} + e^{4}$"
      ],
      "text/plain": [
       "-exp(3) + exp(4)"
      ]
     },
     "metadata": {},
     "output_type": "display_data"
    }
   ],
   "source": [
    "def right_ratio(f, x, delta_x = 1):\n",
    "    return (f(x + delta_x) - f(x)) / delta_x\n",
    "display(right_ratio(sin,pi/4, pi/6))\n",
    "display(right_ratio(exp,3))"
   ]
  },
  {
   "cell_type": "markdown",
   "metadata": {},
   "source": [
    "#### Задание 3\n",
    "Опиcать функцию $square\\_roots$, возвращающую корни квадратного уравнения $a x^2 + bx + c = 0$  с вещественными аргументами $a\\neq 0$, b, c и  необязательным параметром $is\\_real$, по умолчанию равным $True$. Функция возвращает список корней уравнения. Если корни комплексные, а $is\\_real=True$, то функция возвращает пустой список. Если корень один, то в списке корней он тоже должен быть один.\n",
    "\n",
    "Решить уравнения в вещественных числах:\n",
    "\n",
    "а) $3x^2+8x+4=0$, \n",
    "\n",
    "б) $x^2-4x+4=0$\n",
    "\n",
    "в) $2x^2+x+1=0$\n",
    "\n",
    "Уравнение в) решить отдельно в комплексных числах.\n",
    "\n",
    "Для красивого представления комплексных чисел можно воспользоваться функцией display.\n",
    "\n",
    "Если элементы списка нужно выводить в столбик, можно воспользоваться display(\\*имя_списка) (\\* в данном случае служебный символ)"
   ]
  },
  {
   "cell_type": "code",
   "execution_count": 125,
   "metadata": {},
   "outputs": [
    {
     "name": "stdout",
     "output_type": "stream",
     "text": [
      "пункт а)\n"
     ]
    },
    {
     "data": {
      "text/latex": [
       "$\\displaystyle - \\frac{2}{3}$"
      ],
      "text/plain": [
       "-2/3"
      ]
     },
     "metadata": {},
     "output_type": "display_data"
    },
    {
     "data": {
      "text/latex": [
       "$\\displaystyle -2$"
      ],
      "text/plain": [
       "-2"
      ]
     },
     "metadata": {},
     "output_type": "display_data"
    },
    {
     "name": "stdout",
     "output_type": "stream",
     "text": [
      "\n",
      "пункт б)\n"
     ]
    },
    {
     "data": {
      "text/plain": [
       "2.0"
      ]
     },
     "metadata": {},
     "output_type": "display_data"
    },
    {
     "name": "stdout",
     "output_type": "stream",
     "text": [
      "\n",
      "пункт в)(вещественные числа)\n",
      "EMPTY!\n",
      "\n",
      "пункт в)(комплексные числа)\n"
     ]
    },
    {
     "data": {
      "text/latex": [
       "$\\displaystyle - \\frac{1}{4} + \\frac{\\sqrt{7} i}{4}$"
      ],
      "text/plain": [
       "-1/4 + sqrt(7)*I/4"
      ]
     },
     "metadata": {},
     "output_type": "display_data"
    },
    {
     "data": {
      "text/latex": [
       "$\\displaystyle - \\frac{1}{4} - \\frac{\\sqrt{7} i}{4}$"
      ],
      "text/plain": [
       "-1/4 - sqrt(7)*I/4"
      ]
     },
     "metadata": {},
     "output_type": "display_data"
    }
   ],
   "source": [
    "def square_roots(a, b, c, is_real = True):\n",
    "    solves = []\n",
    "    D = b**2 - 4*a*c\n",
    "    if D < 0:\n",
    "        if (is_real == False):\n",
    "            x1 = (-b + sqrt(D)) / (2*a)\n",
    "            solves.append(x1)\n",
    "            x2 = (-b - sqrt(D)) / (2*a)\n",
    "            solves.append(x2)\n",
    "    elif D == 0:\n",
    "        x = (-b + D**0.5) / (2*a)\n",
    "        solves.append(x)\n",
    "    else:\n",
    "        x1 = (-b + sqrt(D)) / (2*a)\n",
    "        solves.append(x1)\n",
    "        x2 = (-b - sqrt(D)) / (2*a)\n",
    "        solves.append(x2)\n",
    "    if solves == []:\n",
    "        print(\"EMPTY!\")\n",
    "    display(*solves)\n",
    "\n",
    "print(\"пункт а)\")\n",
    "square_roots(3, 8, 4)\n",
    "print()\n",
    "\n",
    "print(\"пункт б)\")\n",
    "square_roots(1, -4, 4)\n",
    "print()\n",
    "\n",
    "print(\"пункт в)(вещественные числа)\")\n",
    "square_roots(2, 1, 1)\n",
    "print()\n",
    "\n",
    "print(\"пункт в)(комплексные числа)\")\n",
    "square_roots(2, 1, 1, False)"
   ]
  },
  {
   "cell_type": "markdown",
   "metadata": {},
   "source": [
    "#### Задание 4\n",
    "Описать функцию $check\\_eq(root\\_list, eq)$, проверяющую, что $x=root$ является решением уравнения $eq(x)=0$ для всех элементов списка root_list. Функция возвращает True, если все элементы списка являются корнями, если же хотя бы один не является, то результат False. В случае, если список пустой, $check\\_eq$ возвращает False. Обойтись только изученными на этом занятии средствами!\n",
    "\n",
    "С помощью $check\\_eq$ проверить, что $\\left[\\frac{\\pi}{3}, \\frac{2\\pi}{3}, \\frac{7\\pi}{3}\\right]$ являются корнями уравнения $\\sin(x)-\\frac{\\sqrt{3}}2=0$.\n",
    "\n",
    "##### Указание\n",
    "Описать функцию $eq\\_sin(x) = \\sin(x)-\\frac{\\sqrt{3}}2$.\n",
    "\n",
    "В цикле $for$ в роли счетчика можно использовать сами элементы списка, например так: "
   ]
  },
  {
   "cell_type": "code",
   "execution_count": 59,
   "metadata": {},
   "outputs": [
    {
     "data": {
      "text/plain": [
       "3"
      ]
     },
     "metadata": {},
     "output_type": "display_data"
    },
    {
     "data": {
      "text/plain": [
       "'a'"
      ]
     },
     "metadata": {},
     "output_type": "display_data"
    },
    {
     "data": {
      "text/latex": [
       "$\\displaystyle \\frac{\\sqrt{3}}{2}$"
      ],
      "text/plain": [
       "sqrt(3)/2"
      ]
     },
     "metadata": {},
     "output_type": "display_data"
    }
   ],
   "source": [
    "my_list = [3, 'a', sin(pi/3)]\n",
    "for item in my_list:\n",
    "    display(item)"
   ]
  },
  {
   "cell_type": "code",
   "execution_count": 12,
   "metadata": {},
   "outputs": [
    {
     "data": {
      "text/plain": [
       "True"
      ]
     },
     "execution_count": 12,
     "metadata": {},
     "output_type": "execute_result"
    }
   ],
   "source": [
    "def eq_sin(x):\n",
    "    return sin(x) - sqrt(3)/2\n",
    "\n",
    "def check_eq(root_list, eq):\n",
    "    if (root_list == []):\n",
    "        return False\n",
    "    for root in root_list:\n",
    "        if eq(root) != 0:\n",
    "            return False\n",
    "    return True\n",
    "\n",
    "check_eq([pi/3, 2*pi/3, 7*pi/3], eq_sin)"
   ]
  },
  {
   "cell_type": "markdown",
   "metadata": {},
   "source": [
    "#### Задание 5\n",
    "Описать функцию $less\\_c(my\\_list,c)$, возвращающую первый попавшийся элемент списка $my\\_list$, меньший $c$, и его номер в списке. Если таких элементов нет, возвращается ($None, None$).\n",
    "\n",
    "Вызвать функцию $less\\_c(my\\_list,c)$ со списком $my\\_list = [3, -2, 8]$ и $c = - 4$, затем с тем же списком, но $c = 1$.\n",
    "\n",
    "С помощью этой функции найти четное натуральное число $n$ до 100 (включительно), такое что $\\sin n <\\frac12$, построив предварительно список $list\\_sin$ синусов четных натуральных чисел (строить список с помощью for и range). "
   ]
  },
  {
   "cell_type": "code",
   "execution_count": 22,
   "metadata": {},
   "outputs": [
    {
     "data": {
      "text/plain": [
       "(None, None)"
      ]
     },
     "metadata": {},
     "output_type": "display_data"
    },
    {
     "data": {
      "text/plain": [
       "(-2, '#2')"
      ]
     },
     "metadata": {},
     "output_type": "display_data"
    },
    {
     "data": {
      "text/plain": [
       "(sin(4), '#2')"
      ]
     },
     "metadata": {},
     "output_type": "display_data"
    }
   ],
   "source": [
    "def less_c(my_list, c):\n",
    "    for i in range(len(my_list)):\n",
    "        if my_list[i] < c:\n",
    "            return (my_list[i], f\"#{i+1}\")  # вывод номера по расчёту, начиная с 1\n",
    "    return (None, None)\n",
    "\n",
    "display(less_c([3, -2, 8], -4))\n",
    "display(less_c([3, -2, 8], 1))\n",
    "\n",
    "list_sin = []\n",
    "for n in range(2, 100 + 1, 2):  # правый край невключительно с шагом 2, т. е. от 2 до 100 (набор чётных)\n",
    "    list_sin.append(sin(n))\n",
    "\n",
    "display(less_c(list_sin, 1/2))"
   ]
  },
  {
   "cell_type": "markdown",
   "metadata": {},
   "source": [
    "### Индивидуальное задание\n",
    "Вычислить значение функции $f$ с точностью до сотых в точках из списка $X$.\n",
    "#### Указание. \n",
    "Воспользуйтесь методом evalf() для получения приближенного значения. Значения $f$ в точках из списка $X$ выведите в виде списка."
   ]
  },
  {
   "cell_type": "code",
   "execution_count": 215,
   "metadata": {},
   "outputs": [
    {
     "data": {
      "text/plain": [
       "[0, -1.64895, -17.9385]"
      ]
     },
     "execution_count": 215,
     "metadata": {},
     "output_type": "execute_result"
    }
   ],
   "source": [
    "def f(X):\n",
    "    temp = log(el**2 + 4*el - 4) / tan(8*el**3 + 4*el - 2)\n",
    "    temp = temp.evalf(6)\n",
    "    return temp\n",
    "\n",
    "X = [1, 1 + 3*pi, 1 + 7*pi]\n",
    "new_X = []\n",
    "\n",
    "for el in X:\n",
    "    temp = f(el)\n",
    "    new_X.append(temp)\n",
    "\n",
    "new_X"
   ]
  },
  {
   "cell_type": "markdown",
   "metadata": {},
   "source": [
    "Хорасанджян Левон, вариант №157"
   ]
  }
 ],
 "metadata": {
  "kernelspec": {
   "display_name": "Python 3",
   "language": "python",
   "name": "python3"
  },
  "language_info": {
   "codemirror_mode": {
    "name": "ipython",
    "version": 3
   },
   "file_extension": ".py",
   "mimetype": "text/x-python",
   "name": "python",
   "nbconvert_exporter": "python",
   "pygments_lexer": "ipython3",
   "version": "3.8.8"
  }
 },
 "nbformat": 4,
 "nbformat_minor": 2
}
