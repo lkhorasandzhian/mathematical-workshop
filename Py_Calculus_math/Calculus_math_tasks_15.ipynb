{
  "cells": [
    {
      "cell_type": "code",
      "execution_count": null,
      "metadata": {
        "id": "pW7L7g793Cvg"
      },
      "outputs": [],
      "source": [
        "import sympy\n",
        "from sympy import S, Symbol, symbols, simplify, nonlinsolve, Matrix, diff, factor\n",
        "from sympy import log as Log"
      ]
    },
    {
      "cell_type": "markdown",
      "metadata": {
        "id": "DM5PfRcD3Cvl"
      },
      "source": [
        "## Занятие 15\n",
        "## Математический анализ\n",
        "## Экстремум функции нескольких переменных \n",
        "### Задание 1\n",
        "Найти точки экстремума:\n",
        "\n",
        "1) $z = x^2 + xy + y^2 - 2x - y$\n",
        "\n",
        "2) $z = x^3y^2(6 - x - y)$, $(x, y > 0)$\n",
        "\n",
        "3) $z = \\frac{8}{x} + \\frac{x}{y} + y$\n",
        "\n",
        "4) $z = \\frac{1 + x - y}{\\sqrt{1 + x^2 + y^2}}$\n",
        "###### Указание.\n",
        "Вначале найти стационарные точки. Составить определитель из вторых производных в произвольной точке. Подставляя найденные (вещественные) стационарные точки, решить вопрос о наличии экстремума."
      ]
    },
    {
      "cell_type": "code",
      "execution_count": null,
      "metadata": {
        "colab": {
          "base_uri": "https://localhost:8080/",
          "height": 56
        },
        "id": "Rnp8BU7W4ywx",
        "outputId": "be1afb7f-757e-4082-9ccf-915e1c6ac15d"
      },
      "outputs": [
        {
          "data": {
            "text/latex": [
              "$\\displaystyle \\left( 1, \\  0\\right)$"
            ],
            "text/plain": [
              "(1, 0)"
            ]
          },
          "metadata": {},
          "output_type": "display_data"
        },
        {
          "name": "stdout",
          "output_type": "stream",
          "text": [
            "Есть\n"
          ]
        }
      ],
      "source": [
        "# пример 1\n",
        "x, y = symbols('x y')\n",
        "z = x**2 + x*y + y**2 - 2*x - y\n",
        "stat_points = nonlinsolve([z.diff(x), z.diff(y)], [x, y])\n",
        "display(*stat_points)\n",
        "Delta = Matrix([[z.diff(x, 2), z.diff(x, y)], [z.diff(x, y), z.diff(y, 2)]]).det()\n",
        "for current_tuple in stat_points:\n",
        "  x0, y0 = current_tuple\n",
        "  Delta = Delta.subs({x: x0, y: y0})\n",
        "  if(Delta > 0):\n",
        "    print(\"Есть\")\n",
        "  elif (Delta == 0):\n",
        "    print(\"Требуется дальнейшее исследование\")\n",
        "  else:\n",
        "    print(\"Отсутствует\")"
      ]
    },
    {
      "cell_type": "code",
      "execution_count": null,
      "metadata": {
        "colab": {
          "base_uri": "https://localhost:8080/",
          "height": 96
        },
        "id": "3k7nf7_X3Cvn",
        "outputId": "ed6b765b-f7a1-4a3e-a1ee-3c5880a58b67"
      },
      "outputs": [
        {
          "data": {
            "text/latex": [
              "$\\displaystyle \\left( 0, \\  y\\right)$"
            ],
            "text/plain": [
              "(0, y)"
            ]
          },
          "metadata": {},
          "output_type": "display_data"
        },
        {
          "data": {
            "text/latex": [
              "$\\displaystyle \\left( x, \\  0\\right)$"
            ],
            "text/plain": [
              "(x, 0)"
            ]
          },
          "metadata": {},
          "output_type": "display_data"
        },
        {
          "name": "stdout",
          "output_type": "stream",
          "text": [
            "Требуется дальнейшее исследование\n",
            "Требуется дальнейшее исследование\n"
          ]
        }
      ],
      "source": [
        "# пример 2\n",
        "x, y = symbols('x y', positive=True)\n",
        "z = x**3 * y**2 * (6 - x - y)\n",
        "stat_points = nonlinsolve([z.diff(x), z.diff(y)], [x, y])\n",
        "display(*stat_points)\n",
        "Delta = Matrix([[z.diff(x, 2), z.diff(x, y)], [z.diff(x, y), z.diff(y, 2)]]).det()\n",
        "for current_tuple in stat_points:\n",
        "  x0, y0 = current_tuple\n",
        "  Delta = Delta.subs({x: x0, y: y0})\n",
        "  if(Delta > 0):\n",
        "    print(\"Есть\")\n",
        "  elif (Delta == 0):\n",
        "    print(\"Требуется дальнейшее исследование\")\n",
        "  else:\n",
        "    print(\"Отсутствует\")"
      ]
    },
    {
      "cell_type": "code",
      "execution_count": null,
      "metadata": {
        "colab": {
          "base_uri": "https://localhost:8080/",
          "height": 173
        },
        "id": "JdWrnuXQ43WT",
        "outputId": "dd10cad4-4c45-44d7-cfd1-72404698783b"
      },
      "outputs": [
        {
          "data": {
            "text/latex": [
              "$\\displaystyle \\left( 4, \\  2\\right)$"
            ],
            "text/plain": [
              "(4, 2)"
            ]
          },
          "metadata": {},
          "output_type": "display_data"
        },
        {
          "data": {
            "text/latex": [
              "$\\displaystyle \\left( \\left(-1 + \\sqrt{3} i\\right)^{2}, \\  -1 + \\sqrt{3} i\\right)$"
            ],
            "text/plain": [
              "((-1 + sqrt(3)*I)**2, -1 + sqrt(3)*I)"
            ]
          },
          "metadata": {},
          "output_type": "display_data"
        },
        {
          "data": {
            "text/latex": [
              "$\\displaystyle \\left( \\left(-1 - \\sqrt{3} i\\right)^{2}, \\  -1 - \\sqrt{3} i\\right)$"
            ],
            "text/plain": [
              "((-1 - sqrt(3)*I)**2, -1 - sqrt(3)*I)"
            ]
          },
          "metadata": {},
          "output_type": "display_data"
        },
        {
          "name": "stdout",
          "output_type": "stream",
          "text": [
            "Есть\n",
            "Есть\n",
            "Есть\n"
          ]
        }
      ],
      "source": [
        "# пример 3\n",
        "x, y = symbols('x y')\n",
        "z = 8/x + x/y + y\n",
        "stat_points = nonlinsolve([z.diff(x), z.diff(y)], [x, y])\n",
        "display(*stat_points)\n",
        "Delta = Matrix([[z.diff(x, 2), z.diff(x, y)], [z.diff(x, y), z.diff(y, 2)]]).det()\n",
        "for current_tuple in stat_points:\n",
        "  x0, y0 = current_tuple\n",
        "  Delta = Delta.subs({x: x0, y: y0})\n",
        "  if(Delta > 0):\n",
        "    print(\"Есть\")\n",
        "  elif (Delta == 0):\n",
        "    print(\"Требуется дальнейшее исследование\")\n",
        "  else:\n",
        "    print(\"Отсутствует\")"
      ]
    },
    {
      "cell_type": "code",
      "execution_count": null,
      "metadata": {
        "colab": {
          "base_uri": "https://localhost:8080/",
          "height": 56
        },
        "id": "1Vvx_h7w46Ry",
        "outputId": "78a3a4c3-4b0b-40ce-e8c0-84957bb6698b"
      },
      "outputs": [
        {
          "data": {
            "text/latex": [
              "$\\displaystyle \\left( 1, \\  -1\\right)$"
            ],
            "text/plain": [
              "(1, -1)"
            ]
          },
          "metadata": {},
          "output_type": "display_data"
        },
        {
          "name": "stdout",
          "output_type": "stream",
          "text": [
            "Есть\n"
          ]
        }
      ],
      "source": [
        "# пример 4\n",
        "x, y = symbols('x y')\n",
        "z = (1 + x - y) / sympy.sqrt(1 + x**2 + y**2)\n",
        "stat_points = nonlinsolve([z.diff(x), z.diff(y)], [x, y])\n",
        "display(*stat_points)\n",
        "Delta = Matrix([[z.diff(x, 2), z.diff(x, y)], [z.diff(x, y), z.diff(y, 2)]]).det()\n",
        "for current_tuple in stat_points:\n",
        "  x0, y0 = current_tuple\n",
        "  Delta = Delta.subs({x: x0, y: y0})\n",
        "  if(Delta > 0):\n",
        "    print(\"Есть\")\n",
        "  elif (Delta == 0):\n",
        "    print(\"Требуется дальнейшее исследование\")\n",
        "  else:\n",
        "    print(\"Отсутствует\")"
      ]
    },
    {
      "cell_type": "markdown",
      "metadata": {
        "id": "mOeL94P43Cvn"
      },
      "source": [
        "### Задание 2.\n",
        "С помощью метода Лагранжа найти условный экстремум функции\n",
        "$z = x + 2y$ при условии $x^2 + y^2 = 5$."
      ]
    },
    {
      "cell_type": "code",
      "execution_count": null,
      "metadata": {
        "colab": {
          "base_uri": "https://localhost:8080/",
          "height": 122
        },
        "id": "xOn9jsbm3Cvn",
        "outputId": "91af45c1-59d6-432a-917a-b3a7c63e320d"
      },
      "outputs": [
        {
          "data": {
            "text/latex": [
              "$\\displaystyle \\left\\{\\left( -1, \\  -2, \\  \\frac{1}{2}\\right), \\left( 1, \\  2, \\  - \\frac{1}{2}\\right)\\right\\}$"
            ],
            "text/plain": [
              "FiniteSet((-1, -2, 1/2), (1, 2, -1/2))"
            ]
          },
          "metadata": {},
          "output_type": "display_data"
        },
        {
          "data": {
            "text/latex": [
              "$\\displaystyle x$"
            ],
            "text/plain": [
              "x"
            ]
          },
          "metadata": {},
          "output_type": "display_data"
        },
        {
          "data": {
            "text/latex": [
              "$\\displaystyle y$"
            ],
            "text/plain": [
              "y"
            ]
          },
          "metadata": {},
          "output_type": "display_data"
        },
        {
          "data": {
            "text/latex": [
              "$\\displaystyle \\lambda$"
            ],
            "text/plain": [
              "lambda"
            ]
          },
          "metadata": {},
          "output_type": "display_data"
        }
      ],
      "source": [
        "x, y, lam = symbols('x y lambda')\n",
        "varrs = [x, y, lam]\n",
        "z = x + 2*y\n",
        "restriction = x**2 + y**2 - 5\n",
        "L = z + lam * restriction\n",
        "stat_points = nonlinsolve([L.diff(var) for var in varrs], varrs)\n",
        "display(stat_points, *varrs)"
      ]
    },
    {
      "cell_type": "code",
      "execution_count": null,
      "metadata": {
        "colab": {
          "base_uri": "https://localhost:8080/",
          "height": 39
        },
        "id": "ZX7ThcDlAChQ",
        "outputId": "7d179186-7cac-4b0f-d792-870008e809f5"
      },
      "outputs": [
        {
          "data": {
            "text/latex": [
              "$\\displaystyle 2 \\lambda \\left(dx^{2} + dy^{2}\\right)$"
            ],
            "text/plain": [
              "2*lambda*(dx^2 + dy^2)"
            ]
          },
          "execution_count": 7,
          "metadata": {},
          "output_type": "execute_result"
        }
      ],
      "source": [
        "dx, dy, dx2, dy2 = symbols('dx dy dx^2 dy^2')\n",
        "d2L = L.diff(x, 2)*dx2 + 2*L.diff(x, y)*dx*dy + L.diff(y, 2)*dy2\n",
        "factor(d2L)"
      ]
    },
    {
      "cell_type": "code",
      "execution_count": null,
      "metadata": {
        "colab": {
          "base_uri": "https://localhost:8080/",
          "height": 101
        },
        "id": "kPZgvNBxAG__",
        "outputId": "9f9bc791-75d1-4ac7-fdfd-c4e6917f4362"
      },
      "outputs": [
        {
          "data": {
            "text/latex": [
              "$\\displaystyle \\left( -1, \\  -2\\right)$"
            ],
            "text/plain": [
              "(-1, -2)"
            ]
          },
          "metadata": {},
          "output_type": "display_data"
        },
        {
          "data": {
            "text/latex": [
              "$\\displaystyle f = -5$"
            ],
            "text/plain": [
              "Eq(f, -5)"
            ]
          },
          "metadata": {},
          "output_type": "display_data"
        },
        {
          "data": {
            "text/latex": [
              "$\\displaystyle \\left( 1, \\  2\\right)$"
            ],
            "text/plain": [
              "(1, 2)"
            ]
          },
          "metadata": {},
          "output_type": "display_data"
        },
        {
          "data": {
            "text/latex": [
              "$\\displaystyle f = 5$"
            ],
            "text/plain": [
              "Eq(f, 5)"
            ]
          },
          "metadata": {},
          "output_type": "display_data"
        }
      ],
      "source": [
        "ff = Symbol('f')\n",
        "for point in stat_points:\n",
        "  display(point[:-1], sympy.Eq(ff, z.subs({var: point[j] for j, var in enumerate(varrs)})))"
      ]
    },
    {
      "cell_type": "markdown",
      "metadata": {
        "id": "9uTn5Hif3Cvo"
      },
      "source": [
        "### Задание 3.\n",
        "С помощью метода Лагранжа найти условный экстремум функции\n",
        "$z=x^2+y^2$ при условии $\\frac{x}{2}+\\frac{y}{3}=1$."
      ]
    },
    {
      "cell_type": "code",
      "execution_count": null,
      "metadata": {
        "colab": {
          "base_uri": "https://localhost:8080/",
          "height": 122
        },
        "id": "x_j5bmnnCP9g",
        "outputId": "4f18b833-c1f1-4d46-951c-ffb7cb916e1f"
      },
      "outputs": [
        {
          "data": {
            "text/latex": [
              "$\\displaystyle \\left\\{\\left( \\frac{18}{13}, \\  \\frac{12}{13}, \\  - \\frac{72}{13}\\right)\\right\\}$"
            ],
            "text/plain": [
              "FiniteSet((18/13, 12/13, -72/13))"
            ]
          },
          "metadata": {},
          "output_type": "display_data"
        },
        {
          "data": {
            "text/latex": [
              "$\\displaystyle x$"
            ],
            "text/plain": [
              "x"
            ]
          },
          "metadata": {},
          "output_type": "display_data"
        },
        {
          "data": {
            "text/latex": [
              "$\\displaystyle y$"
            ],
            "text/plain": [
              "y"
            ]
          },
          "metadata": {},
          "output_type": "display_data"
        },
        {
          "data": {
            "text/latex": [
              "$\\displaystyle \\lambda$"
            ],
            "text/plain": [
              "lambda"
            ]
          },
          "metadata": {},
          "output_type": "display_data"
        }
      ],
      "source": [
        "x, y, lam = symbols('x y lambda')\n",
        "varrs = [x, y, lam]\n",
        "z = x**2 + y**2\n",
        "restriction = x/2 + y/3 - 1\n",
        "L = z + lam * restriction\n",
        "stat_points = nonlinsolve([L.diff(var) for var in varrs], varrs)\n",
        "display(stat_points, *varrs)"
      ]
    },
    {
      "cell_type": "code",
      "execution_count": null,
      "metadata": {
        "colab": {
          "base_uri": "https://localhost:8080/",
          "height": 39
        },
        "id": "WmLGWXekCSwV",
        "outputId": "cb722896-ec2a-45a7-ba20-21d08529771b"
      },
      "outputs": [
        {
          "data": {
            "text/latex": [
              "$\\displaystyle 2 \\left(dx^{2} + dy^{2}\\right)$"
            ],
            "text/plain": [
              "2*(dx^2 + dy^2)"
            ]
          },
          "execution_count": 10,
          "metadata": {},
          "output_type": "execute_result"
        }
      ],
      "source": [
        "dx, dy, dx2, dy2 = symbols('dx dy dx^2 dy^2')\n",
        "d2L = L.diff(x, 2)*dx2 + 2*L.diff(x, y)*dx*dy + L.diff(y, 2)*dy2\n",
        "factor(d2L)"
      ]
    },
    {
      "cell_type": "code",
      "execution_count": null,
      "metadata": {
        "colab": {
          "base_uri": "https://localhost:8080/",
          "height": 92
        },
        "id": "EXyJ03s13Cvo",
        "outputId": "1f3eaa12-decd-42b2-c13e-8b45c603cf6b"
      },
      "outputs": [
        {
          "data": {
            "text/latex": [
              "$\\displaystyle \\left( \\frac{18}{13}, \\  \\frac{12}{13}\\right)$"
            ],
            "text/plain": [
              "(18/13, 12/13)"
            ]
          },
          "metadata": {},
          "output_type": "display_data"
        },
        {
          "data": {
            "text/latex": [
              "$\\displaystyle f = \\frac{36}{13}$"
            ],
            "text/plain": [
              "Eq(f, 36/13)"
            ]
          },
          "metadata": {},
          "output_type": "display_data"
        }
      ],
      "source": [
        "ff = Symbol('f')\n",
        "for point in stat_points:\n",
        "  display(point[:-1], sympy.Eq(ff, z.subs({var: point[j] for j, var in enumerate(varrs)})))"
      ]
    },
    {
      "cell_type": "markdown",
      "metadata": {
        "id": "H2fz9-hh3Cvo"
      },
      "source": [
        "### Задание 4.\n",
        "С помощью метода Лагранжа найти экстремум функции $u = x - 2y + 2z$ при условии $x^2 + y^2 + z^2 = 9$."
      ]
    },
    {
      "cell_type": "code",
      "execution_count": null,
      "metadata": {
        "colab": {
          "base_uri": "https://localhost:8080/",
          "height": 144
        },
        "id": "6EV58c4P3Cvp",
        "outputId": "2b5daed3-1acd-452a-932a-8c5096a7481d"
      },
      "outputs": [
        {
          "data": {
            "text/latex": [
              "$\\displaystyle \\left\\{\\left( -1, \\  2, \\  -2, \\  \\frac{1}{2}\\right), \\left( 1, \\  -2, \\  2, \\  - \\frac{1}{2}\\right)\\right\\}$"
            ],
            "text/plain": [
              "FiniteSet((-1, 2, -2, 1/2), (1, -2, 2, -1/2))"
            ]
          },
          "metadata": {},
          "output_type": "display_data"
        },
        {
          "data": {
            "text/latex": [
              "$\\displaystyle x$"
            ],
            "text/plain": [
              "x"
            ]
          },
          "metadata": {},
          "output_type": "display_data"
        },
        {
          "data": {
            "text/latex": [
              "$\\displaystyle y$"
            ],
            "text/plain": [
              "y"
            ]
          },
          "metadata": {},
          "output_type": "display_data"
        },
        {
          "data": {
            "text/latex": [
              "$\\displaystyle z$"
            ],
            "text/plain": [
              "z"
            ]
          },
          "metadata": {},
          "output_type": "display_data"
        },
        {
          "data": {
            "text/latex": [
              "$\\displaystyle \\lambda$"
            ],
            "text/plain": [
              "lambda"
            ]
          },
          "metadata": {},
          "output_type": "display_data"
        }
      ],
      "source": [
        "x, y, z, lam = symbols('x y z lambda') # быть аккуратнее с прошлым значением z!\n",
        "varrs = [x, y, z, lam]\n",
        "u = x - 2*y + 2*z\n",
        "restriction = x**2 + y**2 + z**2 - 9\n",
        "L = u + lam * restriction\n",
        "stat_points = nonlinsolve([L.diff(var) for var in varrs], varrs)\n",
        "display(stat_points, *varrs)"
      ]
    },
    {
      "cell_type": "code",
      "execution_count": null,
      "metadata": {
        "colab": {
          "base_uri": "https://localhost:8080/",
          "height": 39
        },
        "id": "WzYf1IM9CVBf",
        "outputId": "bf9f9e3a-9137-45fc-a523-da58c11516c0"
      },
      "outputs": [
        {
          "data": {
            "text/latex": [
              "$\\displaystyle 2 dx^{2} \\lambda + 2 dy^{2} \\lambda + 2 dz^{2} \\lambda$"
            ],
            "text/plain": [
              "2*dx^2*lambda + 2*dy^2*lambda + 2*dz^2*lambda"
            ]
          },
          "metadata": {},
          "output_type": "display_data"
        }
      ],
      "source": [
        "dx, dy, dz, dx2, dy2, dz2 = symbols('dx dy dz dx^2 dy^2 dz^2')\n",
        "d2L = 0\n",
        "diffs = {x: (dx, dx2), y: (dy, dy2), z: (dz, dz2)}\n",
        "for i, var in enumerate(varrs[:-1]):\n",
        "  d2L += L.diff(var, 2) * diffs[var][1]\n",
        "  for j in range(i + 1, 3):\n",
        "    d2L += 2 * L.diff(var, varrs[j]) * diffs[var][0] * diffs[varrs[j]][0]\n",
        "display(d2L)"
      ]
    },
    {
      "cell_type": "code",
      "execution_count": null,
      "metadata": {
        "colab": {
          "base_uri": "https://localhost:8080/",
          "height": 101
        },
        "id": "B8hdakqNCVUY",
        "outputId": "4d44d546-e84e-41bd-af80-94fd1c68a9b4"
      },
      "outputs": [
        {
          "data": {
            "text/latex": [
              "$\\displaystyle \\left( -1, \\  2, \\  -2\\right)$"
            ],
            "text/plain": [
              "(-1, 2, -2)"
            ]
          },
          "metadata": {},
          "output_type": "display_data"
        },
        {
          "data": {
            "text/latex": [
              "$\\displaystyle f = -9$"
            ],
            "text/plain": [
              "Eq(f, -9)"
            ]
          },
          "metadata": {},
          "output_type": "display_data"
        },
        {
          "data": {
            "text/latex": [
              "$\\displaystyle \\left( 1, \\  -2, \\  2\\right)$"
            ],
            "text/plain": [
              "(1, -2, 2)"
            ]
          },
          "metadata": {},
          "output_type": "display_data"
        },
        {
          "data": {
            "text/latex": [
              "$\\displaystyle f = 9$"
            ],
            "text/plain": [
              "Eq(f, 9)"
            ]
          },
          "metadata": {},
          "output_type": "display_data"
        }
      ],
      "source": [
        "ff = Symbol('f')\n",
        "for point in stat_points:\n",
        "  display(point[:-1], sympy.Eq(ff, u.subs({var: point[j] for j, var in enumerate(varrs)})))"
      ]
    },
    {
      "cell_type": "markdown",
      "metadata": {
        "id": "XGz3m2KX3Cvp"
      },
      "source": [
        "### Индивидуальное задание\n",
        "Найти точки экстремума:"
      ]
    },
    {
      "cell_type": "markdown",
      "metadata": {
        "id": "B6snoJo4Fs28"
      },
      "source": [
        "Вариант 157\n",
        "$$f(x,y,z)=- x^{2} + 3 x y - x z - 4 x + 2 y^{2} - 5 y - 2 z^{2} - 2 z$$"
      ]
    },
    {
      "cell_type": "code",
      "execution_count": null,
      "metadata": {
        "colab": {
          "base_uri": "https://localhost:8080/",
          "height": 76
        },
        "id": "rbMsnmZu3Cvq",
        "outputId": "8670f98d-acfb-41f8-815e-3fda9ebd92f4"
      },
      "outputs": [
        {
          "data": {
            "application/vnd.google.colaboratory.intrinsic+json": {
              "type": "string"
            },
            "text/plain": [
              "'minimum'"
            ]
          },
          "metadata": {},
          "output_type": "display_data"
        },
        {
          "data": {
            "text/latex": [
              "$\\displaystyle \\left( \\frac{1}{16}, \\  \\frac{77}{64}, \\  - \\frac{33}{64}\\right)$"
            ],
            "text/plain": [
              "(1/16, 77/64, -33/64)"
            ]
          },
          "metadata": {},
          "output_type": "display_data"
        }
      ],
      "source": [
        "x, y, z = symbols('x y z', positive=True)\n",
        "f = -x**2 + 3*x*y - x*z - 4*x + 2*y**2 - 5*y - 2*z**2 - 2*z\n",
        "stat_points = nonlinsolve([f.diff(x), f.diff(y), f.diff(z)], [x, y, z])\n",
        "#display(*stat_points)\n",
        "\n",
        "def Delta(f, x, y, z):\n",
        "  return Matrix([[f.diff(x, 2), f.diff(x, y), f.diff(x, z)],\n",
        "  [f.diff(y, x), f.diff(y, 2), f.diff(y, z)],\n",
        "  [f.diff(z, x), f.diff(z, y), f.diff(z,2)],]).det()\n",
        "\n",
        "for point in stat_points:\n",
        "  x0, y0, z0 = point\n",
        "  if x0.is_real and y0.is_real and z0.is_real:\n",
        "    if Delta(f, x, y, z).subs({x: x0, y: y0, z: z0}) > 0:\n",
        "      A = f.diff(x, 2).subs({x: x0, y: y0, z: z0})\n",
        "      B = f.diff(y, 2).subs({x: x0, y: y0, z: z0})\n",
        "      C = f.diff(z, 2).subs({x: x0, y: y0, z: z0})\n",
        "      if A > 0 or B > 0 or C > 0:\n",
        "        display('minimum', point)\n",
        "      elif A < 0 or B < 0 or C < 0:\n",
        "        display('maximum', point)"
      ]
    },
    {
      "cell_type": "markdown",
      "metadata": {
        "id": "wCIF-_p3Fv_p"
      },
      "source": [
        "Хорасанджян Левон, вариант №157"
      ]
    }
  ],
  "metadata": {
    "colab": {
      "collapsed_sections": [],
      "name": "Calculus_math_15_tasks.ipynb",
      "provenance": []
    },
    "kernelspec": {
      "display_name": "Python 3",
      "language": "python",
      "name": "python3"
    },
    "language_info": {
      "codemirror_mode": {
        "name": "ipython",
        "version": 3
      },
      "file_extension": ".py",
      "mimetype": "text/x-python",
      "name": "python",
      "nbconvert_exporter": "python",
      "pygments_lexer": "ipython3",
      "version": "3.8.8"
    }
  },
  "nbformat": 4,
  "nbformat_minor": 0
}
