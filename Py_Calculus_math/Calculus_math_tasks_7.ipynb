{
 "cells": [
  {
   "cell_type": "markdown",
   "metadata": {
    "id": "cXBga0YInt__"
   },
   "source": [
    "## Занятие 7\n",
    "## Математический анализ\n",
    "## Исследование функции с sympy.calculus.util и sympy.calculus.singularities"
   ]
  },
  {
   "cell_type": "code",
   "execution_count": 1,
   "metadata": {
    "id": "znGPtjWEnuAE"
   },
   "outputs": [],
   "source": [
    "import sympy\n",
    "from sympy import S, Interval, plot, Symbol, E, sqrt\n",
    "from sympy import sin as Sin\n",
    "from sympy import cos as Cos\n",
    "from sympy import exp as Exp\n",
    "from sympy import log as Log\n",
    "from sympy import pi as Pi\n",
    "from sympy.calculus.util import continuous_domain, function_range, periodicity, stationary_points, maximum, minimum, AccumBounds\n",
    "from sympy.calculus.singularities import singularities, is_increasing, is_decreasing, is_monotonic\n",
    "from sympy.calculus.singularities import is_strictly_increasing, is_strictly_decreasing\n",
    "%matplotlib inline"
   ]
  },
  {
   "cell_type": "code",
   "execution_count": null,
   "metadata": {
    "colab": {
     "base_uri": "https://localhost:8080/"
    },
    "id": "5jAJaLhQyVJN",
    "outputId": "ddd2e509-9365-4def-9506-f02e952413a1"
   },
   "outputs": [
    {
     "name": "stdout",
     "output_type": "stream",
     "text": [
      "Requirement already satisfied: sympy in /usr/local/lib/python3.7/dist-packages (1.9)\n",
      "Requirement already satisfied: mpmath>=0.19 in /usr/local/lib/python3.7/dist-packages (from sympy) (1.2.1)\n"
     ]
    }
   ],
   "source": [
    " pip install --upgrade sympy"
   ]
  },
  {
   "cell_type": "markdown",
   "metadata": {
    "id": "Tep6o_jQnuAG"
   },
   "source": [
    "## Схема анализа функции.\n",
    "1. Область определения\n",
    "\n",
    "sympy.calculus.util.continuous_domain(f, symbol, domain)\n",
    "\n",
    "f - выражение, описывающее функцию, \n",
    "\n",
    "symbol - переменная, от которой зависит исследуемая функция,\n",
    "\n",
    "domain - область значений переменной, на которой рассматривается функция,\n",
    "\n",
    "если функция рассматривается на всей вещественной прямой, то domain=S.Reals\n",
    "\n",
    "Сингулярные точки (точки, в которых функция не существует) находятся с помощью\n",
    "\n",
    "sympy.calculus.singularities.singularities(f, symbol, domain=None)\n",
    "\n",
    "2. Область значений\n",
    "\n",
    "sympy.calculus.util.function_range(f, symbol, domain)\n",
    "\n",
    "3. Периодичность\n",
    "\n",
    "sympy.calculus.util.periodicity(f, symbol, check=False)\n",
    "\n",
    "4. Стационарные точки \n",
    "\n",
    "sympy.calculus.util.stationary_points(f, symbol, domain=Reals)\n",
    "\n",
    "5. Точки экстремума\n",
    "\n",
    "sympy.calculus.util.maximum(f, symbol, domain=Reals)\n",
    "\n",
    "sympy.calculus.util.minimum(f, symbol, domain=Reals)\n",
    "\n",
    "6. Монотонность\n",
    "\n",
    "sympy.calculus.singularities.is_decreasing(f, interval=Reals, symbol=None)\n",
    "\n",
    "sympy.calculus.singularities.is_increasing(f, interval=Reals, symbol=None)\n",
    "\n",
    "sympy.calculus.singularities.is_monotonic(f, interval=Reals, symbol=None)\n",
    "\n",
    "sympy.calculus.singularities.is_strictly_decreasing(f, interval=Reals, symbol=None)\n",
    "\n",
    "sympy.calculus.singularities.is_strictly_increasing(f, interval=Reals, symbol=None)\n",
    "\n",
    "7. Минимальное и максимальное значение функции на интервале \n",
    "\n",
    "sympy.calculus.util.AccumulationBounds(min, max)\n",
    "\n",
    "Свойства: delta, max, min, mid\n",
    "\n",
    "### Задание 1.  \n",
    "Исследовать функцию по п.1 - 5 на области определения и по п. 1 - 7 на одном периоде, построить график.\n",
    "$$\n",
    "f(x) = e^{\\sin(x)}.\n",
    "$$\n",
    "###### 1. Область определения"
   ]
  },
  {
   "cell_type": "code",
   "execution_count": 2,
   "metadata": {
    "id": "1pa44K-4nuAH"
   },
   "outputs": [],
   "source": [
    "x = Symbol('x')\n",
    "f = E ** Sin(x)"
   ]
  },
  {
   "cell_type": "code",
   "execution_count": 3,
   "metadata": {
    "colab": {
     "base_uri": "https://localhost:8080/",
     "height": 38
    },
    "id": "ex6ZnTAjs5oS",
    "outputId": "d2d70e7f-aef5-424b-b76d-c4dd3cc4ce7b"
   },
   "outputs": [
    {
     "data": {
      "text/latex": [
       "$\\displaystyle \\mathbb{R}$"
      ],
      "text/plain": [
       "Reals"
      ]
     },
     "execution_count": 3,
     "metadata": {},
     "output_type": "execute_result"
    }
   ],
   "source": [
    "D = continuous_domain(f, x, S.Reals)\n",
    "D"
   ]
  },
  {
   "cell_type": "markdown",
   "metadata": {
    "id": "rOndQdCOnuAH"
   },
   "source": [
    "Сингулярные точки (точки, где функция не определена)"
   ]
  },
  {
   "cell_type": "code",
   "execution_count": 4,
   "metadata": {
    "colab": {
     "base_uri": "https://localhost:8080/",
     "height": 37
    },
    "id": "Cujdy9yJnuAI",
    "outputId": "94e9226f-5263-4c51-aefa-4c6d2152476f"
   },
   "outputs": [
    {
     "data": {
      "text/latex": [
       "$\\displaystyle \\emptyset$"
      ],
      "text/plain": [
       "EmptySet"
      ]
     },
     "execution_count": 4,
     "metadata": {},
     "output_type": "execute_result"
    }
   ],
   "source": [
    "singularities(f, x)"
   ]
  },
  {
   "cell_type": "markdown",
   "metadata": {
    "id": "HaTTUeF5nuAI"
   },
   "source": [
    "###### 2. Область значений"
   ]
  },
  {
   "cell_type": "code",
   "execution_count": null,
   "metadata": {
    "colab": {
     "base_uri": "https://localhost:8080/",
     "height": 38
    },
    "id": "-9d60N5YnuAI",
    "outputId": "a3f4b5d5-4373-4077-e7bf-bab6b1b36e0f"
   },
   "outputs": [
    {
     "data": {
      "text/latex": [
       "$\\displaystyle \\left[e^{-1}, e\\right]$"
      ],
      "text/plain": [
       "Interval(exp(-1), E)"
      ]
     },
     "execution_count": 46,
     "metadata": {},
     "output_type": "execute_result"
    }
   ],
   "source": [
    "function_range(f, x, S.Reals)"
   ]
  },
  {
   "cell_type": "markdown",
   "metadata": {
    "id": "I3cXOlfInuAI"
   },
   "source": [
    "###### 3. Периодичность"
   ]
  },
  {
   "cell_type": "code",
   "execution_count": null,
   "metadata": {
    "colab": {
     "base_uri": "https://localhost:8080/",
     "height": 38
    },
    "id": "3yflmg-2nuAJ",
    "outputId": "9a2b1e17-4845-4da6-ad4f-e049709052fb"
   },
   "outputs": [
    {
     "data": {
      "text/latex": [
       "$\\displaystyle 2 \\pi$"
      ],
      "text/plain": [
       "2*pi"
      ]
     },
     "execution_count": 47,
     "metadata": {},
     "output_type": "execute_result"
    }
   ],
   "source": [
    "periodicity(f, x, check=False)"
   ]
  },
  {
   "cell_type": "markdown",
   "metadata": {
    "id": "7OHCoB1unuAJ"
   },
   "source": [
    "###### 4. Стационарные точки"
   ]
  },
  {
   "cell_type": "code",
   "execution_count": null,
   "metadata": {
    "colab": {
     "base_uri": "https://localhost:8080/",
     "height": 58
    },
    "id": "yazwKPrdnuAJ",
    "outputId": "7709204e-90fd-430b-b6d0-791429268591"
   },
   "outputs": [
    {
     "data": {
      "text/latex": [
       "$\\displaystyle \\left\\{2 n \\pi + \\frac{\\pi}{2}\\; |\\; n \\in \\mathbb{Z}\\right\\} \\cup \\left\\{2 n \\pi + \\frac{3 \\pi}{2}\\; |\\; n \\in \\mathbb{Z}\\right\\}$"
      ],
      "text/plain": [
       "Union(ImageSet(Lambda(_n, 2*_n*pi + pi/2), Integers), ImageSet(Lambda(_n, 2*_n*pi + 3*pi/2), Integers))"
      ]
     },
     "execution_count": 48,
     "metadata": {},
     "output_type": "execute_result"
    }
   ],
   "source": [
    "stationary_points(f, x)"
   ]
  },
  {
   "cell_type": "markdown",
   "metadata": {
    "id": "l_K2EChrnuAK"
   },
   "source": [
    "###### 5. Максимальное и минимальное значения функции"
   ]
  },
  {
   "cell_type": "code",
   "execution_count": null,
   "metadata": {
    "colab": {
     "base_uri": "https://localhost:8080/",
     "height": 61
    },
    "id": "CftZkQQEnuAK",
    "outputId": "0e8aed2f-b229-4ede-f46d-9537d1efde11"
   },
   "outputs": [
    {
     "data": {
      "text/latex": [
       "$\\displaystyle e$"
      ],
      "text/plain": [
       "E"
      ]
     },
     "metadata": {},
     "output_type": "display_data"
    },
    {
     "data": {
      "text/latex": [
       "$\\displaystyle e^{-1}$"
      ],
      "text/plain": [
       "exp(-1)"
      ]
     },
     "metadata": {},
     "output_type": "display_data"
    }
   ],
   "source": [
    "display(maximum(f, x), minimum(f, x))"
   ]
  },
  {
   "cell_type": "markdown",
   "metadata": {
    "id": "CkyfZqj5nuAK"
   },
   "source": [
    "##### Исследование периодической функции на одном периоде.\n",
    "Найти пересечение с периодом области определения, множества сингулярных точек и стационарных точек.\n",
    "###### 1. Область определения"
   ]
  },
  {
   "cell_type": "code",
   "execution_count": null,
   "metadata": {
    "colab": {
     "base_uri": "https://localhost:8080/",
     "height": 38
    },
    "id": "b1pPSm2mnuAL",
    "outputId": "d8dc020d-4b3e-4727-ea47-5c7e361eb368"
   },
   "outputs": [
    {
     "data": {
      "text/latex": [
       "$\\displaystyle \\left[0, 2 \\pi\\right]$"
      ],
      "text/plain": [
       "Interval(0, 2*pi)"
      ]
     },
     "execution_count": 50,
     "metadata": {},
     "output_type": "execute_result"
    }
   ],
   "source": [
    "period_2pi = Interval(0, 2*Pi)\n",
    "continuous_domain(f, x, period_2pi)"
   ]
  },
  {
   "cell_type": "markdown",
   "metadata": {
    "id": "HmwbNFobnuAL"
   },
   "source": [
    "Сингулярные точки (точки, где функция не определена)"
   ]
  },
  {
   "cell_type": "code",
   "execution_count": null,
   "metadata": {
    "colab": {
     "base_uri": "https://localhost:8080/",
     "height": 37
    },
    "id": "mKEBWO9inuAL",
    "outputId": "c470f5a6-ba65-453f-da52-45ff2a76a778"
   },
   "outputs": [
    {
     "data": {
      "text/latex": [
       "$\\displaystyle \\emptyset$"
      ],
      "text/plain": [
       "EmptySet"
      ]
     },
     "execution_count": 51,
     "metadata": {},
     "output_type": "execute_result"
    }
   ],
   "source": [
    "singularities(f, x, period_2pi)"
   ]
  },
  {
   "cell_type": "markdown",
   "metadata": {
    "id": "nk72Z2RRnuAM"
   },
   "source": [
    "###### 2. Область значений"
   ]
  },
  {
   "cell_type": "code",
   "execution_count": null,
   "metadata": {
    "colab": {
     "base_uri": "https://localhost:8080/",
     "height": 38
    },
    "id": "ZmHlQjrZnuAM",
    "outputId": "f19f02bd-b0b8-4ce8-8b73-9293584ede1a"
   },
   "outputs": [
    {
     "data": {
      "text/latex": [
       "$\\displaystyle \\left[e^{-1}, e\\right]$"
      ],
      "text/plain": [
       "Interval(exp(-1), E)"
      ]
     },
     "execution_count": 52,
     "metadata": {},
     "output_type": "execute_result"
    }
   ],
   "source": [
    "function_range(f, x, period_2pi)"
   ]
  },
  {
   "cell_type": "markdown",
   "metadata": {
    "id": "ULMaSFqhnuAM"
   },
   "source": [
    "###### 4. Стационарные точки "
   ]
  },
  {
   "cell_type": "code",
   "execution_count": null,
   "metadata": {
    "colab": {
     "base_uri": "https://localhost:8080/",
     "height": 58
    },
    "id": "N01GWK3EnuAM",
    "outputId": "d8fa3918-caf3-410e-9ed5-ba9538221c20"
   },
   "outputs": [
    {
     "data": {
      "text/latex": [
       "$\\displaystyle \\left\\{\\frac{\\pi}{2}, \\frac{3 \\pi}{2}\\right\\}$"
      ],
      "text/plain": [
       "FiniteSet(pi/2, 3*pi/2)"
      ]
     },
     "execution_count": 53,
     "metadata": {},
     "output_type": "execute_result"
    }
   ],
   "source": [
    "stationary_points(f, x, period_2pi)"
   ]
  },
  {
   "cell_type": "markdown",
   "metadata": {
    "id": "IocqIJhUnuAN"
   },
   "source": [
    "###### 5. Максимальное и минимальное значения функции"
   ]
  },
  {
   "cell_type": "code",
   "execution_count": null,
   "metadata": {
    "colab": {
     "base_uri": "https://localhost:8080/",
     "height": 61
    },
    "id": "_BY9oOl4nuAN",
    "outputId": "27e421fd-efe6-4324-b955-c680918568ae"
   },
   "outputs": [
    {
     "data": {
      "text/latex": [
       "$\\displaystyle e$"
      ],
      "text/plain": [
       "E"
      ]
     },
     "metadata": {},
     "output_type": "display_data"
    },
    {
     "data": {
      "text/latex": [
       "$\\displaystyle e^{-1}$"
      ],
      "text/plain": [
       "exp(-1)"
      ]
     },
     "metadata": {},
     "output_type": "display_data"
    }
   ],
   "source": [
    "display(maximum(f, x, period_2pi), minimum(f, x, period_2pi))"
   ]
  },
  {
   "cell_type": "markdown",
   "metadata": {
    "id": "w8-uhUmjnuAN"
   },
   "source": [
    "###### 6. Монотонность\n",
    "Исследовать на периоде открытые интервалы (Interval.open), на которые период разбивают стационарные точки."
   ]
  },
  {
   "cell_type": "code",
   "execution_count": null,
   "metadata": {
    "colab": {
     "base_uri": "https://localhost:8080/",
     "height": 206
    },
    "id": "pf7awUumnuAO",
    "outputId": "5791d5ac-9c56-4aba-f264-c7b4017c971f"
   },
   "outputs": [
    {
     "data": {
      "text/latex": [
       "$\\displaystyle e^{\\sin{\\left(x \\right)}}$"
      ],
      "text/plain": [
       "exp(sin(x))"
      ]
     },
     "metadata": {},
     "output_type": "display_data"
    },
    {
     "data": {
      "text/latex": [
       "$\\displaystyle \\left(0, \\frac{\\pi}{2}\\right)$"
      ],
      "text/plain": [
       "Interval.open(0, pi/2)"
      ]
     },
     "metadata": {},
     "output_type": "display_data"
    },
    {
     "name": "stdout",
     "output_type": "stream",
     "text": [
      "True None None None None\n"
     ]
    },
    {
     "data": {
      "text/latex": [
       "$\\displaystyle \\left(\\frac{\\pi}{2}, \\frac{3 \\pi}{2}\\right)$"
      ],
      "text/plain": [
       "Interval.open(pi/2, 3*pi/2)"
      ]
     },
     "metadata": {},
     "output_type": "display_data"
    },
    {
     "name": "stdout",
     "output_type": "stream",
     "text": [
      "True None None None None\n"
     ]
    },
    {
     "data": {
      "text/latex": [
       "$\\displaystyle \\left(\\frac{3 \\pi}{2}, 2 \\pi\\right)$"
      ],
      "text/plain": [
       "Interval.open(3*pi/2, 2*pi)"
      ]
     },
     "metadata": {},
     "output_type": "display_data"
    },
    {
     "name": "stdout",
     "output_type": "stream",
     "text": [
      "True None None None None\n"
     ]
    }
   ],
   "source": [
    "# https://github.com/sympy/sympy/issues/20745\n",
    "\n",
    "intervals = [Interval.open(0, Pi/2), Interval.open(Pi/2, 3*Pi/2), Interval.open(3*Pi/2, 2*Pi)]\n",
    "display(f)\n",
    "for interval in intervals:\n",
    "  display(interval)\n",
    "  print(is_monotonic(f, interval=interval),\n",
    "        is_decreasing(f, interval=interval), \n",
    "        is_increasing(f, interval=interval, symbol=x),\n",
    "        is_strictly_decreasing(f, interval=interval), \n",
    "        is_strictly_increasing(f, interval=interval))"
   ]
  },
  {
   "cell_type": "markdown",
   "metadata": {
    "id": "O62ZDUDFnuAO"
   },
   "source": [
    "###### 7. Минимальное и максимальное значение функции на интервале \n",
    "Найти максимальное и минимальное значение функции на каждом из интервалов монотонности в пределах одного периода"
   ]
  },
  {
   "cell_type": "code",
   "execution_count": null,
   "metadata": {
    "colab": {
     "base_uri": "https://localhost:8080/",
     "height": 544
    },
    "id": "rw3XRDrdnuAO",
    "outputId": "6b0a4c97-ea78-4106-fe9e-1322fc0e4a2b"
   },
   "outputs": [
    {
     "data": {
      "text/latex": [
       "$\\displaystyle \\left(0, \\frac{\\pi}{2}\\right)$"
      ],
      "text/plain": [
       "Interval.open(0, pi/2)"
      ]
     },
     "metadata": {},
     "output_type": "display_data"
    },
    {
     "data": {
      "text/latex": [
       "$\\displaystyle \\left\\langle 1, e\\right\\rangle$"
      ],
      "text/plain": [
       "AccumBounds(1, E)"
      ]
     },
     "metadata": {},
     "output_type": "display_data"
    },
    {
     "data": {
      "text/latex": [
       "$\\displaystyle e$"
      ],
      "text/plain": [
       "E"
      ]
     },
     "metadata": {},
     "output_type": "display_data"
    },
    {
     "data": {
      "text/latex": [
       "$\\displaystyle 1$"
      ],
      "text/plain": [
       "1"
      ]
     },
     "metadata": {},
     "output_type": "display_data"
    },
    {
     "data": {
      "text/latex": [
       "$\\displaystyle -1 + e$"
      ],
      "text/plain": [
       "-1 + E"
      ]
     },
     "metadata": {},
     "output_type": "display_data"
    },
    {
     "data": {
      "text/latex": [
       "$\\displaystyle \\frac{1}{2} + \\frac{e}{2}$"
      ],
      "text/plain": [
       "1/2 + E/2"
      ]
     },
     "metadata": {},
     "output_type": "display_data"
    },
    {
     "name": "stdout",
     "output_type": "stream",
     "text": [
      "\n"
     ]
    },
    {
     "data": {
      "text/latex": [
       "$\\displaystyle \\left(\\frac{\\pi}{2}, \\frac{3 \\pi}{2}\\right)$"
      ],
      "text/plain": [
       "Interval.open(pi/2, 3*pi/2)"
      ]
     },
     "metadata": {},
     "output_type": "display_data"
    },
    {
     "data": {
      "text/latex": [
       "$\\displaystyle \\left\\langle e^{-1}, e\\right\\rangle$"
      ],
      "text/plain": [
       "AccumBounds(exp(-1), E)"
      ]
     },
     "metadata": {},
     "output_type": "display_data"
    },
    {
     "data": {
      "text/latex": [
       "$\\displaystyle e$"
      ],
      "text/plain": [
       "E"
      ]
     },
     "metadata": {},
     "output_type": "display_data"
    },
    {
     "data": {
      "text/latex": [
       "$\\displaystyle e^{-1}$"
      ],
      "text/plain": [
       "exp(-1)"
      ]
     },
     "metadata": {},
     "output_type": "display_data"
    },
    {
     "data": {
      "text/latex": [
       "$\\displaystyle e - e^{-1}$"
      ],
      "text/plain": [
       "E - exp(-1)"
      ]
     },
     "metadata": {},
     "output_type": "display_data"
    },
    {
     "data": {
      "text/latex": [
       "$\\displaystyle \\frac{1}{2 e} + \\frac{e}{2}$"
      ],
      "text/plain": [
       "exp(-1)/2 + E/2"
      ]
     },
     "metadata": {},
     "output_type": "display_data"
    },
    {
     "name": "stdout",
     "output_type": "stream",
     "text": [
      "\n"
     ]
    },
    {
     "data": {
      "text/latex": [
       "$\\displaystyle \\left(\\frac{3 \\pi}{2}, 2 \\pi\\right)$"
      ],
      "text/plain": [
       "Interval.open(3*pi/2, 2*pi)"
      ]
     },
     "metadata": {},
     "output_type": "display_data"
    },
    {
     "data": {
      "text/latex": [
       "$\\displaystyle \\left\\langle e^{-1}, 1\\right\\rangle$"
      ],
      "text/plain": [
       "AccumBounds(exp(-1), 1)"
      ]
     },
     "metadata": {},
     "output_type": "display_data"
    },
    {
     "data": {
      "text/latex": [
       "$\\displaystyle 1$"
      ],
      "text/plain": [
       "1"
      ]
     },
     "metadata": {},
     "output_type": "display_data"
    },
    {
     "data": {
      "text/latex": [
       "$\\displaystyle e^{-1}$"
      ],
      "text/plain": [
       "exp(-1)"
      ]
     },
     "metadata": {},
     "output_type": "display_data"
    },
    {
     "data": {
      "text/latex": [
       "$\\displaystyle 1 - e^{-1}$"
      ],
      "text/plain": [
       "1 - exp(-1)"
      ]
     },
     "metadata": {},
     "output_type": "display_data"
    },
    {
     "data": {
      "text/latex": [
       "$\\displaystyle \\frac{1}{2 e} + \\frac{1}{2}$"
      ],
      "text/plain": [
       "exp(-1)/2 + 1/2"
      ]
     },
     "metadata": {},
     "output_type": "display_data"
    },
    {
     "name": "stdout",
     "output_type": "stream",
     "text": [
      "\n"
     ]
    }
   ],
   "source": [
    "intervals = [(0, Pi/2), (Pi/2, 3*Pi/2), (3*Pi/2, 2*Pi)]\n",
    "\n",
    "for interval in intervals:\n",
    "  left = interval[0]\n",
    "  right = interval[1]\n",
    "  display(Interval.open(left, right))\n",
    "  f_AccB = f.subs(x, AccumBounds(left, right))\n",
    "  display(f_AccB, f_AccB.max, f_AccB.min, f_AccB.delta, f_AccB.mid)\n",
    "  print()"
   ]
  },
  {
   "cell_type": "markdown",
   "metadata": {
    "id": "rZSOUg7GnuAO"
   },
   "source": [
    "###### График функции на одном периоде."
   ]
  },
  {
   "cell_type": "code",
   "execution_count": null,
   "metadata": {
    "colab": {
     "base_uri": "https://localhost:8080/",
     "height": 315
    },
    "id": "wwivYHyHnuAP",
    "outputId": "064c32a4-ff45-45d4-d3b4-6f1c36b6859d"
   },
   "outputs": [
    {
     "data": {
      "image/png": "[encoded data removed]",
      "text/plain": [
       "<Figure size 432x288 with 1 Axes>"
      ]
     },
     "metadata": {
      "needs_background": "light"
     },
     "output_type": "display_data"
    },
    {
     "data": {
      "text/plain": [
       "<sympy.plotting.plot.Plot at 0x7fcd06bfb250>"
      ]
     },
     "execution_count": 65,
     "metadata": {},
     "output_type": "execute_result"
    }
   ],
   "source": [
    "plot((f, (x, 0, 2*Pi)))"
   ]
  },
  {
   "cell_type": "markdown",
   "metadata": {
    "id": "sO7sysCCnuAP"
   },
   "source": [
    "### Задание 2.  \n",
    "Исследовать функцию по п.1 - 5 на области определения и по п. 1 - 7  на одном периоде, построить график.\n",
    "$$\n",
    "f(x) = \\frac{1}{\\sin(x) + \\cos(x)}.\n",
    "$$\n",
    "###### 1. Область определения"
   ]
  },
  {
   "cell_type": "code",
   "execution_count": null,
   "metadata": {
    "colab": {
     "base_uri": "https://localhost:8080/",
     "height": 58
    },
    "id": "Nw4fNr9PnuAP",
    "outputId": "c2161020-7e3c-4d69-fca6-71e85d3c92b2"
   },
   "outputs": [
    {
     "data": {
      "text/latex": [
       "$\\displaystyle \\mathbb{R} \\setminus \\left(\\left\\{2 n \\pi + \\frac{3 \\pi}{4}\\; |\\; n \\in \\mathbb{Z}\\right\\} \\cup \\left\\{2 n \\pi + \\frac{7 \\pi}{4}\\; |\\; n \\in \\mathbb{Z}\\right\\}\\right)$"
      ],
      "text/plain": [
       "Complement(Reals, Union(ImageSet(Lambda(_n, 2*_n*pi + 3*pi/4), Integers), ImageSet(Lambda(_n, 2*_n*pi + 7*pi/4), Integers)))"
      ]
     },
     "execution_count": 67,
     "metadata": {},
     "output_type": "execute_result"
    }
   ],
   "source": [
    "f = 1 / (Sin(x) + Cos(x))\n",
    "D = continuous_domain(f, x, S.Reals)\n",
    "D"
   ]
  },
  {
   "cell_type": "markdown",
   "metadata": {
    "id": "4mxEqGQZnuAQ"
   },
   "source": [
    "Сингулярные точки (точки, где функция не определена)"
   ]
  },
  {
   "cell_type": "code",
   "execution_count": null,
   "metadata": {
    "colab": {
     "base_uri": "https://localhost:8080/",
     "height": 58
    },
    "id": "wPY-NgErnuAQ",
    "outputId": "4cd97911-e185-46b9-f7c3-6550fa40e4d8"
   },
   "outputs": [
    {
     "data": {
      "text/latex": [
       "$\\displaystyle \\left\\{2 n \\pi + \\frac{3 \\pi}{4}\\; |\\; n \\in \\mathbb{Z}\\right\\} \\cup \\left\\{2 n \\pi + \\frac{7 \\pi}{4}\\; |\\; n \\in \\mathbb{Z}\\right\\}$"
      ],
      "text/plain": [
       "Union(ImageSet(Lambda(_n, 2*_n*pi + 3*pi/4), Integers), ImageSet(Lambda(_n, 2*_n*pi + 7*pi/4), Integers))"
      ]
     },
     "execution_count": 68,
     "metadata": {},
     "output_type": "execute_result"
    }
   ],
   "source": [
    "singularities(f, x)"
   ]
  },
  {
   "cell_type": "markdown",
   "metadata": {
    "id": "rifHR0ohnuAR"
   },
   "source": [
    "###### 2. Область значений"
   ]
  },
  {
   "cell_type": "code",
   "execution_count": null,
   "metadata": {
    "colab": {
     "base_uri": "https://localhost:8080/",
     "height": 68
    },
    "id": "XEFb-m8_nuAS",
    "outputId": "61c3ed61-30d0-410e-f1c1-22ef753644ae"
   },
   "outputs": [
    {
     "data": {
      "text/latex": [
       "$\\displaystyle \\left(-\\infty, - \\frac{\\sqrt{2}}{2}\\right] \\cup \\left[\\frac{\\sqrt{2}}{2}, \\infty\\right)$"
      ],
      "text/plain": [
       "Union(Interval(-oo, -sqrt(2)/2), Interval(sqrt(2)/2, oo))"
      ]
     },
     "execution_count": 69,
     "metadata": {},
     "output_type": "execute_result"
    }
   ],
   "source": [
    "function_range(f, x, S.Reals)"
   ]
  },
  {
   "cell_type": "markdown",
   "metadata": {
    "id": "JjYwpbDpnuAS"
   },
   "source": [
    "###### 3. Периодичность"
   ]
  },
  {
   "cell_type": "code",
   "execution_count": null,
   "metadata": {
    "colab": {
     "base_uri": "https://localhost:8080/",
     "height": 38
    },
    "id": "uruWSiBxnuAS",
    "outputId": "85850d8c-f9a3-4077-dc17-2a276f6cbabb"
   },
   "outputs": [
    {
     "data": {
      "text/latex": [
       "$\\displaystyle 2 \\pi$"
      ],
      "text/plain": [
       "2*pi"
      ]
     },
     "execution_count": 70,
     "metadata": {},
     "output_type": "execute_result"
    }
   ],
   "source": [
    "periodicity(f, x, check=False)"
   ]
  },
  {
   "cell_type": "markdown",
   "metadata": {
    "id": "C3elU9JfnuAT"
   },
   "source": [
    "###### 4. Стационарные точки"
   ]
  },
  {
   "cell_type": "code",
   "execution_count": null,
   "metadata": {
    "colab": {
     "base_uri": "https://localhost:8080/",
     "height": 98
    },
    "id": "dGwGjYqrnuAT",
    "outputId": "9838d5f9-f950-43df-9f30-4a972061ddaa"
   },
   "outputs": [
    {
     "data": {
      "text/latex": [
       "$\\displaystyle \\left(\\left\\{2 n \\pi + \\frac{5 \\pi}{4}\\; |\\; n \\in \\mathbb{Z}\\right\\} \\setminus \\left(\\left\\{2 n \\pi + \\frac{3 \\pi}{4}\\; |\\; n \\in \\mathbb{Z}\\right\\} \\cup \\left\\{2 n \\pi + \\frac{7 \\pi}{4}\\; |\\; n \\in \\mathbb{Z}\\right\\}\\right)\\right) \\cup \\left(\\left\\{2 n \\pi + \\frac{\\pi}{4}\\; |\\; n \\in \\mathbb{Z}\\right\\} \\setminus \\left(\\left\\{2 n \\pi + \\frac{3 \\pi}{4}\\; |\\; n \\in \\mathbb{Z}\\right\\} \\cup \\left\\{2 n \\pi + \\frac{7 \\pi}{4}\\; |\\; n \\in \\mathbb{Z}\\right\\}\\right)\\right)$"
      ],
      "text/plain": [
       "Union(Complement(ImageSet(Lambda(_n, 2*_n*pi + 5*pi/4), Integers), Union(ImageSet(Lambda(_n, 2*_n*pi + 3*pi/4), Integers), ImageSet(Lambda(_n, 2*_n*pi + 7*pi/4), Integers))), Complement(ImageSet(Lambda(_n, 2*_n*pi + pi/4), Integers), Union(ImageSet(Lambda(_n, 2*_n*pi + 3*pi/4), Integers), ImageSet(Lambda(_n, 2*_n*pi + 7*pi/4), Integers))))"
      ]
     },
     "execution_count": 71,
     "metadata": {},
     "output_type": "execute_result"
    }
   ],
   "source": [
    "stationary_points(f, x)"
   ]
  },
  {
   "cell_type": "markdown",
   "metadata": {
    "id": "2dGegwZJnuAT"
   },
   "source": [
    "###### 5. Максимальное и минимальное значения функции"
   ]
  },
  {
   "cell_type": "code",
   "execution_count": null,
   "metadata": {
    "colab": {
     "base_uri": "https://localhost:8080/",
     "height": 58
    },
    "id": "b7eRb5tcnuAT",
    "outputId": "05d479c0-4285-47e3-97a8-0e03a75790fb"
   },
   "outputs": [
    {
     "data": {
      "text/latex": [
       "$\\displaystyle \\infty$"
      ],
      "text/plain": [
       "oo"
      ]
     },
     "metadata": {},
     "output_type": "display_data"
    },
    {
     "data": {
      "text/latex": [
       "$\\displaystyle -\\infty$"
      ],
      "text/plain": [
       "-oo"
      ]
     },
     "metadata": {},
     "output_type": "display_data"
    }
   ],
   "source": [
    "display(maximum(f, x), minimum(f, x))"
   ]
  },
  {
   "cell_type": "markdown",
   "metadata": {
    "id": "6StfNoGJnuAU"
   },
   "source": [
    "##### Исследование периодической функции на одном периоде.\n",
    "Найти пересечение с периодом области определения, множества сингулярных точек и стационарных точек.\n",
    "###### 1. Область определения"
   ]
  },
  {
   "cell_type": "code",
   "execution_count": null,
   "metadata": {
    "colab": {
     "base_uri": "https://localhost:8080/",
     "height": 58
    },
    "id": "RH4Aa8sfnuAV",
    "outputId": "a96860a7-319f-4895-e54f-35769a0c0f78"
   },
   "outputs": [
    {
     "data": {
      "text/latex": [
       "$\\displaystyle \\left[0, \\frac{3 \\pi}{4}\\right) \\cup \\left(\\frac{3 \\pi}{4}, \\frac{7 \\pi}{4}\\right) \\cup \\left(\\frac{7 \\pi}{4}, 2 \\pi\\right]$"
      ],
      "text/plain": [
       "Union(Interval.Ropen(0, 3*pi/4), Interval.open(3*pi/4, 7*pi/4), Interval.Lopen(7*pi/4, 2*pi))"
      ]
     },
     "execution_count": 73,
     "metadata": {},
     "output_type": "execute_result"
    }
   ],
   "source": [
    "period_pi = Interval(0, 2*Pi)\n",
    "continuous_domain(f, x, period_pi)"
   ]
  },
  {
   "cell_type": "markdown",
   "metadata": {
    "id": "EJfcIa7knuAV"
   },
   "source": [
    "Сингулярные точки (точки, где функция не определена)"
   ]
  },
  {
   "cell_type": "code",
   "execution_count": null,
   "metadata": {
    "colab": {
     "base_uri": "https://localhost:8080/",
     "height": 58
    },
    "id": "Fdw8C-zmnuAV",
    "outputId": "48a0388f-51af-4712-88d1-c3c427b8a4d6"
   },
   "outputs": [
    {
     "data": {
      "text/latex": [
       "$\\displaystyle \\left\\{\\frac{3 \\pi}{4}, \\frac{7 \\pi}{4}\\right\\}$"
      ],
      "text/plain": [
       "FiniteSet(3*pi/4, 7*pi/4)"
      ]
     },
     "execution_count": 74,
     "metadata": {},
     "output_type": "execute_result"
    }
   ],
   "source": [
    "singularities(f, x, period_pi)"
   ]
  },
  {
   "cell_type": "markdown",
   "metadata": {
    "id": "y6GuEqRpnuAV"
   },
   "source": [
    "###### 2. Область значений"
   ]
  },
  {
   "cell_type": "code",
   "execution_count": null,
   "metadata": {
    "colab": {
     "base_uri": "https://localhost:8080/",
     "height": 68
    },
    "id": "F0YEnto-nuAW",
    "outputId": "ea4077fb-930e-408a-9181-8edefd5001d3"
   },
   "outputs": [
    {
     "data": {
      "text/latex": [
       "$\\displaystyle \\left(-\\infty, - \\frac{\\sqrt{2}}{2}\\right] \\cup \\left[\\frac{\\sqrt{2}}{2}, \\infty\\right)$"
      ],
      "text/plain": [
       "Union(Interval(-oo, -sqrt(2)/2), Interval(sqrt(2)/2, oo))"
      ]
     },
     "execution_count": 75,
     "metadata": {},
     "output_type": "execute_result"
    }
   ],
   "source": [
    "function_range(f, x, period_pi)"
   ]
  },
  {
   "cell_type": "markdown",
   "metadata": {
    "id": "tsk7jPtHnuAW"
   },
   "source": [
    "###### 4. Стационарные точки"
   ]
  },
  {
   "cell_type": "code",
   "execution_count": null,
   "metadata": {
    "colab": {
     "base_uri": "https://localhost:8080/",
     "height": 58
    },
    "id": "jkYz-5_OnuAW",
    "outputId": "73f48749-94de-4e5b-b821-578d57990f6e"
   },
   "outputs": [
    {
     "data": {
      "text/latex": [
       "$\\displaystyle \\left\\{\\frac{\\pi}{4}, \\frac{5 \\pi}{4}\\right\\}$"
      ],
      "text/plain": [
       "FiniteSet(pi/4, 5*pi/4)"
      ]
     },
     "execution_count": 76,
     "metadata": {},
     "output_type": "execute_result"
    }
   ],
   "source": [
    "stationary_points(f, x, period_pi)"
   ]
  },
  {
   "cell_type": "markdown",
   "metadata": {
    "id": "BIdon_UJnuAW"
   },
   "source": [
    "###### 5. Максимальное и минимальное значения функции"
   ]
  },
  {
   "cell_type": "code",
   "execution_count": null,
   "metadata": {
    "colab": {
     "base_uri": "https://localhost:8080/",
     "height": 58
    },
    "id": "MgJnadTJnuAW",
    "outputId": "0b4c291f-5023-433b-b52c-a566fd11c539"
   },
   "outputs": [
    {
     "data": {
      "text/latex": [
       "$\\displaystyle \\infty$"
      ],
      "text/plain": [
       "oo"
      ]
     },
     "metadata": {},
     "output_type": "display_data"
    },
    {
     "data": {
      "text/latex": [
       "$\\displaystyle -\\infty$"
      ],
      "text/plain": [
       "-oo"
      ]
     },
     "metadata": {},
     "output_type": "display_data"
    }
   ],
   "source": [
    "display(maximum(f, x, period_pi), minimum(f, x, period_pi))"
   ]
  },
  {
   "cell_type": "markdown",
   "metadata": {
    "id": "qLCwH8BQnuAX"
   },
   "source": [
    "###### 6. Монотонность"
   ]
  },
  {
   "cell_type": "code",
   "execution_count": null,
   "metadata": {
    "colab": {
     "base_uri": "https://localhost:8080/",
     "height": 301
    },
    "id": "aOa6ip6CnuAX",
    "outputId": "b08e3a0e-a31a-4a74-d4c0-a28751cd52c3"
   },
   "outputs": [
    {
     "data": {
      "text/latex": [
       "$\\displaystyle \\left(0, \\frac{\\pi}{4}\\right)$"
      ],
      "text/plain": [
       "Interval.open(0, pi/4)"
      ]
     },
     "metadata": {},
     "output_type": "display_data"
    },
    {
     "name": "stdout",
     "output_type": "stream",
     "text": [
      "True True False True False\n"
     ]
    },
    {
     "data": {
      "text/latex": [
       "$\\displaystyle \\left(\\frac{\\pi}{4}, \\frac{3 \\pi}{4}\\right)$"
      ],
      "text/plain": [
       "Interval.open(pi/4, 3*pi/4)"
      ]
     },
     "metadata": {},
     "output_type": "display_data"
    },
    {
     "name": "stdout",
     "output_type": "stream",
     "text": [
      "True False True False True\n"
     ]
    },
    {
     "data": {
      "text/latex": [
       "$\\displaystyle \\left(\\frac{3 \\pi}{4}, \\frac{5 \\pi}{4}\\right)$"
      ],
      "text/plain": [
       "Interval.open(3*pi/4, 5*pi/4)"
      ]
     },
     "metadata": {},
     "output_type": "display_data"
    },
    {
     "name": "stdout",
     "output_type": "stream",
     "text": [
      "True False True False True\n"
     ]
    },
    {
     "data": {
      "text/latex": [
       "$\\displaystyle \\left(\\frac{5 \\pi}{4}, \\frac{7 \\pi}{4}\\right)$"
      ],
      "text/plain": [
       "Interval.open(5*pi/4, 7*pi/4)"
      ]
     },
     "metadata": {},
     "output_type": "display_data"
    },
    {
     "name": "stdout",
     "output_type": "stream",
     "text": [
      "True True False True False\n"
     ]
    },
    {
     "data": {
      "text/latex": [
       "$\\displaystyle \\left(\\frac{7 \\pi}{4}, 2 \\pi\\right)$"
      ],
      "text/plain": [
       "Interval.open(7*pi/4, 2*pi)"
      ]
     },
     "metadata": {},
     "output_type": "display_data"
    },
    {
     "name": "stdout",
     "output_type": "stream",
     "text": [
      "True True False True False\n"
     ]
    }
   ],
   "source": [
    "intervals = [Interval.open(0, Pi/4), Interval.open(Pi/4, 3*Pi/4), Interval.open(3*Pi/4, 5*Pi/4), Interval.open(5*Pi/4, 7*Pi/4), Interval.open(7*Pi/4, 2*Pi)]\n",
    "for interval in intervals:\n",
    "  display(interval)\n",
    "  print(is_monotonic(f, interval=interval),\n",
    "  is_decreasing(f, interval=interval), \n",
    "  is_increasing(f, interval=interval),\n",
    "  is_strictly_decreasing(f, interval=interval), \n",
    "  is_strictly_increasing(f, interval=interval))"
   ]
  },
  {
   "cell_type": "markdown",
   "metadata": {
    "id": "hSuEXPxZnuAX"
   },
   "source": [
    "###### 7. Минимальное и максимальное значение функции на периоде"
   ]
  },
  {
   "cell_type": "code",
   "execution_count": null,
   "metadata": {
    "colab": {
     "base_uri": "https://localhost:8080/",
     "height": 1000
    },
    "id": "56EuTG7UnuAX",
    "outputId": "bf55a0de-aac3-42d3-d8ec-cdc9b0f90b23"
   },
   "outputs": [
    {
     "data": {
      "text/latex": [
       "$\\displaystyle \\left(0, \\frac{\\pi}{4}\\right)$"
      ],
      "text/plain": [
       "Interval.open(0, pi/4)"
      ]
     },
     "metadata": {},
     "output_type": "display_data"
    },
    {
     "data": {
      "text/latex": [
       "$\\displaystyle \\left\\langle \\frac{1}{\\frac{\\sqrt{2}}{2} + 1}, \\sqrt{2}\\right\\rangle$"
      ],
      "text/plain": [
       "AccumBounds(1/(sqrt(2)/2 + 1), sqrt(2))"
      ]
     },
     "metadata": {},
     "output_type": "display_data"
    },
    {
     "data": {
      "text/latex": [
       "$\\displaystyle \\sqrt{2}$"
      ],
      "text/plain": [
       "sqrt(2)"
      ]
     },
     "metadata": {},
     "output_type": "display_data"
    },
    {
     "data": {
      "text/latex": [
       "$\\displaystyle \\frac{1}{\\frac{\\sqrt{2}}{2} + 1}$"
      ],
      "text/plain": [
       "1/(sqrt(2)/2 + 1)"
      ]
     },
     "metadata": {},
     "output_type": "display_data"
    },
    {
     "data": {
      "text/latex": [
       "$\\displaystyle - \\frac{1}{\\frac{\\sqrt{2}}{2} + 1} + \\sqrt{2}$"
      ],
      "text/plain": [
       "-1/(sqrt(2)/2 + 1) + sqrt(2)"
      ]
     },
     "metadata": {},
     "output_type": "display_data"
    },
    {
     "data": {
      "text/latex": [
       "$\\displaystyle \\frac{1}{2 \\left(\\frac{\\sqrt{2}}{2} + 1\\right)} + \\frac{\\sqrt{2}}{2}$"
      ],
      "text/plain": [
       "1/(2*(sqrt(2)/2 + 1)) + sqrt(2)/2"
      ]
     },
     "metadata": {},
     "output_type": "display_data"
    },
    {
     "name": "stdout",
     "output_type": "stream",
     "text": [
      "\n"
     ]
    },
    {
     "data": {
      "text/latex": [
       "$\\displaystyle \\left(\\frac{\\pi}{4}, \\frac{3 \\pi}{4}\\right)$"
      ],
      "text/plain": [
       "Interval.open(pi/4, 3*pi/4)"
      ]
     },
     "metadata": {},
     "output_type": "display_data"
    },
    {
     "data": {
      "text/latex": [
       "$\\displaystyle \\left\\langle \\frac{1}{\\frac{\\sqrt{2}}{2} + 1}, \\infty\\right\\rangle$"
      ],
      "text/plain": [
       "AccumBounds(1/(sqrt(2)/2 + 1), oo)"
      ]
     },
     "metadata": {},
     "output_type": "display_data"
    },
    {
     "data": {
      "text/latex": [
       "$\\displaystyle \\infty$"
      ],
      "text/plain": [
       "oo"
      ]
     },
     "metadata": {},
     "output_type": "display_data"
    },
    {
     "data": {
      "text/latex": [
       "$\\displaystyle \\frac{1}{\\frac{\\sqrt{2}}{2} + 1}$"
      ],
      "text/plain": [
       "1/(sqrt(2)/2 + 1)"
      ]
     },
     "metadata": {},
     "output_type": "display_data"
    },
    {
     "data": {
      "text/latex": [
       "$\\displaystyle \\infty$"
      ],
      "text/plain": [
       "oo"
      ]
     },
     "metadata": {},
     "output_type": "display_data"
    },
    {
     "data": {
      "text/latex": [
       "$\\displaystyle \\infty$"
      ],
      "text/plain": [
       "oo"
      ]
     },
     "metadata": {},
     "output_type": "display_data"
    },
    {
     "name": "stdout",
     "output_type": "stream",
     "text": [
      "\n"
     ]
    },
    {
     "data": {
      "text/latex": [
       "$\\displaystyle \\left(\\frac{3 \\pi}{4}, \\frac{5 \\pi}{4}\\right)$"
      ],
      "text/plain": [
       "Interval.open(3*pi/4, 5*pi/4)"
      ]
     },
     "metadata": {},
     "output_type": "display_data"
    },
    {
     "data": {
      "text/latex": [
       "$\\displaystyle \\left\\langle -\\infty, \\frac{1}{-1 - \\frac{\\sqrt{2}}{2}}\\right\\rangle$"
      ],
      "text/plain": [
       "AccumBounds(-oo, 1/(-1 - sqrt(2)/2))"
      ]
     },
     "metadata": {},
     "output_type": "display_data"
    },
    {
     "data": {
      "text/latex": [
       "$\\displaystyle \\frac{1}{-1 - \\frac{\\sqrt{2}}{2}}$"
      ],
      "text/plain": [
       "1/(-1 - sqrt(2)/2)"
      ]
     },
     "metadata": {},
     "output_type": "display_data"
    },
    {
     "data": {
      "text/latex": [
       "$\\displaystyle -\\infty$"
      ],
      "text/plain": [
       "-oo"
      ]
     },
     "metadata": {},
     "output_type": "display_data"
    },
    {
     "data": {
      "text/latex": [
       "$\\displaystyle \\infty$"
      ],
      "text/plain": [
       "oo"
      ]
     },
     "metadata": {},
     "output_type": "display_data"
    },
    {
     "data": {
      "text/latex": [
       "$\\displaystyle -\\infty$"
      ],
      "text/plain": [
       "-oo"
      ]
     },
     "metadata": {},
     "output_type": "display_data"
    },
    {
     "name": "stdout",
     "output_type": "stream",
     "text": [
      "\n"
     ]
    },
    {
     "data": {
      "text/latex": [
       "$\\displaystyle \\left(\\frac{5 \\pi}{4}, \\frac{7 \\pi}{4}\\right)$"
      ],
      "text/plain": [
       "Interval.open(5*pi/4, 7*pi/4)"
      ]
     },
     "metadata": {},
     "output_type": "display_data"
    },
    {
     "data": {
      "text/latex": [
       "$\\displaystyle \\left\\langle -\\infty, \\frac{1}{-1 - \\frac{\\sqrt{2}}{2}}\\right\\rangle$"
      ],
      "text/plain": [
       "AccumBounds(-oo, 1/(-1 - sqrt(2)/2))"
      ]
     },
     "metadata": {},
     "output_type": "display_data"
    },
    {
     "data": {
      "text/latex": [
       "$\\displaystyle \\frac{1}{-1 - \\frac{\\sqrt{2}}{2}}$"
      ],
      "text/plain": [
       "1/(-1 - sqrt(2)/2)"
      ]
     },
     "metadata": {},
     "output_type": "display_data"
    },
    {
     "data": {
      "text/latex": [
       "$\\displaystyle -\\infty$"
      ],
      "text/plain": [
       "-oo"
      ]
     },
     "metadata": {},
     "output_type": "display_data"
    },
    {
     "data": {
      "text/latex": [
       "$\\displaystyle \\infty$"
      ],
      "text/plain": [
       "oo"
      ]
     },
     "metadata": {},
     "output_type": "display_data"
    },
    {
     "data": {
      "text/latex": [
       "$\\displaystyle -\\infty$"
      ],
      "text/plain": [
       "-oo"
      ]
     },
     "metadata": {},
     "output_type": "display_data"
    },
    {
     "name": "stdout",
     "output_type": "stream",
     "text": [
      "\n"
     ]
    },
    {
     "data": {
      "text/latex": [
       "$\\displaystyle \\left(\\frac{7 \\pi}{4}, 2 \\pi\\right)$"
      ],
      "text/plain": [
       "Interval.open(7*pi/4, 2*pi)"
      ]
     },
     "metadata": {},
     "output_type": "display_data"
    },
    {
     "data": {
      "text/latex": [
       "$\\displaystyle \\left\\langle 1, \\infty\\right\\rangle$"
      ],
      "text/plain": [
       "AccumBounds(1, oo)"
      ]
     },
     "metadata": {},
     "output_type": "display_data"
    },
    {
     "data": {
      "text/latex": [
       "$\\displaystyle \\infty$"
      ],
      "text/plain": [
       "oo"
      ]
     },
     "metadata": {},
     "output_type": "display_data"
    },
    {
     "data": {
      "text/latex": [
       "$\\displaystyle 1$"
      ],
      "text/plain": [
       "1"
      ]
     },
     "metadata": {},
     "output_type": "display_data"
    },
    {
     "data": {
      "text/latex": [
       "$\\displaystyle \\infty$"
      ],
      "text/plain": [
       "oo"
      ]
     },
     "metadata": {},
     "output_type": "display_data"
    },
    {
     "data": {
      "text/latex": [
       "$\\displaystyle \\infty$"
      ],
      "text/plain": [
       "oo"
      ]
     },
     "metadata": {},
     "output_type": "display_data"
    },
    {
     "name": "stdout",
     "output_type": "stream",
     "text": [
      "\n"
     ]
    }
   ],
   "source": [
    "intervals = [(0, Pi/4), (Pi/4, 3*Pi/4), (3*Pi/4, 5*Pi/4), (5*Pi/4, 7*Pi/4), (7*Pi/4, 2*Pi)]\n",
    "for interval in intervals:\n",
    "  left = interval[0]\n",
    "  right = interval[1]\n",
    "  display(Interval.open(left, right))\n",
    "  f_AccB = f.subs(x, AccumBounds(left, right))\n",
    "  display(f_AccB, f_AccB.max, f_AccB.min, f_AccB.delta, f_AccB.mid)\n",
    "  print()"
   ]
  },
  {
   "cell_type": "markdown",
   "metadata": {
    "id": "tOFvXeftnuAX"
   },
   "source": [
    "###### График"
   ]
  },
  {
   "cell_type": "code",
   "execution_count": null,
   "metadata": {
    "colab": {
     "base_uri": "https://localhost:8080/",
     "height": 315
    },
    "id": "fyjGQfoOnuAY",
    "outputId": "26512f12-b5bb-4a8d-e1e0-b064bc6b752c"
   },
   "outputs": [
    {
     "data": {
      "image/png": "[encoded data removed]",
      "text/plain": [
       "<Figure size 432x288 with 1 Axes>"
      ]
     },
     "metadata": {
      "needs_background": "light"
     },
     "output_type": "display_data"
    },
    {
     "data": {
      "text/plain": [
       "<sympy.plotting.plot.Plot at 0x7fcd05bac950>"
      ]
     },
     "execution_count": 88,
     "metadata": {},
     "output_type": "execute_result"
    }
   ],
   "source": [
    "plot((f, (x, 0, 3*Pi/4 - 0.02)), (f, (x, 3*Pi/4 + 0.02, 7*Pi/4 - 0.02)), (f, (x, 7*Pi/4 + 0.02, 2*Pi)))"
   ]
  },
  {
   "cell_type": "markdown",
   "metadata": {},
   "source": [
    "Хорасанджян Левон, вариант №157"
   ]
  }
 ],
 "metadata": {
  "colab": {
   "collapsed_sections": [
    "sO7sysCCnuAP",
    "PJedh-mVnuAY"
   ],
   "name": "Calculus_math_7_tasks.ipynb",
   "provenance": []
  },
  "kernelspec": {
   "display_name": "Python 3",
   "language": "python",
   "name": "python3"
  },
  "language_info": {
   "codemirror_mode": {
    "name": "ipython",
    "version": 3
   },
   "file_extension": ".py",
   "mimetype": "text/x-python",
   "name": "python",
   "nbconvert_exporter": "python",
   "pygments_lexer": "ipython3",
   "version": "3.8.8"
  }
 },
 "nbformat": 4,
 "nbformat_minor": 1
}
