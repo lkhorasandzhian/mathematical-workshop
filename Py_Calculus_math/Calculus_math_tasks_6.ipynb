{
 "cells": [
  {
   "cell_type": "markdown",
   "metadata": {
    "id": "c-0FK0kqntre"
   },
   "source": [
    "## Занятие 6\n",
    "## Математический анализ\n",
    "## Дифференцирование"
   ]
  },
  {
   "cell_type": "code",
   "execution_count": null,
   "metadata": {
    "id": "uiR6fvAfntrj"
   },
   "outputs": [],
   "source": [
    "import numpy as np\n",
    "import matplotlib.pyplot as plt\n",
    "import sympy\n",
    "from sympy import diff, solve, nsolve, solveset, latex, S, simplify, fraction, Symbol, E\n",
    "from sympy import sin as Sin\n",
    "from sympy.calculus.util import continuous_domain\n",
    "%matplotlib inline"
   ]
  },
  {
   "cell_type": "markdown",
   "metadata": {
    "id": "bAD-426Yntrl"
   },
   "source": [
    "## Лабораторная работа 6\n",
    "## Математический анализ\n",
    "## Задание 1\n",
    "Исследовать функцию с помощью производной, найти необходимые пределы и решить уравнения.\n",
    "\n",
    "Построить график функции и асимптот, отметить и подписать точки экстремума и точки перегиба,\n",
    "включить функцию и асимптоты в легенду. \n",
    "$$\n",
    "y = x^2e^{-x}\n",
    "$$"
   ]
  },
  {
   "cell_type": "code",
   "execution_count": null,
   "metadata": {
    "id": "UJOfTbIGqO0d"
   },
   "outputs": [],
   "source": [
    "def parity(f, x):\n",
    "  if f(-x) == f(x):\n",
    "    print('Четная функция')\n",
    "  elif f(-x) == -f(x):\n",
    "    print('Нечетная функция')\n",
    "  else:\n",
    "    print('Функция общего вида')\n",
    "\n",
    "def d(f, x, num = 1):\n",
    " return simplify(f(x).diff(x, num))"
   ]
  },
  {
   "cell_type": "code",
   "execution_count": null,
   "metadata": {
    "colab": {
     "base_uri": "https://localhost:8080/",
     "height": 211
    },
    "id": "9DvY5CV4ntrm",
    "outputId": "63e5306b-c2d7-4ba8-8cf8-c6c71d2c0e3b"
   },
   "outputs": [
    {
     "data": {
      "application/vnd.google.colaboratory.intrinsic+json": {
       "type": "string"
      },
      "text/plain": [
       "'Область определения: '"
      ]
     },
     "metadata": {},
     "output_type": "display_data"
    },
    {
     "data": {
      "text/latex": [
       "$\\displaystyle \\mathbb{R}$"
      ],
      "text/plain": [
       "Reals"
      ]
     },
     "metadata": {},
     "output_type": "display_data"
    },
    {
     "name": "stdout",
     "output_type": "stream",
     "text": [
      "Функция общего вида\n",
      "Данная функция не периодическая\n",
      "Пересечения с осями в точках [0]\n"
     ]
    },
    {
     "data": {
      "application/vnd.google.colaboratory.intrinsic+json": {
       "type": "string"
      },
      "text/plain": [
       "'Производная'"
      ]
     },
     "metadata": {},
     "output_type": "display_data"
    },
    {
     "data": {
      "text/latex": [
       "$\\displaystyle x \\left(2 - x\\right) e^{- x}$"
      ],
      "text/plain": [
       "x*(2 - x)*exp(-x)"
      ]
     },
     "metadata": {},
     "output_type": "display_data"
    },
    {
     "data": {
      "application/vnd.google.colaboratory.intrinsic+json": {
       "type": "string"
      },
      "text/plain": [
       "'Область определения производной'"
      ]
     },
     "metadata": {},
     "output_type": "display_data"
    },
    {
     "data": {
      "text/latex": [
       "$\\displaystyle \\mathbb{R}$"
      ],
      "text/plain": [
       "Reals"
      ]
     },
     "metadata": {},
     "output_type": "display_data"
    },
    {
     "name": "stdout",
     "output_type": "stream",
     "text": [
      "Нули производной [0, 2]\n"
     ]
    }
   ],
   "source": [
    "x = Symbol('x')\n",
    "def f(x):\n",
    "  return x ** 2 * E ** (-x)\n",
    "D = continuous_domain(f(x), x, S.Reals)\n",
    "display('Область определения: ', D)\n",
    "parity(f, x)\n",
    "print('Данная функция не периодическая')\n",
    "\n",
    "roots = list(solveset(f(x), domain=S.Reals))\n",
    "print('Пересечения с осями в точках', roots)\n",
    "\n",
    "\n",
    "df = d(f, x)\n",
    "display('Производная', df)\n",
    "df_D = continuous_domain(df, x, S.Reals) # Это область определения производной.\n",
    "display('Область определения производной', df_D)\n",
    "\n",
    "df_roots = list(solveset(df, domain=df_D))\n",
    "print('Нули производной', df_roots)"
   ]
  },
  {
   "cell_type": "code",
   "execution_count": null,
   "metadata": {
    "colab": {
     "base_uri": "https://localhost:8080/",
     "height": 90
    },
    "id": "hHRc4DVaF0TX",
    "outputId": "c48455b2-e279-4744-8f81-e31416a9ef7b"
   },
   "outputs": [
    {
     "data": {
      "application/vnd.google.colaboratory.intrinsic+json": {
       "type": "string"
      },
      "text/plain": [
       "'Точки максимума'"
      ]
     },
     "metadata": {},
     "output_type": "display_data"
    },
    {
     "data": {
      "text/plain": [
       "[2]"
      ]
     },
     "metadata": {},
     "output_type": "display_data"
    },
    {
     "data": {
      "application/vnd.google.colaboratory.intrinsic+json": {
       "type": "string"
      },
      "text/plain": [
       "'Точки минимума'"
      ]
     },
     "metadata": {},
     "output_type": "display_data"
    },
    {
     "data": {
      "text/plain": [
       "[0]"
      ]
     },
     "metadata": {},
     "output_type": "display_data"
    }
   ],
   "source": [
    "points = [df_roots[0] - 1]\n",
    "points.extend([(df_roots[i] + df_roots[i + 1]) / 2 for i in range(len(df_roots) - 1)])\n",
    "points.append(df_roots[-1] + 1)\n",
    "\n",
    "max_points = []\n",
    "min_points = []\n",
    "for i, item in enumerate(df_roots):\n",
    "  df_left = df.subs(x, points[i])\n",
    "  df_right = df.subs(x, points[i + 1])\n",
    "  if df_left < 0 and df_right > 0:\n",
    "    min_points.append(item)\n",
    "  elif df_left > 0 and df_right < 0:\n",
    "    max_points.append(item)\n",
    "display('Точки максимума', max_points, 'Точки минимума', min_points)"
   ]
  },
  {
   "cell_type": "code",
   "execution_count": null,
   "metadata": {
    "colab": {
     "base_uri": "https://localhost:8080/",
     "height": 54
    },
    "id": "ly7O9V2sStX-",
    "outputId": "e89bb596-15f6-4d61-fb5e-9c28a7032ed7"
   },
   "outputs": [
    {
     "data": {
      "application/vnd.google.colaboratory.intrinsic+json": {
       "type": "string"
      },
      "text/plain": [
       "'Точки перегиба'"
      ]
     },
     "metadata": {},
     "output_type": "display_data"
    },
    {
     "data": {
      "text/plain": [
       "[2 - sqrt(2), sqrt(2) + 2]"
      ]
     },
     "metadata": {},
     "output_type": "display_data"
    }
   ],
   "source": [
    "df2 = d(f, x, 2)\n",
    "df2_roots = solve(df2, x)\n",
    "df2_roots.sort()\n",
    "\n",
    "points2 = [df2_roots[0] - 1]\n",
    "points2.extend([(df2_roots[i] + df2_roots[i + 1]) / 2 for i in range(len(df2_roots) - 1)])\n",
    "points2.append(df2_roots[-1] + 1)\n",
    "inflection_arr = [item for i, item in enumerate(df2_roots) if df2.subs(x, points2[i]) * df2.subs(x, points2[i + 1]) < 0]\n",
    "display('Точки перегиба', inflection_arr)"
   ]
  },
  {
   "cell_type": "code",
   "execution_count": null,
   "metadata": {
    "colab": {
     "base_uri": "https://localhost:8080/",
     "height": 130
    },
    "id": "vHgllAREF5sm",
    "outputId": "1c16b57f-2ccc-4cbe-a25a-9506fa425395"
   },
   "outputs": [
    {
     "name": "stdout",
     "output_type": "stream",
     "text": [
      "Функция непрерывна на всей числовой оси, а значит вертикальные ассимптоты отсутствуют\n"
     ]
    },
    {
     "data": {
      "application/vnd.google.colaboratory.intrinsic+json": {
       "type": "string"
      },
      "text/plain": [
       "'Пределы не равны, наклонной асимптоты нет'"
      ]
     },
     "metadata": {},
     "output_type": "display_data"
    },
    {
     "data": {
      "text/plain": [
       "(-oo, 0)"
      ]
     },
     "metadata": {},
     "output_type": "display_data"
    },
    {
     "data": {
      "text/latex": [
       "$\\displaystyle 0$"
      ],
      "text/plain": [
       "0"
      ]
     },
     "metadata": {},
     "output_type": "display_data"
    },
    {
     "data": {
      "text/latex": [
       "$\\displaystyle \\infty$"
      ],
      "text/plain": [
       "oo"
      ]
     },
     "metadata": {},
     "output_type": "display_data"
    },
    {
     "name": "stdout",
     "output_type": "stream",
     "text": [
      "Предел на +oo равен 0, значит есть горизонтальная асимптота\n"
     ]
    }
   ],
   "source": [
    "print('Функция непрерывна на всей числовой оси, а значит вертикальные ассимптоты отсутствуют')\n",
    "\n",
    "kpos = sympy.limit(f(x)/x, x, +sympy.oo)\n",
    "kneg = sympy.limit(f(x)/x, x, -sympy.oo)\n",
    "if kpos == kneg:\n",
    "  k = kpos\n",
    "else:\n",
    "  k = (kneg, kpos)\n",
    "display('Пределы не равны, наклонной асимптоты нет', k)\n",
    "\n",
    "y0pos = f(x).limit(x, +sympy.oo)\n",
    "y0neg = f(x).limit(x, -sympy.oo)\n",
    "display(y0pos, y0neg)\n",
    "print('Предел на +oo равен 0, значит есть горизонтальная асимптота')"
   ]
  },
  {
   "cell_type": "code",
   "execution_count": null,
   "metadata": {
    "colab": {
     "base_uri": "https://localhost:8080/",
     "height": 276
    },
    "id": "qNiOwqs_3BO5",
    "outputId": "8cd5eb6e-4017-4306-fa27-5f0e3e842198"
   },
   "outputs": [
    {
     "data": {
      "text/plain": [
       "<matplotlib.legend.Legend at 0x7f7e2e86d990>"
      ]
     },
     "execution_count": 29,
     "metadata": {},
     "output_type": "execute_result"
    },
    {
     "data": {
      "image/png": "[encoded data removed]",
      "text/plain": [
       "<Figure size 432x288 with 1 Axes>"
      ]
     },
     "metadata": {
      "needs_background": "light"
     },
     "output_type": "display_data"
    }
   ],
   "source": [
    "X = np.linspace(-1, 6, 100)\n",
    "ax = plt.gca()\n",
    "ax.plot(X, f(X), label = r'$f(x)=' + sympy.latex(f(x)) + r'$')\n",
    "ax.set_ylim(-1, 1)\n",
    "\n",
    "ax.spines['right'].set_color('none')\n",
    "ax.spines['top'].set_color('none')\n",
    "ax.spines['bottom'].set_position(('data',0))\n",
    "ax.spines['left'].set_position(('data',0))\n",
    "\n",
    "# подпишем точки экстремума\n",
    "\n",
    "for x0 in max_points:\n",
    "  f0 = f(x0)\n",
    "  ax.scatter([x0],[f0], 50, color='red')\n",
    "  ax.annotate(r'max: $\\left(' + latex(x0) + ',\\,' + latex(f0) + r'\\right)$', xy=(x0, f0), xycoords='data',\n",
    "              xytext = (10, 30), textcoords='offset points', fontsize=10,\n",
    "              arrowprops=dict(arrowstyle=\"->\", connectionstyle=\"arc3,rad=.2\"))\n",
    "  ax.annotate(r'$M_2' + r'$', xy=(x0, f0), xycoords='data',\n",
    "              xytext=(-15, 10), textcoords='offset points', fontsize=10)\n",
    "\n",
    "for x0 in min_points:\n",
    "  f0 = f(x0)\n",
    "  ax.scatter([x0],[f0], 50, color='red')\n",
    "  ax.annotate(r'min: $\\left(' + latex(x0) + ',\\,' + latex(f0) + r'\\right)$', xy=(x0, f0), xycoords='data',\n",
    "              xytext = (10, -30), textcoords='offset points', fontsize=10,\n",
    "              arrowprops=dict(arrowstyle=\"->\", connectionstyle=\"arc3,rad=.2\"))\n",
    "  ax.annotate(r'$M_1' + r'$', xy=(x0, f0), xycoords='data',\n",
    "              xytext=(-15, 10), textcoords='offset points', fontsize=10)\n",
    "\n",
    "# подпишем точки перегиба\n",
    "\n",
    "for i, x0 in enumerate(inflection_arr):\n",
    "  f0 = f(x0)\n",
    "  ax.scatter([x0], [f0], 50, color='green')\n",
    "  ax.annotate(r'$\\left('+latex(x0)+',\\,'+latex(f0)+r'\\right)$', xy=(x0, f0), xycoords='data',\n",
    "              xytext=(30, 5), textcoords='offset points', fontsize=10,\n",
    "              arrowprops=dict(arrowstyle=\"->\", connectionstyle=\"arc3,rad=.2\"))\n",
    "  ax.annotate(r'$A_' + str(i + 1) + r'$', xy=(x0, f0), xycoords='data',\n",
    "              xytext=(-10, 10), textcoords='offset points', fontsize=10)\n",
    "\n",
    "# горизонтальная асимптота\n",
    "ax.axhline(y = 0, color='red', linestyle='--', label=r'$asympt. y=' + sympy.latex(0) + r'$')\n",
    "ax.legend(loc='lower right')"
   ]
  },
  {
   "cell_type": "markdown",
   "metadata": {
    "id": "1mkYR2Zdntrn"
   },
   "source": [
    "## Задание 2\n",
    "Исследовать функцию с помощью производной, найти необходимые пределы и решить уравнения.\n",
    "\n",
    "Построить график функции и асимптот, отметить и подписать точки экстремума и точки перегиба,\n",
    "включить функцию и асимптоты в легенду. \n",
    "$$\n",
    "y=xe^{2/x} + 1 \n",
    "$$"
   ]
  },
  {
   "cell_type": "code",
   "execution_count": null,
   "metadata": {
    "colab": {
     "base_uri": "https://localhost:8080/",
     "height": 247
    },
    "id": "ZeHU_k6lntrn",
    "outputId": "1ac57209-d3ef-4788-fcc2-c4a931768699"
   },
   "outputs": [
    {
     "data": {
      "application/vnd.google.colaboratory.intrinsic+json": {
       "type": "string"
      },
      "text/plain": [
       "'Область определения: '"
      ]
     },
     "metadata": {},
     "output_type": "display_data"
    },
    {
     "data": {
      "text/latex": [
       "$\\displaystyle \\left(-\\infty, 0\\right) \\cup \\left(0, \\infty\\right)$"
      ],
      "text/plain": [
       "Union(Interval.open(-oo, 0), Interval.open(0, oo))"
      ]
     },
     "metadata": {},
     "output_type": "display_data"
    },
    {
     "name": "stdout",
     "output_type": "stream",
     "text": [
      "Функция общего вида\n",
      "Данная функция не периодическая\n",
      "Пересечения с осями в точках -2.34575075492277\n"
     ]
    },
    {
     "data": {
      "application/vnd.google.colaboratory.intrinsic+json": {
       "type": "string"
      },
      "text/plain": [
       "'Производная'"
      ]
     },
     "metadata": {},
     "output_type": "display_data"
    },
    {
     "data": {
      "text/latex": [
       "$\\displaystyle \\frac{\\left(x - 2\\right) e^{\\frac{2}{x}}}{x}$"
      ],
      "text/plain": [
       "(x - 2)*exp(2/x)/x"
      ]
     },
     "metadata": {},
     "output_type": "display_data"
    },
    {
     "data": {
      "application/vnd.google.colaboratory.intrinsic+json": {
       "type": "string"
      },
      "text/plain": [
       "'Область определения производной'"
      ]
     },
     "metadata": {},
     "output_type": "display_data"
    },
    {
     "data": {
      "text/latex": [
       "$\\displaystyle \\left(-\\infty, 0\\right) \\cup \\left(0, \\infty\\right)$"
      ],
      "text/plain": [
       "Union(Interval.open(-oo, 0), Interval.open(0, oo))"
      ]
     },
     "metadata": {},
     "output_type": "display_data"
    },
    {
     "data": {
      "application/vnd.google.colaboratory.intrinsic+json": {
       "type": "string"
      },
      "text/plain": [
       "'Нули производной'"
      ]
     },
     "metadata": {},
     "output_type": "display_data"
    },
    {
     "data": {
      "text/latex": [
       "$\\displaystyle 2.0$"
      ],
      "text/plain": [
       "2.00000000000000"
      ]
     },
     "metadata": {},
     "output_type": "display_data"
    }
   ],
   "source": [
    "x = Symbol('x')\n",
    "def f(x):\n",
    "  return x * E ** (2 / x) + 1\n",
    "D = continuous_domain(f(x), x, S.Reals)\n",
    "display('Область определения: ', D)\n",
    "parity(f, x)\n",
    "print('Данная функция не периодическая')\n",
    "\n",
    "\n",
    "roots = nsolve(f(x), x, -2.5)\n",
    "print('Пересечения с осями в точках', roots)\n",
    "\n",
    "df = d(f, x)\n",
    "display('Производная', df)\n",
    "df_D = continuous_domain(df, x, S.Reals) # Это область определения производной.\n",
    "display('Область определения производной', df_D)\n",
    "\n",
    "df_roots = nsolve(df, 2)\n",
    "display('Нули производной', df_roots)"
   ]
  },
  {
   "cell_type": "code",
   "execution_count": null,
   "metadata": {
    "colab": {
     "base_uri": "https://localhost:8080/",
     "height": 132
    },
    "id": "TTaG8oenyfAL",
    "outputId": "e6a873fa-ba15-4775-c532-6065877fce90"
   },
   "outputs": [
    {
     "name": "stdout",
     "output_type": "stream",
     "text": [
      "Производная слева от нуля и справа от нуля\n"
     ]
    },
    {
     "data": {
      "text/latex": [
       "$\\displaystyle -7.38905609893065$"
      ],
      "text/plain": [
       "-7.38905609893065"
      ]
     },
     "metadata": {},
     "output_type": "display_data"
    },
    {
     "data": {
      "text/latex": [
       "$\\displaystyle 0.649244680351559$"
      ],
      "text/plain": [
       "0.649244680351559"
      ]
     },
     "metadata": {},
     "output_type": "display_data"
    },
    {
     "name": "stdout",
     "output_type": "stream",
     "text": [
      "Т.к. слева отрицательное значение, а справа положительное, то это точка минимума\n"
     ]
    },
    {
     "data": {
      "application/vnd.google.colaboratory.intrinsic+json": {
       "type": "string"
      },
      "text/plain": [
       "'Точка минимума'"
      ]
     },
     "metadata": {},
     "output_type": "display_data"
    },
    {
     "data": {
      "text/latex": [
       "$\\displaystyle 2.0$"
      ],
      "text/plain": [
       "2.00000000000000"
      ]
     },
     "metadata": {},
     "output_type": "display_data"
    }
   ],
   "source": [
    "print('Производная слева от нуля и справа от нуля')\n",
    "display(df.subs(x, df_roots - 1), df.subs(x, df_roots + 1))\n",
    "print('Т.к. слева отрицательное значение, а справа положительное, то это точка минимума')\n",
    "display('Точка минимума', df_roots)"
   ]
  },
  {
   "cell_type": "code",
   "execution_count": null,
   "metadata": {
    "colab": {
     "base_uri": "https://localhost:8080/",
     "height": 72
    },
    "id": "aJN353THz1zB",
    "outputId": "40f9d339-ca72-4f44-aec8-fce1e141fbc3"
   },
   "outputs": [
    {
     "data": {
      "application/vnd.google.colaboratory.intrinsic+json": {
       "type": "string"
      },
      "text/plain": [
       "'Нули второй производной'"
      ]
     },
     "metadata": {},
     "output_type": "display_data"
    },
    {
     "data": {
      "text/plain": [
       "[]"
      ]
     },
     "metadata": {},
     "output_type": "display_data"
    },
    {
     "name": "stdout",
     "output_type": "stream",
     "text": [
      "Т.к. нулей второй производной нет, то точек перегиба тоже нет\n"
     ]
    }
   ],
   "source": [
    "df2 = d(f, x, 2)\n",
    "df2_roots = solve(df2, x)\n",
    "df2_roots.sort()\n",
    "display('Нули второй производной', df2_roots)\n",
    "print('Т.к. нулей второй производной нет, то точек перегиба тоже нет')"
   ]
  },
  {
   "cell_type": "code",
   "execution_count": null,
   "metadata": {
    "colab": {
     "base_uri": "https://localhost:8080/",
     "height": 175
    },
    "id": "BK7MK-OP0gBd",
    "outputId": "6c284ab1-a903-43bb-b25f-adb98b03cbfa"
   },
   "outputs": [
    {
     "data": {
      "text/latex": [
       "$\\displaystyle \\infty$"
      ],
      "text/plain": [
       "oo"
      ]
     },
     "metadata": {},
     "output_type": "display_data"
    },
    {
     "data": {
      "text/latex": [
       "$\\displaystyle -\\infty$"
      ],
      "text/plain": [
       "-oo"
      ]
     },
     "metadata": {},
     "output_type": "display_data"
    },
    {
     "name": "stdout",
     "output_type": "stream",
     "text": [
      "Пределы бесконечны, горизонтальных асимптот нет\n"
     ]
    },
    {
     "data": {
      "text/latex": [
       "$\\displaystyle 1$"
      ],
      "text/plain": [
       "1"
      ]
     },
     "metadata": {},
     "output_type": "display_data"
    },
    {
     "data": {
      "text/latex": [
       "$\\displaystyle \\infty$"
      ],
      "text/plain": [
       "oo"
      ]
     },
     "metadata": {},
     "output_type": "display_data"
    },
    {
     "name": "stdout",
     "output_type": "stream",
     "text": [
      "x0 = 0 - точка разрыва 2го рода и является вертикальной асимптотой\n"
     ]
    },
    {
     "data": {
      "application/vnd.google.colaboratory.intrinsic+json": {
       "type": "string"
      },
      "text/plain": [
       "'Наклонная асимптота - '"
      ]
     },
     "metadata": {},
     "output_type": "display_data"
    },
    {
     "data": {
      "text/latex": [
       "$\\displaystyle x + 3$"
      ],
      "text/plain": [
       "x + 3"
      ]
     },
     "metadata": {},
     "output_type": "display_data"
    }
   ],
   "source": [
    "y0pos = f(x).limit(x, +sympy.oo)\n",
    "y0neg = f(x).limit(x, -sympy.oo)\n",
    "display(y0pos, y0neg)\n",
    "print('Пределы бесконечны, горизонтальных асимптот нет')\n",
    "\n",
    "lim_left = f(x).limit(x, 0, dir='-')\n",
    "lim_right = f(x).limit(x, 0)\n",
    "display(lim_left, lim_right)\n",
    "print('x0 = 0 - точка разрыва 2го рода и является вертикальной асимптотой')\n",
    "\n",
    "kpos = sympy.limit(f(x)/x, x, +sympy.oo)\n",
    "kneg = sympy.limit(f(x)/x, x, -sympy.oo)\n",
    "if kpos == kneg:\n",
    "  k = kpos\n",
    "else:\n",
    "  k = (kneg, kpos)\n",
    "b = sympy.limit(f(x) - k*x, x, sympy.oo)\n",
    "y_as = k * x +b\n",
    "display('Наклонная асимптота - ', y_as)\n",
    "\n",
    "def y_as(x):\n",
    "  return x + 3"
   ]
  },
  {
   "cell_type": "code",
   "execution_count": null,
   "metadata": {
    "colab": {
     "base_uri": "https://localhost:8080/",
     "height": 303
    },
    "id": "QLISxXzUdqCL",
    "outputId": "81f1fd84-a40c-47eb-d06a-6404a8895522"
   },
   "outputs": [
    {
     "name": "stderr",
     "output_type": "stream",
     "text": [
      "/usr/local/lib/python3.7/dist-packages/ipykernel_launcher.py:3: RuntimeWarning: divide by zero encountered in true_divide\n",
      "  This is separate from the ipykernel package so we can avoid doing imports until\n"
     ]
    },
    {
     "data": {
      "text/plain": [
       "<matplotlib.legend.Legend at 0x7f7e250f7310>"
      ]
     },
     "execution_count": 94,
     "metadata": {},
     "output_type": "execute_result"
    },
    {
     "data": {
      "image/png": "[encoded data removed]",
      "text/plain": [
       "<Figure size 432x288 with 1 Axes>"
      ]
     },
     "metadata": {
      "needs_background": "light"
     },
     "output_type": "display_data"
    }
   ],
   "source": [
    "X = np.linspace(-10, 8, 100)\n",
    "ax = plt.gca()\n",
    "ax.plot(X, f(X), label = r'$f(x)=' + sympy.latex(f(x)) + r'$')\n",
    "ax.set_ylim(-8, 12)\n",
    "\n",
    "ax.spines['right'].set_color('none')\n",
    "ax.spines['top'].set_color('none')\n",
    "ax.spines['bottom'].set_position(('data',0))\n",
    "ax.spines['left'].set_position(('data',0))\n",
    "\n",
    "\n",
    "# подпишем точки экстремума\n",
    "x0 = df_roots\n",
    "f0 = f(x0)\n",
    "ax.scatter([x0],[f0], 50, color='red')\n",
    "ax.annotate(r'min: $\\left(' + latex(x0) + ',\\,' + latex(f0) + r'\\right)$', xy=(x0, f0), xycoords='data',\n",
    "              xytext = (10, -30), textcoords='offset points', fontsize=10,\n",
    "              arrowprops=dict(arrowstyle=\"->\", connectionstyle=\"arc3,rad=.2\"))\n",
    "ax.annotate(r'$M_2' + r'$', xy=(x0, f0), xycoords='data',\n",
    "              xytext=(-15, 10), textcoords='offset points', fontsize=10)\n",
    "\n",
    "# вертикальная асимптота\n",
    "ax.axvline(x = 0, color='red', linestyle='--', label=r'$asympt. x =' + sympy.latex(0) + r'$')\n",
    "# наклонная асимптота\n",
    "ax.plot(X, y_as(X), 'g--', label=r'$asympt. y=' + sympy.latex(x + 3) + r'$')# График наклонной асимптоты\n",
    "ax.legend(loc='lower right')"
   ]
  },
  {
   "cell_type": "markdown",
   "metadata": {},
   "source": [
    "Хорасанджян Левон, вариант №157"
   ]
  }
 ],
 "metadata": {
  "colab": {
   "collapsed_sections": [
    "1mkYR2Zdntrn"
   ],
   "name": "Calculus_math_6_tasks.ipynb",
   "provenance": []
  },
  "kernelspec": {
   "display_name": "Python 3",
   "language": "python",
   "name": "python3"
  },
  "language_info": {
   "codemirror_mode": {
    "name": "ipython",
    "version": 3
   },
   "file_extension": ".py",
   "mimetype": "text/x-python",
   "name": "python",
   "nbconvert_exporter": "python",
   "pygments_lexer": "ipython3",
   "version": "3.8.8"
  }
 },
 "nbformat": 4,
 "nbformat_minor": 1
}
