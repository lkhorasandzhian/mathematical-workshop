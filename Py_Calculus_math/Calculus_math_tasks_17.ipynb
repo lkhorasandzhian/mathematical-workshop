{
  "cells": [
    {
      "cell_type": "code",
      "execution_count": null,
      "metadata": {
        "id": "X26J0mINU_50"
      },
      "outputs": [],
      "source": [
        "import numpy as np\n",
        "import sympy\n",
        "from sympy import S, Symbol, symbols, Function, dsolve, solveset, plot_implicit, integrate, diff, plot\n",
        "from sympy import sin as Sin\n",
        "from sympy import cos as Cos\n",
        "from sympy import exp as Exp\n",
        "from sympy import log as Log\n",
        "from sympy import pi as Pi\n",
        "import matplotlib.pyplot as plt\n",
        "%matplotlib inline\n",
        "\n",
        "from sympy import solve, Eq"
      ]
    },
    {
      "cell_type": "markdown",
      "metadata": {
        "id": "GG1f-eC7U_51"
      },
      "source": [
        "## Занятие 17\n",
        "## Математический анализ\n",
        "## Линейные ОДУ второго порядка с постоянными коэффициентами\n",
        "## Задание № 1\n",
        "Решить аналитически ОДУ с разделяющимися переменными\n",
        "$$\n",
        "y'=\\ln(x+2)e^{2-y}.\n",
        "$$\n",
        "Найти общий интеграл. "
      ]
    },
    {
      "cell_type": "code",
      "execution_count": null,
      "metadata": {
        "colab": {
          "base_uri": "https://localhost:8080/",
          "height": 59
        },
        "id": "yaJDu6YVU_52",
        "outputId": "7d1c75e6-57aa-4995-f88e-2b9a33836021"
      },
      "outputs": [
        {
          "data": {
            "text/latex": [
              "$\\displaystyle e^{y - 2} = C + x \\log{\\left(x + 2 \\right)} - x + 2 \\log{\\left(x + 2 \\right)}$"
            ],
            "text/plain": [
              "Eq(exp(y - 2), C + x*log(x + 2) - x + 2*log(x + 2))"
            ]
          },
          "metadata": {},
          "output_type": "display_data"
        },
        {
          "data": {
            "text/latex": [
              "$\\displaystyle y = \\log{\\left(x \\log{\\left(x + 2 \\right)} - x + 2 \\log{\\left(x + 2 \\right)} \\right)} + 2$"
            ],
            "text/plain": [
              "Eq(y, log(x*log(x + 2) - x + 2*log(x + 2)) + 2)"
            ]
          },
          "metadata": {},
          "output_type": "display_data"
        }
      ],
      "source": [
        "x, y = symbols('x y', real=True)\n",
        "C = Symbol('C', positive=True)\n",
        "ODE1 = sympy.Eq(integrate(1/Exp(2-y)), integrate(Log(x+2), x) + C)\n",
        "display(ODE1)\n",
        "ODE1 = Eq(ODE1.rhs - C, ODE1.lhs)\n",
        "display(Eq(y, *solve(ODE1, y)))"
      ]
    },
    {
      "cell_type": "markdown",
      "metadata": {
        "id": "iUB2msJWU_52"
      },
      "source": [
        "## Задание № 2\n",
        "Решить аналитически задачу Коши\n",
        "$$\n",
        "y^3y'=\\frac{1}{1+x^2},\\qquad y(0)=1.\n",
        "$$\n",
        "Найти общий интеграл, учесть начальное условие. \n",
        "Построить график $y$, пользуясь plot_implicit."
      ]
    },
    {
      "cell_type": "code",
      "execution_count": null,
      "metadata": {
        "colab": {
          "base_uri": "https://localhost:8080/",
          "height": 55
        },
        "id": "gSdRgQm0U_52",
        "outputId": "06f9ea2b-742e-43d8-d2f0-153812df208e"
      },
      "outputs": [
        {
          "data": {
            "text/latex": [
              "$\\displaystyle \\frac{y^{4}}{4} = С + \\operatorname{atan}{\\left(x \\right)}$"
            ],
            "text/plain": [
              "Eq(y**4/4, С + atan(x))"
            ]
          },
          "metadata": {},
          "output_type": "display_data"
        }
      ],
      "source": [
        "x, y, C = symbols('x y С', real=True)\n",
        "ODE2 = Eq(integrate(y**3, y), integrate(1/(1 + x**2)) + C)\n",
        "display(ODE2)"
      ]
    },
    {
      "cell_type": "markdown",
      "metadata": {
        "id": "W4roSq6pbU3s"
      },
      "source": [
        "Подставим в левую и правую части полученного уравнения x=0 и y=1, и выразим C, используя solveset:\n"
      ]
    },
    {
      "cell_type": "code",
      "execution_count": null,
      "metadata": {
        "colab": {
          "base_uri": "https://localhost:8080/",
          "height": 58
        },
        "id": "PmlTweYGbM-j",
        "outputId": "d522c193-8621-49dd-a19b-30b7a5ff6a2e"
      },
      "outputs": [
        {
          "data": {
            "text/latex": [
              "$\\displaystyle \\left\\{\\frac{1}{4}\\right\\}$"
            ],
            "text/plain": [
              "FiniteSet(1/4)"
            ]
          },
          "execution_count": 4,
          "metadata": {},
          "output_type": "execute_result"
        }
      ],
      "source": [
        "x0y0 = {x: 0, y: 1}\n",
        "Cval = solveset(Eq(ODE2.lhs.subs(x0y0), ODE2.rhs.subs(x0y0)), C)\n",
        "Cval"
      ]
    },
    {
      "cell_type": "markdown",
      "metadata": {
        "id": "tGbgNWt4cQlG"
      },
      "source": [
        "Теперь в общий интеграл подставим найденное значение константы C и построим график с помощью plot_implicit:"
      ]
    },
    {
      "cell_type": "code",
      "execution_count": null,
      "metadata": {
        "colab": {
          "base_uri": "https://localhost:8080/",
          "height": 315
        },
        "id": "2tUue591bNdP",
        "outputId": "112a87d4-cb64-4d13-df5a-8378904e40ce"
      },
      "outputs": [
        {
          "data": {
            "image/png": "[encoded data removed]",
            "text/plain": [
              "<Figure size 432x288 with 1 Axes>"
            ]
          },
          "metadata": {
            "needs_background": "light"
          },
          "output_type": "display_data"
        },
        {
          "data": {
            "text/plain": [
              "<sympy.plotting.plot.Plot at 0x7f5bb8a83190>"
            ]
          },
          "execution_count": 5,
          "metadata": {},
          "output_type": "execute_result"
        }
      ],
      "source": [
        "plot_implicit(Eq(ODE2.lhs, ODE2.rhs.subs(C, *Cval)), (x, -1, 4), (y, -2, 2))"
      ]
    },
    {
      "cell_type": "markdown",
      "metadata": {
        "id": "D9WMNrtUZwy4"
      },
      "source": [
        "Хорасанджян Левон, вариант №157"
      ]
    }
  ],
  "metadata": {
    "colab": {
      "collapsed_sections": [],
      "name": "Calculus_math_17_tasks.ipynb",
      "provenance": []
    },
    "kernelspec": {
      "display_name": "Python 3",
      "language": "python",
      "name": "python3"
    },
    "language_info": {
      "codemirror_mode": {
        "name": "ipython",
        "version": 3
      },
      "file_extension": ".py",
      "mimetype": "text/x-python",
      "name": "python",
      "nbconvert_exporter": "python",
      "pygments_lexer": "ipython3",
      "version": "3.7.3"
    }
  },
  "nbformat": 4,
  "nbformat_minor": 0
}
