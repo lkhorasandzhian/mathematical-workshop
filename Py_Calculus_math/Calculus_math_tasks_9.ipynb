{
 "cells": [
  {
   "cell_type": "code",
   "execution_count": 1,
   "metadata": {
    "id": "rpwxSBrvyxq2"
   },
   "outputs": [],
   "source": [
    "import sympy\n",
    "from sympy import Symbol, symbols, S, Function, integrate, Integral, diff, solve, solveset, Eq, cos, log"
   ]
  },
  {
   "cell_type": "markdown",
   "metadata": {
    "id": "cJrPpaOIyxq8"
   },
   "source": [
    "## Занятие 9\n",
    "## Математический анализ\n",
    "## Интегрирование функции: первообразная и неопределенный интеграл\n",
    "https://docs.sympy.org/1.5.1/modules/integrals/integrals.html\n",
    "\n",
    "https://ru.wikipedia.org/wiki/%D0%9F%D0%B5%D1%80%D0%B2%D0%BE%D0%BE%D0%B1%D1%80%D0%B0%D0%B7%D0%BD%D0%B0%D1%8F\n",
    "\n",
    "https://ru.wikipedia.org/wiki/%D0%A1%D0%BF%D0%B8%D1%81%D0%BE%D0%BA_%D0%B8%D0%BD%D1%82%D0%B5%D0%B3%D1%80%D0%B0%D0%BB%D0%BE%D0%B2_%D1%8D%D0%BB%D0%B5%D0%BC%D0%B5%D0%BD%D1%82%D0%B0%D1%80%D0%BD%D1%8B%D1%85_%D1%84%D1%83%D0%BD%D0%BA%D1%86%D0%B8%D0%B9"
   ]
  },
  {
   "cell_type": "markdown",
   "metadata": {
    "id": "Z6tveeTSyxq-"
   },
   "source": [
    "### Задача 1.\n",
    "Вычислить определенные интегралы:\n",
    "$$\n",
    "1)\\ \\int_2^3 \\frac{1}{\\sqrt{x-2}},\\ 2) \\int_1^6 \\frac{1}{(x-1)^3},\\ 3)\\ \\int_2^\\infty \\frac{1}{(x-1)^3} \n",
    "$$"
   ]
  },
  {
   "cell_type": "code",
   "execution_count": 2,
   "metadata": {
    "id": "902FUKn_yxq-"
   },
   "outputs": [],
   "source": [
    "# ДАНО:\n",
    "x = Symbol('x')\n",
    "f1 = 1/sympy.sqrt(x-2)\n",
    "f2 = 1/(x-1)**3\n",
    "f3 = 1/(x-1)**3"
   ]
  },
  {
   "cell_type": "code",
   "execution_count": 3,
   "metadata": {
    "colab": {
     "base_uri": "https://localhost:8080/",
     "height": 92
    },
    "id": "RWhLJBmp0N9d",
    "outputId": "346ba8f6-0398-42b7-baf7-67c855197ee7"
   },
   "outputs": [
    {
     "data": {
      "text/latex": [
       "$\\displaystyle 2$"
      ],
      "text/plain": [
       "2"
      ]
     },
     "metadata": {},
     "output_type": "display_data"
    },
    {
     "data": {
      "text/latex": [
       "$\\displaystyle \\infty$"
      ],
      "text/plain": [
       "oo"
      ]
     },
     "metadata": {},
     "output_type": "display_data"
    },
    {
     "data": {
      "text/latex": [
       "$\\displaystyle \\frac{1}{2}$"
      ],
      "text/plain": [
       "1/2"
      ]
     },
     "metadata": {},
     "output_type": "display_data"
    }
   ],
   "source": [
    "# Пример 1\n",
    "display(f1.integrate((x, 2, 3)))\n",
    "\n",
    "# Пример 2\n",
    "display(f2.integrate((x, 1, 6)))\n",
    "\n",
    "# Пример 3\n",
    "display(f3.integrate((x, 2, S.Infinity)))"
   ]
  },
  {
   "cell_type": "markdown",
   "metadata": {
    "id": "4xWN99LYyxq_"
   },
   "source": [
    "### Задача 2\n",
    "Описать функцию, находящую неопределенный интеграл $\\int f(x)\\,dx$ в виде $F(x)+C$.\n",
    "\n",
    "Использовать эту функцию для интегрирования $\\sin(3x+5)$, $x{\\rm tg}(x^2)$, $(e^{\\sin x})\\cos x$, $x^2e^{x^3}$"
   ]
  },
  {
   "cell_type": "code",
   "execution_count": 4,
   "metadata": {
    "id": "IXudiPgsyxq_"
   },
   "outputs": [],
   "source": [
    "def Unknown_Integral(current_func, parametric_symbol, const_symb):\n",
    "    current_func = current_func.integrate(parametric_symbol) + const_symb\n",
    "    return current_func"
   ]
  },
  {
   "cell_type": "code",
   "execution_count": 5,
   "metadata": {
    "colab": {
     "base_uri": "https://localhost:8080/",
     "height": 153
    },
    "id": "fy157fdj3tTI",
    "outputId": "a31778ba-f917-4d50-cae7-50848c0308e0"
   },
   "outputs": [
    {
     "data": {
      "text/latex": [
       "$\\displaystyle C - \\frac{\\cos{\\left(3 x + 5 \\right)}}{3}$"
      ],
      "text/plain": [
       "C - cos(3*x + 5)/3"
      ]
     },
     "metadata": {},
     "output_type": "display_data"
    },
    {
     "data": {
      "text/latex": [
       "$\\displaystyle C + \\frac{\\log{\\left(\\tan^{2}{\\left(x^{2} \\right)} + 1 \\right)}}{4}$"
      ],
      "text/plain": [
       "C + log(tan(x**2)**2 + 1)/4"
      ]
     },
     "metadata": {},
     "output_type": "display_data"
    },
    {
     "data": {
      "text/latex": [
       "$\\displaystyle C + e^{\\sin{\\left(x \\right)}}$"
      ],
      "text/plain": [
       "C + exp(sin(x))"
      ]
     },
     "metadata": {},
     "output_type": "display_data"
    },
    {
     "data": {
      "text/latex": [
       "$\\displaystyle C + \\frac{e^{x^{3}}}{3}$"
      ],
      "text/plain": [
       "C + exp(x**3)/3"
      ]
     },
     "metadata": {},
     "output_type": "display_data"
    }
   ],
   "source": [
    "x = Symbol('x')\n",
    "C = Symbol('C')\n",
    "f1 = sympy.sin(3*x + 5)\n",
    "f2 = x * sympy.tan(x**2)\n",
    "f3 = sympy.exp(sympy.sin(x)) * sympy.cos(x)\n",
    "f4 = x**2 * sympy.exp(x**3)\n",
    "\n",
    "display(Unknown_Integral(f1, x, C))\n",
    "display(Unknown_Integral(f2, x, C))\n",
    "display(Unknown_Integral(f3, x, C))\n",
    "display(Unknown_Integral(f4, x, C))"
   ]
  },
  {
   "cell_type": "markdown",
   "metadata": {
    "id": "AiS_Q55cyxq_"
   },
   "source": [
    "### Задача 3.\n",
    "Найти первообразную функции $\\frac{x-3}{(x+1)^2}$, график которой проходит через начало координат."
   ]
  },
  {
   "cell_type": "code",
   "execution_count": 6,
   "metadata": {
    "id": "TELn4LtAyxrA"
   },
   "outputs": [],
   "source": [
    "# ДАНО:\n",
    "x = Symbol('x')\n",
    "C = Symbol('C')\n",
    "f = (x - 3)/(x + 1)**2"
   ]
  },
  {
   "cell_type": "code",
   "execution_count": 7,
   "metadata": {
    "colab": {
     "base_uri": "https://localhost:8080/",
     "height": 71
    },
    "id": "A8gCt4crSJ82",
    "outputId": "df71ad7e-8ca8-413d-bab7-5ec6f61a1ced"
   },
   "outputs": [
    {
     "data": {
      "text/latex": [
       "$\\displaystyle C + \\log{\\left(x + 1 \\right)} + \\frac{4}{x + 1} = 0$"
      ],
      "text/plain": [
       "Eq(C + log(x + 1) + 4/(x + 1), 0)"
      ]
     },
     "metadata": {},
     "output_type": "display_data"
    },
    {
     "name": "stdout",
     "output_type": "stream",
     "text": [
      "C = -4\n"
     ]
    }
   ],
   "source": [
    "# Найдём C, при котором интеграл будет проходить через координаты (0, 0)\n",
    "myUknown = Unknown_Integral(f, x, C)\n",
    "display(Eq(myUknown, 0))\n",
    "myConst = solve(myUknown.subs(x, 0))[0]\n",
    "print(f\"C = {myConst}\")"
   ]
  },
  {
   "cell_type": "code",
   "execution_count": 8,
   "metadata": {
    "colab": {
     "base_uri": "https://localhost:8080/",
     "height": 71
    },
    "id": "jGdsRAbaSvfb",
    "outputId": "5415d66e-2aa6-41c2-ba01-f6c1fb6cac72"
   },
   "outputs": [
    {
     "name": "stdout",
     "output_type": "stream",
     "text": [
      "Ответ:\n"
     ]
    },
    {
     "data": {
      "text/latex": [
       "$\\displaystyle \\log{\\left(x + 1 \\right)} - 4 + \\frac{4}{x + 1}$"
      ],
      "text/plain": [
       "log(x + 1) - 4 + 4/(x + 1)"
      ]
     },
     "execution_count": 8,
     "metadata": {},
     "output_type": "execute_result"
    }
   ],
   "source": [
    "# Запишем искомую первообразную при C = -4\n",
    "print(\"Ответ:\")\n",
    "myUknown.subs(C, -4)"
   ]
  },
  {
   "cell_type": "markdown",
   "metadata": {
    "id": "WQPZjOdDyxrA"
   },
   "source": [
    "### Задача 4.\n",
    "Описать функцию, вычисляющую неопределенный интеграл от $\\frac{1}{\\sqrt{x^2+a}}$ по формуле \"длинного логарифма\":\n",
    "$$\n",
    "\\int\\frac{1}{\\sqrt{x^2+a}} = \\ln|x + \\sqrt{x^2 + a}| + C,\\quad a \\neq 0. \n",
    "$$\n",
    "Функция возвращает $\\ln|x| + C$ при $a = 0$. Аргументы функции - переменная интегрирования $x$ и параметр $a$.\n",
    "\n",
    "Вызвать функцию при $a = 0, 1, 4$. Сравнить с результатом integrate.\n",
    "\n",
    "Проверить дифференцированием, при необходимости использовать simplyfy для того, чтобы упростить выражение.\n",
    "\n",
    "Рекомендется создавать положительные символы, чтобы не было неоднозначности."
   ]
  },
  {
   "cell_type": "code",
   "execution_count": 9,
   "metadata": {
    "id": "JP7OD_CSyxrB"
   },
   "outputs": [
    {
     "name": "stdout",
     "output_type": "stream",
     "text": [
      "При a = 0:\n"
     ]
    },
    {
     "data": {
      "text/latex": [
       "$\\displaystyle C + \\log{\\left(x \\right)}$"
      ],
      "text/plain": [
       "C + log(x)"
      ]
     },
     "metadata": {},
     "output_type": "display_data"
    },
    {
     "data": {
      "text/latex": [
       "$\\displaystyle \\log{\\left(x \\right)}$"
      ],
      "text/plain": [
       "log(x)"
      ]
     },
     "metadata": {},
     "output_type": "display_data"
    },
    {
     "name": "stdout",
     "output_type": "stream",
     "text": [
      "\n",
      "При a = 1:\n"
     ]
    },
    {
     "data": {
      "text/latex": [
       "$\\displaystyle C + \\log{\\left(x + \\sqrt{x^{2} + 1} \\right)}$"
      ],
      "text/plain": [
       "C + log(x + sqrt(x**2 + 1))"
      ]
     },
     "metadata": {},
     "output_type": "display_data"
    },
    {
     "data": {
      "text/latex": [
       "$\\displaystyle \\operatorname{asinh}{\\left(x \\right)}$"
      ],
      "text/plain": [
       "asinh(x)"
      ]
     },
     "metadata": {},
     "output_type": "display_data"
    },
    {
     "name": "stdout",
     "output_type": "stream",
     "text": [
      "\n",
      "При a = 4:\n"
     ]
    },
    {
     "data": {
      "text/latex": [
       "$\\displaystyle C + \\log{\\left(x + \\sqrt{x^{2} + 4} \\right)}$"
      ],
      "text/plain": [
       "C + log(x + sqrt(x**2 + 4))"
      ]
     },
     "metadata": {},
     "output_type": "display_data"
    },
    {
     "data": {
      "text/latex": [
       "$\\displaystyle \\operatorname{asinh}{\\left(\\frac{x}{2} \\right)}$"
      ],
      "text/plain": [
       "asinh(x/2)"
      ]
     },
     "metadata": {},
     "output_type": "display_data"
    },
    {
     "name": "stdout",
     "output_type": "stream",
     "text": [
      "\n"
     ]
    }
   ],
   "source": [
    "x, a = symbols('x, a', positive=True)\n",
    "def dl(a):\n",
    "    if a == 0:\n",
    "        res = sympy.simplify(sympy.log(abs(x)) + C)\n",
    "    else:\n",
    "        res = sympy.simplify(sympy.log(abs(x + sympy.sqrt(x**2 + a))) + C)\n",
    "    print('При a = ', a, ':', sep='')\n",
    "    display(res)\n",
    "\n",
    "a_arr = (0, 1, 4)\n",
    "for a in a_arr:\n",
    "    dl(a)\n",
    "    display(sympy.simplify(integrate(1/sympy.sqrt(x**2 + a))))\n",
    "    print()"
   ]
  },
  {
   "cell_type": "markdown",
   "metadata": {
    "id": "Hw4H2DXyyxrB"
   },
   "source": [
    "### Задача 5.\n",
    "Провести замену переменной $y = x^2$ в интеграле $\\int x e^{x^2}\\,dx$."
   ]
  },
  {
   "cell_type": "code",
   "execution_count": 10,
   "metadata": {
    "colab": {
     "base_uri": "https://localhost:8080/",
     "height": 207
    },
    "id": "clOh0INbyxrC",
    "outputId": "70b38040-715e-4313-aa09-3c27af8160a7"
   },
   "outputs": [
    {
     "name": "stdout",
     "output_type": "stream",
     "text": [
      "заданная функция:\n"
     ]
    },
    {
     "data": {
      "text/latex": [
       "$\\displaystyle f(x) = x e^{x^{2}}$"
      ],
      "text/plain": [
       "Eq(f(x), x*exp(x**2))"
      ]
     },
     "metadata": {},
     "output_type": "display_data"
    },
    {
     "name": "stdout",
     "output_type": "stream",
     "text": [
      "\n",
      "интеграл по x:\n"
     ]
    },
    {
     "data": {
      "text/latex": [
       "$\\displaystyle \\int x e^{x^{2}}\\, dx$"
      ],
      "text/plain": [
       "Integral(x*exp(x**2), x)"
      ]
     },
     "metadata": {},
     "output_type": "display_data"
    },
    {
     "name": "stdout",
     "output_type": "stream",
     "text": [
      "\n",
      "новый интеграл по x:\n"
     ]
    },
    {
     "data": {
      "text/latex": [
       "$\\displaystyle \\int \\frac{e^{y}}{2}\\, dy$"
      ],
      "text/plain": [
       "Integral(exp(y)/2, y)"
      ]
     },
     "metadata": {},
     "output_type": "display_data"
    }
   ],
   "source": [
    "# ДАНО:\n",
    "x = Symbol('x')\n",
    "y = Symbol('y', positive=True)\n",
    "f = x * sympy.exp(x**2)\n",
    "\n",
    "print(\"заданная функция:\")\n",
    "display(Eq(Symbol('f(x)'), f))\n",
    "\n",
    "print(\"\\nинтеграл по x:\")\n",
    "I = Integral(f)\n",
    "display(I)\n",
    "\n",
    "print(\"\\nновый интеграл по y:\")\n",
    "I = I.transform(x**2, y)\n",
    "display(I)"
   ]
  },
  {
   "cell_type": "markdown",
   "metadata": {
    "id": "HwORS-gVyxrC"
   },
   "source": [
    "### Индивидуальное задание\n",
    "Провести замену переменных в определенном интеграле, представить результат в виде двух уравнений, как в примере:\n",
    "\\begin{align*}\n",
    "\\int_1^4 \\frac{dx}{\\sqrt{x}\\left(\\sqrt{x}+1\\right)} = \\int_1^2 \\frac{2\\,dy}{y + 1}\\\\\n",
    "\\int_1^2 \\frac{2\\,dy}{y + 1} = 2(\\ln 3 - \\ln 2)\n",
    "\\end{align*}\n",
    "(с точностью до перестановки слагаемых и сомножителей)"
   ]
  },
  {
   "attachments": {
    "%D0%B8%D0%B7%D0%BE%D0%B1%D1%80%D0%B0%D0%B6%D0%B5%D0%BD%D0%B8%D0%B5.png": {
     "image/png": "[encoded data removed]"
    }
   },
   "cell_type": "markdown",
   "metadata": {},
   "source": [
    "![%D0%B8%D0%B7%D0%BE%D0%B1%D1%80%D0%B0%D0%B6%D0%B5%D0%BD%D0%B8%D0%B5.png](attachment:%D0%B8%D0%B7%D0%BE%D0%B1%D1%80%D0%B0%D0%B6%D0%B5%D0%BD%D0%B8%D0%B5.png)"
   ]
  },
  {
   "cell_type": "code",
   "execution_count": 11,
   "metadata": {
    "id": "kPttgGZ8yxrD"
   },
   "outputs": [],
   "source": [
    "# ДАНО:\n",
    "x = Symbol('x')\n",
    "y = Symbol('y', positive=True)\n",
    "myFunction = sympy.exp(x) * cos(sympy.exp(x))\n",
    "myIntegral = Integral(myFunction, (x, log(sympy.pi/6), log(sympy.pi/3)))"
   ]
  },
  {
   "cell_type": "code",
   "execution_count": 12,
   "metadata": {
    "colab": {
     "base_uri": "https://localhost:8080/",
     "height": 97
    },
    "id": "MTfw6TdOhkEy",
    "outputId": "62d802fa-392b-43d1-b82d-79263af8cd51"
   },
   "outputs": [
    {
     "data": {
      "text/latex": [
       "$\\displaystyle \\int\\limits_{\\log{\\left(\\frac{\\pi}{6} \\right)}}^{\\log{\\left(\\frac{\\pi}{3} \\right)}} e^{x} \\cos{\\left(e^{x} \\right)}\\, dx = \\int\\limits_{\\frac{\\pi}{6}}^{\\frac{\\pi}{3}} \\cos{\\left(y \\right)}\\, dy$"
      ],
      "text/plain": [
       "Eq(Integral(exp(x)*cos(exp(x)), (x, log(pi/6), log(pi/3))), Integral(cos(y), (y, pi/6, pi/3)))"
      ]
     },
     "execution_count": 12,
     "metadata": {},
     "output_type": "execute_result"
    }
   ],
   "source": [
    "# Замена y = e^x\n",
    "mySubsIntegral = myIntegral.transform(sympy.exp(x), y)\n",
    "Eq(myIntegral, mySubsIntegral)"
   ]
  },
  {
   "cell_type": "code",
   "execution_count": 13,
   "metadata": {
    "colab": {
     "base_uri": "https://localhost:8080/",
     "height": 87
    },
    "id": "Jh8lvxR3h3sK",
    "outputId": "b1c068eb-d1f0-46af-84aa-c6e4662f40fb"
   },
   "outputs": [
    {
     "data": {
      "text/latex": [
       "$\\displaystyle \\int\\limits_{\\frac{\\pi}{6}}^{\\frac{\\pi}{3}} \\cos{\\left(y \\right)}\\, dy = y \\left(- \\frac{1}{2} + \\frac{\\sqrt{3}}{2}\\right)$"
      ],
      "text/plain": [
       "Eq(Integral(cos(y), (y, pi/6, pi/3)), y*(-1/2 + sqrt(3)/2))"
      ]
     },
     "execution_count": 13,
     "metadata": {},
     "output_type": "execute_result"
    }
   ],
   "source": [
    "Eq(mySubsIntegral, mySubsIntegral.integrate(y))"
   ]
  },
  {
   "cell_type": "markdown",
   "metadata": {
    "id": "iXc1l4UvfbxQ"
   },
   "source": [
    "Хорасанджян Левон, вариант №157"
   ]
  }
 ],
 "metadata": {
  "colab": {
   "collapsed_sections": [],
   "name": "Calculus_math_9_tasks.ipynb",
   "provenance": []
  },
  "kernelspec": {
   "display_name": "Python 3",
   "language": "python",
   "name": "python3"
  },
  "language_info": {
   "codemirror_mode": {
    "name": "ipython",
    "version": 3
   },
   "file_extension": ".py",
   "mimetype": "text/x-python",
   "name": "python",
   "nbconvert_exporter": "python",
   "pygments_lexer": "ipython3",
   "version": "3.8.8"
  }
 },
 "nbformat": 4,
 "nbformat_minor": 1
}
