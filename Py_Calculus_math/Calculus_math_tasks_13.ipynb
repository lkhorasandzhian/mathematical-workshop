{
 "cells": [
  {
   "cell_type": "code",
   "execution_count": 1,
   "metadata": {},
   "outputs": [],
   "source": [
    "import numpy as np\n",
    "import sympy\n",
    "from sympy import S, Symbol, symbols, simplify, solve, solveset, diff, plot, plot_parametric, plot_implicit, latex, Integral, Eq\n",
    "from sympy import sin as Sin\n",
    "from sympy import cos as Cos\n",
    "from sympy import exp as Exp\n",
    "from sympy import log as Log\n",
    "from sympy import pi as Pi\n",
    "import matplotlib.pyplot as plt\n",
    "%matplotlib inline"
   ]
  },
  {
   "cell_type": "markdown",
   "metadata": {},
   "source": [
    "## Занятие 13\n",
    "## Математический анализ\n",
    "## Применение интегралов для вычисления площади поверхности тела вращения\n",
    "### Задание 1.\n",
    "Вычислить площадь поверхности, которая образуется в результате вращения $y = \\sqrt{x}$ вокруг оси OX при $x$ от 0 до 1."
   ]
  },
  {
   "cell_type": "code",
   "execution_count": 2,
   "metadata": {},
   "outputs": [
    {
     "data": {
      "text/latex": [
       "$\\displaystyle 2 \\pi \\int\\limits_{0}^{1} \\sqrt{x} \\sqrt{1 + \\frac{1}{4 x}}\\, dx = 2 \\pi \\left(- \\frac{1}{12} + \\frac{5 \\sqrt{5}}{12}\\right)$"
      ],
      "text/plain": [
       "Eq(2*pi*Integral(sqrt(x)*sqrt(1 + 1/(4*x)), (x, 0, 1)), 2*pi*(-1/12 + 5*sqrt(5)/12))"
      ]
     },
     "metadata": {},
     "output_type": "display_data"
    }
   ],
   "source": [
    "x = Symbol('x', positive=True)\n",
    "y = sympy.sqrt(x)\n",
    "\n",
    "S_OX1 = 2 * Pi * Integral(y * (1 + y.diff(x) ** 2) ** S.Half, (x, 0, 1))\n",
    "display(Eq(S_OX1, S_OX1.doit()))"
   ]
  },
  {
   "cell_type": "markdown",
   "metadata": {},
   "source": [
    "###  Задание 2.\n",
    "Вычислить площадь поверхности веретена, которое образуется в результате вращения одной полуволны синусоиды $y = \\sin x$ вокруг оси OX.\n",
    "#### Указание.\n",
    "\n",
    "Для вычисления интеграла воспользоваться заменой переменных $t = \\cos(x)$, для проведения замены пользоваться методом transform класса Integral. Также воспользоваться simplify при необходимости."
   ]
  },
  {
   "cell_type": "code",
   "execution_count": 3,
   "metadata": {},
   "outputs": [
    {
     "data": {
      "text/latex": [
       "$\\displaystyle 2 \\pi \\int\\limits_{-1}^{1} \\sqrt{t^{2} + 1}\\, dt = 2 \\pi \\left(\\frac{\\log{\\left(1 + \\sqrt{2} \\right)}}{2} - \\frac{\\log{\\left(-1 + \\sqrt{2} \\right)}}{2} + \\sqrt{2}\\right)$"
      ],
      "text/plain": [
       "Eq(2*pi*Integral(sqrt(t**2 + 1), (t, -1, 1)), 2*pi*(log(1 + sqrt(2))/2 - log(-1 + sqrt(2))/2 + sqrt(2)))"
      ]
     },
     "metadata": {},
     "output_type": "display_data"
    }
   ],
   "source": [
    "t = Symbol('t')\n",
    "y = Sin(x)\n",
    "\n",
    "S_OX1 = 2*Pi*Integral(y*(1 + y.diff(x)**2)**S.Half, (x, 0, Pi)).transform(Cos(x), t)\n",
    "display(Eq(S_OX1, S_OX1.doit()))"
   ]
  },
  {
   "cell_type": "markdown",
   "metadata": {},
   "source": [
    "###  Задание 3.\n",
    "Вычислить площадь поверхности образованной вращением вокруг ОХ кардиоиды \n",
    "$$\n",
    "\\left\\{\n",
    "\\begin{matrix}\n",
    "x=a(2\\cos t-\\cos 2t)\\\\\n",
    "y=a(2\\sin t-\\sin 2t)\n",
    "\\end{matrix}\n",
    "\\right.\n",
    "$$\n",
    "Для облегчения расчетов упростить подынтегральную функцию с помощью simplify."
   ]
  },
  {
   "cell_type": "code",
   "execution_count": 4,
   "metadata": {},
   "outputs": [
    {
     "data": {
      "text/latex": [
       "$\\displaystyle \\int\\limits_{0}^{2 \\pi} 4 \\pi a^{2} \\sqrt{2 - 2 \\cos{\\left(t \\right)}} \\left(2 \\sin{\\left(t \\right)} - \\sin{\\left(2 t \\right)}\\right)\\, dt$"
      ],
      "text/plain": [
       "Integral(4*pi*a**2*sqrt(2 - 2*cos(t))*(2*sin(t) - sin(2*t)), (t, 0, 2*pi))"
      ]
     },
     "metadata": {},
     "output_type": "display_data"
    },
    {
     "data": {
      "text/latex": [
       "$\\displaystyle 16 \\pi a^{2} \\left(1 - \\cos{\\left(t \\right)}\\right) \\sqrt{\\sin^{2}{\\left(\\frac{t}{2} \\right)}} \\sin{\\left(t \\right)}$"
      ],
      "text/plain": [
       "16*pi*a**2*(1 - cos(t))*sqrt(sin(t/2)**2)*sin(t)"
      ]
     },
     "metadata": {},
     "output_type": "display_data"
    },
    {
     "data": {
      "text/latex": [
       "$\\displaystyle \\int\\limits_{0}^{2 \\pi} 4 \\pi a^{2} \\sqrt{2 - 2 \\cos{\\left(t \\right)}} \\left(2 \\sin{\\left(t \\right)} - \\sin{\\left(2 t \\right)}\\right)\\, dt = 0$"
      ],
      "text/plain": [
       "Eq(Integral(4*pi*a**2*sqrt(2 - 2*cos(t))*(2*sin(t) - sin(2*t)), (t, 0, 2*pi)), 0)"
      ]
     },
     "metadata": {},
     "output_type": "display_data"
    }
   ],
   "source": [
    "a = Symbol('a', positive=True)\n",
    "x2 = a * (2 * Cos(t) - Cos(2 * t))\n",
    "y2 = a * (2 * Sin(t) - Sin(2 * t))\n",
    "\n",
    "S_OX2 = Integral(2 * Pi * (y2 * (x2.diff(t) ** 2 + y2.diff(t) ** 2) ** S.Half).simplify(), (t, 0, 2*Pi))\n",
    "display(S_OX2)\n",
    "\n",
    "res = S_OX2.function.replace(2 - 2 * Cos(t), 4 * Sin(t/2) ** 2).simplify()\n",
    "display(res)\n",
    "display(sympy.Eq(S_OX2, res.integrate((t, 0, 2*Pi))))"
   ]
  },
  {
   "cell_type": "markdown",
   "metadata": {},
   "source": [
    "### Задание 4.\n",
    "Вычислить площадь поверхности образованной вращением лемнискаты $r^2=a^2\\cos2\\phi$ вокруг полярной оси.\n",
    "\n",
    "#### Указание.\n",
    "Построить график, определить пределы интегрирования.\n",
    "Упростить подынтегральную функцию с помощью simplify, затем с помощью display вывести полученный интерал. Замечая, что подынтегральное выражение можно упростить, если сократить, не обращать внимание, что $\\cos(2\\phi) = 0$ в $\\pi/4$, вручную составить интеграл для окончательного расчета. "
   ]
  },
  {
   "cell_type": "code",
   "execution_count": 5,
   "metadata": {},
   "outputs": [
    {
     "name": "stderr",
     "output_type": "stream",
     "text": [
      "<ipython-input-5-460485237682>:5: RuntimeWarning: invalid value encountered in sqrt\n",
      "  R = np.sqrt(np.cos(2 * Phi))\n"
     ]
    },
    {
     "data": {
      "text/latex": [
       "$\\displaystyle \\int\\limits_{0}^{\\pi} 2 \\pi a^{2} \\sqrt{\\frac{1}{\\cos{\\left(2 \\phi \\right)}}} \\sin{\\left(\\phi \\right)} \\sqrt{\\cos{\\left(2 \\phi \\right)}}\\, d\\phi$"
      ],
      "text/plain": [
       "Integral(2*pi*a**2*sqrt(1/cos(2*phi))*sin(phi)*sqrt(cos(2*phi)), (phi, 0, pi))"
      ]
     },
     "metadata": {},
     "output_type": "display_data"
    },
    {
     "data": {
      "text/latex": [
       "$\\displaystyle \\int\\limits_{0}^{\\pi} 2 \\pi a^{2} \\sin{\\left(\\phi \\right)}\\, d\\phi = 4 \\pi a^{2}$"
      ],
      "text/plain": [
       "Eq(Integral(2*pi*a**2*sin(phi), (phi, 0, pi)), 4*pi*a**2)"
      ]
     },
     "metadata": {},
     "output_type": "display_data"
    },
    {
     "data": {
      "image/png": "[encoded data removed]",
      "text/plain": [
       "<Figure size 432x288 with 1 Axes>"
      ]
     },
     "metadata": {
      "needs_background": "light"
     },
     "output_type": "display_data"
    }
   ],
   "source": [
    "phi = Symbol('phi')\n",
    "r = a * sympy.sqrt(Cos(2 * phi))\n",
    "\n",
    "Phi = np.linspace(0, 2 * np.pi, 100000)\n",
    "R = np.sqrt(np.cos(2 * Phi))\n",
    "plt.polar(Phi, R, color='green', lw=2)\n",
    "\n",
    "S_p = Integral(simplify(2 * Pi * r * Sin(phi) * (r ** 2 + r.diff(phi) ** 2) ** S.Half), (phi, 0, Pi))\n",
    "display(S_p)\n",
    "\n",
    "mod_S_p = Integral(2 * Pi * (a ** 2) * Sin(phi), (phi, 0, Pi))\n",
    "display(sympy.Eq(mod_S_p, mod_S_p.doit()))"
   ]
  },
  {
   "cell_type": "markdown",
   "metadata": {},
   "source": [
    "### Индивидуальное задание \n",
    "Найти площадь поверхности, образованной вращением $y = f(x)$ около оси OX."
   ]
  },
  {
   "cell_type": "markdown",
   "metadata": {},
   "source": [
    "$$y=e^{- x}, \\qquad x > 0$$"
   ]
  },
  {
   "cell_type": "code",
   "execution_count": 6,
   "metadata": {},
   "outputs": [
    {
     "data": {
      "text/latex": [
       "$\\displaystyle \\int\\limits_{0}^{\\infty} 2 \\pi \\sqrt{1 + e^{- 2 x}} e^{- x}\\, dx$"
      ],
      "text/plain": [
       "Integral(2*pi*sqrt(1 + exp(-2*x))*exp(-x), (x, 0, oo))"
      ]
     },
     "metadata": {},
     "output_type": "display_data"
    },
    {
     "data": {
      "text/latex": [
       "$\\displaystyle 7.21179972420705$"
      ],
      "text/plain": [
       "7.21179972420705"
      ]
     },
     "metadata": {},
     "output_type": "display_data"
    }
   ],
   "source": [
    "x = Symbol('x')\n",
    "y = sympy.E**(-x)\n",
    "\n",
    "S_OX1 = Integral(simplify(2 * Pi * y * (1 + y.diff(x) ** 2) ** S.Half), (x, 0, +sympy.oo))\n",
    "display(S_OX1, S_OX1.evalf())"
   ]
  },
  {
   "cell_type": "markdown",
   "metadata": {},
   "source": [
    "Хорасанджян Левон, вариант №157"
   ]
  }
 ],
 "metadata": {
  "kernelspec": {
   "display_name": "Python 3",
   "language": "python",
   "name": "python3"
  },
  "language_info": {
   "codemirror_mode": {
    "name": "ipython",
    "version": 3
   },
   "file_extension": ".py",
   "mimetype": "text/x-python",
   "name": "python",
   "nbconvert_exporter": "python",
   "pygments_lexer": "ipython3",
   "version": "3.8.8"
  }
 },
 "nbformat": 4,
 "nbformat_minor": 2
}
