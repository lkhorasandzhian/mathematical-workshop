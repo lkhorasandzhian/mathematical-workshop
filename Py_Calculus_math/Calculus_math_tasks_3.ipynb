{
 "cells": [
  {
   "cell_type": "markdown",
   "metadata": {},
   "source": [
    "## Занятие 3\n",
    "## Математический анализ\n",
    "## Решение нелинейных уравнений в Sympy. Solve и solveset.\n",
    "https://docs.sympy.org/latest/modules/solvers/solveset.html"
   ]
  },
  {
   "cell_type": "code",
   "execution_count": 48,
   "metadata": {},
   "outputs": [],
   "source": [
    "from sympy import Symbol, symbols, S, solve, solveset, Intersection, Interval, EmptySet, Union, plot\n",
    "\n",
    "# А для того, чтобы использовать все остальное, сделаем так:\n",
    "from sympy import log, tan, sin, ln, pi\n",
    "\n",
    "# Продолжим использовать магию\n",
    "%matplotlib inline"
   ]
  },
  {
   "cell_type": "markdown",
   "metadata": {},
   "source": [
    "### Задание 1\n",
    "Решить уравнение $6x^4 + 9x^3 - 99x^2 - 66x + 360 = 0$ с помощью solve и solveset."
   ]
  },
  {
   "cell_type": "code",
   "execution_count": 49,
   "metadata": {},
   "outputs": [
    {
     "data": {
      "text/plain": [
       "[-4, -5/2, 2, 3]"
      ]
     },
     "execution_count": 49,
     "metadata": {},
     "output_type": "execute_result"
    }
   ],
   "source": [
    "x = Symbol('x')\n",
    "\n",
    "solve(6 * x**4 + 9 * x**3 - 99 * x**2 - 66*x + 360)"
   ]
  },
  {
   "cell_type": "markdown",
   "metadata": {},
   "source": [
    "### Задание 2.\n",
    "Найти только вещественные решения уравнения $12x^8 + 32x^6 + 21x^4 - 2x^2 - 3 = 0$."
   ]
  },
  {
   "cell_type": "code",
   "execution_count": 50,
   "metadata": {},
   "outputs": [
    {
     "data": {
      "text/latex": [
       "$\\displaystyle \\left\\{- \\frac{\\sqrt{3}}{3}, \\frac{\\sqrt{3}}{3}\\right\\}$"
      ],
      "text/plain": [
       "FiniteSet(-sqrt(3)/3, sqrt(3)/3)"
      ]
     },
     "execution_count": 50,
     "metadata": {},
     "output_type": "execute_result"
    }
   ],
   "source": [
    "solveset(12 * x**8 + 32 * x**6 + 21 * x**4 - 2 * x**2 - 3, domain = S.Reals)"
   ]
  },
  {
   "cell_type": "markdown",
   "metadata": {},
   "source": [
    "### Задание 3.\n",
    "Решить уравнение $\\log_2(\\sin(x))=-1$. "
   ]
  },
  {
   "cell_type": "code",
   "execution_count": 51,
   "metadata": {},
   "outputs": [
    {
     "data": {
      "text/latex": [
       "$\\displaystyle \\left\\{2 n \\pi + \\frac{5 \\pi}{6}\\; \\middle|\\; n \\in \\mathbb{Z}\\right\\} \\cup \\left\\{2 n \\pi + \\frac{\\pi}{6}\\; \\middle|\\; n \\in \\mathbb{Z}\\right\\}$"
      ],
      "text/plain": [
       "Union(ImageSet(Lambda(_n, 2*_n*pi + 5*pi/6), Integers), ImageSet(Lambda(_n, 2*_n*pi + pi/6), Integers))"
      ]
     },
     "execution_count": 51,
     "metadata": {},
     "output_type": "execute_result"
    }
   ],
   "source": [
    "solveset(log(sin(x))/log(2) + 1)"
   ]
  },
  {
   "cell_type": "markdown",
   "metadata": {},
   "source": [
    "### Задание 4.\n",
    "Найти решения уравнения $2{\\rm tg}^2(x) - 3{\\rm tg}(x) - 5 = 0$ на открытом интервале  $(-5\\pi/4, 11\\pi/4)$. "
   ]
  },
  {
   "cell_type": "code",
   "execution_count": 52,
   "metadata": {},
   "outputs": [
    {
     "data": {
      "text/latex": [
       "$\\displaystyle \\left\\{- \\frac{\\pi}{4}, \\frac{3 \\pi}{4}, \\frac{7 \\pi}{4}, - \\pi + \\operatorname{atan}{\\left(\\frac{5}{2} \\right)}, \\operatorname{atan}{\\left(\\frac{5}{2} \\right)} + \\pi, \\operatorname{atan}{\\left(\\frac{5}{2} \\right)} + 2 \\pi, \\operatorname{atan}{\\left(\\frac{5}{2} \\right)}\\right\\}$"
      ],
      "text/plain": [
       "FiniteSet(atan(5/2), -pi/4, 3*pi/4, 7*pi/4, atan(5/2) + pi, -pi + atan(5/2), atan(5/2) + 2*pi)"
      ]
     },
     "execution_count": 52,
     "metadata": {},
     "output_type": "execute_result"
    }
   ],
   "source": [
    "Intersection(solveset(2 * tan(x)**2 - 3*tan(x) - S(5)), Interval.open(-5*pi/4, 11*pi/4))"
   ]
  },
  {
   "cell_type": "markdown",
   "metadata": {},
   "source": [
    "### Задание 5.\n",
    "Найти область определения функции $\\sqrt{\\sin^2 x - 1}$."
   ]
  },
  {
   "cell_type": "code",
   "execution_count": 53,
   "metadata": {},
   "outputs": [
    {
     "data": {
      "text/latex": [
       "$\\displaystyle x = \\frac{\\pi}{2} \\vee x = \\frac{3 \\pi}{2}$"
      ],
      "text/plain": [
       "Eq(x, pi/2) | Eq(x, 3*pi/2)"
      ]
     },
     "execution_count": 53,
     "metadata": {},
     "output_type": "execute_result"
    }
   ],
   "source": [
    "x = Symbol('x')\n",
    "\n",
    "solve(sin(x)**2 - 1 >= 0)"
   ]
  },
  {
   "cell_type": "markdown",
   "metadata": {},
   "source": [
    "### Задание 6.\n",
    "Найти решение уравнения $\\frac{(x^3 + 5 x^2 - 3 x - 15)\\ln(x^2 - 3)}{x^2 - 3 x + 2} = 0$. Выполнить проверку подстановкой subs.\n",
    "#### Указание.\n",
    "Решение нужно разбить на части. Нужно учесть область определения выражения в левой части уравнения."
   ]
  },
  {
   "cell_type": "code",
   "execution_count": 54,
   "metadata": {},
   "outputs": [
    {
     "name": "stdout",
     "output_type": "stream",
     "text": [
      "решения: [-5, -2, -sqrt(3), sqrt(3)]\n",
      "\n",
      "Является ли -5 решением?\n",
      "Да\n",
      "\n",
      "Является ли -2 решением?\n",
      "Да\n",
      "\n",
      "Является ли -sqrt(3) решением?\n",
      "Нет\n",
      "\n",
      "Является ли sqrt(3) решением?\n",
      "Нет\n",
      "\n"
     ]
    }
   ],
   "source": [
    "x = symbols('x')\n",
    "y = (x**3 + 5 * x**2 - 3*x - 15) * ln(x**2 - 3) / (x**2 - 3*x +2)\n",
    "\n",
    "solutions = solve(y)\n",
    "print(f\"решения: {solutions}\\n\")\n",
    "\n",
    "for solution in solutions:\n",
    "    print(f'Является ли {solution} решением?')\n",
    "    print('Да\\n' if y.subs(x, solution) == 0 else 'Нет\\n')"
   ]
  },
  {
   "cell_type": "markdown",
   "metadata": {},
   "source": [
    "### Индивидуальное задание.\n",
    "Через все точки пересечения графиков функций $f(x)$ и $g(x)$ провести горизонтальные прямые. Изобразить на графике $f(x)$ зеленым цветом, $g(x)$ красным, горизонтальные линии черным. \n",
    "Формулы для $f(x)$ и $g(x)$ включить в легенду."
   ]
  },
  {
   "cell_type": "code",
   "execution_count": 55,
   "metadata": {},
   "outputs": [
    {
     "data": {
      "image/png": "[encoded data removed]",
      "text/plain": [
       "<Figure size 432x288 with 1 Axes>"
      ]
     },
     "metadata": {
      "needs_background": "light"
     },
     "output_type": "display_data"
    }
   ],
   "source": [
    "f = (x**2) / 16 + 5*x/8 + 5/16\n",
    "g = 7 * x**2/16 - x/8 - 85/16\n",
    "roots = solve(f-g) # список значений пересечений по X\n",
    "vert_line1 = S(f.subs(x, roots[0]))\n",
    "vert_line2 = S(f.subs(x, roots[1]))\n",
    "\n",
    "\n",
    "x_limits = (x, roots[0] - 1, roots[1] + 1)\n",
    "p = plot(f, x_limits, line_color = 'green', label = '$f(x) = x^2/16+5x/8+5/16$', show = False)\n",
    "p.append(plot(g, x_limits, line_color = 'red', label = '$g(x) = 7x^2/16-x/8-85/16$', show = False)[0])\n",
    "p.append(plot(vert_line1, x_limits, line_color = 'black', label = f'$y1 = {int(vert_line1)}$', show = False)[0])\n",
    "p.append(plot(vert_line2, x_limits, line_color = 'black', label = f'$y2 = {int(vert_line2)}$', show = False)[0])\n",
    "p.legend = True\n",
    "p.show()"
   ]
  },
  {
   "cell_type": "markdown",
   "metadata": {},
   "source": [
    "Хорасанджян Левон, вариант №157"
   ]
  }
 ],
 "metadata": {
  "kernelspec": {
   "display_name": "Python 3",
   "language": "python",
   "name": "python3"
  },
  "language_info": {
   "codemirror_mode": {
    "name": "ipython",
    "version": 3
   },
   "file_extension": ".py",
   "mimetype": "text/x-python",
   "name": "python",
   "nbconvert_exporter": "python",
   "pygments_lexer": "ipython3",
   "version": "3.8.8"
  }
 },
 "nbformat": 4,
 "nbformat_minor": 2
}
