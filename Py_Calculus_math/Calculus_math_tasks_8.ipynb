{
 "cells": [
  {
   "cell_type": "code",
   "execution_count": 1,
   "metadata": {
    "id": "lFa-xWkHGUas"
   },
   "outputs": [],
   "source": [
    "import numpy as np\n",
    "import matplotlib.pyplot as plt\n",
    "import sympy\n",
    "from sympy import Symbol, diff, solve, nsolve, solveset, latex, S, simplify, fraction, Union, Interval, intersection, limit\n",
    "from sympy.calculus.util import continuous_domain\n",
    "from sympy import sin as Sin\n",
    "from sympy import cos as Cos\n",
    "from sympy import pi as Pi\n",
    "%matplotlib inline"
   ]
  },
  {
   "cell_type": "markdown",
   "metadata": {
    "id": "NRVCVxVNGUav"
   },
   "source": [
    "## Занятие 8\n",
    "## Математический анализ\n",
    "## Дифференцирование функции, заданной параметрически\n",
    "Пусть зависимость $y$ от $x$ задана параметрически:\n",
    "$$\n",
    "\\left\\{\n",
    "\\begin{matrix}\n",
    "x = \\varphi(t)\\\\\n",
    "y = \\psi(t)\n",
    "\\end{matrix}\n",
    "\\right.\n",
    "$$\n",
    "тогда производная $y$ по $x$  находится по формуле\n",
    "$$\n",
    "y'_x = \\frac{y'_t}{x'_t} = \\frac{\\psi'_t}{\\varphi'_t}\n",
    "$$\n",
    "Вторая производная:\n",
    "$$\n",
    "y''_{xx} = \\frac{x'_t y''_{tt}-x''_{tt}y'_t}{(x'_t)^3}  = \\frac{\\varphi'_t \\psi''_{tt}-\\varphi''_{tt}\\psi'_t}{(\\varphi'_t)^3}\n",
    "$$\n",
    "### Задание 1\n",
    "Найти производные 1 и 2 порядка функции \n",
    "$$\n",
    "\\left\\{\n",
    "\\begin{matrix}\n",
    "x = \\sin(t) - t\\cos(t)\\\\\n",
    "y = \\cos(t) + t\\sin(t)\n",
    "\\end{matrix}\n",
    "\\right.\n",
    "$$"
   ]
  },
  {
   "cell_type": "code",
   "execution_count": 2,
   "metadata": {
    "colab": {
     "base_uri": "https://localhost:8080/",
     "height": 98
    },
    "id": "jLJZ4XPqGUax",
    "outputId": "0293ad85-9bb7-4ba8-d383-76653335bad7"
   },
   "outputs": [
    {
     "data": {
      "text/latex": [
       "$\\displaystyle \\frac{\\cos{\\left(t \\right)}}{\\sin{\\left(t \\right)}}$"
      ],
      "text/plain": [
       "cos(t)/sin(t)"
      ]
     },
     "metadata": {},
     "output_type": "display_data"
    },
    {
     "data": {
      "text/latex": [
       "$\\displaystyle \\frac{t \\left(- t \\sin{\\left(t \\right)} + \\cos{\\left(t \\right)}\\right) \\sin{\\left(t \\right)} - t \\left(t \\cos{\\left(t \\right)} + \\sin{\\left(t \\right)}\\right) \\cos{\\left(t \\right)}}{t^{3} \\sin^{3}{\\left(t \\right)}}$"
      ],
      "text/plain": [
       "(t*(-t*sin(t) + cos(t))*sin(t) - t*(t*cos(t) + sin(t))*cos(t))/(t**3*sin(t)**3)"
      ]
     },
     "metadata": {},
     "output_type": "display_data"
    }
   ],
   "source": [
    "t = Symbol('t')\n",
    "\n",
    "x = Sin(t) - t*Cos(t)\n",
    "y = Cos(t) + t*Sin(t)\n",
    "\n",
    "dx = diff(x, t)\n",
    "dy = diff(y, t)\n",
    "\n",
    "dy_x = dy/dx\n",
    "dy2_xx = (dx*diff(y, t, 2) - diff(x, t, 2)*dy)/dx**3\n",
    "\n",
    "display(dy_x, dy2_xx)"
   ]
  },
  {
   "cell_type": "code",
   "execution_count": 3,
   "metadata": {
    "colab": {
     "base_uri": "https://localhost:8080/",
     "height": 57
    },
    "id": "eBydRNh7GUaz",
    "outputId": "3e181e53-5628-47f0-9e39-34cb6fab5f10"
   },
   "outputs": [
    {
     "data": {
      "text/latex": [
       "$\\displaystyle - \\frac{1}{t \\sin^{3}{\\left(t \\right)}}$"
      ],
      "text/plain": [
       "-1/(t*sin(t)**3)"
      ]
     },
     "metadata": {},
     "output_type": "display_data"
    }
   ],
   "source": [
    "dy2_xx = simplify(dy2_xx)\n",
    "display(dy2_xx)"
   ]
  },
  {
   "cell_type": "markdown",
   "metadata": {
    "id": "TULx-NREGUa0"
   },
   "source": [
    "### Задание 2.\n",
    "Найти нули производных первого и второго порядка, а также точки, в которых эти производные не существуют, для функции\n",
    "$$\n",
    "\\left\\{\n",
    "\\begin{matrix}\n",
    "x = t^2 - 2t\\\\\n",
    "y = t^2 + 2t\n",
    "\\end{matrix}\n",
    "\\right.\n",
    "$$"
   ]
  },
  {
   "cell_type": "code",
   "execution_count": 4,
   "metadata": {
    "colab": {
     "base_uri": "https://localhost:8080/",
     "height": 268
    },
    "id": "dt5DfAvIGUa1",
    "outputId": "c025c3c6-b9dd-4f93-f949-15dd0d9cb642"
   },
   "outputs": [
    {
     "name": "stdout",
     "output_type": "stream",
     "text": [
      "Первая производная\n"
     ]
    },
    {
     "data": {
      "application/vnd.google.colaboratory.intrinsic+json": {
       "type": "string"
      },
      "text/plain": [
       "'нули числителя:'"
      ]
     },
     "metadata": {},
     "output_type": "display_data"
    },
    {
     "data": {
      "text/latex": [
       "$\\displaystyle \\left\\{2 n \\pi + \\frac{\\pi}{2}\\; |\\; n \\in \\mathbb{Z}\\right\\} \\cup \\left\\{2 n \\pi + \\frac{3 \\pi}{2}\\; |\\; n \\in \\mathbb{Z}\\right\\}$"
      ],
      "text/plain": [
       "Union(ImageSet(Lambda(_n, 2*_n*pi + pi/2), Integers), ImageSet(Lambda(_n, 2*_n*pi + 3*pi/2), Integers))"
      ]
     },
     "metadata": {},
     "output_type": "display_data"
    },
    {
     "data": {
      "application/vnd.google.colaboratory.intrinsic+json": {
       "type": "string"
      },
      "text/plain": [
       "'нули знаменателя:'"
      ]
     },
     "metadata": {},
     "output_type": "display_data"
    },
    {
     "data": {
      "text/latex": [
       "$\\displaystyle \\left\\{2 n \\pi\\; |\\; n \\in \\mathbb{Z}\\right\\} \\cup \\left\\{2 n \\pi + \\pi\\; |\\; n \\in \\mathbb{Z}\\right\\}$"
      ],
      "text/plain": [
       "Union(ImageSet(Lambda(_n, 2*_n*pi + pi), Integers), ImageSet(Lambda(_n, 2*_n*pi), Integers))"
      ]
     },
     "metadata": {},
     "output_type": "display_data"
    },
    {
     "name": "stdout",
     "output_type": "stream",
     "text": [
      "\n",
      "\n",
      "Вторая производная\n"
     ]
    },
    {
     "data": {
      "application/vnd.google.colaboratory.intrinsic+json": {
       "type": "string"
      },
      "text/plain": [
       "'нули числителя:'"
      ]
     },
     "metadata": {},
     "output_type": "display_data"
    },
    {
     "data": {
      "text/latex": [
       "$\\displaystyle \\emptyset$"
      ],
      "text/plain": [
       "EmptySet"
      ]
     },
     "metadata": {},
     "output_type": "display_data"
    },
    {
     "data": {
      "application/vnd.google.colaboratory.intrinsic+json": {
       "type": "string"
      },
      "text/plain": [
       "'нули знаменателя:'"
      ]
     },
     "metadata": {},
     "output_type": "display_data"
    },
    {
     "data": {
      "text/latex": [
       "$\\displaystyle \\left\\{2 n \\pi\\; |\\; n \\in \\mathbb{Z}\\right\\} \\cup \\left\\{2 n \\pi + \\pi\\; |\\; n \\in \\mathbb{Z}\\right\\}$"
      ],
      "text/plain": [
       "Union(ImageSet(Lambda(_n, 2*_n*pi + pi), Integers), ImageSet(Lambda(_n, 2*_n*pi), Integers))"
      ]
     },
     "metadata": {},
     "output_type": "display_data"
    }
   ],
   "source": [
    "dy_x_num, dy_x_den = fraction(dy_x)  # num - numerator(числитель), den - denominator(знаменатель)\n",
    "dy_x_num_nul = solveset(dy_x_num)\n",
    "dy_x_den_nul = solveset(dy_x_den)\n",
    "print(\"Первая производная\")\n",
    "display('нули числителя:', dy_x_num_nul, 'нули знаменателя:', dy_x_den_nul)\n",
    "\n",
    "print(\"\\n\")\n",
    "\n",
    "dy2_xx_num,dy2_xx_den = fraction(dy2_xx)  # num - numerator(числитель), den - denominator(знаменатель)\n",
    "dy2_xx_num_nul = solveset(dy2_xx_num)\n",
    "dy2_xx_den_nul = solveset(dy2_xx_den)\n",
    "print(\"Вторая производная\")\n",
    "display('нули числителя:', dy2_xx_num_nul, 'нули знаменателя:', dy2_xx_den_nul)"
   ]
  },
  {
   "cell_type": "markdown",
   "metadata": {
    "id": "Gtb_6PbAGUa3"
   },
   "source": [
    "### Задание 3. \n",
    "Найти точки экстремума и точки перегиба функции Задания 2."
   ]
  },
  {
   "cell_type": "code",
   "execution_count": 5,
   "metadata": {
    "colab": {
     "base_uri": "https://localhost:8080/",
     "height": 58
    },
    "id": "_yVnCO62GUa4",
    "outputId": "935d95a2-5bc0-43d3-e1eb-038674b6274e"
   },
   "outputs": [
    {
     "data": {
      "text/latex": [
       "$\\displaystyle \\left\\{2 n \\pi\\; |\\; n \\in \\mathbb{Z}\\right\\} \\cup \\left\\{2 n \\pi + \\pi\\; |\\; n \\in \\mathbb{Z}\\right\\} \\cup \\left\\{2 n \\pi + \\frac{\\pi}{2}\\; |\\; n \\in \\mathbb{Z}\\right\\} \\cup \\left\\{2 n \\pi + \\frac{3 \\pi}{2}\\; |\\; n \\in \\mathbb{Z}\\right\\}$"
      ],
      "text/plain": [
       "Union(ImageSet(Lambda(_n, 2*_n*pi + pi/2), Integers), ImageSet(Lambda(_n, 2*_n*pi + 3*pi/2), Integers), ImageSet(Lambda(_n, 2*_n*pi + pi), Integers), ImageSet(Lambda(_n, 2*_n*pi), Integers))"
      ]
     },
     "execution_count": 5,
     "metadata": {},
     "output_type": "execute_result"
    }
   ],
   "source": [
    "crit_points = Union(dy_x_num_nul, dy_x_den_nul)\n",
    "crit_points"
   ]
  },
  {
   "cell_type": "code",
   "execution_count": 6,
   "metadata": {
    "colab": {
     "base_uri": "https://localhost:8080/",
     "height": 58
    },
    "id": "ZXN7pf9TGUa5",
    "outputId": "c8e35d90-2adc-4dd1-9755-acdcd98fd79c"
   },
   "outputs": [
    {
     "data": {
      "text/latex": [
       "$\\displaystyle \\left\\{0, \\frac{\\pi}{2}, \\pi, \\frac{3 \\pi}{2}\\right\\}$"
      ],
      "text/plain": [
       "FiniteSet(0, pi, pi/2, 3*pi/2)"
      ]
     },
     "execution_count": 6,
     "metadata": {},
     "output_type": "execute_result"
    }
   ],
   "source": [
    "crit_points_interval = crit_points.intersection(Interval.Ropen(0, 2*Pi))\n",
    "crit_points_interval"
   ]
  },
  {
   "cell_type": "code",
   "execution_count": 7,
   "metadata": {
    "colab": {
     "base_uri": "https://localhost:8080/"
    },
    "id": "VINrWiT4GUa7",
    "outputId": "89d145c3-3103-43a5-b6c4-357c0d490912"
   },
   "outputs": [
    {
     "data": {
      "text/plain": [
       "[0, pi/2, pi, 3*pi/2]"
      ]
     },
     "execution_count": 7,
     "metadata": {},
     "output_type": "execute_result"
    }
   ],
   "source": [
    "crit_points_interval = list(crit_points_interval)\n",
    "crit_points_interval.sort()\n",
    "crit_points_interval"
   ]
  },
  {
   "cell_type": "code",
   "execution_count": 8,
   "metadata": {
    "colab": {
     "base_uri": "https://localhost:8080/"
    },
    "id": "FL_Sttk4GUa7",
    "outputId": "cccb0b7e-2547-41ac-c018-f6b238c9266e"
   },
   "outputs": [
    {
     "data": {
      "text/plain": [
       "[-pi/6, pi/4, 3*pi/4, 5*pi/4, 5*pi/3]"
      ]
     },
     "execution_count": 8,
     "metadata": {},
     "output_type": "execute_result"
    }
   ],
   "source": [
    "points = [-Pi/6] + [(item + crit_points_interval[i + 1])/2 for i, item in enumerate(crit_points_interval[:-1])] + [5*Pi/3]\n",
    "points"
   ]
  },
  {
   "cell_type": "code",
   "execution_count": 9,
   "metadata": {
    "colab": {
     "base_uri": "https://localhost:8080/",
     "height": 91
    },
    "id": "M7vZHeJhGUa9",
    "outputId": "830c10ad-6466-4eac-801a-95813e59fd10"
   },
   "outputs": [
    {
     "data": {
      "application/vnd.google.colaboratory.intrinsic+json": {
       "type": "string"
      },
      "text/plain": [
       "'максимум'"
      ]
     },
     "metadata": {},
     "output_type": "display_data"
    },
    {
     "data": {
      "text/plain": [
       "[pi/2]"
      ]
     },
     "metadata": {},
     "output_type": "display_data"
    },
    {
     "data": {
      "application/vnd.google.colaboratory.intrinsic+json": {
       "type": "string"
      },
      "text/plain": [
       "'минимум'"
      ]
     },
     "metadata": {},
     "output_type": "display_data"
    },
    {
     "data": {
      "text/plain": [
       "[3*pi/2]"
      ]
     },
     "metadata": {},
     "output_type": "display_data"
    }
   ],
   "source": [
    "max_arr=[]\n",
    "min_arr=[]\n",
    "for i, item in enumerate(crit_points_interval):\n",
    "    if item in dy_x_num_nul:  # проверка на ноль числителя (не знаменателя!)\n",
    "        df_left = dy_x.subs(t, points[i])\n",
    "        df_right = dy_x.subs(t, points[i + 1])\n",
    "        x_left = float(x.subs(t, points[i]))\n",
    "        x_right = float(x.subs(t, points[i + 1]))\n",
    "        if df_left < 0 and df_right > 0 and x_left < x_right or df_left > 0 and df_right < 0 and x_left > x_right:  # по шаблону решения из теории\n",
    "            min_arr.append(item)\n",
    "        elif df_left < 0 and df_right > 0 and x_left > x_right or df_left > 0 and df_right < 0 and x_left < x_right:  # по шаблону решения из теории\n",
    "            max_arr.append(item)\n",
    "display('максимум', max_arr, 'минимум', min_arr)"
   ]
  },
  {
   "cell_type": "code",
   "execution_count": 10,
   "metadata": {
    "colab": {
     "base_uri": "https://localhost:8080/",
     "height": 312
    },
    "id": "un3BzwJYGUa-",
    "outputId": "f61c7fed-a14f-4f6a-9308-ada7c796fbfa"
   },
   "outputs": [
    {
     "data": {
      "image/png": "[encoded data removed]",
      "text/plain": [
       "<Figure size 432x288 with 1 Axes>"
      ]
     },
     "metadata": {
      "needs_background": "light"
     },
     "output_type": "display_data"
    }
   ],
   "source": [
    "T = np.linspace(0, 2*np.pi, 100)\n",
    "ax = plt.gca()\n",
    "ax.plot(np.cos(T), np.sin(T))\n",
    "ax.axis('equal')\n",
    "ax.spines['right'].set_color('none')\n",
    "ax.spines['top'].set_color('none')\n",
    "ax.spines['bottom'].set_position(('data', 0))\n",
    "ax.spines['left'].set_position(('data', 0))\n",
    "for item in max_arr + min_arr:\n",
    "    if item in max_arr:\n",
    "        extr = ('maximum:', (10, 30))\n",
    "    elif item in min_arr:\n",
    "        extr = ('minimum:', (30, -30))\n",
    "    x0 = x.subs(t, item)\n",
    "    y0 = y.subs(t, item)\n",
    "    ax.scatter([x0], [y0], 50, color='red')\n",
    "    ax.annotate(extr[0] + r' $t = ' + latex(item) + ',\\,x = ' + latex(x0) + ',\\,y = ' + latex(y0)+r'$',\n",
    "              xy=(x0, y0), xycoords='data',\n",
    "              xytext=extr[1], textcoords='offset points', fontsize=16,\n",
    "              arrowprops=dict(arrowstyle=\"->\", connectionstyle=\"arc3,rad=-.2\"))"
   ]
  },
  {
   "cell_type": "markdown",
   "metadata": {
    "id": "lz2uj_mmGUa_"
   },
   "source": [
    "### Задание 4. Точки перегиба\n",
    "Найти точки перегиба функции, график строить не нужно. \n",
    "$$\n",
    "\\left\\{\n",
    "\\begin{matrix}\n",
    "x = e^t\\\\\n",
    "y = te^{2t}\n",
    "\\end{matrix}\n",
    "\\right.\n",
    "$$"
   ]
  },
  {
   "cell_type": "code",
   "execution_count": 11,
   "metadata": {
    "colab": {
     "base_uri": "https://localhost:8080/",
     "height": 337
    },
    "id": "bLljsYm5GUa_",
    "outputId": "6fef1b26-c4dd-4d30-e4fc-9a0c7e5eaa35"
   },
   "outputs": [
    {
     "name": "stdout",
     "output_type": "stream",
     "text": [
      "dy_x до simplify:\n"
     ]
    },
    {
     "data": {
      "text/latex": [
       "$\\displaystyle \\left(2 t e^{2 t} + e^{2 t}\\right) e^{- t}$"
      ],
      "text/plain": [
       "(2*t*exp(2*t) + exp(2*t))*exp(-t)"
      ]
     },
     "metadata": {},
     "output_type": "display_data"
    },
    {
     "name": "stdout",
     "output_type": "stream",
     "text": [
      "\n",
      "dy_x после simplify:\n"
     ]
    },
    {
     "data": {
      "text/latex": [
       "$\\displaystyle \\left(2 t + 1\\right) e^{t}$"
      ],
      "text/plain": [
       "(2*t + 1)*exp(t)"
      ]
     },
     "metadata": {},
     "output_type": "display_data"
    },
    {
     "name": "stdout",
     "output_type": "stream",
     "text": [
      "\n",
      "\n",
      "\n",
      "dy2_xx до simplify:\n"
     ]
    },
    {
     "data": {
      "text/latex": [
       "$\\displaystyle \\left(4 \\left(t + 1\\right) e^{3 t} - \\left(2 t e^{2 t} + e^{2 t}\\right) e^{t}\\right) e^{- 3 t}$"
      ],
      "text/plain": [
       "(4*(t + 1)*exp(3*t) - (2*t*exp(2*t) + exp(2*t))*exp(t))*exp(-3*t)"
      ]
     },
     "metadata": {},
     "output_type": "display_data"
    },
    {
     "name": "stdout",
     "output_type": "stream",
     "text": [
      "\n",
      "dy2_xx после simplify:\n"
     ]
    },
    {
     "data": {
      "text/latex": [
       "$\\displaystyle 2 t + 3$"
      ],
      "text/plain": [
       "2*t + 3"
      ]
     },
     "metadata": {},
     "output_type": "display_data"
    },
    {
     "name": "stdout",
     "output_type": "stream",
     "text": [
      "\n",
      "нули второй производной:\n"
     ]
    },
    {
     "data": {
      "text/latex": [
       "$\\displaystyle - \\frac{3}{2}$"
      ],
      "text/plain": [
       "-3/2"
      ]
     },
     "metadata": {},
     "output_type": "display_data"
    }
   ],
   "source": [
    "t = Symbol('t')\n",
    "\n",
    "x = sympy.exp(t)\n",
    "y = t * sympy.exp(2*t)\n",
    "\n",
    "dx = diff(x, t)\n",
    "dy = diff(y, t)\n",
    "\n",
    "dy_x = dy/dx\n",
    "\n",
    "print(\"dy_x до simplify:\")\n",
    "display(dy_x)\n",
    "\n",
    "print()\n",
    "\n",
    "dy_x = simplify(dy_x)\n",
    "print(\"dy_x после simplify:\")\n",
    "display(dy_x)\n",
    "\n",
    "print(\"\\n\\n\")\n",
    "\n",
    "dy2_xx = (dx*diff(y, t, 2) - diff(x, t, 2)*dy)/dx**3\n",
    "\n",
    "print(\"dy2_xx до simplify:\")\n",
    "display(dy2_xx)\n",
    "\n",
    "print()\n",
    "\n",
    "dy2_xx = simplify(dy2_xx)\n",
    "print(\"dy2_xx после simplify:\")\n",
    "display(dy2_xx)\n",
    "\n",
    "dy2_xx_num, dy2_xx_den = fraction(dy2_xx)\n",
    "\n",
    "dy2_xx_num_nul = solveset(dy2_xx_num)\n",
    "dy2_xx_den_nul = solveset(dy2_xx_den)\n",
    "\n",
    "dy2_xx_points = list((dy2_xx_num_nul.union(dy2_xx_den_nul)))\n",
    "dy2_xx_points.sort()\n",
    "print(\"\\nнули второй производной:\")\n",
    "display(*dy2_xx_points)"
   ]
  },
  {
   "cell_type": "code",
   "execution_count": 12,
   "metadata": {
    "colab": {
     "base_uri": "https://localhost:8080/",
     "height": 119
    },
    "id": "WENX3lCvGUbA",
    "outputId": "5787e53b-84d1-4c7b-c6f3-21a4b1248007"
   },
   "outputs": [
    {
     "data": {
      "text/latex": [
       "$\\displaystyle - \\frac{5}{2}$"
      ],
      "text/plain": [
       "-5/2"
      ]
     },
     "metadata": {},
     "output_type": "display_data"
    },
    {
     "data": {
      "text/latex": [
       "$\\displaystyle - \\frac{3}{2}$"
      ],
      "text/plain": [
       "-3/2"
      ]
     },
     "metadata": {},
     "output_type": "display_data"
    },
    {
     "data": {
      "text/latex": [
       "$\\displaystyle - \\frac{1}{2}$"
      ],
      "text/plain": [
       "-1/2"
      ]
     },
     "metadata": {},
     "output_type": "display_data"
    }
   ],
   "source": [
    "points = [sympy.S(-5)/2] + dy2_xx_points + [sympy.S(-1)/2]\n",
    "display(*points)"
   ]
  },
  {
   "cell_type": "code",
   "execution_count": 13,
   "metadata": {
    "colab": {
     "base_uri": "https://localhost:8080/"
    },
    "id": "qZ4lK-HcGUbB",
    "outputId": "8696715c-264a-44f8-828d-77705001fad2"
   },
   "outputs": [
    {
     "name": "stdout",
     "output_type": "stream",
     "text": [
      "Перегиб -3/2\n"
     ]
    }
   ],
   "source": [
    "inflection=[]\n",
    "for i, item in enumerate(dy2_xx_points):\n",
    "    if item in dy2_xx_num_nul:\n",
    "        df_left = dy2_xx.subs(t, points[i])\n",
    "        df_right = dy2_xx.subs(t, points[i + 1])\n",
    "        if df_left*df_right <= 0 and (df_right != 0 or df_left != 0):\n",
    "            inflection.append(item) \n",
    "print('Перегиб', *inflection)"
   ]
  },
  {
   "cell_type": "markdown",
   "metadata": {
    "id": "NbDJaX9dGUbC"
   },
   "source": [
    "## Асимптоты параметрически заданной функции\n",
    "Пусть зависимость $y$ от $x$ задана параметрически:\n",
    "$$\n",
    "\\left\\{\n",
    "\\begin{matrix}\n",
    "x = \\varphi(t)\\\\\n",
    "y = \\psi(t)\n",
    "\\end{matrix}\n",
    "\\right.\n",
    "$$\n",
    "Сначала нужно определить, нет ли таких значений параметра $t$, при которых одна из функций $\\varphi(t)$ или $\\psi(t)$ обращается в бесконечность, а другая остается конечной. При $\\varphi(t_0) = \\infty$, а $\\psi(t_0) = c$ кривая имеет горизонтальную асимптоту  $y = c$. При  $\\psi(t_0) = \\infty$, а $\\varphi(t_0) = c$ кривая имеет вертикальную асимптоту $x = c$. \n",
    "\n",
    "Если $\\varphi(t_0) = \\psi(t_0) = \\infty$ и \n",
    "$$\n",
    "\\lim_{t\\to t_0} \\frac{\\psi(t)}{\\varphi(t)} = k;\\qquad \\lim_{t\\to t_0} [\\psi(t) - k\\varphi(t)] = b,\n",
    "$$\n",
    "то   кривая имеет наклонную асимптоту  $y = kx + b$. \n",
    "\n",
    "### Индивидуальное задание.\n",
    "Найти асимптоты параметрически заданной функции и изобразить на графике функцию и ее асимптоты."
   ]
  },
  {
   "attachments": {
    "%D0%B8%D0%B7%D0%BE%D0%B1%D1%80%D0%B0%D0%B6%D0%B5%D0%BD%D0%B8%D0%B5.png": {
     "image/png": "[encoded data removed]"
    }
   },
   "cell_type": "markdown",
   "metadata": {
    "id": "aswSvx_4GUbC"
   },
   "source": [
    "![%D0%B8%D0%B7%D0%BE%D0%B1%D1%80%D0%B0%D0%B6%D0%B5%D0%BD%D0%B8%D0%B5.png](attachment:%D0%B8%D0%B7%D0%BE%D0%B1%D1%80%D0%B0%D0%B6%D0%B5%D0%BD%D0%B8%D0%B5.png)"
   ]
  },
  {
   "cell_type": "code",
   "execution_count": 14,
   "metadata": {
    "colab": {
     "base_uri": "https://localhost:8080/",
     "height": 71
    },
    "id": "UoKx3kO6GUbD",
    "outputId": "fdaa8b28-9d01-4eb7-a5da-10452da98d57"
   },
   "outputs": [
    {
     "data": {
      "text/latex": [
       "$\\displaystyle \\sqrt{5 t + 1}$"
      ],
      "text/plain": [
       "sqrt(5*t + 1)"
      ]
     },
     "metadata": {},
     "output_type": "display_data"
    },
    {
     "data": {
      "text/latex": [
       "$\\displaystyle 3 + \\frac{3}{t}$"
      ],
      "text/plain": [
       "3 + 3/t"
      ]
     },
     "metadata": {},
     "output_type": "display_data"
    }
   ],
   "source": [
    "# ДАНО:\n",
    "t = Symbol('t')\n",
    "x = sympy.sqrt(5*t + 1)\n",
    "y = 3 + 3/t\n",
    "display(x, y)"
   ]
  },
  {
   "cell_type": "code",
   "execution_count": 15,
   "metadata": {
    "colab": {
     "base_uri": "https://localhost:8080/",
     "height": 114
    },
    "id": "daG81C_IGUbF",
    "outputId": "248c50d9-73bc-474e-a2f6-9a967fc1d5f0"
   },
   "outputs": [
    {
     "name": "stdout",
     "output_type": "stream",
     "text": [
      "область определения:\n"
     ]
    },
    {
     "data": {
      "text/latex": [
       "$\\displaystyle \\left[- \\frac{1}{5}, \\infty\\right)$"
      ],
      "text/plain": [
       "Interval(-1/5, oo)"
      ]
     },
     "metadata": {},
     "output_type": "display_data"
    },
    {
     "name": "stdout",
     "output_type": "stream",
     "text": [
      "область значения:\n"
     ]
    },
    {
     "data": {
      "text/latex": [
       "$\\displaystyle \\left(-\\infty, 0\\right) \\cup \\left(0, \\infty\\right)$"
      ],
      "text/plain": [
       "Union(Interval.open(-oo, 0), Interval.open(0, oo))"
      ]
     },
     "metadata": {},
     "output_type": "display_data"
    }
   ],
   "source": [
    "# поищем потенциальные точки, в которых будем высчитывать предел через t -> *точка*\n",
    "print(\"область определения:\")\n",
    "display(continuous_domain(x, t, S.Reals))\n",
    "print(\"область значения:\")\n",
    "display(continuous_domain(y, t, S.Reals))"
   ]
  },
  {
   "cell_type": "markdown",
   "metadata": {
    "id": "2ln_CBIyHogM"
   },
   "source": [
    "будем рассматривать lim'ы при t -> -1/5, 0, −∞, +∞"
   ]
  },
  {
   "cell_type": "code",
   "execution_count": 16,
   "metadata": {
    "colab": {
     "base_uri": "https://localhost:8080/"
    },
    "id": "abssYwwpGUbE",
    "outputId": "a3102a22-74aa-4493-d831-2e98462dd65f"
   },
   "outputs": [
    {
     "name": "stdout",
     "output_type": "stream",
     "text": [
      "lim y(t) = oo\n",
      "lim x(t) = 1\n"
     ]
    }
   ],
   "source": [
    "# Проверим значение t = 0\n",
    "print(f\"lim y(t) = {limit(y, t, 0)}\")\n",
    "print(f\"lim x(t) = {limit(x, t, 0)}\")"
   ]
  },
  {
   "cell_type": "markdown",
   "metadata": {
    "id": "g106h99VGUbE"
   },
   "source": [
    "Исходя из результатов, получаем вертикальную ассимптоту x = 1\n"
   ]
  },
  {
   "cell_type": "code",
   "execution_count": 19,
   "metadata": {
    "colab": {
     "base_uri": "https://localhost:8080/"
    },
    "id": "D4CA7w_MGUbF",
    "outputId": "218e97ae-819c-4ca0-f46e-c00ee90a19ce"
   },
   "outputs": [
    {
     "name": "stdout",
     "output_type": "stream",
     "text": [
      "lim y(t) = -12\n",
      "lim x(t) = 0\n"
     ]
    }
   ],
   "source": [
    "# Проверим значение t = -1/5\n",
    "print(f\"lim y(t) = {limit(y, t, sympy.S(-1)/5)}\")\n",
    "print(f\"lim x(t) = {limit(x, t, sympy.S(-1)/5)}\")"
   ]
  },
  {
   "cell_type": "markdown",
   "metadata": {
    "id": "fVXuYw1JJwFo"
   },
   "source": [
    "Исходя из результатов, получаем, что при t -> -1/5 ассимптоты отсутствуют"
   ]
  },
  {
   "cell_type": "code",
   "execution_count": 21,
   "metadata": {
    "colab": {
     "base_uri": "https://localhost:8080/"
    },
    "id": "1uYuF9yhGUbH",
    "outputId": "a4f504aa-df3e-49b7-a574-d8bfb3b6274a"
   },
   "outputs": [
    {
     "name": "stdout",
     "output_type": "stream",
     "text": [
      "lim y(t) = 3\n",
      "lim x(t) = oo\n"
     ]
    }
   ],
   "source": [
    "# Проверим значение +infinity\n",
    "print(f\"lim y(t) = {limit(y, t, +sympy.oo)}\")\n",
    "print(f\"lim x(t) = {limit(x, t, +sympy.oo)}\")"
   ]
  },
  {
   "cell_type": "markdown",
   "metadata": {
    "id": "ho9NT1MXKiJ8"
   },
   "source": [
    "Исходя из результатов, получаем горизонтальную ассимптоту y = 3 при x -> +infinity"
   ]
  },
  {
   "cell_type": "code",
   "execution_count": 22,
   "metadata": {
    "colab": {
     "base_uri": "https://localhost:8080/"
    },
    "id": "vkfuu8x_GUbI",
    "outputId": "f343a2f3-d723-40dc-ade3-2b2e73fa3330"
   },
   "outputs": [
    {
     "name": "stdout",
     "output_type": "stream",
     "text": [
      "lim y(t) = 3\n",
      "lim x(t) = oo*I\n"
     ]
    }
   ],
   "source": [
    "# Проверим значение -infinity\n",
    "print(f\"lim y(t) = {limit(y, t, -sympy.oo)}\")\n",
    "print(f\"lim x(t) = {limit(x, t, -sympy.oo)}\")"
   ]
  },
  {
   "cell_type": "markdown",
   "metadata": {
    "id": "reihtBMvLUGE"
   },
   "source": [
    "Исходя из результатов, получаем горизонтальную ассимптоту y = 3 при x -> -infinity"
   ]
  },
  {
   "cell_type": "code",
   "execution_count": 129,
   "metadata": {
    "colab": {
     "base_uri": "https://localhost:8080/",
     "height": 356
    },
    "id": "2EgMrZboGUbI",
    "outputId": "35841ca7-bd1c-43e5-e662-1ec9fcf89e85"
   },
   "outputs": [
    {
     "name": "stderr",
     "output_type": "stream",
     "text": [
      "/usr/local/lib/python3.7/dist-packages/ipykernel_launcher.py:2: RuntimeWarning: divide by zero encountered in true_divide\n",
      "  \n",
      "/usr/local/lib/python3.7/dist-packages/ipykernel_launcher.py:4: RuntimeWarning: divide by zero encountered in true_divide\n",
      "  after removing the cwd from sys.path.\n"
     ]
    },
    {
     "data": {
      "text/plain": [
       "(-200.0, 246.60000000000005)"
      ]
     },
     "execution_count": 129,
     "metadata": {},
     "output_type": "execute_result"
    },
    {
     "data": {
      "image/png": "[encoded data removed]",
      "text/plain": [
       "<Figure size 432x288 with 1 Axes>"
      ]
     },
     "metadata": {
      "needs_background": "light"
     },
     "output_type": "display_data"
    }
   ],
   "source": [
    "T = np.linspace(-1/5, 0, 50)\n",
    "plt.plot(np.sqrt(5*T + 1), 3 + 3/T, color='green')\n",
    "T = np.linspace(0, 2, 50)\n",
    "plt.plot(np.sqrt(5*T + 1), 3 + 3/T, color='green')\n",
    "plt.plot([1, 1], [-200, 200], color='black', linestyle='--')\n",
    "plt.plot([-1, 3], [3, 3], color='black', linestyle='--')\n",
    "plt.xlim(-2)\n",
    "plt.ylim(-200)"
   ]
  },
  {
   "cell_type": "markdown",
   "metadata": {
    "id": "5p1wqEdnGUbJ"
   },
   "source": [
    "Хорасанджян Левон, вариант №157"
   ]
  }
 ],
 "metadata": {
  "colab": {
   "collapsed_sections": [],
   "name": "Calculus_math_8_tasks.ipynb",
   "provenance": []
  },
  "kernelspec": {
   "display_name": "Python 3",
   "language": "python",
   "name": "python3"
  },
  "language_info": {
   "codemirror_mode": {
    "name": "ipython",
    "version": 3
   },
   "file_extension": ".py",
   "mimetype": "text/x-python",
   "name": "python",
   "nbconvert_exporter": "python",
   "pygments_lexer": "ipython3",
   "version": "3.8.8"
  }
 },
 "nbformat": 4,
 "nbformat_minor": 1
}
