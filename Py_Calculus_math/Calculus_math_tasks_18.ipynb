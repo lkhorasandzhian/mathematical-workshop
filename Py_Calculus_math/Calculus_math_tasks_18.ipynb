{
  "cells": [
    {
      "cell_type": "code",
      "execution_count": 1,
      "metadata": {
        "id": "dkWfl1pcliOp"
      },
      "outputs": [],
      "source": [
        "import numpy as np\n",
        "import sympy\n",
        "from sympy import S, symbols, Function, dsolve, solveset, linsolve, integrate, diff, plot\n",
        "from sympy import sin as Sin\n",
        "from sympy import cos as Cos\n",
        "from sympy import exp as Exp\n",
        "from sympy import log as Log\n",
        "from sympy import pi as Pi\n",
        "import matplotlib.pyplot as plt\n",
        "\n",
        "from sympy import Eq, solve"
      ]
    },
    {
      "cell_type": "markdown",
      "metadata": {
        "id": "dCa0u8XPliOt"
      },
      "source": [
        "## Занятие 18\n",
        "## Математический анализ\n",
        "## Линейные ОДУ второго порядка с постоянными коэффициентами\n",
        "### Задача 1\n",
        "Решить ОДУ $3y''+5y'-2y=0$ по формуле из файла с примерами и с помощью dsolve."
      ]
    },
    {
      "cell_type": "code",
      "execution_count": 2,
      "metadata": {
        "colab": {
          "base_uri": "https://localhost:8080/",
          "height": 173
        },
        "id": "Lm59xB9zliOv",
        "outputId": "cbf175cb-feda-4115-f5ee-1db6f48fd283"
      },
      "outputs": [
        {
          "name": "stdout",
          "output_type": "stream",
          "text": [
            "Корни\n"
          ]
        },
        {
          "data": {
            "text/latex": [
              "$\\displaystyle \\left\\{-2, \\frac{1}{3}\\right\\}$"
            ],
            "text/plain": [
              "FiniteSet(-2, 1/3)"
            ]
          },
          "metadata": {},
          "output_type": "display_data"
        },
        {
          "name": "stdout",
          "output_type": "stream",
          "text": [
            "\n",
            "— — — — — — — — — — — — — — — — — — — — \n",
            "\n"
          ]
        },
        {
          "data": {
            "text/latex": [
              "$\\displaystyle y = C_{1} e^{- 2 x} + C_{2} e^{\\frac{x}{3}}$"
            ],
            "text/plain": [
              "Eq(y, C_1*exp(-2*x) + C_2*exp(x/3))"
            ]
          },
          "metadata": {},
          "output_type": "display_data"
        },
        {
          "data": {
            "text/latex": [
              "$\\displaystyle y{\\left(x \\right)} = C_{1} e^{- 2 x} + C_{2} e^{\\frac{x}{3}}$"
            ],
            "text/plain": [
              "Eq(y(x), C1*exp(-2*x) + C2*exp(x/3))"
            ]
          },
          "metadata": {},
          "output_type": "display_data"
        }
      ],
      "source": [
        "x, y, k, C1, C2 = symbols('x y k C_1 C_2')\n",
        "eq = solveset(sympy.Eq(3 * k ** 2 + 5 * k - 2, 0))\n",
        "k1, k2 = eq\n",
        "print(\"Корни\")\n",
        "display(eq)\n",
        "print(f\"\\n{'— ' * 20}\\n\")\n",
        "display(Eq(y, C1 * Exp(k1 * x) + C2 * Exp(k2 * x)))\n",
        "y_f = Function('y')\n",
        "display(dsolve(Eq(3 * y_f(x).diff(x, 2) + 5 * y_f(x).diff(x) - 2 * y_f(x), 0)))"
      ]
    },
    {
      "cell_type": "markdown",
      "metadata": {
        "id": "Fv-Zy6cwliOx"
      },
      "source": [
        "### Задача 2.\n",
        "Решить задачу Коши:\n",
        "$$\n",
        "\\left\\{\n",
        "\\begin{matrix}\n",
        "9y''+3y'+y=0\\\\\n",
        "y(0)=0\\\\\n",
        "y'(0)=2\\sqrt3\n",
        "\\end{matrix}\n",
        "\\right.\n",
        "$$\n",
        "##### Указание.\n",
        "Решить с помощью dsolve, затем составить словарь символов решения, ключи - 'x', 'C1', 'C2', а значения - соответствующие элементы из множества  ХХХ.rhs.free_symbols, решить систему линейных относительно С1 и С2 уравнений, описывающих начальные условия."
      ]
    },
    {
      "cell_type": "code",
      "execution_count": 3,
      "metadata": {
        "colab": {
          "base_uri": "https://localhost:8080/",
          "height": 86
        },
        "id": "g39117qkliOz",
        "outputId": "f5bb3899-4343-42c7-f363-5d7117f5eeca"
      },
      "outputs": [
        {
          "name": "stdout",
          "output_type": "stream",
          "text": [
            "Решение:\n"
          ]
        },
        {
          "data": {
            "text/latex": [
              "$\\displaystyle y{\\left(x \\right)} = 12.0 e^{- \\frac{x}{6}} \\sin{\\left(\\frac{\\sqrt{3} x}{6} \\right)}$"
            ],
            "text/plain": [
              "Eq(y(x), 12.0*exp(-x/6)*sin(sqrt(3)*x/6))"
            ]
          },
          "execution_count": 3,
          "metadata": {},
          "output_type": "execute_result"
        }
      ],
      "source": [
        "res = dsolve(Eq(9 * y_f(x).diff(x, 2) + 3 * y_f(x).diff(x) + y_f(x), 0))\n",
        "symb = sorted(list(res.rhs.free_symbols), key=str)\n",
        "x_0_y_0 = {x:0, y_f(x):0}\n",
        "C2 = res.subs(x_0_y_0).lhs\n",
        "C1 = solve(Eq(res.rhs.subs(symb[1], C2).diff(x), 2 * 3 ** (1 / 2)), symb[0])[0]\n",
        "C1 = C1.subs(x, 0)\n",
        "print(\"Решение:\")\n",
        "res.subs({symb[0] : C1, symb[1] : C2})"
      ]
    },
    {
      "cell_type": "markdown",
      "metadata": {
        "id": "sbEIqxAjliO0"
      },
      "source": [
        "### Индивидуальное задание\n",
        "Решить с помощью dsolve:\n",
        "$$\n",
        "y''' + y'' + y' + y = (4x + 6)e^{2x}.\n",
        "$$\n",
        "Построить график $y(x)$ при начальных условиях $y(0) = 4$, $y'(0) = 2$, $y''(0) = 0$."
      ]
    },
    {
      "cell_type": "markdown",
      "metadata": {
        "id": "ewT9i3eTnAxN"
      },
      "source": [
        "$$y''' + y'' + y' + y=- 3 x^{2} + 6 x - 2,\\qquad y(0)=2,\\qquad y'(0)=-3,\\qquad y''(0)=-2$$"
      ]
    },
    {
      "cell_type": "code",
      "execution_count": 4,
      "metadata": {
        "colab": {
          "base_uri": "https://localhost:8080/",
          "height": 662
        },
        "id": "PMQVN-NjliO1",
        "outputId": "5c698696-b066-4e22-ac28-ad99d008e65a"
      },
      "outputs": [
        {
          "data": {
            "text/latex": [
              "$\\displaystyle y{\\left(x \\right)} = C_{1} e^{- x} + C_{2} \\sin{\\left(x \\right)} + C_{3} \\cos{\\left(x \\right)} - 3 x^{2} + 12 x - 8$"
            ],
            "text/plain": [
              "Eq(y(x), C1*exp(-x) + C2*sin(x) + C3*cos(x) - 3*x**2 + 12*x - 8)"
            ]
          },
          "metadata": {},
          "output_type": "display_data"
        },
        {
          "name": "stdout",
          "output_type": "stream",
          "text": [
            "\n",
            "— — — — — — — — — — — — — — — — — — — — \n",
            "\n"
          ]
        },
        {
          "data": {
            "text/latex": [
              "$\\displaystyle C_{1} + C_{3} - 8 = 2$"
            ],
            "text/plain": [
              "Eq(C1 + C3 - 8, 2)"
            ]
          },
          "metadata": {},
          "output_type": "display_data"
        },
        {
          "data": {
            "text/latex": [
              "$\\displaystyle - C_{1} + C_{2} + 12 = -3$"
            ],
            "text/plain": [
              "Eq(-C1 + C2 + 12, -3)"
            ]
          },
          "metadata": {},
          "output_type": "display_data"
        },
        {
          "data": {
            "text/latex": [
              "$\\displaystyle - C_{1} - C_{2} = -2$"
            ],
            "text/plain": [
              "Eq(-C1 - C2, -2)"
            ]
          },
          "metadata": {},
          "output_type": "display_data"
        },
        {
          "data": {
            "text/latex": [
              "$\\displaystyle \\text{False}$"
            ],
            "text/plain": [
              "False"
            ]
          },
          "metadata": {},
          "output_type": "display_data"
        },
        {
          "data": {
            "text/latex": [
              "$\\displaystyle \\text{False}$"
            ],
            "text/plain": [
              "False"
            ]
          },
          "metadata": {},
          "output_type": "display_data"
        },
        {
          "data": {
            "text/latex": [
              "$\\displaystyle \\text{False}$"
            ],
            "text/plain": [
              "False"
            ]
          },
          "metadata": {},
          "output_type": "display_data"
        },
        {
          "name": "stdout",
          "output_type": "stream",
          "text": [
            "\n",
            "— — — — — — — — — — — — — — — — — — — — \n",
            "\n"
          ]
        },
        {
          "data": {
            "text/latex": [
              "$\\displaystyle y{\\left(x \\right)} = - 3 x^{2} + 12 x - \\frac{13 \\sin{\\left(x \\right)}}{2} + \\frac{3 \\cos{\\left(x \\right)}}{2} - 8 + \\frac{17 e^{- x}}{2}$"
            ],
            "text/plain": [
              "Eq(y(x), -3*x**2 + 12*x - 13*sin(x)/2 + 3*cos(x)/2 - 8 + 17*exp(-x)/2)"
            ]
          },
          "metadata": {},
          "output_type": "display_data"
        },
        {
          "name": "stdout",
          "output_type": "stream",
          "text": [
            "\n",
            "— — — — — — — — — — — — — — — — — — — — \n",
            "\n"
          ]
        },
        {
          "data": {
            "image/png": "[encoded data removed]",
            "text/plain": [
              "<Figure size 432x288 with 1 Axes>"
            ]
          },
          "metadata": {
            "needs_background": "light"
          },
          "output_type": "display_data"
        },
        {
          "data": {
            "text/plain": [
              "<sympy.plotting.plot.Plot at 0x7f860284aad0>"
            ]
          },
          "execution_count": 4,
          "metadata": {},
          "output_type": "execute_result"
        }
      ],
      "source": [
        "y = Function('y')\n",
        "y_x = dsolve(y(x).diff(x, 3) + y(x).diff(x, 2) + y(x).diff(x) + y(x) - \n",
        "             (-3 * x**2 + 6 * x - 2), y(x))\n",
        "\n",
        "symb_dict={str(item): item for item in y_x.rhs.free_symbols}\n",
        "\n",
        "display(y_x)\n",
        "print(f\"\\n{'— ' * 20}\\n\")\n",
        "\n",
        "y0 = 2\n",
        "dy0 = -3\n",
        "d2y0 = -2\n",
        "\n",
        "system = [sympy.Eq(y_x.rhs.subs(symb_dict['x'], 0), y0),\n",
        "          sympy.Eq(y_x.rhs.diff(x).subs(symb_dict['x'], 0), dy0),\n",
        "          sympy.Eq(y_x.rhs.diff(x, 3).subs(symb_dict['x'], 0), d2y0)]\n",
        "reses = linsolve(system, symb_dict['C1'], symb_dict['C2'], symb_dict['C3'])\n",
        "\n",
        "display(*system, Eq(C1, reses.args[0][0]), Eq(C2, reses.args[0][1]), Eq(C2, reses.args[0][2]))\n",
        "print(f\"\\n{'— ' * 20}\\n\")\n",
        "\n",
        "y = y_x.subs({symb_dict['C1'] : reses.args[0][0],\n",
        "              symb_dict['C2'] : reses.args[0][1],\n",
        "              symb_dict['C3'] : reses.args[0][2]})\n",
        "\n",
        "display(y)\n",
        "print(f\"\\n{'— ' * 20}\\n\")\n",
        "\n",
        "plot(y.rhs, (x, -2, 12))"
      ]
    },
    {
      "cell_type": "markdown",
      "metadata": {
        "id": "xNGtNvVonCJU"
      },
      "source": [
        "Хорасанджян Левон, вариант №157"
      ]
    }
  ],
  "metadata": {
    "colab": {
      "collapsed_sections": [],
      "name": "Calculus_math_18_tasks.ipynb",
      "provenance": []
    },
    "kernelspec": {
      "display_name": "Python 3",
      "language": "python",
      "name": "python3"
    },
    "language_info": {
      "codemirror_mode": {
        "name": "ipython",
        "version": 3
      },
      "file_extension": ".py",
      "mimetype": "text/x-python",
      "name": "python",
      "nbconvert_exporter": "python",
      "pygments_lexer": "ipython3",
      "version": "3.7.3"
    }
  },
  "nbformat": 4,
  "nbformat_minor": 0
}
