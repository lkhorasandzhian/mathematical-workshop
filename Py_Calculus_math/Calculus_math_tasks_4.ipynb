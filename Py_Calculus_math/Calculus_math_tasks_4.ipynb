{
 "cells": [
  {
   "cell_type": "markdown",
   "metadata": {},
   "source": [
    "## Занятие 4\n",
    "## Математический анализ\n",
    "## Анализ функции. Построение графика в matplotlib.pyplot\n",
    "https://matplotlib.org\n",
    "https://matplotlib.org/api/_as_gen/matplotlib.pyplot.plot.html\n",
    "https://matplotlib.org/tutorials/text/annotations.html"
   ]
  },
  {
   "cell_type": "code",
   "execution_count": 296,
   "metadata": {},
   "outputs": [],
   "source": [
    "# Импорт библиотеки matplotlib.pyplot обычно осуществляется так:\n",
    "import matplotlib.pyplot as plt\n",
    "from sympy import Symbol, symbols, S, solve, solveset, latex, fraction, Eq, sin, cos, pi\n",
    "from sympy.calculus.util import continuous_domain\n",
    "# А для того, чтобы использовать все остальное, сделаем так:\n",
    "import sympy\n",
    "import numpy as np"
   ]
  },
  {
   "cell_type": "markdown",
   "metadata": {},
   "source": [
    "### Задание 1\n",
    "Найти точки пересечения графика функции $f(x) = (x^2 + 3 x - 2)\\log_2(3x+1)$ с осями координат, построить график и отметить точки пересечения.\n",
    "\n",
    "#### Указание. \n",
    "Определить функцию как в Примере 3, поскольку нужно будет использовать функцию  $\\log_2(x)$ из каждого пакета sympy и numpy.\n",
    "В numpy использовать $log2(x)$ для вычисления логарифма по основанию 2.\n",
    "\n",
    "Строить график только в пределах области определения функции. Точки пересечения с осью OX должны быть не только решениями соответствующего уравнения, но и принадлежать области определения функции."
   ]
  },
  {
   "cell_type": "code",
   "execution_count": 106,
   "metadata": {},
   "outputs": [],
   "source": [
    "x = Symbol('x')\n",
    "def f(x, lib='sympy'):\n",
    "    if lib == 'sympy':\n",
    "        log = sympy.log\n",
    "    elif lib == 'numpy':\n",
    "        log = np.log\n",
    "    else:\n",
    "        return 'Wrong library name, only sympy or numpy is allowed'\n",
    "    return (x**2 + 3*x - 2) * log(3*x + 1)"
   ]
  },
  {
   "cell_type": "code",
   "execution_count": 107,
   "metadata": {},
   "outputs": [
    {
     "name": "stdout",
     "output_type": "stream",
     "text": [
      "[0, -3/2 + sqrt(17)/2, -sqrt(17)/2 - 3/2]\n"
     ]
    },
    {
     "data": {
      "text/latex": [
       "$\\displaystyle 0$"
      ],
      "text/plain": [
       "0"
      ]
     },
     "execution_count": 107,
     "metadata": {},
     "output_type": "execute_result"
    }
   ],
   "source": [
    "roots = solve(f(x))\n",
    "print(roots)\n",
    "point_OY = f(0, lib = 'sympy')\n",
    "point_OY"
   ]
  },
  {
   "cell_type": "code",
   "execution_count": 108,
   "metadata": {},
   "outputs": [],
   "source": [
    "X = np.linspace(-3, 3, 100)"
   ]
  },
  {
   "cell_type": "markdown",
   "metadata": {},
   "source": [
    "во избежании дублирования набора (0, 0) закомментируем все строки с методом append:"
   ]
  },
  {
   "cell_type": "code",
   "execution_count": 109,
   "metadata": {},
   "outputs": [],
   "source": [
    "y_coord = [0] * len(roots) \n",
    "#roots.append(0)\n",
    "#y_coord.append(point_OY)"
   ]
  },
  {
   "cell_type": "code",
   "execution_count": 110,
   "metadata": {},
   "outputs": [
    {
     "name": "stderr",
     "output_type": "stream",
     "text": [
      "<ipython-input-106-fe3031f459bf>:9: RuntimeWarning: invalid value encountered in log\n",
      "  return (x**2 + 3*x - 2) * log(3*x + 1)\n"
     ]
    },
    {
     "data": {
      "text/plain": [
       "<matplotlib.collections.PathCollection at 0x1ee6ae63b20>"
      ]
     },
     "execution_count": 110,
     "metadata": {},
     "output_type": "execute_result"
    },
    {
     "data": {
      "image/png": "[encoded data removed]",
      "text/plain": [
       "<Figure size 432x288 with 1 Axes>"
      ]
     },
     "metadata": {
      "needs_background": "light"
     },
     "output_type": "display_data"
    }
   ],
   "source": [
    "ax = plt.gca() \n",
    "for i, x_coord in enumerate(roots): \n",
    "    ax.annotate('A' + str(i + 1),\n",
    "            xy=(x_coord, y_coord[i]), xycoords='data',\n",
    "            xytext=(x_coord + 0.5, y_coord[i] + 100), textcoords='data', \n",
    "            arrowprops=dict(arrowstyle=\"->\",\n",
    "                            connectionstyle=\"arc3\")) \n",
    "ax.spines['right'].set_color('none') # Правая сторона рамки стала бесцветной, но не исчезла!\n",
    "ax.spines['top'].set_color('none')\n",
    "ax.spines['bottom'].set_position(('data', 0)) # Нижняя сторона рамки переместилась в начало координат\n",
    "ax.spines['left'].set_position(('data', 0))    \n",
    "ax.plot(1, 0, \">k\", transform=ax.get_yaxis_transform(), clip_on=False)\n",
    "ax.plot(0, 1, \"^k\", transform=ax.get_xaxis_transform(), clip_on=False)\n",
    "ax.plot(X, f(X, 'numpy'))\n",
    "ax.scatter(roots, y_coord)"
   ]
  },
  {
   "cell_type": "markdown",
   "metadata": {},
   "source": [
    "### Задание 2\n",
    "Найти асимптоты графика функции $g(x) = \\frac{35x^2 + 4x - 15}{3x - 2}$, построить график и асимптоты, в легенду графика включить формулы функции и асимптот, подписать оси 'x' и 'y'."
   ]
  },
  {
   "cell_type": "code",
   "execution_count": 111,
   "metadata": {},
   "outputs": [
    {
     "data": {
      "text/latex": [
       "$\\displaystyle \\left\\{\\frac{2}{3}\\right\\}$"
      ],
      "text/plain": [
       "FiniteSet(2/3)"
      ]
     },
     "execution_count": 111,
     "metadata": {},
     "output_type": "execute_result"
    }
   ],
   "source": [
    "def g(x):\n",
    "    return (35 * x**2 + 4*x - 15) / (3*x - 2)\n",
    "fnum, fdenom = sympy.fraction(g(x)) \n",
    "v_as = sympy.solveset(fdenom, x) \n",
    "v_as"
   ]
  },
  {
   "cell_type": "code",
   "execution_count": 112,
   "metadata": {},
   "outputs": [
    {
     "data": {
      "text/plain": [
       "(oo, -oo)"
      ]
     },
     "execution_count": 112,
     "metadata": {},
     "output_type": "execute_result"
    }
   ],
   "source": [
    "y0pos = sympy.limit(g(x), x, +sympy.oo)\n",
    "y0neg = sympy.limit(g(x), x, -sympy.oo)\n",
    "y0pos, y0neg"
   ]
  },
  {
   "cell_type": "code",
   "execution_count": 113,
   "metadata": {},
   "outputs": [
    {
     "data": {
      "text/plain": [
       "(oo, -oo)"
      ]
     },
     "execution_count": 113,
     "metadata": {},
     "output_type": "execute_result"
    }
   ],
   "source": [
    "y0pos = g(x).limit(x, +sympy.oo)\n",
    "y0neg = g(x).limit(x, -sympy.oo)\n",
    "y0pos, y0neg"
   ]
  },
  {
   "cell_type": "code",
   "execution_count": 114,
   "metadata": {},
   "outputs": [
    {
     "data": {
      "text/latex": [
       "$\\displaystyle \\frac{35}{3}$"
      ],
      "text/plain": [
       "35/3"
      ]
     },
     "metadata": {},
     "output_type": "display_data"
    }
   ],
   "source": [
    "kpos = sympy.limit(g(x)/x, x, +sympy.oo)\n",
    "kneg = sympy.limit(g(x)/x, x, -sympy.oo)\n",
    "if kpos == kneg:\n",
    "    k = kpos\n",
    "else:\n",
    "    k = (kneg, kpos)\n",
    "display(k)"
   ]
  },
  {
   "cell_type": "code",
   "execution_count": 115,
   "metadata": {},
   "outputs": [
    {
     "data": {
      "text/latex": [
       "$\\displaystyle \\frac{82}{9}$"
      ],
      "text/plain": [
       "82/9"
      ]
     },
     "execution_count": 115,
     "metadata": {},
     "output_type": "execute_result"
    }
   ],
   "source": [
    "b = sympy.limit(g(x) - k*x, x, sympy.oo)\n",
    "b"
   ]
  },
  {
   "cell_type": "code",
   "execution_count": 116,
   "metadata": {},
   "outputs": [
    {
     "data": {
      "text/latex": [
       "$\\displaystyle \\frac{35 x}{3} + \\frac{82}{9}$"
      ],
      "text/plain": [
       "35*x/3 + 82/9"
      ]
     },
     "execution_count": 116,
     "metadata": {},
     "output_type": "execute_result"
    }
   ],
   "source": [
    "y_as = k*x +b\n",
    "y_as"
   ]
  },
  {
   "cell_type": "code",
   "execution_count": 117,
   "metadata": {},
   "outputs": [
    {
     "data": {
      "text/plain": [
       "<matplotlib.legend.Legend at 0x1ee69754610>"
      ]
     },
     "execution_count": 117,
     "metadata": {},
     "output_type": "execute_result"
    },
    {
     "data": {
      "image/png": "[encoded data removed]",
      "text/plain": [
       "<Figure size 432x288 with 1 Axes>"
      ]
     },
     "metadata": {
      "needs_background": "light"
     },
     "output_type": "display_data"
    }
   ],
   "source": [
    "minY = -50  \n",
    "maxY = 50\n",
    "ax = plt.gca()\n",
    "ax.set(ylim=(minY, maxY))\n",
    "for item in v_as:\n",
    "    ax.axvline(x=item, color='red', linestyle='--')    \n",
    "X1 = np.linspace(-5, float(item - 0.01), 100) \n",
    "X2 = np.linspace(float(item + 0.01), 5, 100)\n",
    "Y1 = g(X1)\n",
    "Y2 = g(X2)\n",
    "ax.plot(X1, Y1, 'k-', label=r'$f(x)=' + sympy.latex(g(x)) + r'$') # График левой ветви функции\n",
    "ax.plot(X2, Y2, 'k-') # График правой ветви функции\n",
    "ax.plot([X1[0], X2[-1]], [y_as.subs(x, X1[0]), y_as.subs(x, X2[-1])], 'g--', \n",
    "         label=r'$asympt. y=' + sympy.latex(y_as) + r'$')# График наклонной асимптоты\n",
    "ax.legend(loc='best')\n",
    "ax.spines['right'].set_color('none')\n",
    "ax.spines['top'].set_color('none')\n",
    "ax.spines['bottom'].set_position(('data', 0))\n",
    "ax.spines['left'].set_position(('data', 0))\n",
    "ax.plot(1, 0, \">k\", transform=ax.get_yaxis_transform(), clip_on=False)\n",
    "ax.plot(0, 1, \"^k\", transform=ax.get_xaxis_transform(), clip_on=False)\n",
    "ax.set_xlabel('x', loc = 'right')\n",
    "ax.set_ylabel('g(x)', loc = 'top')\n",
    "ax.legend(loc = 'lower right')"
   ]
  },
  {
   "cell_type": "markdown",
   "metadata": {},
   "source": [
    "### Задание 3.\n",
    "Описать в виде функции траекторию пули, выпущенной со скоростью $v_0$ под углом $\\alpha$ к горизонту (по умолчанию $v_0 = 0$, $\\alpha = \\pi/2$)\n",
    "$$\n",
    "\\left\\{\n",
    "\\begin{matrix}\n",
    "x=v_0t\\cos\\alpha\\\\\n",
    "y=v_0t\\sin\\alpha-\\frac{10t^2}{2}\n",
    "\\end{matrix}\n",
    "\\right.\n",
    "$$\n",
    "Аргументы функции $t$, $v_0$ и $\\alpha$, результат - два выражения $x$ и $y$, в соответствии с формулами, приведенными выше.\n",
    "\n",
    "Определить соответствующий набору параметров $v_0$ и $\\alpha$ диапазон значений параметра времени $t$, учитывая, что пуля не должна провалиться сквозь землю. \n",
    "\n",
    "Построить траектории при заданных значениях начальной скорости и угла на одном графике (($v_0 = 1$, $\\alpha = \\pi/6$), ($v_0 = 2$, $\\alpha= \\pi/4$), ($v_0 = 2$, $\\alpha = 1$)). Графики должны быть соответственно зеленого, красного и черного цвета. \n",
    "\n",
    "Подписать оси $x$, $y$.\n",
    "\n",
    "В легенде отразить значения параметров, например, $v_0 = 2,\\ \\alpha = \\pi/6$.\n",
    "\n",
    "Название графика - Траектории пуль.\n",
    "#### Указание.\n",
    "Использовать $\\sin$ из numpy.\n",
    "\n",
    "Решить уравнение $y = 0$ относительно $t$, пользуясь solve или solveset, чтобы с помощью найденного значения $t$ определить правую границу значений $x$."
   ]
  },
  {
   "cell_type": "markdown",
   "metadata": {},
   "source": [
    "#### Решение.\n",
    "Определим функцию, зададим списком данные наборы параметров ($v_0 = 1$, $\\alpha = \\pi/6$), ($v_0 = 2$, $\\alpha= \\pi/4$), ($v_0 = 2.5$, $\\alpha = 1$) и найдем значение параметра $t$, при котором  $y = 0$. Затем подстановкой subs в t_interval найдем наибольшее значение $t$ и построим графики:"
   ]
  },
  {
   "cell_type": "code",
   "execution_count": 228,
   "metadata": {},
   "outputs": [
    {
     "data": {
      "text/plain": [
       "<matplotlib.legend.Legend at 0x1ee6f52f9a0>"
      ]
     },
     "execution_count": 228,
     "metadata": {},
     "output_type": "execute_result"
    },
    {
     "data": {
      "image/png": "[encoded data removed]",
      "text/plain": [
       "<Figure size 432x288 with 1 Axes>"
      ]
     },
     "metadata": {
      "needs_background": "light"
     },
     "output_type": "display_data"
    }
   ],
   "source": [
    "t = Symbol('t')\n",
    "t2 = Symbol('t2')\n",
    "t = np.linspace(0,0.3,50)\n",
    "def f(t, v0 = 0, alph = pi/2):\n",
    "  return v0*t*cos(alph), v0*t*sin(alph) - 10*t**2/2\n",
    "\n",
    "ax = plt.gca()\n",
    "ax.set_title(r'Траектории пуль')\n",
    "#print(solve(Eq(f(t2,1,pi/6),1),t2))\n",
    "X,Y=f(t,1,pi/6)\n",
    "Y = np.ma.masked_where(Y < 0, Y)\n",
    "ax.plot(X, Y, color='green', label = \"$v0=1, 𝛼=𝜋/6$\")\n",
    "X,Y=f(t,2,pi/4)\n",
    "Y = np.ma.masked_where(Y < 0, Y)\n",
    "ax.plot(X, Y, color='red', label = \"$v0=2, 𝛼=𝜋/4$\")\n",
    "X,Y=f(t,2.5,1)\n",
    "Y = np.ma.masked_where(Y < 0, Y)\n",
    "ax.plot(X, Y, color='black', label = \"$v0=2.5, 𝛼=1$\")\n",
    "ax.set_xlabel('x', loc = 'right')\n",
    "ax.set_ylabel('y', loc = 'top')\n",
    "ax.legend(loc = 'lower right')\n"
   ]
  },
  {
   "cell_type": "markdown",
   "metadata": {},
   "source": [
    "### Индивидуальное задание.\n",
    "Построить в одной координатной плоскости графики функций."
   ]
  },
  {
   "cell_type": "code",
   "execution_count": 315,
   "metadata": {},
   "outputs": [
    {
     "data": {
      "text/plain": [
       "<matplotlib.collections.PathCollection at 0x1ee6f613730>"
      ]
     },
     "execution_count": 315,
     "metadata": {},
     "output_type": "execute_result"
    },
    {
     "data": {
      "image/png": "[encoded data removed]",
      "text/plain": [
       "<Figure size 432x288 with 1 Axes>"
      ]
     },
     "metadata": {
      "needs_background": "light"
     },
     "output_type": "display_data"
    }
   ],
   "source": [
    "x = np.linspace(np.pi/2, np.pi/4, 20)\n",
    "def f(x): return x**2 + x - 4\n",
    "def g(x): return 4 * np.sin(4 * x)\n",
    "ax = plt.gca()\n",
    "ax.plot(x, f(x), color = 'purple', linestyle = '--')\n",
    "ax.plot(x, g(x), color = 'gold', linestyle = '--')\n",
    "ax.spines['left'].set_position('center')\n",
    "ax.spines['bottom'].set_position('center')\n",
    "ax.spines['top'].set_visible(False)\n",
    "ax.spines['right'].set_visible(False)\n",
    "ax.hlines(0, 0, 10, color = 'black',linewidth = 1,linestyle = '-')\n",
    "ax.axis([-3, 2, -5, 5])\n",
    "ax.hlines(0, 0, 10, color = 'black',linewidth = 1,linestyle = '-')\n",
    "ax.scatter([0, 0, 0], [-4, 0, 4], s = 100, c = 'r')\n",
    "ax.scatter([np.pi/4, np.pi/4 + np.pi/8, np.pi/2], [0, 0, 0], s = 100, c = 'b')"
   ]
  },
  {
   "cell_type": "markdown",
   "metadata": {},
   "source": [
    "Хорасанджян Левон, вариант №157"
   ]
  }
 ],
 "metadata": {
  "kernelspec": {
   "display_name": "Python 3",
   "language": "python",
   "name": "python3"
  },
  "language_info": {
   "codemirror_mode": {
    "name": "ipython",
    "version": 3
   },
   "file_extension": ".py",
   "mimetype": "text/x-python",
   "name": "python",
   "nbconvert_exporter": "python",
   "pygments_lexer": "ipython3",
   "version": "3.8.8"
  }
 },
 "nbformat": 4,
 "nbformat_minor": 2
}
